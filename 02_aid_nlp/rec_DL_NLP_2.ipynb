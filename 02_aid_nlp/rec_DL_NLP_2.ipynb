{
 "cells": [
  {
   "cell_type": "markdown",
   "metadata": {
    "id": "x1Mv0JDWC40r"
   },
   "source": [
    "# Финальное задание NLP-2. Рекуррентные нейронные сети"
   ]
  },
  {
   "cell_type": "markdown",
   "metadata": {
    "id": "b3ltcjtlDH0u"
   },
   "source": [
    "Теперь вы можете самостоятельно написать рекуррентную нейронную сеть для задачи NER, решающую задачу с достаточно высоким качеством.\n",
    "\n",
    "В рамках этого задания вы отработаете навыки:\n",
    "\n",
    "*   Построения словаря слов\n",
    "*   Загрузки предобученных весов и использовании их для построения корпуса текста\n",
    "*   Написания двунаправленной рекуррентной нейронной сети"
   ]
  },
  {
   "cell_type": "markdown",
   "metadata": {
    "id": "ykCjn2mmEkPO"
   },
   "source": [
    "## Установка зависимостей"
   ]
  },
  {
   "cell_type": "markdown",
   "metadata": {
    "id": "0jTSelJVEqKN"
   },
   "source": [
    "Тут есть важное действие, которое тебе нужно сделать перед тем, как запускать этот ноутбук.\n",
    "\n",
    "Если вы делаете это задание в Google Colab, первым делом переключите Runtime в GPU. Это задание нормально посчитается и на CPU, но некоторые из будущих кейсов потребуют GPU (либо вам придётся несколько часов, или даже дней, чтобы модель обучилась — и мы не преувеличиваем). Ещё мы рекомендуем переключить язык интерфейса Colab на английский, потому что русская локализация ужасна, да и вообще не нужна."
   ]
  },
  {
   "cell_type": "markdown",
   "metadata": {
    "id": "Lq6uWFuZEzQb"
   },
   "source": [
    "[Тут](https://www.geeksforgeeks.org/how-to-use-google-colab/) о том, как переключить рантайм."
   ]
  },
  {
   "cell_type": "markdown",
   "metadata": {
    "id": "9SgpHMQwE2kB"
   },
   "source": [
    "Как обычно, установим недостающие библиотеки:"
   ]
  },
  {
   "cell_type": "code",
   "execution_count": null,
   "metadata": {
    "id": "Vd-IotO4I0tk"
   },
   "outputs": [],
   "source": [
    "!pip install datasets > /dev/null\n",
    "!pip install fasttext > /dev/null"
   ]
  },
  {
   "cell_type": "code",
   "execution_count": null,
   "metadata": {
    "id": "DJ3hL-f9I0l9"
   },
   "outputs": [],
   "source": [
    "import pytest\n",
    "from datasets import load_dataset\n",
    "import torch\n",
    "import pandas as pd\n",
    "import numpy as np\n",
    "import torch.nn as nn\n",
    "from torch import LongTensor, FloatTensor\n",
    "from torch.nn import functional as F\n",
    "from typing import List, Dict, Tuple, Optional, Union\n",
    "from torch.utils.data import Dataset\n",
    "from torch.optim import Adam\n",
    "import time\n",
    "from tqdm import tqdm\n",
    "\n",
    "from collections import Counter"
   ]
  },
  {
   "cell_type": "markdown",
   "metadata": {
    "id": "zeXuowJXYHDZ"
   },
   "source": [
    "## Векторное представление слов"
   ]
  },
  {
   "cell_type": "markdown",
   "metadata": {
    "id": "pattZfxhFGB_"
   },
   "source": [
    "В прошлом модуле вы познакомились с представлением слова как векторов. \n",
    "В этом задании мы будем использовать веса из библиотеки Fasttext."
   ]
  },
  {
   "cell_type": "markdown",
   "metadata": {
    "id": "kCbEs8OuFglx"
   },
   "source": [
    "В качестве данных для задачи NER будем использовать уже рассмотренный нами ранее датасет conll2003, содержащий сущности 4ех разных классов — личности, организации, места и национальности."
   ]
  },
  {
   "cell_type": "code",
   "execution_count": null,
   "metadata": {
    "id": "TDZ1Piz4I0XU"
   },
   "outputs": [],
   "source": [
    "dataset_base = load_dataset(\"conll2003\")"
   ]
  },
  {
   "cell_type": "code",
   "execution_count": null,
   "metadata": {
    "colab": {
     "base_uri": "https://localhost:8080/"
    },
    "id": "aUDWw7mZI76R",
    "outputId": "8ba2161f-8657-4499-f9b8-77f9a65653fa"
   },
   "outputs": [
    {
     "data": {
      "text/plain": [
       "Dataset({\n",
       "    features: ['chunk_tags', 'id', 'ner_tags', 'pos_tags', 'tokens'],\n",
       "    num_rows: 14041\n",
       "})"
      ]
     },
     "execution_count": 4,
     "metadata": {
      "tags": []
     },
     "output_type": "execute_result"
    }
   ],
   "source": [
    "dataset_base['train']"
   ]
  },
  {
   "cell_type": "markdown",
   "metadata": {
    "id": "5L6Noa0THw48"
   },
   "source": [
    "Загрузим веса модели (это может занять примерно 25 минут, веса весят 6GB)."
   ]
  },
  {
   "cell_type": "code",
   "execution_count": null,
   "metadata": {
    "id": "KsPu9uW2Gd1d"
   },
   "outputs": [],
   "source": [
    "import fasttext.util\n",
    "fasttext.util.download_model('en', if_exists='ignore')  # English"
   ]
  },
  {
   "cell_type": "markdown",
   "metadata": {
    "id": "c_r6rXkHOTbj"
   },
   "source": [
    "Загрузите fasttext модель cc.en.300.bin:"
   ]
  },
  {
   "cell_type": "code",
   "execution_count": null,
   "metadata": {
    "id": "n5rrH0VYOkIb"
   },
   "outputs": [],
   "source": [
    "# YOUR CODE HERE\n",
    "ft = None"
   ]
  },
  {
   "cell_type": "code",
   "execution_count": null,
   "metadata": {
    "id": "ZpMtDmLcMKap"
   },
   "outputs": [],
   "source": [
    "assert ft is not None\n",
    "assert ft['Cat'].shape[0] == 300\n",
    "assert ft['Cat'].sum() < -2.3 and ft['Cat'].sum() > -2.4"
   ]
  },
  {
   "cell_type": "code",
   "execution_count": null,
   "metadata": {
    "id": "wkj5uYR2PZN9"
   },
   "outputs": [],
   "source": [
    "def get_word_to_idx(count: List[Tuple[str, int]],\n",
    "                   min_words: Union[int, float] = 0.0,\n",
    "                   max_words: Union[int, float] = 1.0) -> Dict[str, int]:\n",
    "    max_count = count[0][1]\n",
    "    if isinstance(min_words, float):\n",
    "        min_words = max_count * min_words\n",
    "    if isinstance(max_words, float):\n",
    "        max_words = max_count * max_words\n",
    "        \n",
    "    all_words = [w[0] for w in count if max_words >= w[1] >= min_words]\n",
    "    \n",
    "    all_words = ['<pad>', '<unk>'] + all_words\n",
    "    \n",
    "    word_to_idx = {k: v for k, v in zip(all_words, range(0, len(all_words)))}\n",
    "    return word_to_idx"
   ]
  },
  {
   "cell_type": "markdown",
   "metadata": {
    "id": "_4pszkwAXJ9t"
   },
   "source": [
    "Посмотрим на длину словаря:"
   ]
  },
  {
   "cell_type": "code",
   "execution_count": null,
   "metadata": {
    "id": "K84fIb-ePY__"
   },
   "outputs": [],
   "source": [
    "len(word_to_idx)"
   ]
  },
  {
   "cell_type": "markdown",
   "metadata": {
    "id": "yEfVFISjPt7u"
   },
   "source": [
    "Проинициализируйте словарь word_to_idx, убрав слова, встречающиеся больше 100 раз:"
   ]
  },
  {
   "cell_type": "code",
   "execution_count": null,
   "metadata": {
    "id": "c6GepdBqPxNU"
   },
   "outputs": [],
   "source": [
    "# YOUR CODE HERE\n",
    "count = None\n",
    "word_to_idx = None"
   ]
  },
  {
   "cell_type": "code",
   "execution_count": null,
   "metadata": {
    "id": "LLzJQYA4QrOR"
   },
   "outputs": [],
   "source": [
    "assert isinstance(count, Counter)\n",
    "assert len(word_to_idx) < 23500 \n",
    "assert word_to_idx['MANCHESTER'] == 1521"
   ]
  },
  {
   "cell_type": "markdown",
   "metadata": {
    "id": "W83lS3N_dlHU"
   },
   "source": [
    "Оствавим часто встречаемые слова, потому что среди них может встречаться наши прогнозируемые токены:"
   ]
  },
  {
   "cell_type": "code",
   "execution_count": null,
   "metadata": {
    "id": "TO6EcxFudkKb"
   },
   "outputs": [],
   "source": [
    "count = Counter([i for j in dataset_base['train'] for i in j['tokens']])\n",
    "word_to_idx = get_word_to_idx(count.most_common(), min_words=1)"
   ]
  },
  {
   "cell_type": "code",
   "execution_count": null,
   "metadata": {
    "id": "S9IqtHXGLCJL"
   },
   "outputs": [],
   "source": [
    "def build_matrix(\n",
    "    word_dict: Dict,\n",
    "    embedding_index,\n",
    "    max_features: int = 100000,\n",
    "    embed_size: int = 100,\n",
    ") -> Tuple[np.array, int, List]:\n",
    "    \"\"\"\n",
    "    Create embedding matrix\n",
    "\n",
    "    Args:\n",
    "        word_dict: tokenizer\n",
    "        embedding_index: Fasttext embeddings\n",
    "        max_features: max features to use\n",
    "        embed_size: size of embeddings\n",
    "\n",
    "    Returns:\n",
    "        embedding matrix, number of of words and the list of not found words\n",
    "    \"\"\"\n",
    "    embedding_index = ft\n",
    "    nb_words = min(max_features, len(word_dict))\n",
    "    embedding_matrix = np.zeros((nb_words, embed_size))\n",
    "\n",
    "    for word, i in word_dict.items():\n",
    "        embedding_matrix[i] = embedding_index[word]\n",
    "    return embedding_matrix, nb_words"
   ]
  },
  {
   "cell_type": "markdown",
   "metadata": {
    "id": "lpww06DjSlA2"
   },
   "source": [
    "Теперь проинициализируйте матрицу embedding_matrix с использованием функции build_matrix:"
   ]
  },
  {
   "cell_type": "code",
   "execution_count": null,
   "metadata": {
    "id": "MN1yl8WjS-Gh"
   },
   "outputs": [],
   "source": [
    "# YOUR CODE HERE\n",
    "embedding_matrix, nb_words = None, None"
   ]
  },
  {
   "cell_type": "code",
   "execution_count": null,
   "metadata": {
    "id": "gFDUqVDqLn0Y"
   },
   "outputs": [],
   "source": [
    "assert embedding_matrix.shape[0] == len(word_to_idx)\n",
    "assert embedding_matrix[42].sum() > -1"
   ]
  },
  {
   "cell_type": "code",
   "execution_count": null,
   "metadata": {
    "id": "yCASSOFILmWL"
   },
   "outputs": [],
   "source": [
    "embedding_matrix = torch.tensor(embedding_matrix, dtype=torch.float32)"
   ]
  },
  {
   "cell_type": "markdown",
   "metadata": {
    "id": "PEMltxDtAyAz"
   },
   "source": [
    "## Реализация модели RNN"
   ]
  },
  {
   "cell_type": "markdown",
   "metadata": {
    "id": "0snHYczOgjXr"
   },
   "source": [
    "Как обычно, проверим распределение длин тренировочных текстов:"
   ]
  },
  {
   "cell_type": "code",
   "execution_count": null,
   "metadata": {
    "id": "b2JqI7fC82P-"
   },
   "outputs": [],
   "source": [
    "import pandas as pd\n",
    "import numpy as np\n",
    "\n",
    "\n",
    "max_lens = list()\n",
    "for row in dataset_base['train']:\n",
    "    max_lens.append(len(row['tokens']))\n",
    "max_lens = pd.Series(max_lens)\n",
    "max_lens.plot();"
   ]
  },
  {
   "cell_type": "code",
   "execution_count": null,
   "metadata": {
    "id": "BAgV9HGk9AdK"
   },
   "outputs": [],
   "source": [
    "import json\n",
    "mapping_ = {v: k for k, v in dataset_base[\"train\"].features[\"ner_tags\"].feature._str2int.items()}\n",
    "\n",
    "with open('mapping.json', 'w') as f:\n",
    "  json.dump(mapping_, f)"
   ]
  },
  {
   "cell_type": "markdown",
   "metadata": {
    "id": "uRwCxEkhVsj-"
   },
   "source": [
    "Теперь заполните недостающую строчку в функции create_matrix_of_texts, так, чтобы при попадании неизвестного слова в матрице ставился индекс неизвестного слова:"
   ]
  },
  {
   "cell_type": "code",
   "execution_count": null,
   "metadata": {
    "id": "a7J-mz8kWAZ9"
   },
   "outputs": [],
   "source": [
    "# YOUR CODE HERE\n",
    "\n",
    "def create_matrix_of_texts(dataset, max_sequence_length, \n",
    "                           pad_token, word2index):\n",
    "    texts = np.full((len(dataset), max_sequence_length),\n",
    "                    word2index[pad_token], dtype=np.int64)  # creating empty matrix\n",
    "\n",
    "    for ind, row in enumerate(dataset):\n",
    "          trim_length = min(max_sequence_length, len(row['tokens']))\n",
    "          text = row['tokens'][: trim_length]\n",
    "          # YOUR CODE HERE\n",
    "          # texts[ind, : trim_length] = \n",
    "          # END OF YOUR CODE\n",
    "    return texts\n",
    "\n",
    "\n",
    "def create_matrix_of_tags(dataset, max_sequence_length, pad_index):\n",
    "    tags = np.full((len(dataset), max_sequence_length),\n",
    "                    pad_index, dtype=np.int64)  # creating empty matrix\n",
    "\n",
    "    for ind, row in enumerate(dataset):\n",
    "          trim_length = min(max_sequence_length, len(row['ner_tags']))\n",
    "          labels = row['ner_tags'][: trim_length]\n",
    "          tags[ind, : trim_length] = [item for item in labels]\n",
    "    return tags"
   ]
  },
  {
   "cell_type": "code",
   "execution_count": null,
   "metadata": {
    "id": "ZgLxcXzm9rYT"
   },
   "outputs": [],
   "source": [
    "texts = create_matrix_of_texts(dataset_base['train'], \n",
    "                               int(max_lens.quantile(0.97)),\n",
    "                               '<pad>', word_to_idx)\n",
    "tags = create_matrix_of_tags(dataset_base['train'],\n",
    "                             int(max_lens.quantile(0.97)), 0)"
   ]
  },
  {
   "cell_type": "code",
   "execution_count": null,
   "metadata": {
    "id": "-hFN3K46YgTq"
   },
   "outputs": [],
   "source": [
    "text_for_check = create_matrix_of_texts(dataset_base['validation'], \n",
    "                                        int(max_lens.quantile(0.97)),\n",
    "                                        '<pad>', word_to_idx)\n",
    "assert text_for_check[0][2] == 1\n",
    "assert text_for_check[23].sum() == 40986"
   ]
  },
  {
   "cell_type": "markdown",
   "metadata": {
    "id": "P9IxIjMWXaCl"
   },
   "source": [
    "Напишем класс для загрузки датасета:"
   ]
  },
  {
   "cell_type": "code",
   "execution_count": null,
   "metadata": {
    "id": "oXytRlf391rB"
   },
   "outputs": [],
   "source": [
    "class NerDataset(Dataset):\n",
    "    def __init__(self,\n",
    "                 texts: np.array,\n",
    "                 tags: np.array):\n",
    "        self.tags = tags\n",
    "        self.texts = texts\n",
    "        \n",
    "\n",
    "    def __getitem__(self, idx: int) -> Tuple[torch.LongTensor, torch.LongTensor]:\n",
    "        tokens_tensor = torch.tensor(self.texts[idx], dtype=torch.int64)\n",
    "        return tokens_tensor, torch.tensor(self.tags[idx], dtype=torch.int64)\n",
    "\n",
    "    def __len__(self) -> int:\n",
    "        dataset_len = self.texts.shape[0]\n",
    "        return dataset_len"
   ]
  },
  {
   "cell_type": "code",
   "execution_count": null,
   "metadata": {
    "id": "pPG8N8PQh69E"
   },
   "outputs": [],
   "source": [
    "dataset = dataset_base['train']\n",
    "ner_dataset = NerDataset(texts, tags)"
   ]
  },
  {
   "cell_type": "code",
   "execution_count": null,
   "metadata": {
    "colab": {
     "base_uri": "https://localhost:8080/"
    },
    "id": "2O27qc_zYbvk",
    "outputId": "4b1340d6-5370-47e8-f847-48048d8467d9"
   },
   "outputs": [
    {
     "data": {
      "text/plain": [
       "('EU rejects German call to boycott British lamb .',\n",
       " (tensor([  958, 11984,   234,   763,     7,  4148,   210,  6183,     2,     0,\n",
       "              0,     0,     0,     0,     0,     0,     0,     0,     0,     0,\n",
       "              0,     0,     0,     0,     0,     0,     0,     0,     0,     0,\n",
       "              0,     0,     0,     0,     0,     0,     0,     0,     0,     0]),\n",
       "  tensor([3, 0, 7, 0, 0, 0, 7, 0, 0, 0, 0, 0, 0, 0, 0, 0, 0, 0, 0, 0, 0, 0, 0, 0,\n",
       "          0, 0, 0, 0, 0, 0, 0, 0, 0, 0, 0, 0, 0, 0, 0, 0])))"
      ]
     },
     "execution_count": 230,
     "metadata": {
      "tags": []
     },
     "output_type": "execute_result"
    }
   ],
   "source": [
    "' '.join(dataset_base['train'][0]['tokens']), ner_dataset[0]"
   ]
  },
  {
   "cell_type": "markdown",
   "metadata": {
    "id": "27ekdYQhg33P"
   },
   "source": [
    "Разобьем текст на тренировочную и валидационную часть:"
   ]
  },
  {
   "cell_type": "code",
   "execution_count": null,
   "metadata": {
    "id": "rdxMabf1zFc_"
   },
   "outputs": [],
   "source": [
    "from torch.utils.data.dataset import random_split"
   ]
  },
  {
   "cell_type": "code",
   "execution_count": null,
   "metadata": {
    "id": "wjbUjeF5zpoo"
   },
   "outputs": [],
   "source": [
    "BATCH_SIZE = 32"
   ]
  },
  {
   "cell_type": "code",
   "execution_count": null,
   "metadata": {
    "id": "SeJxwMrGs936"
   },
   "outputs": [],
   "source": [
    "num_train = int(len(ner_dataset) * 0.95)\n",
    "split_train_, split_valid_ = \\\n",
    "    random_split(ner_dataset, [num_train, len(ner_dataset) - num_train)\n",
    "\n",
    "train_dataloader = torch.utils.data.DataLoader(split_train_, batch_size=BATCH_SIZE,\n",
    "                              shuffle=True, drop_last=True)\n",
    "valid_dataloader = torch.utils.data.DataLoader(split_valid_, batch_size=BATCH_SIZE,\n",
    "                              shuffle=False)"
   ]
  },
  {
   "cell_type": "markdown",
   "metadata": {
    "id": "bylT3W5ChFrG"
   },
   "source": [
    "Наша нейронная сеть будет принимать в качестве слоя эмбеддинга предобученные веса из библиотеки fasttext, а в качестве промежуточного вычислительного звена будем использовать двунаправленную двухслойную рекуррентную сеть. Схематично ее можно изобразить как на рисунке."
   ]
  },
  {
   "cell_type": "markdown",
   "metadata": {
    "id": "DwIPx4s2JwXy"
   },
   "source": [
    "![image.png](data:image/png;base64,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)"
   ]
  },
  {
   "cell_type": "markdown",
   "metadata": {
    "id": "HSP1alNGhn0s"
   },
   "source": [
    "Перейдем к созданию матрицы."
   ]
  },
  {
   "cell_type": "markdown",
   "metadata": {
    "id": "SZ51ooe-VfwP"
   },
   "source": [
    "Создайте класс сети RNN, у которого в слой эмбеддинга будет проинициализирован матрицей загруженных весов, а слой рекуррентной сети будет иметь параметры num_layers=1 и быть двунаправленным.\n",
    "Так как мы будем использовать двунаправленный рекуррентный блок, то входная размерность выходного слоя должна быть в два раза больше чем размер скрытого состояния.  "
   ]
  },
  {
   "cell_type": "code",
   "execution_count": null,
   "metadata": {
    "id": "_kTfTvH8kVj4"
   },
   "outputs": [],
   "source": [
    "class NerRNNModel(nn.Module):\n",
    "    def __init__(\n",
    "        self,\n",
    "        pretrained_embeddings,\n",
    "        mapping: Dict[int, str] = None,\n",
    "        hidden_size: int = 256\n",
    "    ):\n",
    "        super(NerRNNModel, self).__init__()\n",
    "        if not mapping:\n",
    "            raise RuntimeError(f'Empty labels')\n",
    "\n",
    "        # Vocabulary size\n",
    "        self.vocab_size = pretrained_embeddings.shape[0]\n",
    "        # Embedding dimensionality\n",
    "        self.embedding_size = pretrained_embeddings.shape[1]\n",
    "        self.labels = mapping\n",
    "\n",
    "        # YOUR CODE HERE\n",
    "        # self.embedding =  \n",
    "        # END OF YOUR CODE\n",
    "        \n",
    "        self.embedding.requires_grad_(True)  # дообучим под свою задачу\n",
    "\n",
    "        # YOUR CODE HERE\n",
    "        # self.encoder = nn.RNN()\n",
    "        # encoder_output_value = \n",
    "        # END OF YOUR CODE\n",
    "\n",
    "        self.projection = nn.Linear(encoder_output_value, len(mapping))\n",
    "        \n",
    "    def forward(self, tokens: LongTensor) -> FloatTensor:\n",
    "        emb = self.embedding(tokens)        \n",
    "        h, _ = self.encoder(emb)\n",
    "        pred = self.projection(h)\n",
    "        return pred.view(-1, len(self.labels))"
   ]
  },
  {
   "cell_type": "markdown",
   "metadata": {
    "id": "cnPKpIrm_cuM"
   },
   "source": [
    "## Обучение модели"
   ]
  },
  {
   "cell_type": "code",
   "execution_count": null,
   "metadata": {
    "id": "H4sicwiwZIex"
   },
   "outputs": [],
   "source": [
    "from sklearn.metrics import classification_report\n",
    "\n",
    "def evaluate(dataloader):\n",
    "    model.eval()\n",
    "    total_acc, total_count = 0, 0\n",
    "    correct_labels = [value for value in mapping_.values() if value != 'O']\n",
    "    predicted, true_labels = list(), list()\n",
    "\n",
    "    with torch.no_grad():\n",
    "        for idx, batch in enumerate(dataloader):\n",
    "            tokens, label = batch\n",
    "            tokens = tokens.to(device)\n",
    "            \n",
    "            logits = model(tokens)\n",
    "            predictions = F.log_softmax(logits, dim=1).reshape(-1,\n",
    "                                                               40,\n",
    "                                                               len(mapping_)).argmax(dim=2).flatten().detach().cpu().numpy()\n",
    "            predicted.extend(predictions)\n",
    "            true_labels.extend(label.flatten().detach().cpu().numpy())\n",
    "    \n",
    "    true_labels = [mapping_[val] for val in true_labels]\n",
    "    \n",
    "    predicted = [mapping_[val] for val in predicted]\n",
    "    print('\\n', classification_report(true_labels,\n",
    "                                      predicted,\n",
    "                                      labels=correct_labels))"
   ]
  },
  {
   "cell_type": "markdown",
   "metadata": {
    "id": "txNjIp08io7u"
   },
   "source": [
    "Создайте экземпляр класса сети с размером скрытого слоя равным 256.\n",
    "\n",
    "Затем создайте оптимизатор.\n",
    "\n",
    "Не забудьте перенести созданную модель на видеокарту для ускорения обучения!"
   ]
  },
  {
   "cell_type": "code",
   "execution_count": null,
   "metadata": {
    "id": "3RkX1zAGil2g"
   },
   "outputs": [],
   "source": [
    "# YOUR CODE HERE\n",
    "\n",
    "# model = NerRNNModel(...)\n",
    "# optimizer = torch.optim...\n",
    "# device = None\n",
    "# model.to(device)"
   ]
  },
  {
   "cell_type": "code",
   "execution_count": null,
   "metadata": {
    "id": "YH2faXF_iQ2h"
   },
   "outputs": [],
   "source": [
    "assert sum([params.numel() for params in model.parameters() if params.requires_grad]) > 7_000_000\n",
    "assert sum([params.numel() for params in model.parameters() if params.requires_grad]) < 7_500_000"
   ]
  },
  {
   "cell_type": "markdown",
   "metadata": {
    "id": "8h7jaURgiDU7"
   },
   "source": [
    "Так как мы загружали уже предобученные веса, для сходимости к хорошему качеству нашей сети нужно меньше эпох, чем если бы мы обучали сеть с нуля."
   ]
  },
  {
   "cell_type": "code",
   "execution_count": null,
   "metadata": {
    "id": "ParaP94P1WEm"
   },
   "outputs": [],
   "source": [
    "for e in range(4):\n",
    "    total_loss = 0\n",
    "    model.train()\n",
    "    loss_function = nn.CrossEntropyLoss()\n",
    "    for sent in tqdm(train_dataloader):\n",
    "\n",
    "            # (1) Set gradient to zero for new example: Set gradients to zero before pass\n",
    "            model.zero_grad()\n",
    "            \n",
    "            # (2) Encode sentence and tag sequence as sequences of indices\n",
    "            input_sent, gold_tags = sent\n",
    "\n",
    "            # (3) Predict tags (sentence by sentence)\n",
    "            if len(input_sent) > 0:\n",
    "                pred_scores = model(input_sent.to(device))\n",
    "                mask = gold_tags != 0\n",
    "                # (4) Compute loss and do backward step\n",
    "                loss = loss_function(pred_scores.to(device), gold_tags.view(-1).to(device))\n",
    "                loss.backward()\n",
    "              \n",
    "                # (5) Optimize parameter values\n",
    "                optimizer.step()\n",
    "          \n",
    "                # (6) Accumulate loss\n",
    "                total_loss += loss\n",
    "    print('\\nEpoch: %d, loss: %.4f' % (e, total_loss / len(train_dataloader)))\n",
    "    evaluate(valid_dataloader)"
   ]
  },
  {
   "cell_type": "markdown",
   "metadata": {
    "id": "eSa2Am7jk72t"
   },
   "source": [
    "Добейтесь качества обучаемой модели не ниже 0.87 по метрике weighted avg f1-score, чтобы задание считалось успешно выполненным."
   ]
  },
  {
   "cell_type": "code",
   "execution_count": null,
   "metadata": {},
   "outputs": [],
   "source": []
  },
  {
   "cell_type": "markdown",
   "metadata": {},
   "source": [
    "# Финальное задание NLP-2. Рекуррентные нейронные сети"
   ]
  },
  {
   "cell_type": "markdown",
   "metadata": {
    "id": "rMmMub0dpqx-"
   },
   "source": [
    "Теперь, когда вы изучили GRU и LSTM, вы готовы к решению задач NER с использованием подобных более продвинутых архитектур.\n",
    "\n",
    "В рамках данного задания вы отработаете навыки:\n",
    "- Работы с нетиповыми данными\n",
    "- Построения словаря слов\n",
    "- Написания двунаправленной рекуррентной нейронной сети на основе изученных архитектур<br>\n",
    "\n",
    "В итоге вы напишете рекуррентную нейронную сеть для задачи NER, решающую задачу с достаточно высоким качеством."
   ]
  },
  {
   "cell_type": "markdown",
   "metadata": {
    "id": "MIY5j5HtpeCF"
   },
   "source": [
    "# Загрузка данных"
   ]
  },
  {
   "cell_type": "markdown",
   "metadata": {
    "id": "3NIeB5kO1NZB"
   },
   "source": [
    "Загрузим данные из очень известной NLP библиотеки для работы с русским языком —  [Natasha](https://github.com/natasha/nerus)."
   ]
  },
  {
   "cell_type": "markdown",
   "metadata": {
    "id": "Gc7xAp_cAarp"
   },
   "source": [
    "Данные представляют из себя новости, скачанные из Lenta.ru и размеченные BIO-разметкой."
   ]
  },
  {
   "cell_type": "code",
   "execution_count": null,
   "metadata": {
    "id": "zc88ekoRbzSR"
   },
   "outputs": [],
   "source": [
    "!wget https://storage.yandexcloud.net/natasha-nerus/data/nerus_lenta.conllu.gz"
   ]
  },
  {
   "cell_type": "code",
   "execution_count": null,
   "metadata": {
    "id": "PGMuiA22bZ2e"
   },
   "outputs": [],
   "source": [
    "!gunzip -c nerus_lenta.conllu.gz | head"
   ]
  },
  {
   "cell_type": "markdown",
   "metadata": {
    "id": "s_TJqzZDAjKg"
   },
   "source": [
    "Чтобы работать с данными этой библиотеки, необходимо поставить специальный модуль."
   ]
  },
  {
   "cell_type": "code",
   "execution_count": null,
   "metadata": {
    "id": "qxD9FHrh1fMh"
   },
   "outputs": [],
   "source": [
    "!pip install nerus"
   ]
  },
  {
   "cell_type": "markdown",
   "metadata": {
    "id": "7NuM1dX1AvMA"
   },
   "source": [
    "Также мы будем использовать токенизатор по пунктуации, потому что именно таким образом был размечен этот датасет."
   ]
  },
  {
   "cell_type": "code",
   "execution_count": null,
   "metadata": {
    "id": "Vi0bDTLAbv4t"
   },
   "outputs": [],
   "source": [
    "import tqdm\n",
    "from nerus import load_nerus\n",
    "from nltk.tokenize import WordPunctTokenizer"
   ]
  },
  {
   "cell_type": "code",
   "execution_count": null,
   "metadata": {
    "id": "d6-QFE_KdKr9"
   },
   "outputs": [],
   "source": [
    "docs = load_nerus('nerus_lenta.conllu.gz')"
   ]
  },
  {
   "cell_type": "code",
   "execution_count": null,
   "metadata": {
    "id": "UMPoKvzSP6zq"
   },
   "outputs": [],
   "source": [
    "tokenizer = WordPunctTokenizer()"
   ]
  },
  {
   "cell_type": "markdown",
   "metadata": {
    "id": "O5cUWSpRA-Mr"
   },
   "source": [
    "Посмотрим, что из себя представляют данные:"
   ]
  },
  {
   "cell_type": "code",
   "execution_count": null,
   "metadata": {
    "id": "kQqhB_7KdlIJ"
   },
   "outputs": [],
   "source": [
    "doc = next(docs)\n",
    "[text.text for text in doc.sents]"
   ]
  },
  {
   "cell_type": "code",
   "execution_count": null,
   "metadata": {
    "id": "Zfhi6j4-eLit"
   },
   "outputs": [],
   "source": [
    "[' '.join([item.tag for item in text.tokens]) for text in doc.sents]"
   ]
  },
  {
   "cell_type": "code",
   "execution_count": null,
   "metadata": {
    "id": "AGZDvbVpR5He"
   },
   "outputs": [],
   "source": [
    "train_texts, train_tags = list(), list()\n",
    "\n",
    "for i in tqdm.tqdm(range(100000)):\n",
    "  doc = next(docs)\n",
    "  bad_sentences = list()\n",
    "  texts = [text.text for text in doc.sents]\n",
    "  tags = [' '.join([item.tag for item in text.tokens]) for text in doc.sents]\n",
    "\n",
    "  for j in range(len(tags)):\n",
    "    if set(tags[j].split()) == {'O'}:\n",
    "      bad_sentences.append((texts[j], tags[j]))\n",
    "  \n",
    "  for s, t in bad_sentences:\n",
    "    texts.remove(s)\n",
    "    tags.remove(t)\n",
    "\n",
    "  if len(tokenizer.tokenize(' '.join(texts))) == len(' '.join(tags).split()) and len(tokenizer.tokenize(' '.join(texts))) < 125:\n",
    "    train_texts.append(' '.join(texts))\n",
    "    train_tags.append(' '.join(tags))"
   ]
  },
  {
   "cell_type": "markdown",
   "metadata": {
    "id": "_cHYyxCJBTHx"
   },
   "source": [
    "## Задание 1"
   ]
  },
  {
   "cell_type": "markdown",
   "metadata": {
    "id": "FxQ7xl4OBXUu"
   },
   "source": [
    "Проверим что данные были загружены правильно, и проинициализируем множество тегов. <br>\n",
    "\n",
    "Создайте set всех уникальных тегов (их должно быть мало)."
   ]
  },
  {
   "cell_type": "code",
   "execution_count": null,
   "metadata": {
    "id": "hRPqFjVcBklR"
   },
   "outputs": [],
   "source": [
    "# YOUR CODE HERE\n",
    "tags = None"
   ]
  },
  {
   "cell_type": "markdown",
   "metadata": {
    "id": "72tQ3DN2CPz7"
   },
   "source": [
    "Проверим правильность вашего кода:"
   ]
  },
  {
   "cell_type": "code",
   "execution_count": null,
   "metadata": {
    "id": "9ioA6bqmCOsG"
   },
   "outputs": [],
   "source": [
    "from collections import Counter\n",
    "assert tags is not None\n",
    "assert len(tags) == 7\n",
    "assert sorted(tags)[2] == 'B-PER'\n",
    "assert Counter([tag for tags in train_tags for tag in tags.split()]).most_common()[1][1] < 25000"
   ]
  },
  {
   "cell_type": "markdown",
   "metadata": {
    "id": "jYgqCTxmpRp_"
   },
   "source": [
    "# Предобученные эмбеддинги"
   ]
  },
  {
   "cell_type": "markdown",
   "metadata": {
    "id": "Oe6OYO3JDpev"
   },
   "source": [
    "Мы опять будем использовать предобученные эмбеддинги, только теперь для русского языка"
   ]
  },
  {
   "cell_type": "code",
   "execution_count": null,
   "metadata": {
    "id": "tM4_JU13rUym"
   },
   "outputs": [],
   "source": [
    "!pip install fasttext > /dev/null"
   ]
  },
  {
   "cell_type": "code",
   "execution_count": null,
   "metadata": {
    "id": "IdyFRXzNm-8E"
   },
   "outputs": [],
   "source": [
    "import pytest\n",
    "import torch\n",
    "import pandas as pd\n",
    "import numpy as np\n",
    "import torch.nn as nn\n",
    "from torch import LongTensor, FloatTensor\n",
    "from torch.nn import functional as F\n",
    "from typing import List, Dict, Tuple, Optional, Union\n",
    "from torch.utils.data import Dataset\n",
    "from torch.optim import Adam\n",
    "import time\n",
    "\n",
    "from collections import Counter"
   ]
  },
  {
   "cell_type": "markdown",
   "metadata": {
    "id": "QiVbXtA6Dzb9"
   },
   "source": [
    "## Задание 2\n",
    "Скачайте предобученные эмбеддинги для русского языка:"
   ]
  },
  {
   "cell_type": "code",
   "execution_count": null,
   "metadata": {
    "id": "ublvzeFbD8pT"
   },
   "outputs": [],
   "source": [
    "# YOUR CODE HERE"
   ]
  },
  {
   "cell_type": "code",
   "execution_count": null,
   "metadata": {
    "id": "ccXcwmNdFztm"
   },
   "outputs": [],
   "source": [
    "ft = fasttext.load_model('cc.ru.300.bin')"
   ]
  },
  {
   "cell_type": "markdown",
   "metadata": {
    "id": "bp-kpW45ERmj"
   },
   "source": [
    "Мы специально выбирали новости примерно одной длины, чтобы данные были достаточно однообразны."
   ]
  },
  {
   "cell_type": "code",
   "execution_count": null,
   "metadata": {
    "id": "_aJV2zZHwhNr"
   },
   "outputs": [],
   "source": [
    "import pandas as pd\n",
    "import numpy as np\n",
    "\n",
    "\n",
    "max_lens = list()\n",
    "for row in train_texts:\n",
    "    max_lens.append(len(tokenizer.tokenize(row)))\n",
    "max_lens = pd.Series(max_lens)\n",
    "max_lens.plot();\n",
    "max_lens.describe()"
   ]
  },
  {
   "cell_type": "markdown",
   "metadata": {
    "id": "iUY8zkLGEjok"
   },
   "source": [
    "Для проверки правильности вашего кода проинициализируйте переменную ```max_length``` 95% квантилем длинны всех строк, приведите ее к целому числу."
   ]
  },
  {
   "cell_type": "code",
   "execution_count": null,
   "metadata": {
    "id": "Af5bTyItGubS"
   },
   "outputs": [],
   "source": [
    "# YOUR CODE HERE\n",
    "max_lentgh = None"
   ]
  },
  {
   "cell_type": "code",
   "execution_count": null,
   "metadata": {
    "id": "UGAfSTUJE7y9"
   },
   "outputs": [],
   "source": [
    "assert len(train_texts) == 8760\n",
    "assert max_length < 120\n",
    "assert max_length > 100\n",
    "assert isinstance(max_length, int)"
   ]
  },
  {
   "cell_type": "code",
   "execution_count": null,
   "metadata": {
    "id": "FgikzSUJqUt-"
   },
   "outputs": [],
   "source": [
    "def get_word_to_idx(count: List[Tuple[str, int]],\n",
    "                   min_words: Union[int, float] = 0.0,\n",
    "                   max_words: Union[int, float] = 1.0) -> Dict[str, int]:\n",
    "    max_count = count[0][1]\n",
    "    if isinstance(min_words, float):\n",
    "        min_words = max_count * min_words\n",
    "    if isinstance(max_words, float):\n",
    "        max_words = max_count * max_words\n",
    "        \n",
    "    all_words = [w[0] for w in count if max_words >= w[1] >= min_words]\n",
    "    \n",
    "    all_words = ['<pad>', '<unk>'] + all_words\n",
    "    \n",
    "    word_to_idx = {k: v for k, v in zip(all_words, range(0, len(all_words)))}\n",
    "    return word_to_idx"
   ]
  },
  {
   "cell_type": "code",
   "execution_count": null,
   "metadata": {
    "id": "78QDRQy5qcnY"
   },
   "outputs": [],
   "source": [
    "count = Counter([i.lower() for j in train_texts for i in tokenizer.tokenize(j)])\n",
    "word_to_idx = get_word_to_idx(count.most_common(), min_words=1, max_words=100)"
   ]
  },
  {
   "cell_type": "code",
   "execution_count": null,
   "metadata": {
    "id": "nHxDr4aFqtsl"
   },
   "outputs": [],
   "source": [
    "len(word_to_idx)"
   ]
  },
  {
   "cell_type": "code",
   "execution_count": null,
   "metadata": {
    "id": "ohg5glBSyS-J"
   },
   "outputs": [],
   "source": [
    "tag_to_idx = {v: k for k, v in enumerate(set([tag for tags in train_tags for tag in list(set(tags.split()))]))}\n",
    "tag_to_idx"
   ]
  },
  {
   "cell_type": "markdown",
   "metadata": {
    "id": "dvu4JDm8F7vD"
   },
   "source": [
    "## Задание 3\n",
    "Напишите функцию по построению матрицы, использующую прдобученные эмбеддинги."
   ]
  },
  {
   "cell_type": "code",
   "execution_count": null,
   "metadata": {
    "id": "MyBhFku-GPtp"
   },
   "outputs": [],
   "source": [
    "# YOUR CODE HERE\n",
    "def build_matrix(\n",
    "    word_dict: Dict,\n",
    "    embedding_index,\n",
    "    max_features: int = 100000,\n",
    "    embed_size: int = 100,\n",
    ") -> Tuple[np.array, int, List]:\n",
    "  pass"
   ]
  },
  {
   "cell_type": "code",
   "execution_count": null,
   "metadata": {
    "id": "bcgF3MmtGCvI"
   },
   "outputs": [],
   "source": [
    "embedding_matrix, nb_words = build_matrix(word_dict=word_to_idx,\n",
    "                                          embedding_index=ft,\n",
    "                                          embed_size=300)"
   ]
  },
  {
   "cell_type": "markdown",
   "metadata": {
    "id": "yFhSBt23Gasn"
   },
   "source": [
    "Проверим, корректно ли работает функция:"
   ]
  },
  {
   "cell_type": "code",
   "execution_count": null,
   "metadata": {
    "id": "JYd6idhUGaTt"
   },
   "outputs": [],
   "source": [
    "assert embedding_matrix.shape[0] < 75000\n",
    "assert nb_words > 8 ** 3\n",
    "assert embedding_matrix[42].sum(axis=0) > -2"
   ]
  },
  {
   "cell_type": "code",
   "execution_count": null,
   "metadata": {
    "id": "cUne__WvIN2R"
   },
   "outputs": [],
   "source": [
    "embedding_matrix = torch.tensor(embedding_matrix, dtype=torch.float32)"
   ]
  },
  {
   "cell_type": "markdown",
   "metadata": {
    "id": "d1wejDz8HXOb"
   },
   "source": [
    "## Задание 4\n",
    "Напишите функцию по созданию матрицы текстов и матрицы тегов. Не забудьте, что нужно использовать токенизацию при разбиении текстов новостей."
   ]
  },
  {
   "cell_type": "code",
   "execution_count": null,
   "metadata": {
    "id": "crQmuEZLHtTk"
   },
   "outputs": [],
   "source": [
    "# YOUR CODE HERE\n",
    "\n",
    "def create_matrix_of_texts(dataset, max_sequence_length, \n",
    "                           pad_token, word2index):\n",
    "    texts = np.full((len(dataset), max_sequence_length),\n",
    "                    word2index[pad_token], dtype=np.int64)  # creating empty matrix\n",
    "\n",
    "    for ind, row in enumerate(dataset):\n",
    "          trim_length = min(max_sequence_length, len(tokenizer.tokenize(row.lower())))\n",
    "          text = # ADD CODE HERE\n",
    "          texts[ind, : trim_length] = # ADD CODE HERE\n",
    "    return texts\n",
    "\n",
    "\n",
    "def create_matrix_of_tags(dataset, max_sequence_length, pad_index, tag2index):\n",
    "    tags = np.full((len(dataset), max_sequence_length),\n",
    "                    pad_index, dtype=np.int64)  # creating empty matrix\n",
    "\n",
    "    for ind, row in enumerate(dataset):\n",
    "          trim_length = min(max_sequence_length, len(row.split()))\n",
    "          labels = # ADD CODE HERE\n",
    "          tags[ind, : trim_length] = # ADD CODE HERE\n",
    "    return tags"
   ]
  },
  {
   "cell_type": "code",
   "execution_count": null,
   "metadata": {
    "id": "JKYZXKU8w11R"
   },
   "outputs": [],
   "source": [
    "texts_matrix = create_matrix_of_texts(train_texts, \n",
    "                               max_length,\n",
    "                               '<pad>', word_to_idx)\n",
    "tags_matrix = create_matrix_of_tags(train_tags,\n",
    "                             max_length, tag_to_idx['O'], tag_to_idx)"
   ]
  },
  {
   "cell_type": "code",
   "execution_count": null,
   "metadata": {
    "id": "d1pg9qVzIItF"
   },
   "outputs": [],
   "source": [
    "assert tags_matrix[6].sum() == 23\n",
    "assert texts_matrix[2029].mean() > 4500\n",
    "assert texts_matrix.shape[1] == max_length"
   ]
  },
  {
   "cell_type": "markdown",
   "metadata": {
    "id": "v6LpaZHbDBa8"
   },
   "source": [
    "# Загрузка датасета"
   ]
  },
  {
   "cell_type": "markdown",
   "metadata": {
    "id": "ZE3Nl51DDGeF"
   },
   "source": [
    "Объединим матрицы текстов и матрицы тегов в обучающий датасет, используя знакомый вам класс загрузки датасетов."
   ]
  },
  {
   "cell_type": "code",
   "execution_count": null,
   "metadata": {
    "id": "YlwHhGEEzXCz"
   },
   "outputs": [],
   "source": [
    "class NerDataset(Dataset):\n",
    "    def __init__(self,\n",
    "                 texts: np.array,\n",
    "                 tags: np.array):\n",
    "        self.tags = tags\n",
    "        self.texts = texts\n",
    "        \n",
    "\n",
    "    def __getitem__(self, idx: int) -> Tuple[torch.LongTensor, torch.LongTensor]:\n",
    "        tokens_tensor = torch.tensor(self.texts[idx], dtype=torch.int64)\n",
    "        return tokens_tensor, torch.tensor(self.tags[idx], dtype=torch.int64)\n",
    "\n",
    "    def __len__(self) -> int:\n",
    "        dataset_len = self.texts.shape[0]\n",
    "        return dataset_len"
   ]
  },
  {
   "cell_type": "code",
   "execution_count": null,
   "metadata": {
    "id": "P5Q3xu2BzW70"
   },
   "outputs": [],
   "source": [
    "dataset = train_tags\n",
    "ner_dataset = NerDataset(texts_matrix, tags_matrix)"
   ]
  },
  {
   "cell_type": "code",
   "execution_count": null,
   "metadata": {
    "id": "AGIEGqsD3m1l"
   },
   "outputs": [],
   "source": [
    "idx_to_tag = {second: first for first, second in tag_to_idx.items()}"
   ]
  },
  {
   "cell_type": "code",
   "execution_count": null,
   "metadata": {
    "id": "X3bOTeJqz4rV"
   },
   "outputs": [],
   "source": [
    "from torch.utils.data.dataset import random_split"
   ]
  },
  {
   "cell_type": "code",
   "execution_count": null,
   "metadata": {
    "id": "GNUvRssuz4n2"
   },
   "outputs": [],
   "source": [
    "BATCH_SIZE = 64"
   ]
  },
  {
   "cell_type": "code",
   "execution_count": null,
   "metadata": {
    "id": "oFDAsMo2z4gr"
   },
   "outputs": [],
   "source": [
    "num_train = int(len(ner_dataset) * 0.9)\n",
    "split_train_, split_valid_ = \\\n",
    "    random_split(ner_dataset, [num_train, len(ner_dataset) - num_train])\n",
    "\n",
    "train_dataloader = torch.utils.data.DataLoader(split_train_, batch_size=BATCH_SIZE,\n",
    "                              shuffle=True, drop_last=True)\n",
    "valid_dataloader = torch.utils.data.DataLoader(split_valid_, batch_size=BATCH_SIZE,\n",
    "                              shuffle=True)"
   ]
  },
  {
   "cell_type": "markdown",
   "metadata": {
    "id": "QuhPyJ0mDVg5"
   },
   "source": [
    "# Обучение модели"
   ]
  },
  {
   "cell_type": "markdown",
   "metadata": {
    "id": "vrYTy-iOIToF"
   },
   "source": [
    "## Задание 5\n",
    "Создайте свою нейронную сеть. Попробуйте разные вариации архитектур RNN, посмотрите, что дает размораживание или заморозка предобученных весов.\n",
    "\n",
    "В дальнейшем вы выберите ту модель, которая демонстрирует лучшее качество."
   ]
  },
  {
   "cell_type": "code",
   "execution_count": null,
   "metadata": {
    "id": "osXe6jusIugL"
   },
   "outputs": [],
   "source": [
    "# INSERT YOUR CODE\n",
    "\n",
    "class NerRNNModel(nn.Module):\n",
    "    def __init__(\n",
    "        self,\n",
    "        pretrained_embeddings,\n",
    "        mapping: Dict[int, str] = None,\n",
    "        hidden_size: int = 256\n",
    "    ):\n",
    "        super(NerRNNModel, self).__init__()\n",
    "        if not mapping:\n",
    "            raise RuntimeError(f'Empty labels')\n",
    "\n",
    "        # Vocabulary size\n",
    "        self.vocab_size = pretrained_embeddings.shape[0]\n",
    "        # Embedding dimensionality\n",
    "        self.embedding_size = pretrained_embeddings.shape[1]\n",
    "        self.labels = mapping\n",
    "        self.embedding = nn.Embedding.from_pretrained(pretrained_embeddings)\n",
    "        self.embedding.requires_grad_(True)\n",
    "        self.encoder = # ADD YOUR CODE HERE\n",
    "\n",
    "        encoder_output_value = # ADD YOUR CODE HERE\n",
    "\n",
    "        self.projection = nn.Linear(encoder_output_value, len(mapping))\n",
    "        \n",
    "    def forward(self, tokens: LongTensor) -> FloatTensor:\n",
    "        emb = self.embedding(tokens)        \n",
    "        h, _ = # ADD YOUR CODE HERE\n",
    "        pred = # ADD YOUR CODE HERE\n",
    "        return pred.view(-1, len(self.labels))"
   ]
  },
  {
   "cell_type": "code",
   "execution_count": null,
   "metadata": {
    "id": "3lzhsLlE5-L-"
   },
   "outputs": [],
   "source": [
    "idx_to_word = {second: first for first, second in word_to_idx.items()}"
   ]
  },
  {
   "cell_type": "code",
   "execution_count": null,
   "metadata": {
    "id": "TuROB6S_0dEG"
   },
   "outputs": [],
   "source": [
    "from sklearn.metrics import classification_report\n",
    "\n",
    "def evaluate(dataloader):\n",
    "    model.eval()\n",
    "    total_acc, total_count = 0, 0\n",
    "    correct_labels = [value for value in idx_to_tag.values() if value != 'O']\n",
    "    predicted, true_labels = list(), list()\n",
    "\n",
    "    with torch.no_grad():\n",
    "        for idx, batch in enumerate(dataloader):\n",
    "            tokens, label = batch\n",
    "            tokens = tokens.to(device)\n",
    "            \n",
    "            logits = model(tokens)\n",
    "            predictions = F.log_softmax(logits, dim=1).reshape(-1,\n",
    "                                                               max_length,\n",
    "                                                               len(idx_to_tag)).argmax(dim=2).flatten().detach().cpu().numpy()\n",
    "            predicted.extend(predictions)\n",
    "            true_labels.extend(label.flatten().detach().cpu().numpy())\n",
    "    \n",
    "    true_labels = [idx_to_tag[val] for val in true_labels]\n",
    "    \n",
    "    predicted = [idx_to_tag[val] for val in predicted]\n",
    "    print('\\n', classification_report(true_labels,\n",
    "                                      predicted,\n",
    "                                      labels=correct_labels))"
   ]
  },
  {
   "cell_type": "code",
   "execution_count": null,
   "metadata": {
    "id": "db4a9j7A0dAJ"
   },
   "outputs": [],
   "source": [
    "model = NerRNNModel(embedding_matrix, tag_to_idx, 256)\n",
    "optimizer = torch.optim.Adam(model.parameters(), lr=0.0001)\n",
    "device = torch.device('cuda') if torch.cuda.is_available() else torch.device('cpu')\n",
    "model.to(device)"
   ]
  },
  {
   "cell_type": "code",
   "execution_count": null,
   "metadata": {
    "id": "4bgnKQ0x0y6s"
   },
   "outputs": [],
   "source": [
    "sum([params.numel() for params in model.parameters() if params.requires_grad])"
   ]
  },
  {
   "cell_type": "markdown",
   "metadata": {
    "id": "ryHm8VFBJVOn"
   },
   "source": [
    "## Задание 6\n",
    "Дополните цикл обучения:"
   ]
  },
  {
   "cell_type": "code",
   "execution_count": null,
   "metadata": {
    "id": "8pTRcK4QJisG"
   },
   "outputs": [],
   "source": [
    "# INSERT YOUR CODE\n",
    "\n",
    "for e in range(8):\n",
    "    total_loss = 0\n",
    "    model.train()\n",
    "    loss_function = nn.CrossEntropyLoss()\n",
    "    for sent in tqdm.auto.tqdm(train_dataloader):\n",
    "\n",
    "            # (1) Set gradient to zero for new example: Set gradients to zero before pass\n",
    "            model... # ADD YOUR CODE inplace ...\n",
    "            \n",
    "            # (2) Encode sentence and tag sequence as sequences of indices\n",
    "            input_sent, gold_tags = sent\n",
    "\n",
    "            # (3) Predict tags (sentence by sentence)\n",
    "            if len(input_sent) > 0:\n",
    "                pred_scores = model(input_sent.to(device))\n",
    "                mask = gold_tags != tag_to_idx['O']\n",
    "                # (4) Compute loss and do backward step\n",
    "                loss = # ADD YOUR CODE\n",
    "              \n",
    "                # (5) Optimize parameter values\n",
    "                optimizer... # ADD YOUR CODE inplace ...\n",
    "          \n",
    "                # (6) Accumulate loss\n",
    "                total_loss += loss\n",
    "    print('\\nEpoch: %d, loss: %.4f' % (e, total_loss / len(train_dataloader)))\n",
    "    evaluate(valid_dataloader)"
   ]
  },
  {
   "cell_type": "markdown",
   "metadata": {},
   "source": []
  },
  {
   "cell_type": "markdown",
   "metadata": {
    "id": "iCViX5ZmJ81M"
   },
   "source": [
    "Попробуйте различные подходы, добейтесь качества модели больше 0.5 по micro avg f1-score. <br>"
   ]
  },
  {
   "cell_type": "markdown",
   "metadata": {
    "id": "gSAnlfM3KLFo"
   },
   "source": [
    "### Подсказка"
   ]
  },
  {
   "cell_type": "markdown",
   "metadata": {
    "id": "hrCDiVxADxiK"
   },
   "source": [
    "Иногда простые модели бьют куда более сложные нейронные сети :)"
   ]
  }
 ],
 "metadata": {
  "accelerator": "GPU",
  "colab": {
   "collapsed_sections": [
    "gSAnlfM3KLFo"
   ],
   "name": "final_task_unsolved.ipynb",
   "provenance": [],
   "toc_visible": true
  },
  "kernelspec": {
   "display_name": "Python 3",
   "language": "python",
   "name": "python3"
  },
  "language_info": {
   "codemirror_mode": {
    "name": "ipython",
    "version": 3
   },
   "file_extension": ".py",
   "mimetype": "text/x-python",
   "name": "python",
   "nbconvert_exporter": "python",
   "pygments_lexer": "ipython3",
   "version": "3.8.8"
  }
 },
 "nbformat": 4,
 "nbformat_minor": 1
}
