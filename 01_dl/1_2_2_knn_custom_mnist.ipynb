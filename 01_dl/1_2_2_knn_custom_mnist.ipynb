{
 "cells": [
  {
   "cell_type": "markdown",
   "metadata": {
    "id": "wXK8m5PN6XvU"
   },
   "source": [
    "Dataset MNIST: картинки с рукописными цифрами.\n",
    "\n",
    "x: 70_000 картинок размера 28x28.\n",
    "\n",
    "y: 70_000 значений, какая цифра на картинке (0-9).\n",
    "\n",
    "Обучаемся на 60_000 примерах, в результате можем распознать, какая цифра изображена на картинке, в т.ч. для тех 10_000 картинок, которые не входили в обучающую выборку.\n",
    "\n",
    "Реализация методом KNN."
   ]
  },
  {
   "cell_type": "code",
   "execution_count": null,
   "metadata": {
    "id": "LCWmjZU6eRyq"
   },
   "outputs": [],
   "source": [
    "from collections import Counter\n",
    "from sklearn.datasets import fetch_openml\n",
    "import matplotlib.pyplot as plt\n",
    "import pandas as pd\n",
    "import time\n",
    "# Более \"низкоуровневый\" подход: используем численные методы из библиотеки numpy. Будет посложнее.\n",
    "import numpy as np"
   ]
  },
  {
   "cell_type": "code",
   "execution_count": null,
   "metadata": {
    "id": "pmIxMdwST_9L"
   },
   "outputs": [],
   "source": [
    "# Для скачивания данных.\n",
    "import ssl\n",
    "ssl._create_default_https_context = ssl._create_unverified_context"
   ]
  },
  {
   "cell_type": "code",
   "execution_count": null,
   "metadata": {
    "id": "r5zExostoWgE"
   },
   "outputs": [],
   "source": [
    "# Рассчитывает Эвклидовое расстояние.\n",
    "def euclidean_distance(x,y):   \n",
    "    return np.sqrt(np.sum((x-y)**2))"
   ]
  },
  {
   "cell_type": "code",
   "execution_count": null,
   "metadata": {
    "id": "AGpD0MdSUG6n"
   },
   "outputs": [],
   "source": [
    "# Скачиваем данные.\n",
    "x, y = fetch_openml('mnist_784', version=1, return_X_y=True)"
   ]
  },
  {
   "cell_type": "code",
   "execution_count": null,
   "metadata": {
    "colab": {
     "base_uri": "https://localhost:8080/"
    },
    "id": "jdyIOYC7US3_",
    "outputId": "0e9fe912-d40a-4a32-c584-90f9014ffb64"
   },
   "outputs": [
    {
     "name": "stdout",
     "output_type": "stream",
     "text": [
      "Количество картинок и их размерность:  (70000, 784)\n",
      "Количество правильных ответов к каждой картинке:  (70000,)\n"
     ]
    }
   ],
   "source": [
    "# Посмотрим на данные.\n",
    "# На момент написания: (70000, 784).\n",
    "# Обратите внимание, что в этот датасете картинка 28x28 уже линеаризована в массив из 784 пикселей.\n",
    "print('Количество картинок и их размерность: ', x.shape)\n",
    "print('Количество правильных ответов к каждой картинке: ', y.shape)\n",
    "\n",
    "# Стоит убедиться, что совпадает размер массива входных картинок и их правильных ответов.\n",
    "# И \"fail fast\", если это не так. Не обучать классификатор на кривых данных.\n",
    "assert x.shape[0] == y.shape[0], f\"Размер массива входных картинок ({x.shape[0]}) и их правильных ответов ({y.shape[0]}) не совпадает.\""
   ]
  },
  {
   "cell_type": "code",
   "execution_count": null,
   "metadata": {
    "id": "LPu11U5JeiOz"
   },
   "outputs": [],
   "source": [
    "n_train = 60_000\n",
    "n_test = 10_000\n",
    "# Граница (в размере элементов) между обучающей и тестовой выборкой.\n",
    "split_boundary = 60_000\n",
    "\n",
    "x_train, y_train = x[:n_train,:], y[:n_train]\n",
    "x_test, y_test = x[split_boundary:split_boundary + n_test, :] , y[split_boundary:split_boundary + n_test]"
   ]
  },
  {
   "cell_type": "code",
   "execution_count": null,
   "metadata": {
    "id": "3rHA5vi_emEn"
   },
   "outputs": [],
   "source": [
    "# Сделаем из Python массивов Pandas DataFrame для картинок.\n",
    "x_train_df = pd.DataFrame(x_train)\n",
    "x_test_df = pd.DataFrame(x_test)"
   ]
  },
  {
   "cell_type": "code",
   "execution_count": null,
   "metadata": {
    "id": "p4DyL7gwQZ9K"
   },
   "outputs": [],
   "source": [
    "# Сделаем из Python массивов Pandas DataFrame для правильных ответов.\n",
    "y_train_df = pd.DataFrame(data = y_train, columns = ['Цифра'])\n",
    "y_test_df = pd.DataFrame(data = y_test, columns = ['Цифра'])"
   ]
  },
  {
   "cell_type": "code",
   "execution_count": null,
   "metadata": {
    "id": "eQ904bXb-IgG",
    "scrolled": true
   },
   "outputs": [],
   "source": [
    "# Список Эвклидовых расстояний.\n",
    "train_euc_dist = []\n",
    "# Список индексов\n",
    "train_idxs = []\n",
    "# Какие значения K пробуем.\n",
    "k_vals = [1, 3, 5, 7, 9, 11, 13, 15, 17, 19, 21]\n",
    "# Список списков для хранения прогнозируемого значения для каждого K.\n",
    "train_predictions = [[] for _ in range(len(k_vals))]\n",
    "\n",
    "# Обучение.\n",
    "for i in range(0, n_train):\n",
    "    train_vec_1 = x_train_df.iloc[i]\n",
    "    # Сравниваем каждый с каждым.\n",
    "    for j in range(0, n_train):\n",
    "        train_vec_2 = x_train_df.iloc[j]\n",
    "        # Вычисляем Эвклидово расстояние.\n",
    "        euc_dist = euclidean_distance(train_vec_1, train_vec_2)\n",
    "        train_euc_dist.append(euc_dist)\n",
    "        # Сохраняем индекс.\n",
    "        train_idxs.append(j)\n",
    "\n",
    "    # Словарь с результатами.\n",
    "    d = {'index': train_idxs, 'distance': train_euc_dist}\n",
    "    # Создаём Pandas DataFrame\n",
    "    df = pd.DataFrame(d, columns=['index', 'distance'])\n",
    "    # Сортируем во возрастанию Эвклидова расстояния.\n",
    "    df_sorted = df.sort_values(by='distance')\n",
    "\n",
    "    # Итерируемся по пробным значениям K.\n",
    "    for k in range(len(k_vals)):\n",
    "        index_list = list(df_sorted['index'][:k_vals[k]])\n",
    "        distance = list(df_sorted['distance'][:k_vals[k]])\n",
    "        res_list = [y_train[i] for i in index_list]\n",
    "        # Ищем класс с максимальным количеством \"голосов\".\n",
    "        pred_value = max(res_list, key=res_list.count)\n",
    "        # Сохраняем прогнозируемое значение.\n",
    "        train_predictions[k].append(pred_value)\n",
    "\n",
    "    # Обнуляем списки.\n",
    "    train_idxs = []\n",
    "    train_euc_dist = []"
   ]
  },
  {
   "cell_type": "code",
   "execution_count": null,
   "metadata": {
    "id": "50tEu2CH-xs0",
    "scrolled": true
   },
   "outputs": [],
   "source": [
    "# Тестирование.\n",
    "for i in range(0, n_test):\n",
    "    test_vec_1 = df_test.iloc[i]\n",
    "    # Каждый с каждым.\n",
    "    for j in range(0, n_test):\n",
    "        train_vec_2 = df_train.iloc[j]\n",
    "        # Вычисляем Эвклидово расстояние.\n",
    "        euc_dist = euclidean_distance(test_vec_1, train_vec_2)\n",
    "        test_dist.append(euc_dist)\n",
    "        # Сохраняем индекс.\n",
    "        test_idxs.append(j)\n",
    "\n",
    "    # Словарь с результатами.\n",
    "    d = {'index': test_idxs, 'distance': test_dist}\n",
    "    # Создаём Pandas DataFrame\n",
    "    df = pd.DataFrame(d, columns=['index', 'distance'])\n",
    "    # Сортируем во возрастанию Эвклидова расстояния.\n",
    "    df_sorted = df.sort_values(by='distance')\n",
    "\n",
    "    # Итерируемся по пробным значениям K.\n",
    "    for k in range(len(k_vals)):\n",
    "        index_list = list(df_sorted['index'][:k_vals[k]])\n",
    "        distance = list(df_sorted['distance'][:k_vals[k]])\n",
    "        res_list = [train_predictions[k][ind] for ind in index_list]\n",
    "        # Ищем класс с максимальным количеством \"голосов\".\n",
    "        pred_value = max(res_list, key=res_list.count)\n",
    "        # Сохраняем прогнозируемое значение.\n",
    "        test_pred_lists[k].append(pred_value)\n",
    "\n",
    "    # Обнуляем списки.\n",
    "    test_idxs = []\n",
    "    test_dist = []"
   ]
  },
  {
   "cell_type": "code",
   "execution_count": null,
   "metadata": {
    "id": "XGcLsFrYqPbz",
    "outputId": "05c50f64-35ff-4625-d8e5-d5279d3dd237"
   },
   "outputs": [
    {
     "name": "stdout",
     "output_type": "stream",
     "text": [
      "The test accuracy is 90.4% for K=1\n",
      "The test accuracy is 90.9% for K=3\n",
      "The test accuracy is 91.5% for K=5\n",
      "The test accuracy is 90.4% for K=7\n",
      "The test accuracy is 89.8% for K=9\n",
      "The test accuracy is 88.4% for K=11\n",
      "The test accuracy is 88.9% for K=13\n",
      "The test accuracy is 88.3% for K=15\n",
      "The test accuracy is 87.9% for K=17\n",
      "The test accuracy is 87.6% for K=19\n",
      "The test accuracy is 86.8% for K=21\n"
     ]
    }
   ],
   "source": [
    "# Вычисляем результаты для тестовой выборки.\n",
    "test_pred = 0\n",
    "test_pred_result = []\n",
    "for K in range(len(k_values)):\n",
    "    for l1,l2 in zip(test_pred_lists[K], y_test.tolist()):\n",
    "        if l1 == l2:\n",
    "            test_pred += 1\n",
    "    accuracy = test_pred/1000\n",
    "    test_pred_result.append((round(accuracy*100,2)))\n",
    "    print('The test accuracy is '+str(accuracy*100)+'% for K='+str(k_values[K]))\n",
    "    test_pred = 0"
   ]
  }
 ],
 "metadata": {
  "colab": {
   "collapsed_sections": [],
   "name": "1-2-2-knn-custom-mnist.ipynb",
   "provenance": []
  },
  "kernelspec": {
   "display_name": "Python 3",
   "language": "python",
   "name": "python3"
  },
  "language_info": {
   "codemirror_mode": {
    "name": "ipython",
    "version": 3
   },
   "file_extension": ".py",
   "mimetype": "text/x-python",
   "name": "python",
   "nbconvert_exporter": "python",
   "pygments_lexer": "ipython3",
   "version": "3.9.2"
  }
 },
 "nbformat": 4,
 "nbformat_minor": 1
}
