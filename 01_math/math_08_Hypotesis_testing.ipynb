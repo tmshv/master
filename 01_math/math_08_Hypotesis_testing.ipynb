{
 "cells": [
  {
   "cell_type": "markdown",
   "metadata": {},
   "source": [
    "# Тестирование гипотез"
   ]
  },
  {
   "cell_type": "code",
   "execution_count": 2,
   "metadata": {},
   "outputs": [],
   "source": [
    "import numpy as np\n",
    "from scipy.stats import norm"
   ]
  },
  {
   "cell_type": "markdown",
   "metadata": {},
   "source": [
    "## Альтернативная и нулевая гипотезы\n",
    "\n",
    "Для расчета *p-value* используйте формулу `norm.cdf()`. Напомним, что эта функция находит площадь «левого хвоста» на графике плотности стандартного нормального распределения $Z$ — площадь под кривой налево от заданной точки $z$."
   ]
  },
  {
   "cell_type": "markdown",
   "metadata": {},
   "source": [
    "## Задача 1. Условия\n",
    "\n",
    "Производитель аккумуляторных батарей заявляет, что средний срок службы батарейки *АА* составляет $14$ месяцев. Вы подозреваете, что на самом деле это число преувеличено.\n",
    "\n",
    "Чтобы проверить утверждение производителя, вы взяли случайную выборку из $64$ батареек и посчитали выборочное среднее — $13.5$ месяцев. Известно, что срок службы батарейки имеет стандартное отклонение $2$ месяца. Для тестирования гипотезы используйте уровень значимости $\\alpha=0.05$.\n",
    "\n",
    "Обратите внимание, что как постановка альтернативной гипотезы, так и выбор уровня значимости $\\alpha$ может повлиять на вывод, который вы делаете в результате тестирования гипотезы."
   ]
  },
  {
   "cell_type": "markdown",
   "metadata": {},
   "source": [
    "Первый шаг при тестировании – постановка нулевой и альтернативной гипотез. Нулевая гипотеза: $\\mu=14$. Какую альтернативную гипотезу нужно использовать в данном случае?"
   ]
  },
  {
   "cell_type": "code",
   "execution_count": 3,
   "metadata": {},
   "outputs": [],
   "source": [
    "n = 64\n",
    "mu = 13.5\n",
    "sigma = 2\n",
    "a = 0.05"
   ]
  },
  {
   "cell_type": "code",
   "execution_count": 4,
   "metadata": {},
   "outputs": [
    {
     "name": "stdout",
     "output_type": "stream",
     "text": [
      "mu < 14\n"
     ]
    }
   ],
   "source": [
    "print('mu < 14')"
   ]
  },
  {
   "cell_type": "markdown",
   "metadata": {},
   "source": [
    "Чему равна *z-статистика*?"
   ]
  },
  {
   "cell_type": "markdown",
   "metadata": {},
   "source": [
    "$ z_{st} = \\frac{\\bar{x}-\\mu_{0} }{\\sigma /\\sqrt{n}} $"
   ]
  },
  {
   "cell_type": "code",
   "execution_count": 5,
   "metadata": {},
   "outputs": [
    {
     "name": "stdout",
     "output_type": "stream",
     "text": [
      "-2.000\n"
     ]
    }
   ],
   "source": [
    "z = (mu - 14) / (sigma / np.sqrt(n))\n",
    "print(f'{z:.3f}')"
   ]
  },
  {
   "cell_type": "markdown",
   "metadata": {},
   "source": [
    "Чему равно значение *p-value*?"
   ]
  },
  {
   "cell_type": "code",
   "execution_count": 6,
   "metadata": {},
   "outputs": [
    {
     "name": "stdout",
     "output_type": "stream",
     "text": [
      "0.023\n"
     ]
    }
   ],
   "source": [
    "p_value = norm.cdf(z)\n",
    "print(f'{p_value:.3f}')"
   ]
  },
  {
   "cell_type": "code",
   "execution_count": 7,
   "metadata": {},
   "outputs": [
    {
     "name": "stdout",
     "output_type": "stream",
     "text": [
      "1.645\n"
     ]
    }
   ],
   "source": [
    "value = -norm.ppf(a)\n",
    "\n",
    "print(f'{value:.3f}')"
   ]
  },
  {
   "cell_type": "markdown",
   "metadata": {},
   "source": [
    "Таким образом, мы **отвергаем** нулевую гипотезу и приходим к выводу, что средний срок службы батарейки **ниже** 14 мес."
   ]
  },
  {
   "cell_type": "markdown",
   "metadata": {},
   "source": [
    "## Задача 2. Условия\n",
    "\n",
    "На упаковке муки указана ее масса — $455$ г. Известно, что масса муки в упаковке распределена приблизительно нормально, и что ее стандартное отклонение составляет $12.5$ граммов. В случайной выборке из $16$ упаковок средняя масса составила $449$ граммов. Протестируйте на уровне значимости 5% нулевую гипотезу о том, что средняя масса упаковки с мукой составляет $455$ граммов.\n"
   ]
  },
  {
   "cell_type": "code",
   "execution_count": 41,
   "metadata": {},
   "outputs": [],
   "source": [
    "n = 16\n",
    "mu = 449\n",
    "mu0 = 455\n",
    "sigma = 12.5\n",
    "a = 0.05"
   ]
  },
  {
   "cell_type": "markdown",
   "metadata": {},
   "source": [
    "Допустим, у вас нет никаких догадок о том, является ли истинная средняя масса упаковки $\\mu$ выше или ниже указанного значения в $455$ граммов. Сформулируйте соответствующую альтернативную гипотезу и протестируйте ее.\n",
    "\n",
    "Чему равно соответствующее значение *p-value*?"
   ]
  },
  {
   "cell_type": "code",
   "execution_count": 42,
   "metadata": {},
   "outputs": [
    {
     "name": "stdout",
     "output_type": "stream",
     "text": [
      "-1.920\n"
     ]
    }
   ],
   "source": [
    "z = (mu - mu0) / (sigma / np.sqrt(n))\n",
    "print(f'{z:.3f}')"
   ]
  },
  {
   "cell_type": "code",
   "execution_count": 46,
   "metadata": {},
   "outputs": [
    {
     "name": "stdout",
     "output_type": "stream",
     "text": [
      "0.055\n"
     ]
    }
   ],
   "source": [
    "p_value = 2 * norm.cdf(z) # *2 cause we calc CDF twice\n",
    "print(f'{p_value:.3f}')"
   ]
  },
  {
   "cell_type": "code",
   "execution_count": 45,
   "metadata": {},
   "outputs": [
    {
     "data": {
      "text/plain": [
       "True"
      ]
     },
     "execution_count": 45,
     "metadata": {},
     "output_type": "execute_result"
    }
   ],
   "source": [
    "p_value > a"
   ]
  },
  {
   "cell_type": "markdown",
   "metadata": {},
   "source": [
    "## Задание 7.7\n",
    "\n",
    "Вы заподозрили, что производитель сознательно завышает количество граммов, указанное на упаковке, в то время как на самом деле средняя масса ниже. Сформулируйте соответствующую альтернативную гипотезу и протестируйте ее.\n",
    "\n",
    "Чему в таком случае равно значение *p-value*?"
   ]
  },
  {
   "cell_type": "code",
   "execution_count": 47,
   "metadata": {},
   "outputs": [
    {
     "name": "stdout",
     "output_type": "stream",
     "text": [
      "0.027\n"
     ]
    }
   ],
   "source": [
    "p_value = norm.cdf(z) # *2 cause we calc CDF twice\n",
    "print(f'{p_value:.3f}')"
   ]
  },
  {
   "cell_type": "code",
   "execution_count": 48,
   "metadata": {},
   "outputs": [
    {
     "data": {
      "text/plain": [
       "False"
      ]
     },
     "execution_count": 48,
     "metadata": {},
     "output_type": "execute_result"
    }
   ],
   "source": [
    "p_value > a"
   ]
  },
  {
   "cell_type": "markdown",
   "metadata": {},
   "source": [
    "## Задание 7.8\n",
    "\n",
    "Согласны ли вы сейчас, что указанное на упаковке количество граммов соответствует истинной средней массе муки в упаковке?"
   ]
  },
  {
   "cell_type": "code",
   "execution_count": 49,
   "metadata": {},
   "outputs": [
    {
     "name": "stdout",
     "output_type": "stream",
     "text": [
      "Нет, потому что мы отвергаем нулевую гипотезу\n"
     ]
    }
   ],
   "source": [
    "print('Нет, потому что мы отвергаем нулевую гипотезу')"
   ]
  },
  {
   "cell_type": "markdown",
   "metadata": {},
   "source": [
    "## Задание 7.9\n",
    "\n",
    "Как изменится ваш ответ, если тестирование будет сделано на уровне значимости 1% (все остальные условия, обозначенные в задаче 2, остаются в силе)?"
   ]
  },
  {
   "cell_type": "code",
   "execution_count": 55,
   "metadata": {},
   "outputs": [
    {
     "name": "stdout",
     "output_type": "stream",
     "text": [
      "z_st=-1.920\n",
      "p_value=0.055\n"
     ]
    }
   ],
   "source": [
    "n = 16\n",
    "mu = 449\n",
    "mu0 = 455\n",
    "sigma = 12.5\n",
    "a = 0.01\n",
    "\n",
    "z = (mu - mu0) / (sigma / np.sqrt(n))\n",
    "print(f'z_st={z:.3f}')\n",
    "\n",
    "p_value = 2 * norm.cdf(z) # *2 cause we calc CDF twice\n",
    "print(f'p_value={p_value:.3f}')"
   ]
  },
  {
   "cell_type": "markdown",
   "metadata": {},
   "source": [
    "## z-статистика и t-статистика\n",
    "\n",
    "Чтобы найти *p-value* для *z-статистики*, применяйте функцию `norm.cdf()`"
   ]
  },
  {
   "cell_type": "code",
   "execution_count": 59,
   "metadata": {},
   "outputs": [],
   "source": [
    "from scipy.stats import norm"
   ]
  },
  {
   "cell_type": "markdown",
   "metadata": {},
   "source": [
    "Чтобы использовать t, импортируйте:"
   ]
  },
  {
   "cell_type": "code",
   "execution_count": 58,
   "metadata": {},
   "outputs": [],
   "source": [
    "from scipy.stats import t"
   ]
  },
  {
   "cell_type": "markdown",
   "metadata": {},
   "source": [
    "Чтобы найти *p-value* для *t-статистики*, применяйте одну из функций:\n",
    "\n",
    "- `t.cdf()`, если в альтернативной гипотезе стоит знак `<`; эта функция находит площадь под «левым хвостом» на графике плотности распределения Стьюдента — площадь под кривой слева от заданной точки;\n",
    "- `1 - t.cdf()`, если в альтернативной гипотезе стоит знак `>`; эта функция находит площадь под «правым хвостом» на графике плотности распределения Стьюдента — площадь под кривой справа от заданной точки. Вместо этой функции можно использовать метод `t.sf() = 1 - t.cdf()`.\n",
    "- `(1 - t.cdf()) * 2`, если в альтернативной гипотезе стоит знак `≠`; эта функция считает площадь под правым хвостом. Первый аргумент следует взять по модулю `2*(1 -t.cdf(abs(x), df)`.\n",
    "\n",
    "Функция `scipy.stats.t.cdf()` имеет два обязательных позиционных аргумента: `x` и `df`. Количество степеней свободы df — находим как $k = (n-1)$."
   ]
  },
  {
   "cell_type": "markdown",
   "metadata": {},
   "source": [
    "## Задача 1. Условия\n",
    "\n",
    "Производитель утверждает, что новая модель кондиционера для воздуха потребляет только $6.5$ кВт⋅ч электричества в день. Однако в союзе потребителей убеждены, что истинное среднее количество потребляемой энергии выше этого значения.\n",
    "\n",
    "Союз проводит собственное исследование на основании случайной выборки в $25$ кондиционеров и находит, что выборочное среднее значение равно $7$ кВт⋅ч. Известно, что количество потребляемой кондиционером энергии распределено нормально и его истинное стандартное отклонение равно $1.4$ кВт⋅ч.\n"
   ]
  },
  {
   "cell_type": "markdown",
   "metadata": {},
   "source": [
    "### Задание 8.2\n",
    "\n",
    "Введите значение *p-value*"
   ]
  },
  {
   "cell_type": "code",
   "execution_count": 70,
   "metadata": {},
   "outputs": [
    {
     "name": "stdout",
     "output_type": "stream",
     "text": [
      "0.037\n"
     ]
    }
   ],
   "source": [
    "n = 25\n",
    "sigma = 1.4\n",
    "mu = 7\n",
    "mu0 = 6.5\n",
    "\n",
    "z = (mu - mu0) / (sigma / np.sqrt(n))\n",
    "\n",
    "p_value = 1 - norm.cdf(z)\n",
    "print(f'{p_value:.3f}')"
   ]
  },
  {
   "cell_type": "markdown",
   "metadata": {},
   "source": [
    "### Задание 8.3\n",
    "\n",
    "Можно ли опровергнуть заявление производителя на уровне значимости 5%? А на уровне значимости 1%?"
   ]
  },
  {
   "cell_type": "code",
   "execution_count": 69,
   "metadata": {},
   "outputs": [
    {
     "name": "stdout",
     "output_type": "stream",
     "text": [
      "Можно опровергнуть на уровне значимости 5 %, но не на уровне значимости 1 % верно\n"
     ]
    }
   ],
   "source": [
    "answer = {\n",
    "    (True, False): 'Можно опровергнуть на уровне значимости 5 %, но не на уровне значимости 1 % верно',\n",
    "    (False, True): 'Можно опровергнуть на уровне значимости 1 %, но не на уровне значимости 5 %',\n",
    "    (True, True): 'В обоих случаях тест позволяет опровергнуть заявление производителя',\n",
    "    (False, False): 'В обоих случаях у нас недостаточно оснований, чтобы опровергнуть заявление производителя',\n",
    "}\n",
    "\n",
    "print(answer[(p_value < 0.05, p_value < 0.01)])"
   ]
  },
  {
   "cell_type": "markdown",
   "metadata": {},
   "source": [
    "## Задача 2. Условия\n",
    "\n",
    "Региональные власти утверждают, что средний годовой доход домохозяйства составляет 12000 USD. Экономист, подозревая, что истинный средний доход может быть меньше, находит на случайной выборке из 135 домохозяйств этого региона, что средний доход равен 11500 USD, а стандартное отклонение равно 5110 USD."
   ]
  },
  {
   "cell_type": "code",
   "execution_count": 72,
   "metadata": {},
   "outputs": [],
   "source": [
    "n = 135\n",
    "mu = 11500\n",
    "mu0 = 12000\n",
    "sigma = 5110"
   ]
  },
  {
   "cell_type": "markdown",
   "metadata": {},
   "source": [
    "### Задание 8.4\n",
    "\n",
    "Укажите значение тестовой статистики, которую следует использовать в данном случае"
   ]
  },
  {
   "cell_type": "code",
   "execution_count": 77,
   "metadata": {},
   "outputs": [
    {
     "name": "stdout",
     "output_type": "stream",
     "text": [
      "-1.137\n"
     ]
    }
   ],
   "source": [
    "z = (mu - mu0) / (sigma / np.sqrt(n))\n",
    "print(f'{z:.3f}')"
   ]
  },
  {
   "cell_type": "markdown",
   "metadata": {},
   "source": [
    "### Задание 8.5\n",
    "\n",
    "Введите значение *p-value*"
   ]
  },
  {
   "cell_type": "code",
   "execution_count": 91,
   "metadata": {},
   "outputs": [
    {
     "name": "stdout",
     "output_type": "stream",
     "text": [
      "0.129\n"
     ]
    }
   ],
   "source": [
    "k = n - 1\n",
    "p_value = t.cdf(z, k)\n",
    "print(f'{p_value:.3f}')"
   ]
  },
  {
   "cell_type": "markdown",
   "metadata": {},
   "source": [
    "У нас недостаточно статистических оснований, чтобы отвергнуть утверждение о среднем доходе в 12000USD"
   ]
  },
  {
   "cell_type": "markdown",
   "metadata": {},
   "source": [
    "## Задача 3. Условия\n",
    "\n",
    "Сотрудники компании, специализирующейся на продаже франшиз, заявляют, что процент возврата на инвестиции в проданные ими франшизы уже в первый год составляет $10$ (все дальнейшие значения приведены в процентах, их можно игнорировать как единицы измерения). Была взята выборка из $10$ различных сделок данной компании и рассчитан процент возврата на инвестиции в первый год в каждой из них. Значения приведены ниже:"
   ]
  },
  {
   "cell_type": "code",
   "execution_count": 92,
   "metadata": {},
   "outputs": [
    {
     "data": {
      "text/plain": [
       "array([ 6.1,  9.2, 11.5,  8.6, 12.1,  3.9,  8.4, 10.1,  9.4,  8.9])"
      ]
     },
     "execution_count": 92,
     "metadata": {},
     "output_type": "execute_result"
    }
   ],
   "source": [
    "x = np.array([6.1, 9.2, 11.5, 8.6, 12.1, 3.9, 8.4, 10.1, 9.4, 8.9])\n",
    "x"
   ]
  },
  {
   "cell_type": "markdown",
   "metadata": {},
   "source": [
    "Вы хотите проверить достоверность заявления, сделанного компанией, подозревая, что на самом деле средний процент возврата на инвестиции в первый год ниже $10$. Чтобы протестировать соответствующую гипотезу, сначала рассчитайте в Python значение среднего и стандартного отклонения."
   ]
  },
  {
   "cell_type": "code",
   "execution_count": 93,
   "metadata": {},
   "outputs": [],
   "source": [
    "n = x.shape[0]\n",
    "mu = x.mean()\n",
    "sigma = x.std()"
   ]
  },
  {
   "cell_type": "markdown",
   "metadata": {},
   "source": [
    "# Задание 8.7\n",
    "\n",
    "Какую тестовую статистику следует использовать в данном случае?"
   ]
  },
  {
   "cell_type": "code",
   "execution_count": 94,
   "metadata": {},
   "outputs": [
    {
     "name": "stdout",
     "output_type": "stream",
     "text": [
      "t-статистику\n"
     ]
    }
   ],
   "source": [
    "print('t-статистику')"
   ]
  },
  {
   "cell_type": "code",
   "execution_count": 95,
   "metadata": {},
   "outputs": [],
   "source": [
    "z = (mu - 10) / (sigma / np.sqrt(n))"
   ]
  },
  {
   "cell_type": "code",
   "execution_count": 98,
   "metadata": {},
   "outputs": [
    {
     "name": "stdout",
     "output_type": "stream",
     "text": [
      "p_value=0.068\n"
     ]
    }
   ],
   "source": [
    "k = n - 1\n",
    "p_value = t.cdf(z, k)\n",
    "print(f'p_value={p_value:.3f}')"
   ]
  },
  {
   "cell_type": "code",
   "execution_count": 99,
   "metadata": {},
   "outputs": [
    {
     "data": {
      "text/plain": [
       "True"
      ]
     },
     "execution_count": 99,
     "metadata": {},
     "output_type": "execute_result"
    }
   ],
   "source": [
    "a = 0.05\n",
    "p_value > a"
   ]
  },
  {
   "cell_type": "code",
   "execution_count": 100,
   "metadata": {},
   "outputs": [
    {
     "name": "stdout",
     "output_type": "stream",
     "text": [
      "p-value>0.05, поэтому мы не можем опровергнуть заявление компании\n"
     ]
    }
   ],
   "source": [
    "print('p-value>0.05, поэтому мы не можем опровергнуть заявление компании')"
   ]
  },
  {
   "cell_type": "markdown",
   "metadata": {},
   "source": [
    "## Задача 1. Условия\n",
    "\n",
    "Представитель профсоюза утверждает, что 75% сотрудников готовы присоединиться к забастовке, если их требования не будут удовлетворены. Сотрудник компании, ведущий переговоры с профсоюзом, считает, что эта пропорция сильно преувеличена. Он решает проверить утверждение представителя профсоюза, используя уровень значимости 5%. Таким образом, ему надо протестировать следующий набор гипотез:\n",
    "\n",
    "$ H_{0}: p = 0.75, H_{A}:p < 0.75 $\n",
    "\n",
    "В выборке из $125$ сотрудников $87$ ответили, что будут готовы поддержать забастовку в случае неудовлетворения требования профсоюза."
   ]
  },
  {
   "cell_type": "code",
   "execution_count": 116,
   "metadata": {},
   "outputs": [
    {
     "name": "stdout",
     "output_type": "stream",
     "text": [
      "z_st=-1.394\n"
     ]
    }
   ],
   "source": [
    "p0 = 0.75\n",
    "n = 125\n",
    "p = 87 / n\n",
    "z = (p - p0) / np.sqrt(p0*(1-p0) / n)\n",
    "print(f'z_st={z:.3f}')"
   ]
  },
  {
   "cell_type": "code",
   "execution_count": 115,
   "metadata": {},
   "outputs": [
    {
     "name": "stdout",
     "output_type": "stream",
     "text": [
      "p_value=0.082\n"
     ]
    }
   ],
   "source": [
    "p_value = norm.cdf(z)\n",
    "print(f'p_value={p_value:.3f}')"
   ]
  },
  {
   "cell_type": "code",
   "execution_count": 117,
   "metadata": {},
   "outputs": [
    {
     "data": {
      "text/plain": [
       "False"
      ]
     },
     "execution_count": 117,
     "metadata": {},
     "output_type": "execute_result"
    }
   ],
   "source": [
    "a = 0.05\n",
    "p_value < a"
   ]
  },
  {
   "cell_type": "markdown",
   "metadata": {},
   "source": [
    "### Задание 10.3\n",
    "\n",
    "К какому выводу придет сотрудник компании?"
   ]
  },
  {
   "cell_type": "code",
   "execution_count": 119,
   "metadata": {},
   "outputs": [
    {
     "name": "stdout",
     "output_type": "stream",
     "text": [
      "Возможно, представитель профсоюза действительно прав и пропорция сотрудников, готовых присоединиться к забастовке равна 75% верно\n"
     ]
    }
   ],
   "source": [
    "print('Возможно, представитель профсоюза действительно прав и пропорция сотрудников, готовых присоединиться к забастовке равна 75% верно')"
   ]
  }
 ],
 "metadata": {
  "kernelspec": {
   "display_name": "Python 3",
   "language": "python",
   "name": "python3"
  },
  "language_info": {
   "codemirror_mode": {
    "name": "ipython",
    "version": 3
   },
   "file_extension": ".py",
   "mimetype": "text/x-python",
   "name": "python",
   "nbconvert_exporter": "python",
   "pygments_lexer": "ipython3",
   "version": "3.8.2"
  }
 },
 "nbformat": 4,
 "nbformat_minor": 4
}
