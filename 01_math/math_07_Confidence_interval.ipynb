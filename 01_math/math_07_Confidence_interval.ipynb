{
 "cells": [
  {
   "cell_type": "markdown",
   "metadata": {},
   "source": [
    "# STAT&BASIC-2. Доверительные интервалы"
   ]
  },
  {
   "cell_type": "markdown",
   "metadata": {},
   "source": [
    "Для случая с известным значением σ предел погрешности и его интервалы \n",
    "\n",
    "$ z(\\frac{\\alpha }{2})\\times\\frac{\\sigma }{\\sqrt{n}} $\n",
    "\n",
    "можно найти, используя функцию `confidence_interval_norm()`"
   ]
  },
  {
   "cell_type": "code",
   "execution_count": 3,
   "metadata": {},
   "outputs": [],
   "source": [
    "from scipy.stats import norm\n",
    "import math\n",
    "\n",
    "def confidence_interval_norm(alpha, sigma, n, mean):\n",
    "    value = -norm.ppf(alpha / 2) * sigma / math.sqrt(n)\n",
    "    return mean - value, mean + value"
   ]
  },
  {
   "cell_type": "markdown",
   "metadata": {},
   "source": [
    "Для случая с неизвестным $\\sigma$ предел погрешности\n",
    "\n",
    "$ t(\\frac{\\alpha }{2})(k)\\times\\frac{s }{\\sqrt{n}} $\n",
    "\n",
    "находится через `confidence_interval_t()`"
   ]
  },
  {
   "cell_type": "code",
   "execution_count": 36,
   "metadata": {},
   "outputs": [],
   "source": [
    "from scipy.stats import t\n",
    "import math\n",
    "\n",
    "def confidence_interval_t(alpha, s, n, mean):\n",
    "    value = t.ppf(alpha / 2, n - 1) * s / math.sqrt(n)\n",
    "    return mean - value, mean + value"
   ]
  },
  {
   "cell_type": "markdown",
   "metadata": {},
   "source": [
    "В обоих случаях:\n",
    "\n",
    "- первый аргумент функции — уровень значимости $\\alpha$;\n",
    "- второй — выборочное отклонение $s$ или $\\sigma$;\n",
    "- третий — размер выборки $n$;\n",
    "- четвертый — среднее значение выборки."
   ]
  },
  {
   "cell_type": "markdown",
   "metadata": {},
   "source": [
    "Выборочное отклонение $s$ считается по формуле\n",
    "\n",
    "$ \\sqrt{ \\frac{1}{n-1} \\sum_{i=1}^{n} (x_i - \\bar{x})^2 } $\n",
    "\n",
    "где $ \\bar{x} $ обозначает **выборочное среднее**, $n$ - размер выборки"
   ]
  },
  {
   "cell_type": "markdown",
   "metadata": {},
   "source": [
    "## Задача №1\n",
    "\n",
    "Управляющий супермаркета хочет оценить, сколько денег покупатели тратят за один поход в супермаркет в среднем. На основании ранее собранных данных известно, что расходы одного покупателя распределены приблизительно нормально. Управляющий взял случайную выборку из 15 покупателей и выяснил, что их средние расходы равны $2000$ рублей, а выборочное стандартное отклонение равно $400$ рублей.\n",
    "Давайте поможем управляющему, решив несколько задачек с помощью *Python*.\n",
    "Для решения этих задач мы будем использовать модуль *stats* библиотеки *scipy*."
   ]
  },
  {
   "cell_type": "code",
   "execution_count": 17,
   "metadata": {},
   "outputs": [
    {
     "data": {
      "text/plain": [
       "(2181.907328622996, 1818.092671377004, -181.9073286229958)"
      ]
     },
     "execution_count": 17,
     "metadata": {},
     "output_type": "execute_result"
    }
   ],
   "source": [
    "confidence_interval_t(0.1, 400, 15, 2000) # На 90% уровне доверия"
   ]
  },
  {
   "cell_type": "code",
   "execution_count": 14,
   "metadata": {},
   "outputs": [
    {
     "data": {
      "text/plain": [
       "(2221.5126166258565, 1778.4873833741433)"
      ]
     },
     "execution_count": 14,
     "metadata": {},
     "output_type": "execute_result"
    }
   ],
   "source": [
    "confidence_interval_t(0.05, 400, 15, 2000) # На 95% уровне доверия"
   ]
  },
  {
   "cell_type": "code",
   "execution_count": 15,
   "metadata": {},
   "outputs": [
    {
     "data": {
      "text/plain": [
       "(2307.446995559917, 1692.553004440083)"
      ]
     },
     "execution_count": 15,
     "metadata": {},
     "output_type": "execute_result"
    }
   ],
   "source": [
    "confidence_interval_t(0.01, 400, 15, 2000) # На 99% уровне доверия"
   ]
  },
  {
   "cell_type": "markdown",
   "metadata": {},
   "source": [
    "## Задача №2\n",
    "\n",
    "Чиновника интересует сумма подоходного налога, выплачиваемого домохозяйствами за год. На случайной выборке из 250 домохозяйств был посчитан средний размер выплаченного налога, и он составил 3540 USD. Также на основании ранее предоставленных данных из налоговой инспекции известно истинное стандартное отклонение величины подоходного налога, равное 1150 USD.\n",
    "\n",
    "Необходимо найти 99% доверительный интервал для истинного среднего значения налоговых выплат за год."
   ]
  },
  {
   "cell_type": "code",
   "execution_count": 18,
   "metadata": {},
   "outputs": [
    {
     "data": {
      "text/plain": [
       "(3352.6537883505453, 3727.3462116494547)"
      ]
     },
     "execution_count": 18,
     "metadata": {},
     "output_type": "execute_result"
    }
   ],
   "source": [
    "confidence_interval_norm(0.01, 1150, 250, 3540) # На 99% уровне доверия"
   ]
  },
  {
   "cell_type": "markdown",
   "metadata": {},
   "source": [
    "## Задача №3\n",
    "\n",
    "Ниже представлена случайная выборка значений величины $X$, распределенной нормально.\n",
    "\n",
    "|   0 |   1 |   2 |   3 |    4 |   5 |   6 |   7 |   8 |   9 |\n",
    "|----:|----:|----:|----:|-----:|----:|----:|----:|----:|----:|\n",
    "| 1.2 | 0.2 | 1.6 | 1.9 | -0.4 | 0.5 | 1.4 | 1.7 | 2.5 | 1.3 |\n",
    "\n",
    "Необходимо построить доверительный интервал для истинного среднего значения $\\mu$."
   ]
  },
  {
   "cell_type": "code",
   "execution_count": 24,
   "metadata": {},
   "outputs": [],
   "source": [
    "import numpy as np"
   ]
  },
  {
   "cell_type": "code",
   "execution_count": 27,
   "metadata": {},
   "outputs": [],
   "source": [
    "x = np.array([1.2, 0.2, 1.6, 1.9, -0.4, 0.5, 1.4, 1.7, 2.5, 1.3])"
   ]
  },
  {
   "cell_type": "code",
   "execution_count": 40,
   "metadata": {},
   "outputs": [],
   "source": [
    "def print_range(r):\n",
    "    a, b = r\n",
    "    print(f'({a:.2f}, {b:.2f})')"
   ]
  },
  {
   "cell_type": "markdown",
   "metadata": {},
   "source": [
    "Вычислите необходимые выборочные статистики и найдите 95%-ный доверительный интервал для $\\mu$."
   ]
  },
  {
   "cell_type": "code",
   "execution_count": 55,
   "metadata": {},
   "outputs": [
    {
     "name": "stdout",
     "output_type": "stream",
     "text": [
      "(1.81, 0.57)\n"
     ]
    }
   ],
   "source": [
    "mu = x.mean()\n",
    "sigma = x.std()\n",
    "n = x.shape[0]\n",
    "\n",
    "# s = np.sqrt(((x - x.mean())**2).sum() / (n - 1) )\n",
    "s = x.std(ddof=1)\n",
    "\n",
    "answer = confidence_interval_t(0.05, s, n, mu)\n",
    "print_range(answer)"
   ]
  },
  {
   "cell_type": "markdown",
   "metadata": {},
   "source": [
    "## Доверительный интервал для пропорции $p$?\n",
    "\n",
    "Помним, что согласно центральной предельной теореме при большой случайной выборке выборочная пропорция распределена приблизительно нормально. Также мы знаем, что если из нормальной величины (в данном случае $p$) вычесть ее среднее и поделить на стандартное отклонение (в данном случае это корень из $p(1-p)$, поделенного на $n$), мы получаем стандартную нормальную величину $Z$.\n",
    "\n",
    "Исходя из этого, можем получить формулу доверительного интервала для выборочной пропорции:\n",
    "\n",
    "$ \\hat{p} \\approx N\\left ( p, \\sqrt{\\frac{p(1-p)}{n}} \\right )$\n",
    "\n",
    "$ \\frac{\\hat{p} - p}{\\sqrt{\\frac{p(1-p)}{n}}} \\approx Z \\sim N(0,1) $\n",
    "\n",
    "$ p = \\hat{p} \\pm z_{\\frac{\\alpha }{2}} \\sqrt{\\frac{\\hat{p}(1-\\hat{p})}{n}} $"
   ]
  },
  {
   "cell_type": "markdown",
   "metadata": {},
   "source": [
    "## Задача №1\n",
    "\n",
    "Чтобы оценить удовлетворенность клиентов сети отелей, менеджер взял случайную выборку из $189$ комментариев, оставленных посетителями на онлайн-платформе по бронированию, и провел анализ их содержания. Выяснилось, что $132$ комментария были положительными, остальные — негативными.\n",
    "Давайте поможем менеджеру ответить на несколько вопросов!"
   ]
  },
  {
   "cell_type": "markdown",
   "metadata": {},
   "source": [
    "Чему равна выборочная пропорция положительных комментариев?"
   ]
  },
  {
   "cell_type": "code",
   "execution_count": 81,
   "metadata": {},
   "outputs": [
    {
     "name": "stdout",
     "output_type": "stream",
     "text": [
      "p=0.698\n"
     ]
    }
   ],
   "source": [
    "p = 132 / 189\n",
    "\n",
    "print(f'p={p:.3f}')"
   ]
  },
  {
   "cell_type": "markdown",
   "metadata": {},
   "source": [
    "Найдите 90%-ный доверительный интервал для истинной пропорции положительных комментариев."
   ]
  },
  {
   "cell_type": "code",
   "execution_count": 82,
   "metadata": {},
   "outputs": [
    {
     "data": {
      "text/plain": [
       "(0.6435017501091355, 0.7533236467162613)"
      ]
     },
     "execution_count": 82,
     "metadata": {},
     "output_type": "execute_result"
    }
   ],
   "source": [
    "n = 189\n",
    "z = -norm.ppf((1 - 0.90)/2)\n",
    "\n",
    "v = z * np.sqrt(p * (1-p) / n)\n",
    "p_true = (p-v, p+v)\n",
    "\n",
    "p_true"
   ]
  },
  {
   "cell_type": "markdown",
   "metadata": {},
   "source": [
    "## Находим *z*-критическое и *t*-критическое\n",
    "\n",
    "Найти значение любого $z$-критического можно самостоятельно в *Python*, используя функцию `norm.ppf()`."
   ]
  },
  {
   "cell_type": "code",
   "execution_count": 56,
   "metadata": {},
   "outputs": [],
   "source": [
    "from scipy.stats import norm "
   ]
  },
  {
   "cell_type": "markdown",
   "metadata": {},
   "source": [
    "Самый простой способ — найти и получить ответ как = `-norm.ppf(α/2)`.\n",
    "\n",
    "Например, если уровень доверия $1 - \\alpha$ равен 97%, значит $\\frac{\\alpha}{2} = 0.015$. Тогда мы найдем $z_\\frac{\\alpha}{2}$ как `-norm.ppf(0.015)`, то есть $2.17$."
   ]
  },
  {
   "cell_type": "code",
   "execution_count": 57,
   "metadata": {},
   "outputs": [
    {
     "name": "stdout",
     "output_type": "stream",
     "text": [
      "2.1700903775845606\n"
     ]
    }
   ],
   "source": [
    "alpha = 0.03\n",
    "value = -norm.ppf(alpha/2)\n",
    "print(value) # 2.17"
   ]
  },
  {
   "cell_type": "markdown",
   "metadata": {},
   "source": [
    "Функция `norm.ppf(x)` возвращает значение $z_{крит}$, левее (ниже) которого лежит доля $x$ левого хвоста стандартного нормального распределения. Выражение `norm.ppf(α/2)` вернёт $-z_\\frac{\\alpha}{2}$, то есть значение $z_{крит}$, ниже которого $\\frac{\\alpha}{2}$ всех значений стандартного нормального распределения. Это число отрицательное, мы берем его со знаком минус, чтобы получить $z_\\frac{\\alpha}{2}$."
   ]
  },
  {
   "cell_type": "code",
   "execution_count": 59,
   "metadata": {},
   "outputs": [],
   "source": [
    "from scipy.stats import t"
   ]
  },
  {
   "cell_type": "markdown",
   "metadata": {},
   "source": [
    "Также можно находить значения $t$-критического $t_\\frac{\\alpha}{2}(k)$ при помощи функции `t.ppf(p, k)`. Первый аргумент — уровень доверия $p=1-\\alpha$, а второй — количество степеней свободы $k$, рассчитываемое как $n-1$.\n",
    "\n",
    "Например, если нужно построить 95%-ный доверительный интервал для среднего с использованием выборки размером в $100$ наблюдений, когда $\\sigma$ неизвестна, то $t_\\frac{\\alpha}{2}(k)$ можно найти через:"
   ]
  },
  {
   "cell_type": "code",
   "execution_count": 60,
   "metadata": {},
   "outputs": [
    {
     "name": "stdout",
     "output_type": "stream",
     "text": [
      "1.9842169515086827\n"
     ]
    }
   ],
   "source": [
    "# 0.95 - доверительный интервал, 100-1 число степеней свободы\n",
    "# для двустороннего t-теста\n",
    "value = -t.ppf((1 - 0.95)/2, 100-1)\n",
    "print(value) # 1.98"
   ]
  },
  {
   "cell_type": "markdown",
   "metadata": {},
   "source": [
    "## Задание 1\n",
    "\n",
    "Найдите $z$-критическое для интервала с уровнем доверия 93%."
   ]
  },
  {
   "cell_type": "code",
   "execution_count": 64,
   "metadata": {},
   "outputs": [
    {
     "name": "stdout",
     "output_type": "stream",
     "text": [
      "1.81\n"
     ]
    }
   ],
   "source": [
    "p = 1 - 0.93\n",
    "value = -norm.ppf(p/2)\n",
    "\n",
    "print(f'{value:.2f}')"
   ]
  },
  {
   "cell_type": "markdown",
   "metadata": {},
   "source": [
    "## Задание 2\n",
    "\n",
    "Найдите критические значения для следующих доверительных интервалов:"
   ]
  },
  {
   "cell_type": "markdown",
   "metadata": {},
   "source": [
    "1. Доверительный интервал для среднего $\\mu$ нормально распределённой величины $X$, на выборке размером $n=10$, если $\\sigma$ известна, на 99% уровне доверия"
   ]
  },
  {
   "cell_type": "code",
   "execution_count": 76,
   "metadata": {},
   "outputs": [
    {
     "name": "stdout",
     "output_type": "stream",
     "text": [
      "2.58\n"
     ]
    }
   ],
   "source": [
    "sigma = np.random.randint(0, 100)\n",
    "x = np.random.normal(0, sigma, size=10)\n",
    "\n",
    "p = 1 - 0.99\n",
    "value = -norm.ppf(p/2)\n",
    "print(f'{value:.2f}')"
   ]
  },
  {
   "cell_type": "markdown",
   "metadata": {},
   "source": [
    "2. Доверительный интервал для среднего $\\mu$ нормально распределённой величины $X$, на выборке размером $n=10$, если $\\sigma$ неизвестна, на 99% уровне доверия"
   ]
  },
  {
   "cell_type": "code",
   "execution_count": 77,
   "metadata": {},
   "outputs": [
    {
     "name": "stdout",
     "output_type": "stream",
     "text": [
      "3.25\n"
     ]
    }
   ],
   "source": [
    "n = 10\n",
    "value = t.ppf((1 + 0.99)/2, n-1)\n",
    "print(f'{value:.2f}')"
   ]
  },
  {
   "cell_type": "markdown",
   "metadata": {},
   "source": [
    "3. Доверительный интервал для среднего $mu$, на выборке размером $n=100$, $\\sigma$ неизвестна, на 95% уровне доверия"
   ]
  },
  {
   "cell_type": "code",
   "execution_count": 78,
   "metadata": {},
   "outputs": [
    {
     "name": "stdout",
     "output_type": "stream",
     "text": [
      "1.98\n"
     ]
    }
   ],
   "source": [
    "n = 100\n",
    "value = t.ppf((1 + 0.95)/2, n-1)\n",
    "print(f'{value:.2f}')"
   ]
  },
  {
   "cell_type": "markdown",
   "metadata": {},
   "source": [
    "4. Доверительный интервал для пропорции $p$, на выборке размером $n=100$, на 95% уровне доверия "
   ]
  },
  {
   "cell_type": "code",
   "execution_count": 88,
   "metadata": {},
   "outputs": [
    {
     "name": "stdout",
     "output_type": "stream",
     "text": [
      "1.96\n"
     ]
    }
   ],
   "source": [
    "n = 100\n",
    "value = -norm.ppf((1 - 0.95)/2)\n",
    "print(f'{value:.2f}')"
   ]
  }
 ],
 "metadata": {
  "kernelspec": {
   "display_name": "Python 3",
   "language": "python",
   "name": "python3"
  },
  "language_info": {
   "codemirror_mode": {
    "name": "ipython",
    "version": 3
   },
   "file_extension": ".py",
   "mimetype": "text/x-python",
   "name": "python",
   "nbconvert_exporter": "python",
   "pygments_lexer": "ipython3",
   "version": "3.8.2"
  }
 },
 "nbformat": 4,
 "nbformat_minor": 4
}
