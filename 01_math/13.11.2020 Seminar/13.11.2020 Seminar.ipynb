{
 "cells": [
  {
   "cell_type": "code",
   "execution_count": 63,
   "metadata": {},
   "outputs": [],
   "source": [
    "import numpy as np\n",
    "import pandas as pd"
   ]
  },
  {
   "cell_type": "markdown",
   "metadata": {},
   "source": [
    "# Теория вероятностей"
   ]
  },
  {
   "cell_type": "markdown",
   "metadata": {},
   "source": [
    "## 1. Базовые понятия"
   ]
  },
  {
   "cell_type": "markdown",
   "metadata": {},
   "source": [
    "**Теория вероятностей** – математическая наука, позволяющая по вероятности одних случайных событий находить вероятности других случайных событий, связанных каким–либо образом между собой.  \n",
    "Любой эксперимент имеет результат. В ТВ результат эксперимента – это **исход**."
   ]
  },
  {
   "cell_type": "markdown",
   "metadata": {},
   "source": [
    "Исход или группа исходов, удовлетворяющих определенным требованием, называется **событием**."
   ]
  },
  {
   "cell_type": "markdown",
   "metadata": {},
   "source": [
    "Например, если считать при броске кубика событием выпадение 1, а выпало 3, то событие не произошло."
   ]
  },
  {
   "cell_type": "code",
   "execution_count": 90,
   "metadata": {},
   "outputs": [
    {
     "data": {
      "text/plain": [
       "1"
      ]
     },
     "execution_count": 90,
     "metadata": {},
     "output_type": "execute_result"
    }
   ],
   "source": [
    "np.random.randint(1, 7)"
   ]
  },
  {
   "cell_type": "markdown",
   "metadata": {},
   "source": [
    "**Достоверное событие** – это такое событие, которое всегда происходит в рассматриваемом эксперименте.\n",
    "\n",
    "**Невозможное событие** – это такое событие, которое никогда не может наступить в рассматриваемом эксперименте.\n",
    "\n",
    "Событие, которое при воспроизведении опыта может наступить, а может и не наступить, называется **случайным событием**."
   ]
  },
  {
   "cell_type": "code",
   "execution_count": 99,
   "metadata": {},
   "outputs": [
    {
     "data": {
      "text/plain": [
       "3"
      ]
     },
     "execution_count": 99,
     "metadata": {},
     "output_type": "execute_result"
    }
   ],
   "source": [
    "# Какое событие здесь будет невозможно, если моделируем бросок кубика?\n",
    "np.random.randint(1, 6)"
   ]
  },
  {
   "cell_type": "markdown",
   "metadata": {},
   "source": [
    "## Вероятностное пространство"
   ]
  },
  {
   "cell_type": "markdown",
   "metadata": {},
   "source": [
    "Вероятностное пространство – $(\\Omega, \\Sigma, P)$\n",
    "\n",
    "* $\\Omega$ – произвольное непустое множество, элементы которого называются исходами  \n",
    "* $\\sigma$ - сигма-алгебра подмножеств $\\Omega$ , называемых случайными событиями:\n",
    "  * $\\sigma$ содержит $\\Omega$\n",
    "  * Если $E \\in \\sigma$, то его дополнение $X \\backslash E \\in \\sigma$\n",
    "  * Объединение или пересечение подмножеств из $\\Sigma$ принадлежит $\\sigma$\n",
    "* $P$ – вероятность, такая, что $P(\\Omega) = 1$"
   ]
  },
  {
   "cell_type": "markdown",
   "metadata": {},
   "source": [
    "**Вероятность** – степень возможности наступления события."
   ]
  },
  {
   "cell_type": "code",
   "execution_count": 104,
   "metadata": {},
   "outputs": [
    {
     "data": {
      "text/plain": [
       "0.5000003"
      ]
     },
     "execution_count": 104,
     "metadata": {},
     "output_type": "execute_result"
    }
   ],
   "source": [
    "np.random.randint(0, 2, 100000000).mean()"
   ]
  },
  {
   "cell_type": "code",
   "execution_count": 147,
   "metadata": {},
   "outputs": [
    {
     "data": {
      "text/plain": [
       "0.167004"
      ]
     },
     "execution_count": 147,
     "metadata": {},
     "output_type": "execute_result"
    }
   ],
   "source": [
    "number_of_rolls = 1000000\n",
    "dice_rolls = np.random.randint(1, 7, number_of_rolls)\n",
    "len(np.where(dice_rolls == 1)[0]) / number_of_rolls"
   ]
  },
  {
   "cell_type": "code",
   "execution_count": 106,
   "metadata": {},
   "outputs": [
    {
     "data": {
      "text/plain": [
       "0.16666666666666666"
      ]
     },
     "execution_count": 106,
     "metadata": {},
     "output_type": "execute_result"
    }
   ],
   "source": [
    "1/6"
   ]
  },
  {
   "cell_type": "markdown",
   "metadata": {},
   "source": [
    "### Дополнение, Объединение, Пересечение"
   ]
  },
  {
   "cell_type": "markdown",
   "metadata": {},
   "source": [
    "Дополнение – есть событие $A$ с вероятностью $P(A)$ и событие $B = \\Omega \\backslash A$, тогда $P(B) = 1 - P(A)$"
   ]
  },
  {
   "cell_type": "markdown",
   "metadata": {},
   "source": [
    "Объединение – $A \\cup B$. Произошло либо $A$, либо $B$, либо $A$ и $B$ одновременно"
   ]
  },
  {
   "cell_type": "markdown",
   "metadata": {},
   "source": [
    "Пересечение – $A \\cap B$. Произошли одновременно $A$ и $B$"
   ]
  },
  {
   "cell_type": "markdown",
   "metadata": {},
   "source": [
    "## 2. Условная вероятность"
   ]
  },
  {
   "cell_type": "markdown",
   "metadata": {},
   "source": [
    "$P(A|B)$ – вероятность события $A$ при условии, что $B$ произошло"
   ]
  },
  {
   "cell_type": "markdown",
   "metadata": {},
   "source": [
    "$$P(A|B) = \\frac{P(A \\cap B)}{P(B)}$$"
   ]
  },
  {
   "cell_type": "code",
   "execution_count": 122,
   "metadata": {},
   "outputs": [],
   "source": [
    "data = pd.read_csv(\"./data.csv\")"
   ]
  },
  {
   "cell_type": "code",
   "execution_count": 123,
   "metadata": {},
   "outputs": [
    {
     "data": {
      "text/html": [
       "<div>\n",
       "<style scoped>\n",
       "    .dataframe tbody tr th:only-of-type {\n",
       "        vertical-align: middle;\n",
       "    }\n",
       "\n",
       "    .dataframe tbody tr th {\n",
       "        vertical-align: top;\n",
       "    }\n",
       "\n",
       "    .dataframe thead th {\n",
       "        text-align: right;\n",
       "    }\n",
       "</style>\n",
       "<table border=\"1\" class=\"dataframe\">\n",
       "  <thead>\n",
       "    <tr style=\"text-align: right;\">\n",
       "      <th></th>\n",
       "      <th>company</th>\n",
       "      <th>model</th>\n",
       "      <th>rating</th>\n",
       "      <th>type</th>\n",
       "    </tr>\n",
       "  </thead>\n",
       "  <tbody>\n",
       "    <tr>\n",
       "      <th>0</th>\n",
       "      <td>ford</td>\n",
       "      <td>mustang</td>\n",
       "      <td>A</td>\n",
       "      <td>coupe</td>\n",
       "    </tr>\n",
       "    <tr>\n",
       "      <th>1</th>\n",
       "      <td>chevy</td>\n",
       "      <td>camaro</td>\n",
       "      <td>B</td>\n",
       "      <td>coupe</td>\n",
       "    </tr>\n",
       "    <tr>\n",
       "      <th>2</th>\n",
       "      <td>ford</td>\n",
       "      <td>fiesta</td>\n",
       "      <td>C</td>\n",
       "      <td>sedan</td>\n",
       "    </tr>\n",
       "    <tr>\n",
       "      <th>3</th>\n",
       "      <td>ford</td>\n",
       "      <td>focus</td>\n",
       "      <td>A</td>\n",
       "      <td>sedan</td>\n",
       "    </tr>\n",
       "    <tr>\n",
       "      <th>4</th>\n",
       "      <td>ford</td>\n",
       "      <td>taurus</td>\n",
       "      <td>B</td>\n",
       "      <td>sedan</td>\n",
       "    </tr>\n",
       "    <tr>\n",
       "      <th>5</th>\n",
       "      <td>toyota</td>\n",
       "      <td>camry</td>\n",
       "      <td>B</td>\n",
       "      <td>sedan</td>\n",
       "    </tr>\n",
       "  </tbody>\n",
       "</table>\n",
       "</div>"
      ],
      "text/plain": [
       "  company    model rating   type\n",
       "0    ford  mustang      A  coupe\n",
       "1   chevy   camaro      B  coupe\n",
       "2    ford   fiesta      C  sedan\n",
       "3    ford    focus      A  sedan\n",
       "4    ford   taurus      B  sedan\n",
       "5  toyota    camry      B  sedan"
      ]
     },
     "execution_count": 123,
     "metadata": {},
     "output_type": "execute_result"
    }
   ],
   "source": [
    "data"
   ]
  },
  {
   "cell_type": "code",
   "execution_count": 53,
   "metadata": {},
   "outputs": [
    {
     "data": {
      "text/plain": [
       "rating\n",
       "A    0.333333\n",
       "B    0.500000\n",
       "C    0.166667\n",
       "dtype: float64"
      ]
     },
     "execution_count": 53,
     "metadata": {},
     "output_type": "execute_result"
    }
   ],
   "source": [
    "rating_probs = data.groupby('rating').size().div(len(data))\n",
    "rating_probs"
   ]
  },
  {
   "cell_type": "markdown",
   "metadata": {},
   "source": [
    "Посчитаем все условные вероятности для $P(rating|type)$"
   ]
  },
  {
   "cell_type": "code",
   "execution_count": 54,
   "metadata": {},
   "outputs": [
    {
     "data": {
      "text/plain": [
       "type   rating\n",
       "coupe  A         0.500000\n",
       "       B         0.333333\n",
       "sedan  A         0.500000\n",
       "       B         0.666667\n",
       "       C         1.000000\n",
       "dtype: float64"
      ]
     },
     "execution_count": 54,
     "metadata": {},
     "output_type": "execute_result"
    }
   ],
   "source": [
    "data.groupby(['type', 'rating']).size().div(len(data)).div(rating_probs, axis=0, level='rating')\n"
   ]
  },
  {
   "cell_type": "code",
   "execution_count": 58,
   "metadata": {},
   "outputs": [
    {
     "data": {
      "text/html": [
       "<div>\n",
       "<style scoped>\n",
       "    .dataframe tbody tr th:only-of-type {\n",
       "        vertical-align: middle;\n",
       "    }\n",
       "\n",
       "    .dataframe tbody tr th {\n",
       "        vertical-align: top;\n",
       "    }\n",
       "\n",
       "    .dataframe thead th {\n",
       "        text-align: right;\n",
       "    }\n",
       "</style>\n",
       "<table border=\"1\" class=\"dataframe\">\n",
       "  <thead>\n",
       "    <tr style=\"text-align: right;\">\n",
       "      <th>type</th>\n",
       "      <th>coupe</th>\n",
       "      <th>sedan</th>\n",
       "    </tr>\n",
       "    <tr>\n",
       "      <th>rating</th>\n",
       "      <th></th>\n",
       "      <th></th>\n",
       "    </tr>\n",
       "  </thead>\n",
       "  <tbody>\n",
       "    <tr>\n",
       "      <th>A</th>\n",
       "      <td>1</td>\n",
       "      <td>1</td>\n",
       "    </tr>\n",
       "    <tr>\n",
       "      <th>B</th>\n",
       "      <td>1</td>\n",
       "      <td>2</td>\n",
       "    </tr>\n",
       "    <tr>\n",
       "      <th>C</th>\n",
       "      <td>0</td>\n",
       "      <td>1</td>\n",
       "    </tr>\n",
       "  </tbody>\n",
       "</table>\n",
       "</div>"
      ],
      "text/plain": [
       "type    coupe  sedan\n",
       "rating              \n",
       "A           1      1\n",
       "B           1      2\n",
       "C           0      1"
      ]
     },
     "execution_count": 58,
     "metadata": {},
     "output_type": "execute_result"
    }
   ],
   "source": [
    "data['count'] = 1\n",
    "pivot = pd.pivot_table(\n",
    "    data, \n",
    "    values='count', \n",
    "    index=['rating'], \n",
    "    columns=['type'], \n",
    "    aggfunc=np.size, \n",
    "    fill_value=0\n",
    ")\n",
    "pivot"
   ]
  },
  {
   "cell_type": "markdown",
   "metadata": {},
   "source": [
    "Посчитаем по pivot table условную вероятность для $P(A|coupe)$"
   ]
  },
  {
   "cell_type": "code",
   "execution_count": 56,
   "metadata": {},
   "outputs": [
    {
     "data": {
      "text/plain": [
       "0.5"
      ]
     },
     "execution_count": 56,
     "metadata": {},
     "output_type": "execute_result"
    }
   ],
   "source": [
    "(1/(1 + 1 + 1 + 2 + 1))/(1/3)"
   ]
  },
  {
   "cell_type": "code",
   "execution_count": 61,
   "metadata": {},
   "outputs": [
    {
     "data": {
      "text/plain": [
       "0.5"
      ]
     },
     "execution_count": 61,
     "metadata": {},
     "output_type": "execute_result"
    }
   ],
   "source": [
    "(pivot.loc['A', 'coupe']/(pivot.sum().sum())) / rating_probs['A']"
   ]
  },
  {
   "cell_type": "markdown",
   "metadata": {},
   "source": [
    "## 3. Формула Байеса"
   ]
  },
  {
   "cell_type": "markdown",
   "metadata": {},
   "source": [
    "$$P(A|B) = \\frac{P(B|A) \\cdot P(A)}{P(B)}$$"
   ]
  },
  {
   "cell_type": "markdown",
   "metadata": {},
   "source": [
    "Выводится из формулы условной вероятности:"
   ]
  },
  {
   "cell_type": "markdown",
   "metadata": {},
   "source": [
    "$$P(A|B) = \\frac{P(A \\cap B)}{P(B)}$$\n",
    "$$P(B|A) = \\frac{P(B \\cap A)}{P(A)}$$\n",
    "$$P(A \\cap B) = P(B \\cap A) \\implies$$\n",
    "$$P(A \\cap B) = P(A|B) \\cdot P(B) = P(B|A) \\cdot P(A) \\implies$$\n",
    "$$P(A|B) = \\frac{P(B|A) \\cdot P(A)}{P(B)}$$"
   ]
  },
  {
   "cell_type": "markdown",
   "metadata": {},
   "source": [
    "Поговорим про лекарства:  \n",
    "Допустим, надо оценить вероятность того, что человек принимает лекарства (U – принимает, !U – не принимает)  \n",
    "Тест может вернуть положительный или отрицательный результат (+ или -)"
   ]
  },
  {
   "cell_type": "markdown",
   "metadata": {},
   "source": [
    "Допустим, наш тест имеет sensitivity 97% – из 100 человек тест будет True Positive у 97  \n",
    "Допустим, наш тест имеет specificity 95% – из 100 человек тест будет True Negative у 95  \n",
    "Также, мы знаем, что 0.5% нашего населения использует это лекарство (наш Prior)\n",
    "\n",
    "Какая вероятность, что случайно взятый человек будет использовать лекарство?"
   ]
  },
  {
   "cell_type": "markdown",
   "metadata": {},
   "source": [
    "$$P(U|+) = \\frac{P(+|U) \\cdot P(U)}{P(+)} = \\frac{P(+|U) \\cdot P(U)}{P(+|U) \\cdot P(U) + P(+|!U) \\cdot p(!U)}$$"
   ]
  },
  {
   "cell_type": "markdown",
   "metadata": {},
   "source": [
    "$P(U) = распространенность \\space (prevalence)$  \n",
    "$P(!U) = 1 - P(U)$  \n",
    "$P(+|U) = sensitivity$  \n",
    "$P(-|!U) = specificity$  \n",
    "$P(+|!U) = 1 - specificity$"
   ]
  },
  {
   "cell_type": "code",
   "execution_count": 124,
   "metadata": {},
   "outputs": [],
   "source": [
    "def drug_user(\n",
    "        sensitivity=0.97,\n",
    "        specificity=0.95,\n",
    "        prevalence=0.005):\n",
    "    \n",
    "    p_user = prevalence\n",
    "    p_non_user = 1 - prevalence\n",
    "    p_pos_user = sensitivity\n",
    "    p_neg_user = specificity\n",
    "    p_pos_non_user = 1 - specificity\n",
    "    \n",
    "    num = p_pos_user * p_user\n",
    "    den = p_pos_user * p_user + p_pos_non_user * p_non_user\n",
    "    \n",
    "    prob = num/den\n",
    "    \n",
    "    return prob"
   ]
  },
  {
   "cell_type": "code",
   "execution_count": 128,
   "metadata": {},
   "outputs": [
    {
     "data": {
      "text/plain": [
       "0.33221476510067094"
      ]
     },
     "execution_count": 128,
     "metadata": {},
     "output_type": "execute_result"
    }
   ],
   "source": [
    "drug_user(sensitivity=0.99, specificity=0.99, prevalence=0.005)"
   ]
  },
  {
   "cell_type": "markdown",
   "metadata": {},
   "source": [
    "Получается, даже при большой чувствительности и специфичности мы находим человека, использующего лекарство, при положительном тесте всего в 9% случаев"
   ]
  },
  {
   "cell_type": "markdown",
   "metadata": {},
   "source": [
    "## 4. Случайные величины"
   ]
  },
  {
   "cell_type": "markdown",
   "metadata": {},
   "source": [
    "### Матожидание и дисперсия"
   ]
  },
  {
   "cell_type": "markdown",
   "metadata": {},
   "source": [
    "Математическое ожидание $E(X)$ – среднее значение случайной величины."
   ]
  },
  {
   "cell_type": "markdown",
   "metadata": {},
   "source": [
    "Дисперсия $D(X)$ – разброс случайной величины. Стандартное отклонение – корень из дисперсии."
   ]
  },
  {
   "cell_type": "code",
   "execution_count": 129,
   "metadata": {},
   "outputs": [],
   "source": [
    "data = np.random.randint(0, 10, 5000)"
   ]
  },
  {
   "cell_type": "code",
   "execution_count": 130,
   "metadata": {},
   "outputs": [
    {
     "data": {
      "text/plain": [
       "4.543"
      ]
     },
     "execution_count": 130,
     "metadata": {},
     "output_type": "execute_result"
    }
   ],
   "source": [
    "E = data.mean()\n",
    "E"
   ]
  },
  {
   "cell_type": "code",
   "execution_count": 131,
   "metadata": {},
   "outputs": [
    {
     "data": {
      "text/plain": [
       "8.194951000000001"
      ]
     },
     "execution_count": 131,
     "metadata": {},
     "output_type": "execute_result"
    }
   ],
   "source": [
    "D = np.square(data.std())\n",
    "D"
   ]
  },
  {
   "cell_type": "markdown",
   "metadata": {},
   "source": [
    "### Функция распределения и плотность вероятности"
   ]
  },
  {
   "cell_type": "markdown",
   "metadata": {},
   "source": [
    "Функция распределения (Cumulative Distribution Function, CDF): $F(x) = P(X \\leq x)$  \n",
    "Значение функции распределения в точке $x$ равно вероятности события ${X \\leq x}$"
   ]
  },
  {
   "cell_type": "markdown",
   "metadata": {},
   "source": [
    "Функция плотности вероятности (Probability Density Function, PDF): такая $f(X)$, что \n",
    "$$P(\\xi \\in [a, b]) = \\int_a^b f(x)dx$$\n",
    "\n",
    "То есть, можем получить вероятность события, взяв интеграл по функции распределения."
   ]
  },
  {
   "cell_type": "markdown",
   "metadata": {},
   "source": [
    "Вероятность того, что переменная попала в промежуток $[a, b]$ = $F(b) - F(a)$"
   ]
  },
  {
   "cell_type": "code",
   "execution_count": 5,
   "metadata": {},
   "outputs": [
    {
     "data": {
      "image/png": "[encoded data removed]",
      "text/plain": [
       "<Figure size 432x288 with 1 Axes>"
      ]
     },
     "metadata": {
      "needs_background": "light"
     },
     "output_type": "display_data"
    }
   ],
   "source": [
    "import matplotlib.pyplot as plt\n",
    "import seaborn as sns\n",
    "import scipy\n",
    "\n",
    "x = np.random.randn(10000) \n",
    "norm_cdf = scipy.stats.norm.cdf(x) \n",
    "norm_pdf = scipy.stats.norm.pdf(x) \n",
    "\n",
    "sns.lineplot(x=x, y=norm_cdf, label='cdf')\n",
    "sns.lineplot(x=x, y=norm_pdf, label='pdf')\n",
    "plt.show()"
   ]
  },
  {
   "cell_type": "markdown",
   "metadata": {},
   "source": [
    "### Распределение среднего"
   ]
  },
  {
   "cell_type": "markdown",
   "metadata": {},
   "source": [
    "Если мы возьмем случайные примеры ($X_1 .. X_n$) из выборки с $E = \\mu$ и $D = \\sigma^2$, то распределение следующей случайной величины будет нормальным: \n",
    "$$Z = \\frac{\\bar{X} - \\mu}{\\frac{\\sigma}{\\sqrt(n)}}$$\n",
    "При $n \\rightarrow \\infty$  \n",
    "Это называется Центральная Предельная Теорема"
   ]
  },
  {
   "cell_type": "code",
   "execution_count": 143,
   "metadata": {},
   "outputs": [
    {
     "name": "stdout",
     "output_type": "stream",
     "text": [
      "Матожидание 170.03\n",
      "Стандартное отклонение 16.73\n"
     ]
    },
    {
     "data": {
      "image/png": "[encoded data removed]",
      "text/plain": [
       "<Figure size 432x288 with 1 Axes>"
      ]
     },
     "metadata": {
      "needs_background": "light"
     },
     "output_type": "display_data"
    }
   ],
   "source": [
    "def repeat_sample_draws_exponential(n, samp_size, mu):\n",
    "    means = []\n",
    "    samples = []\n",
    "    for i in range(0, n):\n",
    "        samples.append(np.random.exponential(mu, samp_size))\n",
    "        means.append(np.mean(samples[i]))\n",
    "\n",
    "    plt.clf()\n",
    "    plt.hist(means, bins=int(10), histtype='step')\n",
    "    plt.title('Распределение по {} выборкам'.format(n))\n",
    "    plt.xlabel('Среднее значение по одной выборке')\n",
    "    print('Матожидание {0:.2f}'.format(np.mean(means)))\n",
    "    print('Стандартное отклонение {0:.2f}'.format(np.std(means)))\n",
    "\n",
    "repeat_sample_draws_exponential(10000, 100, 170)"
   ]
  },
  {
   "cell_type": "markdown",
   "metadata": {},
   "source": [
    "$\\sigma_{sample_mean} = \\frac{\\sigma_{population}}{\\sqrt{sample_size}}$"
   ]
  }
 ],
 "metadata": {
  "kernelspec": {
   "display_name": "Python 3",
   "language": "python",
   "name": "python3"
  },
  "language_info": {
   "codemirror_mode": {
    "name": "ipython",
    "version": 3
   },
   "file_extension": ".py",
   "mimetype": "text/x-python",
   "name": "python",
   "nbconvert_exporter": "python",
   "pygments_lexer": "ipython3",
   "version": "3.7.7"
  }
 },
 "nbformat": 4,
 "nbformat_minor": 4
}
