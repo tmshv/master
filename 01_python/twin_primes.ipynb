{
  "nbformat": 4,
  "nbformat_minor": 0,
  "metadata": {
    "kernelspec": {
      "display_name": "Python 3",
      "language": "python",
      "name": "python3"
    },
    "language_info": {
      "codemirror_mode": {
        "name": "ipython",
        "version": 3
      },
      "file_extension": ".py",
      "mimetype": "text/x-python",
      "name": "python",
      "nbconvert_exporter": "python",
      "pygments_lexer": "ipython3",
      "version": "3.5.9"
    },
    "colab": {
      "name": "twin_primes_empty.ipynb",
      "provenance": [],
      "collapsed_sections": []
    }
  },
  "cells": [
    {
      "cell_type": "markdown",
      "metadata": {
        "id": "jVPIpUenorYc",
        "colab_type": "text"
      },
      "source": [
        "## Задание на Групповой практикум.\n",
        "\n",
        "### Мы с Тамарой (парные простые)\n",
        "Специалистка по нейронным сетям Бакаева любит искать простые числа. Сначала она решила найти простые числа идущие подряд. Очень быстро она обнаружила, что существует только одна пара таких чисел: (2 3).\n",
        "\n",
        "Тогда она решила поискать простые числа, идущие через одно число. Например, пара (5 7) удовлетворяет такому условию. Оказалось, что таких чисел много.\n",
        "\n",
        "Помогите г-же Бакаевой найти количество пар и сумму первых элементов пар простых чисел, оба из которых лежат в промежутке от a до b включительно и между ними расположено ровно одно число (т. е., b - a == 2).\n",
        "\n",
        "Ограничения: 2 <= a < b <= 10^7.\n",
        "\n",
        "**Пример 1.**\n",
        "\n",
        "a = 2, b = 20\n",
        "\n",
        "Ответ: 4, 36\n",
        "\n",
        "Пояснение. Вот все парные простые числа от 2 до 20:\n",
        "\n",
        "3 5\n",
        "5 7\n",
        "11 13\n",
        "17 19\n",
        "Всего 4 пары, а сумма 3+5+11+17=36\n",
        "\n",
        "**Пример 2.**\n",
        "\n",
        "a = 203, b = 10000000\n",
        "\n",
        "Ответ: 58965 272839238019\n",
        "\n",
        "***\n",
        "\n",
        "Всего 9 функций на 4 человека. get_real_number  дал 2-им в чьих функциях он используется - кто первый сделает тем и пользуемся.\n",
        "\n",
        "**Ярослав** - is_valid_numbers / get_number_odd_position  - **сделано**\n",
        "\n",
        "**Анна** - count_odd_numbers / get_prime_list  - **сделано**\n",
        "\n",
        "**Роман** - ~~get_real_number~~ / set_prime_for_range / set_not_primes  - **сделано**\n",
        "\n",
        "**Сергей** -  get_real_number / get_prime_pairs_first_elements / restricted_numbers - **сделано**\n",
        "\n",
        "В конце есть тесты для каждой функции.\n",
        "\n",
        "PS Если вы хотите запустить тесты у себя локально то должен быть установлен ipytest\n",
        "\n",
        "https://github.com/chmp/ipytest\n",
        "\n",
        "Если вы в виртуальном окружении - pip install ipytest\n",
        "\n",
        "Если в Анаконде - https://docs.conda.io/projects/conda/en/latest/user-guide/tasks/manage-pkgs.html"
      ]
    },
    {
      "cell_type": "code",
      "metadata": {
        "id": "YmLk2fIforYd",
        "colab_type": "code",
        "colab": {}
      },
      "source": [
        "from typing import List, Tuple\n"
      ],
      "execution_count": null,
      "outputs": []
    },
    {
      "cell_type": "code",
      "metadata": {
        "id": "gK4GOsYxzU_K",
        "colab_type": "code",
        "colab": {}
      },
      "source": [
        "def get_real_number(number: int) -> int:\n",
        "    \"\"\"\n",
        "    Посчитать (number умножить на 2) + 1\n",
        "    \n",
        "    Примеры:\n",
        "    get_real_number(3) == 7\n",
        "    get_real_number(1) == 3\n",
        "    get_real_number(7) == 15\n",
        "    \"\"\"\n",
        "    return number * 2 + 1\n"
      ],
      "execution_count": null,
      "outputs": []
    },
    {
      "cell_type": "code",
      "metadata": {
        "id": "RDHd63XWzaQH",
        "colab_type": "code",
        "colab": {}
      },
      "source": [
        "def get_number_odd_position(number: int) -> int:\n",
        "    \"\"\"\n",
        "    Вернуть number деленый на 2 без остатка.\n",
        "    \n",
        "    Примеры:\n",
        "    get_number_odd_position(3) == 1\n",
        "    get_number_odd_position(5) == 2\n",
        "    get_number_odd_position(11) == 5\n",
        "    \"\"\"\n",
        "    return number//2\n"
      ],
      "execution_count": null,
      "outputs": []
    },
    {
      "cell_type": "code",
      "metadata": {
        "id": "0cuhOJ6Dzasg",
        "colab_type": "code",
        "colab": {}
      },
      "source": [
        "def count_odd_numbers(number: int) -> int:\n",
        "    \"\"\"\n",
        "    Посчитать количество нечетных чисел в пределах number.\n",
        "    \n",
        "    Примеры:\n",
        "    count_odd_numbers(3) == 2\n",
        "    count_odd_numbers(5) == 3\n",
        "    count_odd_numbers(11) == 6\n",
        "    \"\"\"\n",
        "    if number<=0:\n",
        "        return 0\n",
        "    else:\n",
        "        (div, mod) = divmod(number+1,2)\n",
        "        return div "
      ],
      "execution_count": null,
      "outputs": []
    },
    {
      "cell_type": "code",
      "metadata": {
        "id": "VXasLlwpzbY_",
        "colab_type": "code",
        "colab": {}
      },
      "source": [
        "from typing import List\n",
        "\n",
        "\n",
        "def get_prime_list(number: int) -> List[bool]:\n",
        "    \"\"\"\n",
        "    Создать список длины number состоящий из boolean True.\n",
        "    \n",
        "    Примеры:\n",
        "    get_prime_list(1) == [True]\n",
        "    get_prime_list(4) == [True, True, True, True]\n",
        "    get_prime_list(7) == [True, True, True, True, True, True, True]\n",
        "    \"\"\"\n",
        "    return [True for _ in range(number)]\n"
      ],
      "execution_count": null,
      "outputs": []
    },
    {
      "cell_type": "code",
      "metadata": {
        "id": "4ncCpcKuzbve",
        "colab_type": "code",
        "colab": {}
      },
      "source": [
        "def set_prime_for_range(\n",
        "    prime_list: List[bool], \n",
        "    position: int, \n",
        "    real_number: int, \n",
        "    last_number: int\n",
        "):\n",
        "    \"\"\"\n",
        "    Пройтись по списку prime_list в диапазоне от position + real_number до \n",
        "    last_number с шагом real_number и назначить этим элементам значение False.\n",
        "    \n",
        "    Предполагается что входящий last_number не больше длины prime_list, \n",
        "    проверять это не нужно.\n",
        "    \n",
        "    Функция ничего не возвращает только меняет список prime_list.\n",
        "    \n",
        "    Примеры:\n",
        "    prime_list = [\n",
        "      True, True, True, True, True, True, True, True, True, True, True, True\n",
        "    ]\n",
        "    set_prime_for_range(prime_list, position=0, real_number=3, last_number=12)\n",
        "    \n",
        "    результат можно проверить при помощи теста test_set_prime_for_range\n",
        "    \n",
        "    \"\"\"\n",
        "    for i in range(position + real_number, last_number, real_number):\n",
        "      prime_list[i] = False\n"
      ],
      "execution_count": null,
      "outputs": []
    },
    {
      "cell_type": "code",
      "metadata": {
        "id": "TofxfHq2zcC1",
        "colab_type": "code",
        "colab": {}
      },
      "source": [
        "def set_not_primes(prime_list: List[bool], number: int):\n",
        "    \"\"\"\n",
        "    В цикле проходимся по prime_list от position до тех пор пока квадрат position \n",
        "    не станет больше number, начальное position = 1\n",
        "    каждый цикл мы проверяем если prime_list[position] True то вызываем \n",
        "    real_number=get_real_number(position) и его результат передаем в функцию \n",
        "    set_prime_for_range(prime_list, position, real_number, number)\n",
        "    если prime_list[position] False - нечего не делаеам, \n",
        "    только увеличиваем на 1 position и идем дальше.\n",
        "    \n",
        "    Функция ничего не возвращает только меняет список prime_list.\n",
        "    \n",
        "    Примеры:\n",
        "    prime_list = [\n",
        "      True, True, True, True, True, True, True, True, True, True, True, True\n",
        "    ]\n",
        "    set_not_primes(prime_list, 12)\n",
        "    \n",
        "    результат можно проверить при помощи теста test_set_not_primes\n",
        "    \n",
        "    \"\"\"\n",
        "    length = len(prime_list)\n",
        "    position = 1\n",
        "    while position ** 2 <= number or position < length:\n",
        "      if prime_list[position]:\n",
        "        real_number = get_real_number(position)\n",
        "        set_prime_for_range(prime_list, position, real_number, number)\n",
        "      position += 1"
      ],
      "execution_count": null,
      "outputs": []
    },
    {
      "cell_type": "code",
      "metadata": {
        "id": "A6cKbT3FzcXN",
        "colab_type": "code",
        "colab": {}
      },
      "source": [
        "def get_prime_pairs_first_elements(\n",
        "    prime_list: List[bool], \n",
        "    first_number_position: int, \n",
        "    last_number: int\n",
        ") -> List[int]:\n",
        "    \"\"\"\n",
        "    Создать список номеров элементов prime_list которые True одновременно \n",
        "    со следующим элементом в prime_list.\n",
        "    Для этого создать цикл по position в range от first_number_position \n",
        "    до длины prime_list - 1.\n",
        "    \n",
        "    Внутри цикла если основное условие выполняется (prime_list которые True \n",
        "    одновременно со следующим элементом prime_list)\n",
        "    проверять что текущий номер цикла переданный в get_real_number() + 2 \n",
        "    не больше last_number. \n",
        "    Если больше - переходим в следующую итерацию цикла.\n",
        "    Иначе добавляем результат get_real_number в список возвращаемых результатов.\n",
        "    \n",
        "    Пример:\n",
        "    prime_list = [False, False, True, True, False, True, True]\n",
        "    get_prime_pairs_first_elements(\n",
        "      prime_list, first_number_position=1, last_number=25\n",
        "    ) == [5, 11]\n",
        "    \"\"\"\n",
        "    res = []\n",
        "    for i in range(first_number_position, len(prime_list) - 1):\n",
        "        if prime_list[i + 1] and prime_list[i]:\n",
        "            real_numb = get_real_number(i)\n",
        "            if real_numb + 2 <= last_number:\n",
        "                res.append(real_numb)\n",
        "    return res\n",
        "\n",
        "\n"
      ],
      "execution_count": null,
      "outputs": []
    },
    {
      "cell_type": "code",
      "metadata": {
        "id": "J6u_l59jzcpW",
        "colab_type": "code",
        "colab": {}
      },
      "source": [
        "def restricted_numbers(first_number: int, last_number: int):\n",
        "    \"\"\"\n",
        "    Если first_number меньше 1 или last_number больше 10 в 7 степени - вызвать \n",
        "    Exception \"Numbers out of range 2 <= first_number < last_number <= 10^7\".\n",
        "    \"\"\"\n",
        "    if first_number < 2 or last_number > 10**7:\n",
        "        raise Exception('Numbers out of range 2 <= first_number < last_number <= 10^7')\n",
        "\n"
      ],
      "execution_count": null,
      "outputs": []
    },
    {
      "cell_type": "code",
      "metadata": {
        "id": "vIkq9D-Ezc-E",
        "colab_type": "code",
        "colab": {}
      },
      "source": [
        "def is_valid_numbers(first_number: int, last_number: int) -> bool:\n",
        "    \"\"\"\n",
        "    Вызвать restricted_numbers с first_number и last_number\n",
        "    После него проверить если last_number меньше 5 или first_number больше \n",
        "    или равно last_number - вернуть False\n",
        "    Иначе вернуть True\n",
        "    \n",
        "    Пример:\n",
        "    is_valid_numbers(1, 3) == False\n",
        "    is_valid_numbers(2, 5) == True\n",
        "    is_valid_numbers(5, 5) == False\n",
        "\n",
        "    \"\"\"\n",
        "    restricted_numbers(first_number, last_number)\n",
        "    if last_number < 5 or first_number >= last_number:\n",
        "      return False\n",
        "    else:\n",
        "      return True  "
      ],
      "execution_count": null,
      "outputs": []
    },
    {
      "cell_type": "code",
      "metadata": {
        "id": "-GCVfe5Zz1_R",
        "colab_type": "code",
        "colab": {}
      },
      "source": [
        "def get_twin_primes_info(\n",
        "    first_number: int, \n",
        "    last_number: int\n",
        ") -> Tuple[int, int]:\n",
        "    \"\"\"\n",
        "    Возвращает количество пар и сумму первых элементов пар простых чисел в диапазоне \n",
        "    от `first_number` до `last_number`.\n",
        "\n",
        "    Используется модифицированное Решето Эратосфена где мы работаем только \n",
        "    с нечетными числами, т.к. четное кроме 2 не может быть простым.\n",
        "    В функции `odd_numbers` мы считаем сколько всего нечетных чисел \n",
        "    в пределах `last_number`, и в `get_prime_list` создаем список размером \n",
        "    с количество нечетных. \n",
        "    И тогда каждый шаг в `set_prime_for_range` получается равен \n",
        "    умножению реального числа на 3, 5, 7, 9 и т.д. \n",
        "    Ведь если в элементе списка `prime_list` с индексом 1 у нас лежит значения для \n",
        "    реального числа 3, то\n",
        "    1 + 3 = 4, а элементу списка с индексом 4 у нас соответствует реальное число 9.\n",
        "    4 + 3 = 7, 7-ке соответствует 15 и т.д.\n",
        "    Умножение на нечетное число имеет смысл, так как не нужно умножать нечетное на четное - \n",
        "    оно станет четным числом, а четное больше 2 не может быть простым числом, т.к. \n",
        "    всегда делится на 2.\n",
        "    \"\"\"\n",
        "    if not is_valid_numbers(first_number, last_number):\n",
        "        return []\n",
        "    \n",
        "    odd_numbers = count_odd_numbers(last_number)\n",
        "    prime_list = get_prime_list(odd_numbers)\n",
        "    \n",
        "    set_not_primes(prime_list, odd_numbers)\n",
        "    \n",
        "    first_number_position = get_number_odd_position(first_number)\n",
        "    \n",
        "    first_elements = get_prime_pairs_first_elements(\n",
        "        prime_list=prime_list, \n",
        "        first_number_position=first_number_position, \n",
        "        last_number=last_number\n",
        "    )\n",
        "    \n",
        "    return len(first_elements), sum(first_elements)"
      ],
      "execution_count": null,
      "outputs": []
    },
    {
      "cell_type": "code",
      "metadata": {
        "id": "Pq0Z-KJ5orYh",
        "colab_type": "code",
        "colab": {
          "base_uri": "https://localhost:8080/",
          "height": 663
        },
        "outputId": "f0b442dc-9c93-47b9-8334-0b925c7a64a7"
      },
      "source": [
        "!pip install ipytest\n",
        "import ipytest\n",
        "ipytest.autoconfig()"
      ],
      "execution_count": null,
      "outputs": [
        {
          "output_type": "stream",
          "text": [
            "Collecting ipytest\n",
            "  Downloading https://files.pythonhosted.org/packages/a9/d6/1797c114d57ec1c93b8078d81bd09b9f82d5f3a989c11fd1c575ff2846e7/ipytest-0.9.1-py3-none-any.whl\n",
            "Requirement already satisfied: packaging in /usr/local/lib/python3.6/dist-packages (from ipytest) (20.4)\n",
            "Requirement already satisfied: ipython in /usr/local/lib/python3.6/dist-packages (from ipytest) (5.5.0)\n",
            "Collecting pytest>=5.4\n",
            "\u001b[?25l  Downloading https://files.pythonhosted.org/packages/45/2c/7e29215cb19745ad67b6476b73fd1299872563f28329ea01d9d887713aaf/pytest-6.0.2-py3-none-any.whl (270kB)\n",
            "\u001b[K     |████████████████████████████████| 276kB 4.2MB/s \n",
            "\u001b[?25hRequirement already satisfied: six in /usr/local/lib/python3.6/dist-packages (from packaging->ipytest) (1.15.0)\n",
            "Requirement already satisfied: pyparsing>=2.0.2 in /usr/local/lib/python3.6/dist-packages (from packaging->ipytest) (2.4.7)\n",
            "Requirement already satisfied: prompt-toolkit<2.0.0,>=1.0.4 in /usr/local/lib/python3.6/dist-packages (from ipython->ipytest) (1.0.18)\n",
            "Requirement already satisfied: pygments in /usr/local/lib/python3.6/dist-packages (from ipython->ipytest) (2.6.1)\n",
            "Requirement already satisfied: traitlets>=4.2 in /usr/local/lib/python3.6/dist-packages (from ipython->ipytest) (4.3.3)\n",
            "Requirement already satisfied: pexpect; sys_platform != \"win32\" in /usr/local/lib/python3.6/dist-packages (from ipython->ipytest) (4.8.0)\n",
            "Requirement already satisfied: simplegeneric>0.8 in /usr/local/lib/python3.6/dist-packages (from ipython->ipytest) (0.8.1)\n",
            "Requirement already satisfied: setuptools>=18.5 in /usr/local/lib/python3.6/dist-packages (from ipython->ipytest) (50.3.0)\n",
            "Requirement already satisfied: decorator in /usr/local/lib/python3.6/dist-packages (from ipython->ipytest) (4.4.2)\n",
            "Requirement already satisfied: pickleshare in /usr/local/lib/python3.6/dist-packages (from ipython->ipytest) (0.7.5)\n",
            "Requirement already satisfied: more-itertools>=4.0.0 in /usr/local/lib/python3.6/dist-packages (from pytest>=5.4->ipytest) (8.5.0)\n",
            "Requirement already satisfied: importlib-metadata>=0.12; python_version < \"3.8\" in /usr/local/lib/python3.6/dist-packages (from pytest>=5.4->ipytest) (1.7.0)\n",
            "Requirement already satisfied: iniconfig in /usr/local/lib/python3.6/dist-packages (from pytest>=5.4->ipytest) (1.0.1)\n",
            "Requirement already satisfied: toml in /usr/local/lib/python3.6/dist-packages (from pytest>=5.4->ipytest) (0.10.1)\n",
            "Requirement already satisfied: py>=1.8.2 in /usr/local/lib/python3.6/dist-packages (from pytest>=5.4->ipytest) (1.9.0)\n",
            "Collecting pluggy<1.0,>=0.12\n",
            "  Downloading https://files.pythonhosted.org/packages/a0/28/85c7aa31b80d150b772fbe4a229487bc6644da9ccb7e427dd8cc60cb8a62/pluggy-0.13.1-py2.py3-none-any.whl\n",
            "Requirement already satisfied: attrs>=17.4.0 in /usr/local/lib/python3.6/dist-packages (from pytest>=5.4->ipytest) (20.2.0)\n",
            "Requirement already satisfied: wcwidth in /usr/local/lib/python3.6/dist-packages (from prompt-toolkit<2.0.0,>=1.0.4->ipython->ipytest) (0.2.5)\n",
            "Requirement already satisfied: ipython-genutils in /usr/local/lib/python3.6/dist-packages (from traitlets>=4.2->ipython->ipytest) (0.2.0)\n",
            "Requirement already satisfied: ptyprocess>=0.5 in /usr/local/lib/python3.6/dist-packages (from pexpect; sys_platform != \"win32\"->ipython->ipytest) (0.6.0)\n",
            "Requirement already satisfied: zipp>=0.5 in /usr/local/lib/python3.6/dist-packages (from importlib-metadata>=0.12; python_version < \"3.8\"->pytest>=5.4->ipytest) (3.1.0)\n",
            "\u001b[31mERROR: datascience 0.10.6 has requirement folium==0.2.1, but you'll have folium 0.8.3 which is incompatible.\u001b[0m\n",
            "Installing collected packages: pluggy, pytest, ipytest\n",
            "  Found existing installation: pluggy 0.7.1\n",
            "    Uninstalling pluggy-0.7.1:\n",
            "      Successfully uninstalled pluggy-0.7.1\n",
            "  Found existing installation: pytest 3.6.4\n",
            "    Uninstalling pytest-3.6.4:\n",
            "      Successfully uninstalled pytest-3.6.4\n",
            "Successfully installed ipytest-0.9.1 pluggy-0.13.1 pytest-6.0.2\n"
          ],
          "name": "stdout"
        }
      ]
    },
    {
      "cell_type": "code",
      "metadata": {
        "id": "6N_tXrZ9orYj",
        "colab_type": "code",
        "colab": {
          "base_uri": "https://localhost:8080/",
          "height": 51
        },
        "outputId": "d035bb4f-07a0-484c-e629-5ba4d5b93bcb"
      },
      "source": [
        "%%run_pytest[clean]\n",
        "\n",
        "\n",
        "def test_get_real_number():\n",
        "    assert get_real_number(3) == 7\n",
        "    assert get_real_number(1) == 3\n",
        "    assert get_real_number(7) == 15"
      ],
      "execution_count": null,
      "outputs": [
        {
          "output_type": "stream",
          "text": [
            ".                                                                        [100%]\n",
            "1 passed in 0.01s\n"
          ],
          "name": "stdout"
        }
      ]
    },
    {
      "cell_type": "code",
      "metadata": {
        "id": "JiERn7JUorYm",
        "colab_type": "code",
        "colab": {
          "base_uri": "https://localhost:8080/",
          "height": 51
        },
        "outputId": "534fc52a-4366-4ef1-bcc7-09d1867f3637"
      },
      "source": [
        "%%run_pytest[clean]\n",
        "\n",
        "\n",
        "def test_get_number_odd_position():\n",
        "    assert get_number_odd_position(3) == 1\n",
        "    assert get_number_odd_position(5) == 2\n",
        "    assert get_number_odd_position(11) == 5"
      ],
      "execution_count": null,
      "outputs": [
        {
          "output_type": "stream",
          "text": [
            ".                                                                        [100%]\n",
            "1 passed in 0.01s\n"
          ],
          "name": "stdout"
        }
      ]
    },
    {
      "cell_type": "code",
      "metadata": {
        "id": "iwaGYU3jorYo",
        "colab_type": "code",
        "colab": {
          "base_uri": "https://localhost:8080/",
          "height": 51
        },
        "outputId": "8d9910f8-8652-4d28-f700-f3b554b70dc0"
      },
      "source": [
        "%%run_pytest[clean]\n",
        "\n",
        "\n",
        "def test_count_odd_numbers():\n",
        "    assert count_odd_numbers(3) == 2\n",
        "    assert count_odd_numbers(5) == 3\n",
        "    assert count_odd_numbers(11) == 6\n",
        "    assert count_odd_numbers(12) == 6\n",
        "    assert count_odd_numbers(2) == 1\n",
        "    "
      ],
      "execution_count": null,
      "outputs": [
        {
          "output_type": "stream",
          "text": [
            ".                                                                        [100%]\n",
            "1 passed in 0.01s\n"
          ],
          "name": "stdout"
        }
      ]
    },
    {
      "cell_type": "code",
      "metadata": {
        "id": "5uDIZCTNorYr",
        "colab_type": "code",
        "colab": {
          "base_uri": "https://localhost:8080/",
          "height": 51
        },
        "outputId": "f6e7b90d-23f3-44bc-b43f-29d2f20d4bc3"
      },
      "source": [
        "%%run_pytest[clean]\n",
        "\n",
        "\n",
        "def test_get_prime_list():\n",
        "    assert get_prime_list(1) == [True]\n",
        "    assert get_prime_list(4) == [True, True, True, True]\n",
        "    assert get_prime_list(7) == [True, True, True, True, True, True, True]"
      ],
      "execution_count": null,
      "outputs": [
        {
          "output_type": "stream",
          "text": [
            ".                                                                        [100%]\n",
            "1 passed in 0.01s\n"
          ],
          "name": "stdout"
        }
      ]
    },
    {
      "cell_type": "code",
      "metadata": {
        "id": "hKFm1RtrorYu",
        "colab_type": "code",
        "colab": {
          "base_uri": "https://localhost:8080/",
          "height": 51
        },
        "outputId": "1c933448-f7e2-4c83-a311-e63d6819ddae"
      },
      "source": [
        "%%run_pytest[clean]\n",
        "\n",
        "import pytest\n",
        "\n",
        "\n",
        "def test_set_prime_for_range():\n",
        "    prime_list = [True, True, True, True, True, True, True, True, True, True, True, True]\n",
        "    set_prime_for_range(prime_list, position=0, real_number=3, last_number=12)\n",
        "    assert prime_list == [True, True, True, False, True, True, False, True, True, False, True, True]\n",
        "    \n",
        "    prime_list = [True, True, True, True, True, True, True, True, True, True, True, True]\n",
        "    set_prime_for_range(prime_list, position=4, real_number=5, last_number=12)\n",
        "    assert prime_list == [True, True, True, True, True, True, True, True, True, False, True, True]\n",
        "    \n",
        "    prime_list = [True, True, True, True, True, True, True, True, True, True, True, True]\n",
        "    set_prime_for_range(prime_list, position=4, real_number=5, last_number=12)\n",
        "    assert prime_list == [True, True, True, True, True, True, True, True, True, False, True, True]\n",
        "    \n",
        "    \n",
        "    prime_list = [True, True, True, True, True, True, True, True, True, True, True, True]\n",
        "    set_prime_for_range(prime_list, position=1, real_number=3, last_number=12)\n",
        "    assert prime_list == [True, True, True, True, False, True, True, False, True, True, False, True]\n",
        "    \n",
        "    \n",
        "    prime_list = []\n",
        "    with pytest.raises(IndexError):\n",
        "        set_prime_for_range(prime_list, position=1, real_number=3, last_number=12)"
      ],
      "execution_count": null,
      "outputs": [
        {
          "output_type": "stream",
          "text": [
            ".                                                                        [100%]\n",
            "1 passed in 0.01s\n"
          ],
          "name": "stdout"
        }
      ]
    },
    {
      "cell_type": "code",
      "metadata": {
        "id": "jfPZvAYForYw",
        "colab_type": "code",
        "colab": {
          "base_uri": "https://localhost:8080/",
          "height": 51
        },
        "outputId": "e258d5cd-27a5-4a1a-e1c9-49e3522da2db"
      },
      "source": [
        "%%run_pytest[clean]\n",
        "\n",
        "\n",
        "def test_set_not_primes():\n",
        "    prime_list = [True, True, True, True, True, True, True, True, True, True, True, True]\n",
        "    set_not_primes(prime_list, 12)\n",
        "    \n",
        "    assert prime_list == [True, True, True, True, False, True, True, False, True, True, False, True]\n",
        "    \n",
        "    prime_list = [True, True, True, True, True, True, True, True, True, True, True, True, True, True, True, True, True]\n",
        "    set_not_primes(prime_list, 17)\n",
        "    \n",
        "    assert prime_list == [True, True, True, True, False, True, True, False, True, True, False, True, False, False, True, True, False]\n",
        "    \n",
        "    \n",
        "    "
      ],
      "execution_count": null,
      "outputs": [
        {
          "output_type": "stream",
          "text": [
            ".                                                                        [100%]\n",
            "1 passed in 0.01s\n"
          ],
          "name": "stdout"
        }
      ]
    },
    {
      "cell_type": "code",
      "metadata": {
        "id": "d9YHCpISorYz",
        "colab_type": "code",
        "colab": {
          "base_uri": "https://localhost:8080/",
          "height": 51
        },
        "outputId": "9196d2ea-f49a-429a-cf01-6aaf759bdf40"
      },
      "source": [
        "%%run_pytest[clean]\n",
        "\n",
        "\n",
        "def test_get_prime_pairs_first_elements():\n",
        "    \n",
        "    prime_list = [False, False, True, True, False, True, True]\n",
        "    assert get_prime_pairs_first_elements(prime_list, first_number_position=1, last_number=25) == [5, 11]\n",
        "    \n",
        "    prime_list = [True, False, True, False, False, True, False]\n",
        "    assert get_prime_pairs_first_elements(prime_list, first_number_position=1, last_number=25) == []\n",
        "    \n",
        "    prime_list = [True, True, True, True, True, True, True, True]\n",
        "    assert get_prime_pairs_first_elements(prime_list, first_number_position=1, last_number=11) == [3, 5, 7, 9]\n",
        "    \n",
        "    prime_list = [True, True, False, True, True, True, True, True]\n",
        "    assert get_prime_pairs_first_elements(prime_list, first_number_position=1, last_number=13) == [7, 9, 11]\n",
        "    \n",
        "    "
      ],
      "execution_count": null,
      "outputs": [
        {
          "output_type": "stream",
          "text": [
            ".                                                                        [100%]\n",
            "1 passed in 0.01s\n"
          ],
          "name": "stdout"
        }
      ]
    },
    {
      "cell_type": "code",
      "metadata": {
        "id": "P7iU3eAWorY1",
        "colab_type": "code",
        "colab": {
          "base_uri": "https://localhost:8080/",
          "height": 51
        },
        "outputId": "9ff0c4fb-124c-4d9b-eac0-25370c70e4db"
      },
      "source": [
        "%%run_pytest[clean]\n",
        "\n",
        "import pytest\n",
        "\n",
        "\n",
        "def test_restricted_numbers():\n",
        "    assert not restricted_numbers(2, 3)\n",
        "    with pytest.raises(Exception):\n",
        "        restricted_numbers(1, 3)\n",
        "        \n",
        "    with pytest.raises(Exception):\n",
        "        restricted_numbers(3, 10**7+1)"
      ],
      "execution_count": null,
      "outputs": [
        {
          "output_type": "stream",
          "text": [
            ".                                                                        [100%]\n",
            "1 passed in 0.01s\n"
          ],
          "name": "stdout"
        }
      ]
    },
    {
      "cell_type": "code",
      "metadata": {
        "id": "VKasNnjyorY3",
        "colab_type": "code",
        "colab": {
          "base_uri": "https://localhost:8080/",
          "height": 51
        },
        "outputId": "0c3d4ec9-610c-4f32-d616-6b2d4b0af639"
      },
      "source": [
        "%%run_pytest[clean]\n",
        "\n",
        "\n",
        "def test_is_valid_numbers():\n",
        "    assert not is_valid_numbers(2, 3)\n",
        "    assert is_valid_numbers(2, 5)\n",
        "    assert not is_valid_numbers(5, 5)"
      ],
      "execution_count": null,
      "outputs": [
        {
          "output_type": "stream",
          "text": [
            ".                                                                        [100%]\n",
            "1 passed in 0.01s\n"
          ],
          "name": "stdout"
        }
      ]
    },
    {
      "cell_type": "code",
      "metadata": {
        "id": "D7f044bForY5",
        "colab_type": "code",
        "colab": {
          "base_uri": "https://localhost:8080/",
          "height": 51
        },
        "outputId": "b13796d5-fc5f-4f8f-a462-709a293d8daf"
      },
      "source": [
        "%%run_pytest[clean]\n",
        "\n",
        "\n",
        "def test_get_twin_primes_info():\n",
        "    assert get_twin_primes_info(2, 20) == (4, 36)\n",
        "    \n",
        "    assert get_twin_primes_info(203, 10000000) == (58965, 272839238019)"
      ],
      "execution_count": null,
      "outputs": [
        {
          "output_type": "stream",
          "text": [
            ".                                                                        [100%]\n",
            "1 passed in 3.80s\n"
          ],
          "name": "stdout"
        }
      ]
    },
    {
      "cell_type": "code",
      "metadata": {
        "id": "QcME17hZorY7",
        "colab_type": "code",
        "colab": {}
      },
      "source": [
        ""
      ],
      "execution_count": null,
      "outputs": []
    }
  ]
}