{
 "cells": [
  {
   "cell_type": "markdown",
   "metadata": {},
   "source": [
    "# Титаник\n",
    "\n",
    "Посмотрим, какие операции мы можем выполнять с данными в *Pandas*. Мы будем работать с датасетом, в котором содержатся данные о пассажирах затонувшего Титаника."
   ]
  },
  {
   "cell_type": "code",
   "execution_count": 1,
   "metadata": {},
   "outputs": [],
   "source": [
    "import pandas as pd"
   ]
  },
  {
   "cell_type": "markdown",
   "metadata": {},
   "source": [
    "Допустим, вы скачали данные в файл `data/titanic.csv`. Тогда вы можете загрузить их с помощью инструкции"
   ]
  },
  {
   "cell_type": "code",
   "execution_count": 2,
   "metadata": {},
   "outputs": [],
   "source": [
    "df = pd.read_csv('data/titanic.csv')"
   ]
  },
  {
   "cell_type": "code",
   "execution_count": 3,
   "metadata": {},
   "outputs": [
    {
     "data": {
      "text/html": [
       "<div>\n",
       "<style scoped>\n",
       "    .dataframe tbody tr th:only-of-type {\n",
       "        vertical-align: middle;\n",
       "    }\n",
       "\n",
       "    .dataframe tbody tr th {\n",
       "        vertical-align: top;\n",
       "    }\n",
       "\n",
       "    .dataframe thead th {\n",
       "        text-align: right;\n",
       "    }\n",
       "</style>\n",
       "<table border=\"1\" class=\"dataframe\">\n",
       "  <thead>\n",
       "    <tr style=\"text-align: right;\">\n",
       "      <th></th>\n",
       "      <th>PassengerId</th>\n",
       "      <th>Survived</th>\n",
       "      <th>Pclass</th>\n",
       "      <th>Name</th>\n",
       "      <th>Sex</th>\n",
       "      <th>Age</th>\n",
       "      <th>SibSp</th>\n",
       "      <th>Parch</th>\n",
       "      <th>Ticket</th>\n",
       "      <th>Fare</th>\n",
       "      <th>...</th>\n",
       "      <th>Embarked</th>\n",
       "      <th>WikiId</th>\n",
       "      <th>Name_wiki</th>\n",
       "      <th>Age_wiki</th>\n",
       "      <th>Hometown</th>\n",
       "      <th>Boarded</th>\n",
       "      <th>Destination</th>\n",
       "      <th>Lifeboat</th>\n",
       "      <th>Body</th>\n",
       "      <th>Class</th>\n",
       "    </tr>\n",
       "  </thead>\n",
       "  <tbody>\n",
       "    <tr>\n",
       "      <th>0</th>\n",
       "      <td>1</td>\n",
       "      <td>0.0</td>\n",
       "      <td>3</td>\n",
       "      <td>Braund, Mr. Owen Harris</td>\n",
       "      <td>male</td>\n",
       "      <td>22.0</td>\n",
       "      <td>1</td>\n",
       "      <td>0</td>\n",
       "      <td>A/5 21171</td>\n",
       "      <td>7.2500</td>\n",
       "      <td>...</td>\n",
       "      <td>S</td>\n",
       "      <td>691.0</td>\n",
       "      <td>Braund, Mr. Owen Harris</td>\n",
       "      <td>22.0</td>\n",
       "      <td>Bridgerule, Devon, England</td>\n",
       "      <td>Southampton</td>\n",
       "      <td>Qu'Appelle Valley, Saskatchewan, Canada</td>\n",
       "      <td>NaN</td>\n",
       "      <td>NaN</td>\n",
       "      <td>3.0</td>\n",
       "    </tr>\n",
       "    <tr>\n",
       "      <th>1</th>\n",
       "      <td>2</td>\n",
       "      <td>1.0</td>\n",
       "      <td>1</td>\n",
       "      <td>Cumings, Mrs. John Bradley (Florence Briggs Th...</td>\n",
       "      <td>female</td>\n",
       "      <td>38.0</td>\n",
       "      <td>1</td>\n",
       "      <td>0</td>\n",
       "      <td>PC 17599</td>\n",
       "      <td>71.2833</td>\n",
       "      <td>...</td>\n",
       "      <td>C</td>\n",
       "      <td>90.0</td>\n",
       "      <td>Cumings, Mrs. Florence Briggs (née Thayer)</td>\n",
       "      <td>35.0</td>\n",
       "      <td>New York, New York, US</td>\n",
       "      <td>Cherbourg</td>\n",
       "      <td>New York, New York, US</td>\n",
       "      <td>4</td>\n",
       "      <td>NaN</td>\n",
       "      <td>1.0</td>\n",
       "    </tr>\n",
       "    <tr>\n",
       "      <th>2</th>\n",
       "      <td>3</td>\n",
       "      <td>1.0</td>\n",
       "      <td>3</td>\n",
       "      <td>Heikkinen, Miss. Laina</td>\n",
       "      <td>female</td>\n",
       "      <td>26.0</td>\n",
       "      <td>0</td>\n",
       "      <td>0</td>\n",
       "      <td>STON/O2. 3101282</td>\n",
       "      <td>7.9250</td>\n",
       "      <td>...</td>\n",
       "      <td>S</td>\n",
       "      <td>865.0</td>\n",
       "      <td>Heikkinen, Miss Laina</td>\n",
       "      <td>26.0</td>\n",
       "      <td>Jyväskylä, Finland</td>\n",
       "      <td>Southampton</td>\n",
       "      <td>New York City</td>\n",
       "      <td>14?</td>\n",
       "      <td>NaN</td>\n",
       "      <td>3.0</td>\n",
       "    </tr>\n",
       "    <tr>\n",
       "      <th>3</th>\n",
       "      <td>4</td>\n",
       "      <td>1.0</td>\n",
       "      <td>1</td>\n",
       "      <td>Futrelle, Mrs. Jacques Heath (Lily May Peel)</td>\n",
       "      <td>female</td>\n",
       "      <td>35.0</td>\n",
       "      <td>1</td>\n",
       "      <td>0</td>\n",
       "      <td>113803</td>\n",
       "      <td>53.1000</td>\n",
       "      <td>...</td>\n",
       "      <td>S</td>\n",
       "      <td>127.0</td>\n",
       "      <td>Futrelle, Mrs. Lily May (née Peel)</td>\n",
       "      <td>35.0</td>\n",
       "      <td>Scituate, Massachusetts, US</td>\n",
       "      <td>Southampton</td>\n",
       "      <td>Scituate, Massachusetts, US</td>\n",
       "      <td>D</td>\n",
       "      <td>NaN</td>\n",
       "      <td>1.0</td>\n",
       "    </tr>\n",
       "    <tr>\n",
       "      <th>4</th>\n",
       "      <td>5</td>\n",
       "      <td>0.0</td>\n",
       "      <td>3</td>\n",
       "      <td>Allen, Mr. William Henry</td>\n",
       "      <td>male</td>\n",
       "      <td>35.0</td>\n",
       "      <td>0</td>\n",
       "      <td>0</td>\n",
       "      <td>373450</td>\n",
       "      <td>8.0500</td>\n",
       "      <td>...</td>\n",
       "      <td>S</td>\n",
       "      <td>627.0</td>\n",
       "      <td>Allen, Mr. William Henry</td>\n",
       "      <td>35.0</td>\n",
       "      <td>Birmingham, West Midlands, England</td>\n",
       "      <td>Southampton</td>\n",
       "      <td>New York City</td>\n",
       "      <td>NaN</td>\n",
       "      <td>NaN</td>\n",
       "      <td>3.0</td>\n",
       "    </tr>\n",
       "  </tbody>\n",
       "</table>\n",
       "<p>5 rows × 21 columns</p>\n",
       "</div>"
      ],
      "text/plain": [
       "   PassengerId  Survived  Pclass  \\\n",
       "0            1       0.0       3   \n",
       "1            2       1.0       1   \n",
       "2            3       1.0       3   \n",
       "3            4       1.0       1   \n",
       "4            5       0.0       3   \n",
       "\n",
       "                                                Name     Sex   Age  SibSp  \\\n",
       "0                            Braund, Mr. Owen Harris    male  22.0      1   \n",
       "1  Cumings, Mrs. John Bradley (Florence Briggs Th...  female  38.0      1   \n",
       "2                             Heikkinen, Miss. Laina  female  26.0      0   \n",
       "3       Futrelle, Mrs. Jacques Heath (Lily May Peel)  female  35.0      1   \n",
       "4                           Allen, Mr. William Henry    male  35.0      0   \n",
       "\n",
       "   Parch            Ticket     Fare  ... Embarked WikiId  \\\n",
       "0      0         A/5 21171   7.2500  ...        S  691.0   \n",
       "1      0          PC 17599  71.2833  ...        C   90.0   \n",
       "2      0  STON/O2. 3101282   7.9250  ...        S  865.0   \n",
       "3      0            113803  53.1000  ...        S  127.0   \n",
       "4      0            373450   8.0500  ...        S  627.0   \n",
       "\n",
       "                                    Name_wiki Age_wiki  \\\n",
       "0                     Braund, Mr. Owen Harris     22.0   \n",
       "1  Cumings, Mrs. Florence Briggs (née Thayer)     35.0   \n",
       "2                       Heikkinen, Miss Laina     26.0   \n",
       "3          Futrelle, Mrs. Lily May (née Peel)     35.0   \n",
       "4                    Allen, Mr. William Henry     35.0   \n",
       "\n",
       "                             Hometown      Boarded  \\\n",
       "0          Bridgerule, Devon, England  Southampton   \n",
       "1              New York, New York, US    Cherbourg   \n",
       "2                  Jyväskylä, Finland  Southampton   \n",
       "3         Scituate, Massachusetts, US  Southampton   \n",
       "4  Birmingham, West Midlands, England  Southampton   \n",
       "\n",
       "                               Destination Lifeboat Body Class  \n",
       "0  Qu'Appelle Valley, Saskatchewan, Canada      NaN  NaN   3.0  \n",
       "1                   New York, New York, US        4  NaN   1.0  \n",
       "2                            New York City      14?  NaN   3.0  \n",
       "3              Scituate, Massachusetts, US        D  NaN   1.0  \n",
       "4                            New York City      NaN  NaN   3.0  \n",
       "\n",
       "[5 rows x 21 columns]"
      ]
     },
     "execution_count": 3,
     "metadata": {},
     "output_type": "execute_result"
    }
   ],
   "source": [
    "df.head(5)"
   ]
  },
  {
   "cell_type": "markdown",
   "metadata": {},
   "source": [
    "## Группировка данных в *Pandas*"
   ]
  },
  {
   "cell_type": "markdown",
   "metadata": {},
   "source": [
    "Давайте сначала посмотрим, какой процент пассажиров выжил. Мы обращаемся к столбцу *Survived* датафрейма, который мы создали, прочитав *CSV*-таблицу. Затем применяем к нему метод `mean`"
   ]
  },
  {
   "cell_type": "code",
   "execution_count": 4,
   "metadata": {},
   "outputs": [
    {
     "data": {
      "text/plain": [
       "0.3838383838383838"
      ]
     },
     "execution_count": 4,
     "metadata": {},
     "output_type": "execute_result"
    }
   ],
   "source": [
    "df['Survived'].mean()"
   ]
  },
  {
   "cell_type": "markdown",
   "metadata": {},
   "source": [
    "А как нам посчитать процент выживших в зависимости от какого-либо признака? Для этого существует метод `groupby`, который позволяет сгруппировать данные с одинаковыми значениями заданного набора полей.\n",
    "\n",
    "Например, если мы хотим найти процент выживших среди мужчин и женщин, мы будем использовать следующую команду:"
   ]
  },
  {
   "cell_type": "code",
   "execution_count": 5,
   "metadata": {},
   "outputs": [
    {
     "data": {
      "text/plain": [
       "Sex\n",
       "female    0.742038\n",
       "male      0.188908\n",
       "Name: Survived, dtype: float64"
      ]
     },
     "execution_count": 5,
     "metadata": {},
     "output_type": "execute_result"
    }
   ],
   "source": [
    "df.groupby('Sex')['Survived'].mean()"
   ]
  },
  {
   "cell_type": "markdown",
   "metadata": {},
   "source": [
    "Можно группировать данные и по нескольким полям сразу. Например, так мы можем узнать проценты выживших в разрезе пола и класса обслуживания:"
   ]
  },
  {
   "cell_type": "code",
   "execution_count": 6,
   "metadata": {},
   "outputs": [
    {
     "data": {
      "text/plain": [
       "Sex     Class\n",
       "female  1.0      0.968421\n",
       "        2.0      0.920000\n",
       "        3.0      0.496503\n",
       "male    1.0      0.368852\n",
       "        2.0      0.158879\n",
       "        3.0      0.135447\n",
       "Name: Survived, dtype: float64"
      ]
     },
     "execution_count": 6,
     "metadata": {},
     "output_type": "execute_result"
    }
   ],
   "source": [
    "df.groupby(['Sex', 'Class'])['Survived'].mean()"
   ]
  },
  {
   "cell_type": "markdown",
   "metadata": {},
   "source": [
    "Уже на этом этапе мы можем увидеть определенные закономерности: почти все женщины из кают первого и второго класса выжили, тогда как большинство мужчин и пассажиров третьего класса (включая женщин) погибло."
   ]
  },
  {
   "cell_type": "markdown",
   "metadata": {},
   "source": [
    "Метод `groupby` возвращает *DataFrame*-подобный объект, поэтому мы можем обращаться к нужным столбцам, а для них [считать различные характеристики и производить с ними арифметические операции](https://pandas.pydata.org/pandas-docs/stable/reference/series.html).\n",
    "\n",
    "Например, так мы можем найти медианный возраст всех пассажиров в разрезе пола и класса:"
   ]
  },
  {
   "cell_type": "code",
   "execution_count": 7,
   "metadata": {},
   "outputs": [
    {
     "data": {
      "text/plain": [
       "Sex     Class\n",
       "female  1.0      36.0\n",
       "        2.0      28.0\n",
       "        3.0      22.0\n",
       "male    1.0      41.5\n",
       "        2.0      30.0\n",
       "        3.0      25.0\n",
       "Name: Age, dtype: float64"
      ]
     },
     "execution_count": 7,
     "metadata": {},
     "output_type": "execute_result"
    }
   ],
   "source": [
    "df.groupby(['Sex', 'Class'])['Age'].median()"
   ]
  },
  {
   "cell_type": "markdown",
   "metadata": {},
   "source": [
    "Статистические функции типа `mean` и `median` возвращают нам объект *Series*. Для того, чтобы получить конкретное значение из этого объекта, нужно указать набор ключей. Например, если мы хотим узнать 90-ю перцентиль возраста выживших пассажиров второго класса, мы можем написать такой код:"
   ]
  },
  {
   "cell_type": "code",
   "execution_count": 8,
   "metadata": {},
   "outputs": [
    {
     "data": {
      "text/plain": [
       "44.70000000000002"
      ]
     },
     "execution_count": 8,
     "metadata": {},
     "output_type": "execute_result"
    }
   ],
   "source": [
    "obj = df.groupby(['Class', 'Survived'])[\"Age\"].quantile(0.9)\n",
    "obj[2.0, 1.0] # здесь 2.0 - класс, а 1.0 - признак того, что пассажир выжил"
   ]
  },
  {
   "cell_type": "markdown",
   "metadata": {},
   "source": [
    "Полученный результат означает, что 90% пассажиров второго класса, возраст которых меньше либо равен 44.7 выжили."
   ]
  },
  {
   "cell_type": "markdown",
   "metadata": {},
   "source": [
    "## Фильтрация данных в *Pandas*"
   ]
  },
  {
   "cell_type": "markdown",
   "metadata": {},
   "source": [
    "Чтобы отбросить лишние элементы, достаточно проиндексировать исходный массив полученным фильтрующим массивом:"
   ]
  },
  {
   "cell_type": "code",
   "execution_count": 9,
   "metadata": {},
   "outputs": [
    {
     "data": {
      "text/html": [
       "<div>\n",
       "<style scoped>\n",
       "    .dataframe tbody tr th:only-of-type {\n",
       "        vertical-align: middle;\n",
       "    }\n",
       "\n",
       "    .dataframe tbody tr th {\n",
       "        vertical-align: top;\n",
       "    }\n",
       "\n",
       "    .dataframe thead th {\n",
       "        text-align: right;\n",
       "    }\n",
       "</style>\n",
       "<table border=\"1\" class=\"dataframe\">\n",
       "  <thead>\n",
       "    <tr style=\"text-align: right;\">\n",
       "      <th></th>\n",
       "      <th>PassengerId</th>\n",
       "      <th>Survived</th>\n",
       "      <th>Pclass</th>\n",
       "      <th>Name</th>\n",
       "      <th>Sex</th>\n",
       "      <th>Age</th>\n",
       "      <th>SibSp</th>\n",
       "      <th>Parch</th>\n",
       "      <th>Ticket</th>\n",
       "      <th>Fare</th>\n",
       "      <th>...</th>\n",
       "      <th>Embarked</th>\n",
       "      <th>WikiId</th>\n",
       "      <th>Name_wiki</th>\n",
       "      <th>Age_wiki</th>\n",
       "      <th>Hometown</th>\n",
       "      <th>Boarded</th>\n",
       "      <th>Destination</th>\n",
       "      <th>Lifeboat</th>\n",
       "      <th>Body</th>\n",
       "      <th>Class</th>\n",
       "    </tr>\n",
       "  </thead>\n",
       "  <tbody>\n",
       "    <tr>\n",
       "      <th>1</th>\n",
       "      <td>2</td>\n",
       "      <td>1.0</td>\n",
       "      <td>1</td>\n",
       "      <td>Cumings, Mrs. John Bradley (Florence Briggs Th...</td>\n",
       "      <td>female</td>\n",
       "      <td>38.0</td>\n",
       "      <td>1</td>\n",
       "      <td>0</td>\n",
       "      <td>PC 17599</td>\n",
       "      <td>71.2833</td>\n",
       "      <td>...</td>\n",
       "      <td>C</td>\n",
       "      <td>90.0</td>\n",
       "      <td>Cumings, Mrs. Florence Briggs (née Thayer)</td>\n",
       "      <td>35.0</td>\n",
       "      <td>New York, New York, US</td>\n",
       "      <td>Cherbourg</td>\n",
       "      <td>New York, New York, US</td>\n",
       "      <td>4</td>\n",
       "      <td>NaN</td>\n",
       "      <td>1.0</td>\n",
       "    </tr>\n",
       "    <tr>\n",
       "      <th>2</th>\n",
       "      <td>3</td>\n",
       "      <td>1.0</td>\n",
       "      <td>3</td>\n",
       "      <td>Heikkinen, Miss. Laina</td>\n",
       "      <td>female</td>\n",
       "      <td>26.0</td>\n",
       "      <td>0</td>\n",
       "      <td>0</td>\n",
       "      <td>STON/O2. 3101282</td>\n",
       "      <td>7.9250</td>\n",
       "      <td>...</td>\n",
       "      <td>S</td>\n",
       "      <td>865.0</td>\n",
       "      <td>Heikkinen, Miss Laina</td>\n",
       "      <td>26.0</td>\n",
       "      <td>Jyväskylä, Finland</td>\n",
       "      <td>Southampton</td>\n",
       "      <td>New York City</td>\n",
       "      <td>14?</td>\n",
       "      <td>NaN</td>\n",
       "      <td>3.0</td>\n",
       "    </tr>\n",
       "    <tr>\n",
       "      <th>3</th>\n",
       "      <td>4</td>\n",
       "      <td>1.0</td>\n",
       "      <td>1</td>\n",
       "      <td>Futrelle, Mrs. Jacques Heath (Lily May Peel)</td>\n",
       "      <td>female</td>\n",
       "      <td>35.0</td>\n",
       "      <td>1</td>\n",
       "      <td>0</td>\n",
       "      <td>113803</td>\n",
       "      <td>53.1000</td>\n",
       "      <td>...</td>\n",
       "      <td>S</td>\n",
       "      <td>127.0</td>\n",
       "      <td>Futrelle, Mrs. Lily May (née Peel)</td>\n",
       "      <td>35.0</td>\n",
       "      <td>Scituate, Massachusetts, US</td>\n",
       "      <td>Southampton</td>\n",
       "      <td>Scituate, Massachusetts, US</td>\n",
       "      <td>D</td>\n",
       "      <td>NaN</td>\n",
       "      <td>1.0</td>\n",
       "    </tr>\n",
       "    <tr>\n",
       "      <th>8</th>\n",
       "      <td>9</td>\n",
       "      <td>1.0</td>\n",
       "      <td>3</td>\n",
       "      <td>Johnson, Mrs. Oscar W (Elisabeth Vilhelmina Berg)</td>\n",
       "      <td>female</td>\n",
       "      <td>27.0</td>\n",
       "      <td>0</td>\n",
       "      <td>2</td>\n",
       "      <td>347742</td>\n",
       "      <td>11.1333</td>\n",
       "      <td>...</td>\n",
       "      <td>S</td>\n",
       "      <td>902.0</td>\n",
       "      <td>Johnson, Mrs. Elisabeth Vilhelmina (née Berg)</td>\n",
       "      <td>26.0</td>\n",
       "      <td>St. Charles, Illinois, US</td>\n",
       "      <td>Southampton</td>\n",
       "      <td>St. Charles, Illinois, US</td>\n",
       "      <td>15</td>\n",
       "      <td>NaN</td>\n",
       "      <td>3.0</td>\n",
       "    </tr>\n",
       "    <tr>\n",
       "      <th>9</th>\n",
       "      <td>10</td>\n",
       "      <td>1.0</td>\n",
       "      <td>2</td>\n",
       "      <td>Nasser, Mrs. Nicholas (Adele Achem)</td>\n",
       "      <td>female</td>\n",
       "      <td>14.0</td>\n",
       "      <td>1</td>\n",
       "      <td>0</td>\n",
       "      <td>237736</td>\n",
       "      <td>30.0708</td>\n",
       "      <td>...</td>\n",
       "      <td>C</td>\n",
       "      <td>520.0</td>\n",
       "      <td>Nassr Allah, Mrs. Adal (née Akim)[62][77]</td>\n",
       "      <td>14.0</td>\n",
       "      <td>Zahlé, Lebanon, Ottoman Empire</td>\n",
       "      <td>Cherbourg</td>\n",
       "      <td>Cleveland, Ohio, US</td>\n",
       "      <td>?</td>\n",
       "      <td>NaN</td>\n",
       "      <td>2.0</td>\n",
       "    </tr>\n",
       "  </tbody>\n",
       "</table>\n",
       "<p>5 rows × 21 columns</p>\n",
       "</div>"
      ],
      "text/plain": [
       "   PassengerId  Survived  Pclass  \\\n",
       "1            2       1.0       1   \n",
       "2            3       1.0       3   \n",
       "3            4       1.0       1   \n",
       "8            9       1.0       3   \n",
       "9           10       1.0       2   \n",
       "\n",
       "                                                Name     Sex   Age  SibSp  \\\n",
       "1  Cumings, Mrs. John Bradley (Florence Briggs Th...  female  38.0      1   \n",
       "2                             Heikkinen, Miss. Laina  female  26.0      0   \n",
       "3       Futrelle, Mrs. Jacques Heath (Lily May Peel)  female  35.0      1   \n",
       "8  Johnson, Mrs. Oscar W (Elisabeth Vilhelmina Berg)  female  27.0      0   \n",
       "9                Nasser, Mrs. Nicholas (Adele Achem)  female  14.0      1   \n",
       "\n",
       "   Parch            Ticket     Fare  ... Embarked WikiId  \\\n",
       "1      0          PC 17599  71.2833  ...        C   90.0   \n",
       "2      0  STON/O2. 3101282   7.9250  ...        S  865.0   \n",
       "3      0            113803  53.1000  ...        S  127.0   \n",
       "8      2            347742  11.1333  ...        S  902.0   \n",
       "9      0            237736  30.0708  ...        C  520.0   \n",
       "\n",
       "                                       Name_wiki Age_wiki  \\\n",
       "1     Cumings, Mrs. Florence Briggs (née Thayer)     35.0   \n",
       "2                          Heikkinen, Miss Laina     26.0   \n",
       "3             Futrelle, Mrs. Lily May (née Peel)     35.0   \n",
       "8  Johnson, Mrs. Elisabeth Vilhelmina (née Berg)     26.0   \n",
       "9      Nassr Allah, Mrs. Adal (née Akim)[62][77]     14.0   \n",
       "\n",
       "                         Hometown      Boarded                  Destination  \\\n",
       "1          New York, New York, US    Cherbourg       New York, New York, US   \n",
       "2              Jyväskylä, Finland  Southampton                New York City   \n",
       "3     Scituate, Massachusetts, US  Southampton  Scituate, Massachusetts, US   \n",
       "8       St. Charles, Illinois, US  Southampton    St. Charles, Illinois, US   \n",
       "9  Zahlé, Lebanon, Ottoman Empire    Cherbourg          Cleveland, Ohio, US   \n",
       "\n",
       "  Lifeboat Body Class  \n",
       "1        4  NaN   1.0  \n",
       "2      14?  NaN   3.0  \n",
       "3        D  NaN   1.0  \n",
       "8       15  NaN   3.0  \n",
       "9        ?  NaN   2.0  \n",
       "\n",
       "[5 rows x 21 columns]"
      ]
     },
     "execution_count": 9,
     "metadata": {},
     "output_type": "execute_result"
    }
   ],
   "source": [
    "survived = df[df['Survived'] == 1.0]\n",
    "survived.head(5)"
   ]
  },
  {
   "cell_type": "markdown",
   "metadata": {},
   "source": [
    "Здесь выражение `data['Survived'] == 1.0` возвращает булевский массив, в котором на месте элементов, прошедших фильтр, стоит *True*. Далее мы фильтруем нашу исходную таблицу по полученной маске. В следующем примере мы выводим количества выживших мужчин и женщин:"
   ]
  },
  {
   "cell_type": "code",
   "execution_count": 10,
   "metadata": {},
   "outputs": [
    {
     "data": {
      "text/plain": [
       "female    233\n",
       "male      109\n",
       "Name: Sex, dtype: int64"
      ]
     },
     "execution_count": 10,
     "metadata": {},
     "output_type": "execute_result"
    }
   ],
   "source": [
    "df[df['Survived'] == 1.0]['Sex'].value_counts()"
   ]
  },
  {
   "cell_type": "markdown",
   "metadata": {},
   "source": [
    "Таким же образом мы можем написать и сложное условие для фильтрации:"
   ]
  },
  {
   "cell_type": "code",
   "execution_count": 11,
   "metadata": {},
   "outputs": [
    {
     "data": {
      "text/plain": [
       "female    144\n",
       "male       64\n",
       "Name: Sex, dtype: int64"
      ]
     },
     "execution_count": 11,
     "metadata": {},
     "output_type": "execute_result"
    }
   ],
   "source": [
    "df[(df['Age'] > 20) & (df['Survived'] > 0)]['Sex'].value_counts()"
   ]
  },
  {
   "cell_type": "markdown",
   "metadata": {},
   "source": [
    "> Обратите внимание, что условия нужно писать в скобках."
   ]
  },
  {
   "cell_type": "markdown",
   "metadata": {},
   "source": [
    "## Арифметические операции\n",
    "\n",
    "С помощью Pandas можно применять арифметические операции сразу ко всей таблице, например, [умножить ее целиком на какое-либо число](https://pandas.pydata.org/pandas-docs/stable/reference/api/pandas.DataFrame.mul.html). Такую операцию можно выполнять как с помощью методов, например, mul, так и с помощью обычной оператора умножения:"
   ]
  },
  {
   "cell_type": "code",
   "execution_count": 12,
   "metadata": {},
   "outputs": [
    {
     "data": {
      "text/plain": [
       "Class\n",
       "1.0    63.133641\n",
       "2.0    47.252747\n",
       "3.0    24.081633\n",
       "Name: Survived, dtype: float64"
      ]
     },
     "execution_count": 12,
     "metadata": {},
     "output_type": "execute_result"
    }
   ],
   "source": [
    "df.groupby(['Class'])['Survived'].mean().mul(100)"
   ]
  },
  {
   "cell_type": "code",
   "execution_count": 13,
   "metadata": {},
   "outputs": [
    {
     "data": {
      "text/plain": [
       "Class\n",
       "1.0    63.133641\n",
       "2.0    47.252747\n",
       "3.0    24.081633\n",
       "Name: Survived, dtype: float64"
      ]
     },
     "execution_count": 13,
     "metadata": {},
     "output_type": "execute_result"
    }
   ],
   "source": [
    "df.groupby(['Class'])['Survived'].mean() * 100"
   ]
  },
  {
   "cell_type": "markdown",
   "metadata": {},
   "source": [
    "Обе эти операции выводят долю выживших по классам в процентах.\n",
    "\n",
    "Таким же образом можно производить операции над столбцами. Следующий код увеличивает возраст всех пассажиров Титаника на 1 год:"
   ]
  },
  {
   "cell_type": "code",
   "execution_count": 14,
   "metadata": {},
   "outputs": [],
   "source": [
    "df['Age'] += 1"
   ]
  },
  {
   "cell_type": "markdown",
   "metadata": {},
   "source": [
    "## Выбор столбцов и строк\n",
    "\n",
    "*Pandas* позволяет фильтровать таблицу по строкам и столбцам. Для этого можно использовать метод `filter`. Он позволяет указать список столбцов/строк в явном виде, применить регулярное выражение или задать поиск по подстроке. Выберем из наших данных колонки с возрастом, классом обслуживания и информацией о том, выжил пассажир или нет:"
   ]
  },
  {
   "cell_type": "code",
   "execution_count": 15,
   "metadata": {},
   "outputs": [
    {
     "name": "stdout",
     "output_type": "stream",
     "text": [
      "<class 'pandas.core.frame.DataFrame'>\n",
      "RangeIndex: 1309 entries, 0 to 1308\n",
      "Data columns (total 3 columns):\n",
      " #   Column    Non-Null Count  Dtype  \n",
      "---  ------    --------------  -----  \n",
      " 0   Age       1046 non-null   float64\n",
      " 1   Class     1304 non-null   float64\n",
      " 2   Survived  891 non-null    float64\n",
      "dtypes: float64(3)\n",
      "memory usage: 30.8 KB\n"
     ]
    }
   ],
   "source": [
    "filtered = df.filter(items=['Age', 'Class', 'Survived'], axis=1)\n",
    "filtered.info()"
   ]
  },
  {
   "cell_type": "markdown",
   "metadata": {},
   "source": [
    "В результате мы получим новый *DataFrame* под названием `filtered`, который будет содержать только 3 выбранных нами столбца:"
   ]
  },
  {
   "cell_type": "code",
   "execution_count": 16,
   "metadata": {},
   "outputs": [
    {
     "data": {
      "text/html": [
       "<div>\n",
       "<style scoped>\n",
       "    .dataframe tbody tr th:only-of-type {\n",
       "        vertical-align: middle;\n",
       "    }\n",
       "\n",
       "    .dataframe tbody tr th {\n",
       "        vertical-align: top;\n",
       "    }\n",
       "\n",
       "    .dataframe thead th {\n",
       "        text-align: right;\n",
       "    }\n",
       "</style>\n",
       "<table border=\"1\" class=\"dataframe\">\n",
       "  <thead>\n",
       "    <tr style=\"text-align: right;\">\n",
       "      <th></th>\n",
       "      <th>Age</th>\n",
       "      <th>Class</th>\n",
       "      <th>Survived</th>\n",
       "    </tr>\n",
       "  </thead>\n",
       "  <tbody>\n",
       "    <tr>\n",
       "      <th>0</th>\n",
       "      <td>23.0</td>\n",
       "      <td>3.0</td>\n",
       "      <td>0.0</td>\n",
       "    </tr>\n",
       "    <tr>\n",
       "      <th>1</th>\n",
       "      <td>39.0</td>\n",
       "      <td>1.0</td>\n",
       "      <td>1.0</td>\n",
       "    </tr>\n",
       "    <tr>\n",
       "      <th>2</th>\n",
       "      <td>27.0</td>\n",
       "      <td>3.0</td>\n",
       "      <td>1.0</td>\n",
       "    </tr>\n",
       "    <tr>\n",
       "      <th>3</th>\n",
       "      <td>36.0</td>\n",
       "      <td>1.0</td>\n",
       "      <td>1.0</td>\n",
       "    </tr>\n",
       "    <tr>\n",
       "      <th>4</th>\n",
       "      <td>36.0</td>\n",
       "      <td>3.0</td>\n",
       "      <td>0.0</td>\n",
       "    </tr>\n",
       "    <tr>\n",
       "      <th>...</th>\n",
       "      <td>...</td>\n",
       "      <td>...</td>\n",
       "      <td>...</td>\n",
       "    </tr>\n",
       "    <tr>\n",
       "      <th>1304</th>\n",
       "      <td>NaN</td>\n",
       "      <td>3.0</td>\n",
       "      <td>NaN</td>\n",
       "    </tr>\n",
       "    <tr>\n",
       "      <th>1305</th>\n",
       "      <td>40.0</td>\n",
       "      <td>1.0</td>\n",
       "      <td>NaN</td>\n",
       "    </tr>\n",
       "    <tr>\n",
       "      <th>1306</th>\n",
       "      <td>39.5</td>\n",
       "      <td>3.0</td>\n",
       "      <td>NaN</td>\n",
       "    </tr>\n",
       "    <tr>\n",
       "      <th>1307</th>\n",
       "      <td>NaN</td>\n",
       "      <td>3.0</td>\n",
       "      <td>NaN</td>\n",
       "    </tr>\n",
       "    <tr>\n",
       "      <th>1308</th>\n",
       "      <td>NaN</td>\n",
       "      <td>3.0</td>\n",
       "      <td>NaN</td>\n",
       "    </tr>\n",
       "  </tbody>\n",
       "</table>\n",
       "<p>1309 rows × 3 columns</p>\n",
       "</div>"
      ],
      "text/plain": [
       "       Age  Class  Survived\n",
       "0     23.0    3.0       0.0\n",
       "1     39.0    1.0       1.0\n",
       "2     27.0    3.0       1.0\n",
       "3     36.0    1.0       1.0\n",
       "4     36.0    3.0       0.0\n",
       "...    ...    ...       ...\n",
       "1304   NaN    3.0       NaN\n",
       "1305  40.0    1.0       NaN\n",
       "1306  39.5    3.0       NaN\n",
       "1307   NaN    3.0       NaN\n",
       "1308   NaN    3.0       NaN\n",
       "\n",
       "[1309 rows x 3 columns]"
      ]
     },
     "execution_count": 16,
     "metadata": {},
     "output_type": "execute_result"
    }
   ],
   "source": [
    "filtered"
   ]
  },
  {
   "cell_type": "markdown",
   "metadata": {},
   "source": [
    "В простых случаях, когда вам нужно просто выбрать столбцы по имени, вы можете использовать обычную индексацию. Например, `df['Age']` вернёт вам столбец с возрастами. После этого можно взять нужную строку: `df['Age'][1]`. Обратите внимание, что в этом случае столбцы и строки “перепутаны” - сначала идёт столбец, а потом строка. Это сделано для удобства обработки данных по столбцам: вспомните инструкцию `data['Age'] += 1` из предыдущего раздела.\n",
    "\n",
    "*Pandas* позволяет выбрать и несколько столбцов сразу - достаточно указать их список:"
   ]
  },
  {
   "cell_type": "code",
   "execution_count": 17,
   "metadata": {},
   "outputs": [
    {
     "data": {
      "text/html": [
       "<div>\n",
       "<style scoped>\n",
       "    .dataframe tbody tr th:only-of-type {\n",
       "        vertical-align: middle;\n",
       "    }\n",
       "\n",
       "    .dataframe tbody tr th {\n",
       "        vertical-align: top;\n",
       "    }\n",
       "\n",
       "    .dataframe thead th {\n",
       "        text-align: right;\n",
       "    }\n",
       "</style>\n",
       "<table border=\"1\" class=\"dataframe\">\n",
       "  <thead>\n",
       "    <tr style=\"text-align: right;\">\n",
       "      <th></th>\n",
       "      <th>Age</th>\n",
       "      <th>Survived</th>\n",
       "    </tr>\n",
       "  </thead>\n",
       "  <tbody>\n",
       "    <tr>\n",
       "      <th>0</th>\n",
       "      <td>23.0</td>\n",
       "      <td>0.0</td>\n",
       "    </tr>\n",
       "    <tr>\n",
       "      <th>1</th>\n",
       "      <td>39.0</td>\n",
       "      <td>1.0</td>\n",
       "    </tr>\n",
       "    <tr>\n",
       "      <th>2</th>\n",
       "      <td>27.0</td>\n",
       "      <td>1.0</td>\n",
       "    </tr>\n",
       "    <tr>\n",
       "      <th>3</th>\n",
       "      <td>36.0</td>\n",
       "      <td>1.0</td>\n",
       "    </tr>\n",
       "    <tr>\n",
       "      <th>4</th>\n",
       "      <td>36.0</td>\n",
       "      <td>0.0</td>\n",
       "    </tr>\n",
       "    <tr>\n",
       "      <th>...</th>\n",
       "      <td>...</td>\n",
       "      <td>...</td>\n",
       "    </tr>\n",
       "    <tr>\n",
       "      <th>1304</th>\n",
       "      <td>NaN</td>\n",
       "      <td>NaN</td>\n",
       "    </tr>\n",
       "    <tr>\n",
       "      <th>1305</th>\n",
       "      <td>40.0</td>\n",
       "      <td>NaN</td>\n",
       "    </tr>\n",
       "    <tr>\n",
       "      <th>1306</th>\n",
       "      <td>39.5</td>\n",
       "      <td>NaN</td>\n",
       "    </tr>\n",
       "    <tr>\n",
       "      <th>1307</th>\n",
       "      <td>NaN</td>\n",
       "      <td>NaN</td>\n",
       "    </tr>\n",
       "    <tr>\n",
       "      <th>1308</th>\n",
       "      <td>NaN</td>\n",
       "      <td>NaN</td>\n",
       "    </tr>\n",
       "  </tbody>\n",
       "</table>\n",
       "<p>1309 rows × 2 columns</p>\n",
       "</div>"
      ],
      "text/plain": [
       "       Age  Survived\n",
       "0     23.0       0.0\n",
       "1     39.0       1.0\n",
       "2     27.0       1.0\n",
       "3     36.0       1.0\n",
       "4     36.0       0.0\n",
       "...    ...       ...\n",
       "1304   NaN       NaN\n",
       "1305  40.0       NaN\n",
       "1306  39.5       NaN\n",
       "1307   NaN       NaN\n",
       "1308   NaN       NaN\n",
       "\n",
       "[1309 rows x 2 columns]"
      ]
     },
     "execution_count": 17,
     "metadata": {},
     "output_type": "execute_result"
    }
   ],
   "source": [
    "df[['Age', 'Survived']]"
   ]
  },
  {
   "cell_type": "markdown",
   "metadata": {},
   "source": [
    "Другой способ выбрать столбцы и строки - использовать свойство `loc`. В отличие от *Series*, `loc` принимает два аргумента: список строк и список столбцов. Если второй аргумент опустить, то будут выбраны все столбцы.\n",
    "\n",
    "Столбцы и строки в `loc` можно задавать множеством способов. Можно, например, указать их явно:\n",
    "\n",
    "- `df.loc[1, 'Age']` вернёт возраст пассажира с индексом 1\n",
    "- `df.loc[[0, 5], ['Age', 'Survived']]` вернёт датафрейм из пассажиров с индексами 0 и 5 с указанием их возрастов и информации о том, выжили ли они\n",
    "- `df.loc[50, ['Age', 'Sex']]` вернёт *Series* с возрастом и полом пассажира с индексом 50\n",
    "- `df.loc[7]` вернёт *Series* со всей информацией про пассажира с индексом 7\n",
    "\n",
    "Кроме того, если индексы столбцов и/или строк у вас числовые, вы можете перебирать их в стиле обычных *python*-списков. Например:\n",
    "\n",
    "- `df.loc[5:10]` выберет всех пассажиров с индексами от 5 до 9 включительно\n",
    "- `df.loc[1300::2]` выберет всех пассажиров с чётными индексами, большими или равными 1300\n",
    "\n",
    "Мы узнали множество способов выбрать строки и столбцы в таблице, но не упомянули, как взять строку или столбец по индексу. Для этого существует свойство `iloc`. По аналогии с одноимённым свойством в *Series* оно работает так:\n",
    "\n",
    "- `df.iloc[i]` вернёт строку с индексом *i* в виде объекта *Series*\n",
    "- `df.iloc[:,i]` вернёт столбец с индексом *i* в виде объекта *Series*\n",
    "- `df.iloc[::2]` вернёт все строки с чётными индексами\n",
    "\n",
    "Наконец, можно узнать размеры таблицы, посмотрев на свойство `df.shape`."
   ]
  },
  {
   "cell_type": "code",
   "execution_count": 18,
   "metadata": {},
   "outputs": [
    {
     "data": {
      "text/plain": [
       "(1309, 21)"
      ]
     },
     "execution_count": 18,
     "metadata": {},
     "output_type": "execute_result"
    }
   ],
   "source": [
    "df.shape"
   ]
  },
  {
   "cell_type": "markdown",
   "metadata": {},
   "source": [
    "## Статистические показатели\n",
    "\n",
    "*Pandas* позволяет фильтровать таблицу по строкам и столбцам. Для этого можно использовать метод `filter`. Он позволяет указать список столбцов/строк в явном виде, применить регулярное выражение или задать поиск по подстроке. Выберем из наших данных колонки с возрастом, классом обслуживания и информацией о том, выжил пассажир или нет.\n",
    "\n",
    "Помимо уже упоминавшихся `mean()`, `median()` и `percentile()`, *Pandas* позволяет, например, считать попарную корреляцию между всеми столбцами. Рассмотрим ее на конкретном примере и применим этот метод к предыдущим данным:"
   ]
  },
  {
   "cell_type": "code",
   "execution_count": 19,
   "metadata": {},
   "outputs": [
    {
     "data": {
      "text/html": [
       "<div>\n",
       "<style scoped>\n",
       "    .dataframe tbody tr th:only-of-type {\n",
       "        vertical-align: middle;\n",
       "    }\n",
       "\n",
       "    .dataframe tbody tr th {\n",
       "        vertical-align: top;\n",
       "    }\n",
       "\n",
       "    .dataframe thead th {\n",
       "        text-align: right;\n",
       "    }\n",
       "</style>\n",
       "<table border=\"1\" class=\"dataframe\">\n",
       "  <thead>\n",
       "    <tr style=\"text-align: right;\">\n",
       "      <th></th>\n",
       "      <th>Age</th>\n",
       "      <th>Class</th>\n",
       "      <th>Survived</th>\n",
       "    </tr>\n",
       "  </thead>\n",
       "  <tbody>\n",
       "    <tr>\n",
       "      <th>Age</th>\n",
       "      <td>1.000000</td>\n",
       "      <td>-0.406132</td>\n",
       "      <td>-0.077221</td>\n",
       "    </tr>\n",
       "    <tr>\n",
       "      <th>Class</th>\n",
       "      <td>-0.406132</td>\n",
       "      <td>1.000000</td>\n",
       "      <td>-0.341829</td>\n",
       "    </tr>\n",
       "    <tr>\n",
       "      <th>Survived</th>\n",
       "      <td>-0.077221</td>\n",
       "      <td>-0.341829</td>\n",
       "      <td>1.000000</td>\n",
       "    </tr>\n",
       "  </tbody>\n",
       "</table>\n",
       "</div>"
      ],
      "text/plain": [
       "               Age     Class  Survived\n",
       "Age       1.000000 -0.406132 -0.077221\n",
       "Class    -0.406132  1.000000 -0.341829\n",
       "Survived -0.077221 -0.341829  1.000000"
      ]
     },
     "execution_count": 19,
     "metadata": {},
     "output_type": "execute_result"
    }
   ],
   "source": [
    "filtered = df.filter(items=['Age', 'Class', 'Survived'], axis=1)\n",
    "filtered.corr()"
   ]
  },
  {
   "cell_type": "markdown",
   "metadata": {},
   "source": [
    "Изучив эти данные, мы увидим следующие зависимости. Во-первых, люди старшего возраста могли себе позволить более высокий класс обслуживания (с меньшим номером класса), этот вывод следует из отрицательной корреляции: увеличение возраста ведет к уменьшению номера класса. Во-вторых, люди в более высоком классе обслуживания имели больше шансов выжить."
   ]
  },
  {
   "cell_type": "markdown",
   "metadata": {},
   "source": [
    "## Проект\n",
    "\n",
    "![titanic](data/titanic.png)\n",
    "\n",
    "Мало найдется людей, которые не слышали про крушение атлантического лайнера **“Титаник”**. Самый большой на тот момент океанский лайнер столкнулся с айсбергом, что привело к гибели самого корабля и большинства находившихся на борту пассажиров: по различным данным, катастрофа унесла жизни от 1495 до 1635 человек из 2208 находившихся на борту. Крушение титаника глубоко отпечаталось в нашей культуре: этому событию посвящено множество литературных произведений (как документальных, так и художественных), десятки фильмов (самым известным из которых, пожалуй, является картина режиссера Джеймса Кэмерона). И даже первое соревнование на Kaggle **“Titanic: Machine Learning from Disaster”** (кстати, датасет мы позаимствовали отсюда) посвящено теме, которую мы избрали для проекта этой недели.\n",
    "\n",
    "> Пришло время применить полученные навыки программирования на языке *Python* к настоящей задаче машинного обучения!\n",
    "\n",
    "По итогам этого проекта вы обучите классификатор: модель, которая предсказывает гибель пассажира на борту Титаника и оценивает качество этого предсказания. Да, данные не самые веселые, но очень интересные. Проанализировав их и построив модель, можно прийти ко многим интересным социально-культурным выводам: что в начале 20-го века могло повлиять на то, выживет человек в катастрофе, или нет? Пол, возраст, социальный и экономический класс? Успешно решив проект (а в вас мы не сомневаемся), обязательно подумайте о важности тех или иных факторов.\n",
    "\n",
    "И да, науки о данных применяются в совершенно разных сферах: не только технических и экономических, но также и в истории, культуре, социологии и многих других. Если вам это покажется интересным, обратите внимание на область исследований [Digital Humanities](https://en.wikipedia.org/wiki/Digital_humanities)."
   ]
  },
  {
   "cell_type": "code",
   "execution_count": 20,
   "metadata": {},
   "outputs": [],
   "source": [
    "import numpy as np"
   ]
  },
  {
   "cell_type": "markdown",
   "metadata": {},
   "source": [
    "## Задание 1\n",
    "\n",
    "- Входные данные: *numpy*-массив `x` размера `(n, 2)` и два числа `p` и `q` (из промежутка `[0, 1]`).\n",
    "- Результат: напишите функцию `survive_or_not(x, p, q)`, моделирующую процесс выживания на Титанике, т. е., возвращающую *numpy*-массив размера `(n,)`, содержащий нули и единицы (1, если человек выжил, 0 в противном случае).\n",
    "\n",
    "Для начала давайте попробуем смоделировать процесс выживания на Титанике.\n",
    "\n",
    "Допустим, что выживание определяется всего двумя факторами: возраст и цена билета. Для определённости, введём следующий алгоритм:\n",
    "\n",
    "- изначально вероятность выжить равна 0.7\n",
    "- если возраст > 60, то вероятность умножается на `p` (0 < p < 1)\n",
    "- если цена < 50, то вероятность умножается на `q` (0 < q <1)\n",
    "\n",
    "Здесь `p` и `q` - какие-то два числа из промежутка `[0, 1]`, это параметры процесса.\n",
    "Мы сильно упростили модель, считаем, что на выживаемость влияет только возраст и цена билета. В зависимости от них мы получаем некоторую вероятность, а потом подкидываем монетку. В этом процессе есть `p` и `q` - какие-то числа. Скажем, если мы возьмём `p=0.5`, а `q=0.7`, то у нас будет один процесс, если `p` и `q` изменить, то и процесс будет иным.\n",
    "\n",
    "Таким образом, у вас есть два входящих сигнала - возраст и цена билета. Исходя из этих сигналов вы формируете вероятность выживания `prob` по приведённым выше правилам. После того, как вы определили эту вероятность, вы подкидываете несимметричную монетку, которая с полученной вероятностью `prob` выпадает орлом, а с вероятностью `(1-prob)` - решкой. Если выпал орёл, вы возвращаете результат **“пассажир выживет”**.\n",
    "\n",
    "В данной задаче от вас требуется написать функцию `survive_or_not(x, p, q)`, моделирующую этот процесс. Для имитации подбрасывания монетки вы можете использовать `np.random.binomial(1, prob)`, где `prob` - *numpy*-массив с вероятностями выживаемости.\n",
    "\n",
    "- **Sample Input**: `survive_or_not(np.array([[30, 250], [75, 20]]), 0.5, 0.5)`\n",
    "- **Sample Output**: `np.array([1, 0])`"
   ]
  },
  {
   "cell_type": "code",
   "execution_count": 21,
   "metadata": {},
   "outputs": [],
   "source": [
    "def survive_or_not(x: np.array, p: float, q: float) -> np.array:\n",
    "    age = 0\n",
    "    price = 1\n",
    "    prob = np.ones(x.shape[0]) * 0.7\n",
    "    prob[x[:, age] > 60] *= p\n",
    "    prob[x[:, price] < 50] *= q\n",
    "    return np.random.binomial(1, prob)"
   ]
  },
  {
   "cell_type": "code",
   "execution_count": 22,
   "metadata": {},
   "outputs": [
    {
     "data": {
      "text/plain": [
       "array([0, 0])"
      ]
     },
     "execution_count": 22,
     "metadata": {},
     "output_type": "execute_result"
    }
   ],
   "source": [
    "survive_or_not(np.array([[30, 250], [75, 20]]), 0.5, 0.5)"
   ]
  },
  {
   "cell_type": "markdown",
   "metadata": {},
   "source": [
    "## Задание 2\n",
    "\n",
    "- Входные данные: *numpy*-массив `predictions` с вероятностями, *numpy*-массив `answers` с ответами на вопрос “Выжил ли пассажир?” (0, если не выжил и 1, если выжил).\n",
    "- Результат: реализуйте функцию `classification_loss(predictions, answers)`, вычисляющую усреднённую кросс-энтропию между `predictions` и `answers`.\n",
    "\n",
    "Целью машинного обучения является подбор модели и оптимальных значений параметров этой модели. Обычно разработчик имеет некоторое представление о том, как устроен процесс, который он хочет смоделировать. Однако, нередко бывает и так, что сам процесс понятен, но его параметры неизвестны.\n",
    "\n",
    "Вернемся к примеру из первой задачи: можно представлять как устроен процесс, но при этом не знать конкретные значения параметров `p` и `q` (в первой задаче проекта эти параметры были нам заданы, а сейчас они от нас скрыты и наша задача - определить их). Оптимальные значения параметров (т. е., такие параметры при которых модель будет максимально соответствовать реальному процессу) обычно определяются следующим образом: выбирается некоторая функция ошибки (иногда переводится как функция потерь) и ставится цель - минимизировать эту ошибку.\n",
    "\n",
    "Грубо говоря, подбор оптимальных параметров для модели можно сравнить с регулировкой температуры воды в душе, когда подкручивается вентиль горячего и холодного крана до комфортной для кожи температуры.\n",
    "\n",
    "В этой задаче необходимо реализовать функцию ошибки для задачи бинарной классификации (Cross Entropy Loss) - это когда возможны только два значения (прямо как в нашем случае): пассажир либо выжил, либо нет. Ранее вы предсказали вероятность выживания `prob` (это то число, которое вы вычислили до подбрасывания монетки), а правильный ответ равен `y` (1, если пассажир выжил, 0 в противном случае), то значение функции ошибки будет равно:\n",
    "\n",
    "`-(log(prob) * y + log(1-prob) * (1-y))`\n",
    "\n",
    "Данная формула вычисляет кросс-энтропию для одного примера. У нас же их несколько, поэтому нужно просто усреднить эти значения.\n",
    "\n",
    "Напишите функцию `classification_loss(predictions, answers)`, принимающую предсказания `predictions` и правильные ответы `answers` и возвращающую усреднённую кросс-энтропию. Используйте *numpy* для всех вычислений.\n",
    "\n",
    "- **Sample input**: `classification_loss(np.array([0.2, 0.2]) , np.array([1, 0]))`\n",
    "- **Sample output**: 0.916290731874155"
   ]
  },
  {
   "cell_type": "code",
   "execution_count": 23,
   "metadata": {},
   "outputs": [],
   "source": [
    "def classification_loss(predictions: np.array, answers: np.array) -> float:\n",
    "    loss = (np.log(predictions) * answers + np.log(1 - predictions) * (1 - answers)) * -1\n",
    "    return loss.mean()"
   ]
  },
  {
   "cell_type": "code",
   "execution_count": 24,
   "metadata": {},
   "outputs": [
    {
     "data": {
      "text/plain": [
       "0.916290731874155"
      ]
     },
     "execution_count": 24,
     "metadata": {},
     "output_type": "execute_result"
    }
   ],
   "source": [
    "classification_loss(np.array([0.2, 0.2]) , np.array([1, 0]))"
   ]
  },
  {
   "cell_type": "markdown",
   "metadata": {},
   "source": [
    "## Задание 3\n",
    "\n",
    "- Входные данные: *numpy*-массив `predictions` (0 или 1), *numpy*-массив answers (0 или 1).\n",
    "- Результат: реализуйте функцию `accuracy(predictions, answers)`, вычисляющую долю случаев, когда предсказание совпало с тем, что произошло на самом деле.\n",
    "\n",
    "Когда вы уже построили классификатор, полезно оценить, насколько он хорошо справляется со своей задачей. Некоторое представление об этом даёт функция потерь, но без некоторой подготовки бывает сложно интерпретировать её значение.\n",
    "\n",
    "Будет гораздо понятнее, если мы посчитаем, например, метрику `accuracy`, т. е., долю случаев, когда наш классификатор предсказал именно то, что произошло на самом деле.\n",
    "\n",
    "В этом задании вам на вход подаются два *numpy*-массива, оба содержат только числа 0 или 1. Вам нужно посчитать долю случаев, когда элемент в первом массиве равен соответствующему элементу во втором массиве.\n",
    "\n",
    "- **Sample input**: `accuracy(np.array([1, 0, 1, 1, 0]), np.array([0, 0, 1, 1, 1 ]))`\n",
    "- **Sample output**: 0.6"
   ]
  },
  {
   "cell_type": "code",
   "execution_count": 25,
   "metadata": {},
   "outputs": [],
   "source": [
    "def accuracy(predictions: np.array, answers: np.array) -> float:\n",
    "    correct = (predictions == answers).astype(int)\n",
    "    return np.mean(correct)"
   ]
  },
  {
   "cell_type": "code",
   "execution_count": 26,
   "metadata": {},
   "outputs": [
    {
     "data": {
      "text/plain": [
       "0.6"
      ]
     },
     "execution_count": 26,
     "metadata": {},
     "output_type": "execute_result"
    }
   ],
   "source": [
    "accuracy(np.array([1, 0, 1, 1, 0]), np.array([0, 0, 1, 1, 1 ]))"
   ]
  },
  {
   "cell_type": "markdown",
   "metadata": {},
   "source": [
    "## Задание 4\n",
    "\n",
    "- Входные данные: датафрейм `df` с данными пассажиров Титаника, возраст `age`.\n",
    "- Результат: реализуйте функцию `survived_ratio(df, age)`, возвращающую долю выживших пассажиров старше данного возраста `age`.\n",
    "\n",
    "Бытует мнение, что пожилым людям сложней выжить в чрезвычайной ситуации. Доверяй, но проверяй! Проверим это предположение на данных о возрастном составе пассажиров Титаника.\n",
    "\n",
    "В датафрейме `df` будет множество полей, среди них будут поля `Age` и `Survived`. Вам нужно написать функцию, вычисляющую долю выживших среди пассажиров старше чем данное число `age`.\n",
    "\n",
    "- **Sample input**: `survived_ratio(df, 40)`\n",
    "- **Sample output**: 0.36666666666666664"
   ]
  },
  {
   "cell_type": "code",
   "execution_count": 27,
   "metadata": {},
   "outputs": [],
   "source": [
    "def survived_ratio(df, age: float) -> float:\n",
    "    return df[df['Age'] > age]['Survived'].mean()"
   ]
  },
  {
   "cell_type": "code",
   "execution_count": 28,
   "metadata": {},
   "outputs": [
    {
     "data": {
      "text/plain": [
       "0.37423312883435583"
      ]
     },
     "execution_count": 28,
     "metadata": {},
     "output_type": "execute_result"
    }
   ],
   "source": [
    "survived_ratio(df, 40)"
   ]
  },
  {
   "cell_type": "markdown",
   "metadata": {},
   "source": [
    "## Задание 5\n",
    "\n",
    "- Входные данные: *Series*-объект `row` с данными пассажира.\n",
    "- Результат: реализуйте функцию `predict(row)`, возвращающую вероятность - выживет пассажир или нет (число от 0 до 1).\n",
    "\n",
    "И вот мы добрались до самого интересного! Вам предстоит построить полноценный классификатор для пассажиров Титаника. Предсказательные модели - одна из самых интересных задач наук о данных: возьмите изученные инструменты на вооружение и примерьте на себя роль оракула, который дает предсказания: выживет пассажир или погибнет.\n",
    "\n",
    "На вход вашей функции `predict(row)` будет поступать информация о пассажире. Функция должна вернуть вероятность того, что пассажир выжил (число от 0 до 1). Ваша задача - достичь *accuracy* не менее 75%.\n",
    "\n",
    "Например, следующий классификатор имеет *accuracy* примерно 0.59:\n",
    "\n",
    "```py\n",
    "def predict(row):\n",
    "    if row['Age'] > 50:\n",
    "        return 1\n",
    "    else:\n",
    "        return 0\n",
    "```"
   ]
  },
  {
   "cell_type": "code",
   "execution_count": 29,
   "metadata": {},
   "outputs": [],
   "source": [
    "survived = df[df['Survived'] == 1]"
   ]
  },
  {
   "cell_type": "code",
   "execution_count": 30,
   "metadata": {},
   "outputs": [
    {
     "data": {
      "text/plain": [
       "<matplotlib.axes._subplots.AxesSubplot at 0x7f688f33d760>"
      ]
     },
     "execution_count": 30,
     "metadata": {},
     "output_type": "execute_result"
    },
    {
     "data": {
      "image/png": "[encoded data removed]",
      "text/plain": [
       "<Figure size 432x288 with 1 Axes>"
      ]
     },
     "metadata": {
      "needs_background": "light"
     },
     "output_type": "display_data"
    }
   ],
   "source": [
    "survived[survived['Sex'] == 'female']['Age'].hist(bins=25)"
   ]
  },
  {
   "cell_type": "code",
   "execution_count": 31,
   "metadata": {},
   "outputs": [
    {
     "data": {
      "text/html": [
       "<div>\n",
       "<style scoped>\n",
       "    .dataframe tbody tr th:only-of-type {\n",
       "        vertical-align: middle;\n",
       "    }\n",
       "\n",
       "    .dataframe tbody tr th {\n",
       "        vertical-align: top;\n",
       "    }\n",
       "\n",
       "    .dataframe thead th {\n",
       "        text-align: right;\n",
       "    }\n",
       "</style>\n",
       "<table border=\"1\" class=\"dataframe\">\n",
       "  <thead>\n",
       "    <tr style=\"text-align: right;\">\n",
       "      <th></th>\n",
       "      <th>Age</th>\n",
       "      <th>Class</th>\n",
       "      <th>Survived</th>\n",
       "      <th>Fare</th>\n",
       "    </tr>\n",
       "  </thead>\n",
       "  <tbody>\n",
       "    <tr>\n",
       "      <th>Age</th>\n",
       "      <td>1.000000</td>\n",
       "      <td>-0.406132</td>\n",
       "      <td>-0.077221</td>\n",
       "      <td>0.178740</td>\n",
       "    </tr>\n",
       "    <tr>\n",
       "      <th>Class</th>\n",
       "      <td>-0.406132</td>\n",
       "      <td>1.000000</td>\n",
       "      <td>-0.341829</td>\n",
       "      <td>-0.552864</td>\n",
       "    </tr>\n",
       "    <tr>\n",
       "      <th>Survived</th>\n",
       "      <td>-0.077221</td>\n",
       "      <td>-0.341829</td>\n",
       "      <td>1.000000</td>\n",
       "      <td>0.257307</td>\n",
       "    </tr>\n",
       "    <tr>\n",
       "      <th>Fare</th>\n",
       "      <td>0.178740</td>\n",
       "      <td>-0.552864</td>\n",
       "      <td>0.257307</td>\n",
       "      <td>1.000000</td>\n",
       "    </tr>\n",
       "  </tbody>\n",
       "</table>\n",
       "</div>"
      ],
      "text/plain": [
       "               Age     Class  Survived      Fare\n",
       "Age       1.000000 -0.406132 -0.077221  0.178740\n",
       "Class    -0.406132  1.000000 -0.341829 -0.552864\n",
       "Survived -0.077221 -0.341829  1.000000  0.257307\n",
       "Fare      0.178740 -0.552864  0.257307  1.000000"
      ]
     },
     "execution_count": 31,
     "metadata": {},
     "output_type": "execute_result"
    }
   ],
   "source": [
    "df.filter(items=['Age', 'Class', 'Survived', 'Fare'], axis=1).corr()"
   ]
  },
  {
   "cell_type": "code",
   "execution_count": 32,
   "metadata": {},
   "outputs": [
    {
     "data": {
      "text/plain": [
       "0.7387318563789153"
      ]
     },
     "execution_count": 32,
     "metadata": {},
     "output_type": "execute_result"
    }
   ],
   "source": [
    "def predict(row: pd.Series) -> int:\n",
    "    if row['Sex'] == 'female':\n",
    "        return 1\n",
    "    return 0\n",
    "\n",
    "accuracy(\n",
    "    df.apply(predict, axis=1).values,\n",
    "    df['Survived'].fillna(0).values,\n",
    ")"
   ]
  },
  {
   "cell_type": "code",
   "execution_count": 33,
   "metadata": {},
   "outputs": [
    {
     "data": {
      "text/plain": [
       "0.7692895339954163"
      ]
     },
     "execution_count": 33,
     "metadata": {},
     "output_type": "execute_result"
    }
   ],
   "source": [
    "def predict(row: pd.Series) -> int:\n",
    "    if row['Sex'] == 'female' and row['Class'] == 1.0:\n",
    "        return 1\n",
    "    return 0\n",
    "\n",
    "accuracy(\n",
    "    df.apply(predict, axis=1).values,\n",
    "    df['Survived'].fillna(0).values,\n",
    ")"
   ]
  },
  {
   "cell_type": "code",
   "execution_count": 34,
   "metadata": {},
   "outputs": [
    {
     "data": {
      "text/plain": [
       "0.7868601986249045"
      ]
     },
     "execution_count": 34,
     "metadata": {},
     "output_type": "execute_result"
    }
   ],
   "source": [
    "def predict(row: pd.Series) -> int:\n",
    "    if row['Sex'] == 'female' and row['Class'] == 1.0 and row['Age'] < 53:\n",
    "        return 1\n",
    "    if row['Sex'] == 'female' and row['Class'] == 2.0 and row['Age'] < 45:\n",
    "        return 1\n",
    "    return 0\n",
    "\n",
    "accuracy(\n",
    "    df.apply(predict, axis=1).values,\n",
    "    df['Survived'].fillna(0).values,\n",
    ")"
   ]
  }
 ],
 "metadata": {
  "kernelspec": {
   "display_name": "Python 3",
   "language": "python",
   "name": "python3"
  },
  "language_info": {
   "codemirror_mode": {
    "name": "ipython",
    "version": 3
   },
   "file_extension": ".py",
   "mimetype": "text/x-python",
   "name": "python",
   "nbconvert_exporter": "python",
   "pygments_lexer": "ipython3",
   "version": "3.8.2"
  }
 },
 "nbformat": 4,
 "nbformat_minor": 4
}
