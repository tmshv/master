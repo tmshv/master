{
 "cells": [
  {
   "cell_type": "markdown",
   "metadata": {},
   "source": [
    "# Коронавирус\n",
    "\n",
    "Для выполнения задач этого проекта вам потребуется весь полученный ранее опыт. А применять его мы будем к теме, которая будоражит умы человечества с начала 2020 года: мы будем анализировать данные о заражениях *COVID-19*.\n",
    "\n",
    "Вы будете работать с данными, актуальными на 18 сентября 2020 года. Для начала [скачайте данные](https://raw.githubusercontent.com/owid/covid-19-data/master/public/data/owid-covid-data.json) из источника и сохраните их в файл `data/covid.json`.\n",
    "\n",
    "На самом верхнем уровне находится словарь, в котором ключ — это код страны. В значении лежат данные по стране. Полное название страны лежит в поле location. Кроме поля location в данных есть несколько полей с общей статистикой:\n",
    "\n",
    "|       Показатель      |              Описание             |\n",
    "|:---------------------:|:---------------------------------:|\n",
    "|      \"population\"     |         количество жителей        |\n",
    "|  \"population_density\" |        плотность населения        |\n",
    "|      \"median_age\"     |         медианный возраст         |\n",
    "|    \"aged_65_older\"    |      доля людей старше 65 лет     |\n",
    "|    \"aged_70_older\"    |      доля людей старше 70 лет     |\n",
    "| \"diabetes_prevalence\" |       доля людей с диабетом       |\n",
    "|   \"life_expectancy\"   | ожидаемая продолжительность жизни |\n",
    "\n",
    "…а также некоторые другие статистики.\n",
    "\n",
    "> Имейте в виду, что по некоторым странам есть неполные данные.\n",
    "\n",
    "Кроме того, в данном объекте есть поле *data* с собственно данными по заражениям. Оно указывает на массив (*list*) с данными, каждый элемент которого содержит следующие поля:\n",
    "\n",
    "|   Показатель   |           Описание          |\n",
    "|:--------------:|:---------------------------:|\n",
    "|     \"date\"     | дата (в формате YYYY-MM-DD) |\n",
    "|  \"total_cases\" |   общее количество случаев  |\n",
    "|   \"new_cases\"  |     новые случаи за день    |\n",
    "| \"total_deaths\" |   общее количество смертей  |\n",
    "|  \"new_deaths\"  |     новые смерти за день    |\n",
    "|  \"total_tests\" |   общее количество тестов   |\n",
    "|   \"new_tests\"  |     новые тесты за день     |\n",
    "\n",
    "Для зарегистрированных случаев и для количества смертей также указываются данные количества, нормированные на миллион населения (например, *new_cases_per_million*). Для тестов указывается количество тестов на тысячу населения (например, *new_tests_per_thousand*).\n",
    "\n",
    "> Имейте в виду, что не все страны передают все данные, поэтому какие-то поля могут отсутствовать."
   ]
  },
  {
   "cell_type": "code",
   "execution_count": 1,
   "metadata": {},
   "outputs": [
    {
     "name": "stdout",
     "output_type": "stream",
     "text": [
      "  % Total    % Received % Xferd  Average Speed   Time    Time     Time  Current\n",
      "                                 Dload  Upload   Total   Spent    Left  Speed\n",
      "100 34.2M  100 34.2M    0     0  85.0M      0 --:--:-- --:--:-- --:--:-- 85.0M\n"
     ]
    }
   ],
   "source": [
    "!curl \"https://raw.githubusercontent.com/owid/covid-19-data/master/public/data/owid-covid-data.json\" > data/covid.json"
   ]
  },
  {
   "cell_type": "code",
   "execution_count": 2,
   "metadata": {},
   "outputs": [],
   "source": [
    "import json\n",
    "import math"
   ]
  },
  {
   "cell_type": "code",
   "execution_count": 3,
   "metadata": {},
   "outputs": [],
   "source": [
    "data = json.load(open('data/covid.json', 'rt'))"
   ]
  },
  {
   "cell_type": "markdown",
   "metadata": {},
   "source": [
    "## Задание 1\n",
    "\n",
    "Результат: напишите функцию `max_value(value_name)`, которая вернёт название страны, у которой показатель `value_name` максимален.\n",
    "\n",
    "Давайте для начала найдём страны с максимальными показателями. На вход вашей функции придёт параметр `value_name`. Вам нужно вернуть `location` страны, у которой показатель `value_name` максимален.\n",
    "\n",
    "- Sample input: `max_value('median_age')`\n",
    "- Sample output: `\"Japan\"`"
   ]
  },
  {
   "cell_type": "code",
   "execution_count": 4,
   "metadata": {},
   "outputs": [],
   "source": [
    "def max_value(value_name: str) -> str:\n",
    "    xs = [(x['location'], x.get(value_name, 0))\n",
    "          for x in data.values()\n",
    "    ]\n",
    "    m = max(xs, key=lambda x: x[1])\n",
    "    return m[0]"
   ]
  },
  {
   "cell_type": "code",
   "execution_count": 5,
   "metadata": {},
   "outputs": [
    {
     "data": {
      "text/plain": [
       "'Japan'"
      ]
     },
     "execution_count": 5,
     "metadata": {},
     "output_type": "execute_result"
    }
   ],
   "source": [
    "max_value('median_age')"
   ]
  },
  {
   "cell_type": "markdown",
   "metadata": {},
   "source": [
    "# Задание 2\n",
    "\n",
    "Результат: напишите функцию `day_with_max_value(value_name)`, которая вернёт дату в августе (дата должна иметь вид `\"2020-08-DD\"`). Суммарный показатель `value_name` по всем странам в эту дату должен быть максимален (наш проверочный тест передаст в качестве `value_name` один из показателей поля `data`: например, `new_tests`, `total_deaths` и так далее).\n",
    "\n",
    "Теперь посмотрим на дневные показатели. Давайте найдём день в августе, в который сумма показателя `value_name` по всем странам была максимальна. Напишите функцию `day_with_max_value(value_name)`, которая вернёт строку, обозначающую этот день.\n",
    "\n",
    "- Sample input: `day_with_max_value(\"new_cases\")`\n",
    "- Sample output: `\"2020-08-13\"`"
   ]
  },
  {
   "cell_type": "code",
   "execution_count": 6,
   "metadata": {},
   "outputs": [],
   "source": [
    "def is_aug(record) -> bool:\n",
    "    date = record['date']\n",
    "    y, m, d = date.split('-')\n",
    "    return y == '2020' and m == '08'"
   ]
  },
  {
   "cell_type": "code",
   "execution_count": 7,
   "metadata": {},
   "outputs": [],
   "source": [
    "def day_with_max_value(value_name: str) -> str:\n",
    "    result = None\n",
    "    max_value = 0\n",
    "    for country in data.values():\n",
    "        for record in country['data']:\n",
    "            value = record.get(value_name, 0)\n",
    "            date = record['date']\n",
    "            if is_aug(record) and value > max_value:\n",
    "                result = date\n",
    "                max_value = value\n",
    "    return result"
   ]
  },
  {
   "cell_type": "code",
   "execution_count": 8,
   "metadata": {},
   "outputs": [
    {
     "data": {
      "text/plain": [
       "'2020-08-13'"
      ]
     },
     "execution_count": 8,
     "metadata": {},
     "output_type": "execute_result"
    }
   ],
   "source": [
    "day_with_max_value('new_cases')"
   ]
  },
  {
   "cell_type": "markdown",
   "metadata": {},
   "source": [
    "## Задание 3\n",
    "\n",
    "Результат: реализуйте функцию `correlation_cases_tests(country_code)`, возвращающую корреляцию между количеством тестов и количеством найденных случаев в августе.\n",
    "\n",
    "Теперь давайте посчитаем коэффициент корреляции между количеством тестов и количеством обнаруженных случаев.\n",
    "\n",
    "Вы можете использовать следующую функцию для её вычисления:"
   ]
  },
  {
   "cell_type": "code",
   "execution_count": 9,
   "metadata": {},
   "outputs": [],
   "source": [
    "def corr(data_x, data_y):\n",
    "    sx, sy, sxy, sx2, sy2, n = 0.0, 0.0, 0.0, 0.0, 0.0, 0\n",
    "    for x, y in zip(data_x, data_y):\n",
    "        sx += x\n",
    "        sx2 += x * x\n",
    "        sy += y\n",
    "        sy2 += y * y\n",
    "        sxy += x * y\n",
    "        n += 1\n",
    "    dd = math.sqrt((sx2 / n - (sx / n * sx / n)) * (sy2 / n - (sy / n * sy / n)))\n",
    "    if abs(dd) < 1e-5:\n",
    "        return None\n",
    "    return (sxy / n - sx / n * sy / n) / dd"
   ]
  },
  {
   "cell_type": "markdown",
   "metadata": {},
   "source": [
    "Этот коэффициент показывает, насколько зависимы сравниваемые величины. Если при росте одной наблюдается рост второй, то коэффициент будет близок к 1; если при росте одной наблюдается падение второй, то к -1. Если же зависимость не наблюдается, то коэффициент будет близок к 0.\n",
    "\n",
    "Если посчитать этот коэффициент для тестов и обнаруженных случаев, то можно получить несколько идей о происходящих процессах. Например, если корреляция отрицательная, это может говорить о том, что во время спада эпидемии страна резко нарастила количество тестов. Если корреляция высокая, то, вероятно, до какого-то момента тестов не хватало, а с ростом тестирования начала расти выявляемость.\n",
    "\n",
    "Если вы хотите сделать уверенные выводы, вам стоит смотреть на эти величины в динамике и принимать во внимание все факторы. Сама по себе корреляция ни о чём не говорит, но может натолкнуть вас на какие-то идеи.\n",
    "\n",
    "Напишите функцию `correlation_cases_tests(country_code)`, которая вернёт значение коэффициента корреляции между количеством тестов и количеством найденных случаев в августе. Если в какой-то день один из показателей отсутствует, возьмите его значение равным 0.\n",
    "\n",
    "- Sample input: `correlation_cases_tests(\"IND\")`\n",
    "- Sample output: `0.5935340285658485`"
   ]
  },
  {
   "cell_type": "code",
   "execution_count": 10,
   "metadata": {},
   "outputs": [],
   "source": [
    "def correlation_cases_tests(country_code: str) -> float:\n",
    "    country = data[country_code]\n",
    "\n",
    "    xs = [(x.get('new_cases', 0), x.get('new_tests', 0))\n",
    "        for x in country['data']\n",
    "        if is_aug(x)\n",
    "    ]\n",
    "    cases = [c for c, t in xs]\n",
    "    tests = [t for c, t in xs]\n",
    "\n",
    "    return corr(cases, tests) "
   ]
  },
  {
   "cell_type": "code",
   "execution_count": 11,
   "metadata": {},
   "outputs": [
    {
     "data": {
      "text/plain": [
       "0.5935340285658485"
      ]
     },
     "execution_count": 11,
     "metadata": {},
     "output_type": "execute_result"
    }
   ],
   "source": [
    "correlation_cases_tests('IND')"
   ]
  },
  {
   "cell_type": "markdown",
   "metadata": {},
   "source": [
    "## Задание 4\n",
    "\n",
    "Результат: реализуйте функцию `sigma(country_code, value_name)`.\n",
    "\n",
    "Мы хотим определить, насколько стабилен параметр `value_name` (например, количество зарегистрированных случаев). Для этого мы можем вычислить среднеквадратическое отклонение — корень из дисперсии. Вы уже сталкивались с этим показателем, когда выполняли задания по случайным величинам.\n",
    "\n",
    "Напомним, среднее и СКО можно посчитать так:"
   ]
  },
  {
   "cell_type": "code",
   "execution_count": 12,
   "metadata": {},
   "outputs": [],
   "source": [
    "def calc_mean_sigma(data):\n",
    "    sx, sx2, n = 0.0, 0.0, 0\n",
    "    for x in data:\n",
    "        sx += x\n",
    "        sx2 += x * x\n",
    "        n += 1\n",
    "    return (sx / n, math.sqrt(max(sx2 / n - sx / n * sx / n, 0)))"
   ]
  },
  {
   "cell_type": "markdown",
   "metadata": {},
   "source": [
    "Этот параметр показывает, насколько сильно «разбросан» показатель вокруг своего среднего значения.\n",
    "\n",
    "Как и в предыдущей задаче, это значение может дать вам некоторые идеи о происходящих процессах. Если разброс очень большой, то это может говорить о бурно развивающемся процессе. Возможно и другое объяснение: некоторые страны не публикуют статистику по выходным, а в начале недели, наоборот, возникают скачки. Если вы посмотрите на то, как СКО меняется со временем, вы можете выдвинуть некоторые гипотезы и попытаться их подтвердить.\n",
    "\n",
    "Ваша функция `sigma` должна принимать два параметра — `country_code` и `value_name`, и должна возвращать одно число — среднеквадратическое отклонение величины `value_name` за август.\n",
    "\n",
    "- Sample input: `sigma(\"GBR\", \"new_cases\")`\n",
    "- Sample output: `235.76391655560022`"
   ]
  },
  {
   "cell_type": "code",
   "execution_count": 13,
   "metadata": {},
   "outputs": [],
   "source": [
    "def sigma(country_code: str, value_name: str) -> float:\n",
    "    country = data[country_code]\n",
    "    xs = [x.get(value_name, 0)\n",
    "        for x in country['data']\n",
    "        if is_aug(x)\n",
    "    ]\n",
    "\n",
    "    return calc_mean_sigma(xs)[1]"
   ]
  },
  {
   "cell_type": "code",
   "execution_count": 14,
   "metadata": {},
   "outputs": [
    {
     "data": {
      "text/plain": [
       "235.76391655560022"
      ]
     },
     "execution_count": 14,
     "metadata": {},
     "output_type": "execute_result"
    }
   ],
   "source": [
    "sigma('GBR', 'new_cases')"
   ]
  },
  {
   "cell_type": "markdown",
   "metadata": {},
   "source": [
    "## Задание 5\n",
    "\n",
    "Результат: реализуйте функцию `sigma_norm(country_code, value_name)`.\n",
    "\n",
    "В предыдущей задаче мы вычислили среднеквадратическое отклонение. Для разных стран этот показатель сложно сравнивать, так как средние значения показателей в разных странах отличаются.\n",
    "\n",
    "Давайте попробуем нормировать СКО на матожидание величины. Формулы для вычисления СКО и среднего приведены в предыдущей задаче.\n",
    "\n",
    "На какие идеи вас могут натолкнуть вычисленные коэффициенты? Если матожидание достаточно большое, а дисперсия мала, это может говорить о стабилизировавшемся процессе и идеальной системе учёта случаев. А может, наоборот, о том, что данные искусственно помещаются в заданный коридор. Попробуйте посчитать нормированное СКО для разных показателей.\n",
    "\n",
    "Ваша функция `sigma_norm` должна принимать два параметра — `country_code` и `value_name`, и должна возвращать одно число — среднеквадратическое отклонение, разделённое на матожидание величины `value_name` в августе.\n",
    "\n",
    "- Sample input: `sigma_norm(\"RUS\", \"new_cases\")`\n",
    "- Sample output: `0.05748491556302192`"
   ]
  },
  {
   "cell_type": "code",
   "execution_count": 15,
   "metadata": {},
   "outputs": [],
   "source": [
    "def sigma_norm(country_code: str, value_name: str) -> float:\n",
    "    country = data[country_code]\n",
    "    xs = [x.get(value_name, 0)\n",
    "        for x in country['data']\n",
    "        if is_aug(x)\n",
    "    ]\n",
    "    mean, sigma = calc_mean_sigma(xs)\n",
    "    return sigma / mean"
   ]
  },
  {
   "cell_type": "code",
   "execution_count": 16,
   "metadata": {},
   "outputs": [
    {
     "data": {
      "text/plain": [
       "0.05748491556302192"
      ]
     },
     "execution_count": 16,
     "metadata": {},
     "output_type": "execute_result"
    }
   ],
   "source": [
    "sigma_norm('RUS', 'new_cases')"
   ]
  }
 ],
 "metadata": {
  "kernelspec": {
   "display_name": "Python 3",
   "language": "python",
   "name": "python3"
  },
  "language_info": {
   "codemirror_mode": {
    "name": "ipython",
    "version": 3
   },
   "file_extension": ".py",
   "mimetype": "text/x-python",
   "name": "python",
   "nbconvert_exporter": "python",
   "pygments_lexer": "ipython3",
   "version": "3.8.2"
  }
 },
 "nbformat": 4,
 "nbformat_minor": 4
}
