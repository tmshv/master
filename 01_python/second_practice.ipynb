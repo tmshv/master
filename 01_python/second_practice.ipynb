{
  "nbformat": 4,
  "nbformat_minor": 0,
  "metadata": {
    "colab": {
      "name": "second_practice.ipynb",
      "provenance": [],
      "collapsed_sections": []
    },
    "kernelspec": {
      "name": "python3",
      "display_name": "Python 3"
    }
  },
  "cells": [
    {
      "cell_type": "markdown",
      "metadata": {
        "id": "q9Rb-u__ueTr"
      },
      "source": [
        "**Трейдер**.\n",
        "\n",
        "Для успешного выполнения этого задания вам предлагается “залезть в шкуру” трейдера. Имеются исторические данные по курсам валют (подсказка: ищите нужные данные в Example 2)  от ЦБ России. Пусть ваша команда выберет 5 валют (выберите любые валюты, которые вам интересны) и найдите ответы на следующие вопросы:\n",
        "\n",
        "* для каждых последовательных 7 дней (например: 01.01.2000-07.01.2000, 02.01.2000-08.01.2000 и т. п.) найдите самую выгодную валюту - ту, относительно которой все остальные падали.\n",
        "\n",
        "* для каждого 30-дневного промежутка определите, на сколько процентов вы могли бы увеличить свой капитал за 30 дней, если бы знали курсы валют наперёд - считайте, что вечером вы можете перекладывать все ваши средства в одну или несколько валют, найдите самый выгодный такой период.\n",
        "\n",
        "* найдите наиболее и наименее коррелированные (по отношению друг к другу) валюты в каждом календарном году. Для этого посчитайте коэффициенты корреляции по данным за все 365/366 дней каждого года. Попробуйте выдвинуть гипотезы, почему случались те или иные взлёты/падения, в зависимости от политических и исторических событий."
      ]
    },
    {
      "cell_type": "code",
      "metadata": {
        "id": "XaM-PRPAuOSA",
        "outputId": "a9169512-ead1-4b46-a14c-0c941a907f9e",
        "colab": {
          "base_uri": "https://localhost:8080/",
          "height": 681
        }
      },
      "source": [
        "!pip install pandas_read_xml"
      ],
      "execution_count": null,
      "outputs": [
        {
          "output_type": "stream",
          "text": [
            "Collecting pandas_read_xml\n",
            "  Downloading https://files.pythonhosted.org/packages/ea/9e/6d16891cdec58961372d71179d421866cbefb787b34b4d9480a350e299c1/pandas_read_xml-0.0.7-py3-none-any.whl\n",
            "Requirement already satisfied: requests<3,>=2.23.0 in /usr/local/lib/python3.6/dist-packages (from pandas_read_xml) (2.23.0)\n",
            "Requirement already satisfied: pandas<2,>=1.0.3 in /usr/local/lib/python3.6/dist-packages (from pandas_read_xml) (1.1.2)\n",
            "Requirement already satisfied: idna<3,>=2.9 in /usr/local/lib/python3.6/dist-packages (from pandas_read_xml) (2.10)\n",
            "Collecting xmltodict<1,>=0.12.0\n",
            "  Downloading https://files.pythonhosted.org/packages/28/fd/30d5c1d3ac29ce229f6bdc40bbc20b28f716e8b363140c26eff19122d8a5/xmltodict-0.12.0-py2.py3-none-any.whl\n",
            "Requirement already satisfied: certifi<2021,>=2020.4.5.1 in /usr/local/lib/python3.6/dist-packages (from pandas_read_xml) (2020.6.20)\n",
            "Collecting pyarrow<1,>=0.17.0\n",
            "\u001b[?25l  Downloading https://files.pythonhosted.org/packages/ba/3f/6cac1714fff444664603f92cb9fbe91c7ae25375880158b9e9691c4584c8/pyarrow-0.17.1-cp36-cp36m-manylinux2014_x86_64.whl (63.8MB)\n",
            "\u001b[K     |████████████████████████████████| 63.8MB 58kB/s \n",
            "\u001b[?25hRequirement already satisfied: python-dateutil<3,>=2.8.1 in /usr/local/lib/python3.6/dist-packages (from pandas_read_xml) (2.8.1)\n",
            "Requirement already satisfied: six<2,>=1.14.0 in /usr/local/lib/python3.6/dist-packages (from pandas_read_xml) (1.15.0)\n",
            "Collecting pytz<2021,>=2020.1\n",
            "\u001b[?25l  Downloading https://files.pythonhosted.org/packages/4f/a4/879454d49688e2fad93e59d7d4efda580b783c745fd2ec2a3adf87b0808d/pytz-2020.1-py2.py3-none-any.whl (510kB)\n",
            "\u001b[K     |████████████████████████████████| 512kB 43.5MB/s \n",
            "\u001b[?25hRequirement already satisfied: numpy<2,>=1.18.4 in /usr/local/lib/python3.6/dist-packages (from pandas_read_xml) (1.18.5)\n",
            "Requirement already satisfied: chardet<4,>=3.0.4 in /usr/local/lib/python3.6/dist-packages (from pandas_read_xml) (3.0.4)\n",
            "Collecting urllib3<2,>=1.25.9\n",
            "\u001b[?25l  Downloading https://files.pythonhosted.org/packages/9f/f0/a391d1463ebb1b233795cabfc0ef38d3db4442339de68f847026199e69d7/urllib3-1.25.10-py2.py3-none-any.whl (127kB)\n",
            "\u001b[K     |████████████████████████████████| 133kB 44.9MB/s \n",
            "\u001b[31mERROR: kaggle 1.5.8 has requirement urllib3<1.25,>=1.21.1, but you'll have urllib3 1.25.10 which is incompatible.\u001b[0m\n",
            "\u001b[31mERROR: datascience 0.10.6 has requirement folium==0.2.1, but you'll have folium 0.8.3 which is incompatible.\u001b[0m\n",
            "\u001b[?25hInstalling collected packages: xmltodict, pyarrow, pytz, urllib3, pandas-read-xml\n",
            "  Found existing installation: pyarrow 0.14.1\n",
            "    Uninstalling pyarrow-0.14.1:\n",
            "      Successfully uninstalled pyarrow-0.14.1\n",
            "  Found existing installation: pytz 2018.9\n",
            "    Uninstalling pytz-2018.9:\n",
            "      Successfully uninstalled pytz-2018.9\n",
            "  Found existing installation: urllib3 1.24.3\n",
            "    Uninstalling urllib3-1.24.3:\n",
            "      Successfully uninstalled urllib3-1.24.3\n",
            "Successfully installed pandas-read-xml-0.0.7 pyarrow-0.17.1 pytz-2020.1 urllib3-1.25.10 xmltodict-0.12.0\n"
          ],
          "name": "stdout"
        },
        {
          "output_type": "display_data",
          "data": {
            "application/vnd.colab-display-data+json": {
              "pip_warning": {
                "packages": [
                  "pytz"
                ]
              }
            }
          },
          "metadata": {
            "tags": []
          }
        }
      ]
    },
    {
      "cell_type": "code",
      "metadata": {
        "id": "lEgugq-a1Hyz"
      },
      "source": [
        "import pandas as pd\n",
        "import pandas_read_xml as pdx\n",
        "\n",
        "\n",
        "# common code\n",
        "\n",
        "currency_codes = {\n",
        "    \"R01215\": \"Датская крона\",\n",
        "    \"R01310\": \"Исландская крона\", \n",
        "    \"R01035\": \"Фунт стерлингов Соединенного королевства\", \n",
        "    \"R01010\": \"Австралийский доллар\", \n",
        "    \"R01235\": \"Доллар США\",\n",
        "}\n",
        "\n",
        "\n",
        "def get_url(from_date: str, to_date: str, code: str) -> str:\n",
        "  \"\"\"Create Url with date range and country code.\"\"\"\n",
        "  return f\"http://www.cbr.ru/scripts/XML_dynamic.asp?date_req1={from_date}&date_req2={to_date}&VAL_NM_RQ={code}\"\n",
        "\n",
        "\n",
        "def create_and_clean_df(url: str) -> pd.DataFrame:\n",
        "  \"\"\"Create Dataframe from XML and convert `Value` to float.\"\"\"\n",
        "  df = pdx.read_xml(url, ['ValCurs', 'Record'])\n",
        "  df['Value'] = [x.replace(',', '.') for x in df['Value']]\n",
        "  df['Value'] = df['Value'].astype(float)\n",
        "  return df\n"
      ],
      "execution_count": null,
      "outputs": []
    },
    {
      "cell_type": "markdown",
      "metadata": {
        "id": "iFFfyLFXuzzm"
      },
      "source": [
        "1. для каждых последовательных 7 дней (например: 01.01.2000-07.01.2000, 02.01.2000-08.01.2000 и т. п.) найдите самую выгодную валюту - ту, относительно которой все остальные падали."
      ]
    },
    {
      "cell_type": "code",
      "metadata": {
        "id": "vsQvUiZ4uU3g"
      },
      "source": [
        "from typing import Dict\n",
        "\n",
        "\n",
        "def get_name_profitable(\n",
        "    from_date: str,\n",
        "    to_date: str,\n",
        "    currency_codes: Dict[str, str]\n",
        ") -> str:\n",
        "  \"\"\"Calculate the most profitable currency for a given period.\"\"\"\n",
        "  max_delta = float(\"-inf\")\n",
        "  name_profitable = ''\n",
        "  for currency_code, currency_name in currency_codes.items():\n",
        "    data = create_and_clean_df(get_url(from_date, to_date, currency_code))\n",
        "    data['Value'] = data['Value'].astype(float)\n",
        "    data['Nominal'] = data['Nominal'].astype(float)\n",
        "    data['Value'] =  data['Value'] / data['Nominal']\n",
        "    count_days = len(data['Value'])\n",
        "    delta = data['Value'][count_days-1] / data['Value'][0]\n",
        "    if max_delta < delta:\n",
        "      max_delta = delta\n",
        "      name_profitable = currency_name\n",
        "  return name_profitable\n",
        "\n",
        "def print_profitable_result(from_date, to_date, currency_codes):\n",
        "  print(f\"\"\"Самая выгодная валюта за период с {from_date} до {to_date}\n",
        "{get_name_profitable(from_date, to_date, currency_codes)}\"\"\")\n"
      ],
      "execution_count": null,
      "outputs": []
    },
    {
      "cell_type": "code",
      "metadata": {
        "id": "yFwPqPwj-3W_",
        "outputId": "85214ce3-888c-4a3c-a244-69847d9d7cab",
        "colab": {
          "base_uri": "https://localhost:8080/",
          "height": 51
        }
      },
      "source": [
        "from_date = \"01/03/2001\"\n",
        "to_date = \"07/03/2001\"\n",
        "\n",
        "print_profitable_result(from_date, to_date, currency_codes)"
      ],
      "execution_count": null,
      "outputs": [
        {
          "output_type": "stream",
          "text": [
            "Самая выгодная валюта за период с 01/03/2001 до 07/03/2001\n",
            "Фунт стерлингов Соединенного королевства\n"
          ],
          "name": "stdout"
        }
      ]
    },
    {
      "cell_type": "code",
      "metadata": {
        "id": "UF6NzYXB8Q5E",
        "outputId": "08722dbf-d94a-43ba-9e4d-0897fe2d0868",
        "colab": {
          "base_uri": "https://localhost:8080/",
          "height": 51
        }
      },
      "source": [
        "from_date = \"01/03/2002\"\n",
        "to_date = \"07/03/2002\"\n",
        "\n",
        "print_profitable_result(from_date, to_date, currency_codes)"
      ],
      "execution_count": null,
      "outputs": [
        {
          "output_type": "stream",
          "text": [
            "Самая выгодная валюта за период с 01/03/2002 до 07/03/2002\n",
            "Фунт стерлингов Соединенного королевства\n"
          ],
          "name": "stdout"
        }
      ]
    },
    {
      "cell_type": "code",
      "metadata": {
        "id": "yBblGrv6-Mvg",
        "outputId": "a15f21e5-6566-4b50-a471-d2b02aff88d9",
        "colab": {
          "base_uri": "https://localhost:8080/",
          "height": 51
        }
      },
      "source": [
        "from_date = \"01/03/2005\"\n",
        "to_date = \"07/03/2005\"\n",
        "\n",
        "print_profitable_result(from_date, to_date, currency_codes)"
      ],
      "execution_count": null,
      "outputs": [
        {
          "output_type": "stream",
          "text": [
            "Самая выгодная валюта за период с 01/03/2005 до 07/03/2005\n",
            "Исландская крона\n"
          ],
          "name": "stdout"
        }
      ]
    },
    {
      "cell_type": "markdown",
      "metadata": {
        "id": "OuHux3c5vX-V"
      },
      "source": [
        "2. для каждого 30-дневного промежутка определите, на сколько процентов вы могли бы увеличить свой капитал за 30 дней, если бы знали курсы валют наперёд - считайте, что вечером вы можете перекладывать все ваши средства в одну или несколько валют, найдите самый выгодный такой период."
      ]
    },
    {
      "cell_type": "code",
      "metadata": {
        "id": "08dzo2yAvhbH"
      },
      "source": [
        "dates = [\n",
        "  (\"02/03/2001\", \"02/04/2001\"),\n",
        "  (\"02/04/2001\", \"02/05/2001\"),\n",
        "  (\"02/05/2001\", \"02/06/2001\"),\n",
        "]"
      ],
      "execution_count": null,
      "outputs": []
    },
    {
      "cell_type": "code",
      "metadata": {
        "id": "ZkQFoUlA3NzR"
      },
      "source": [
        "from pandas._typing import FrameOrSeries\n",
        "from typing import List, Dict\n",
        "\n",
        "\n",
        "def buy_currency(money: float, percent: float) -> float:\n",
        "  \"\"\"Get currency profit for tommorow.\"\"\"\n",
        "  money *= (1+percent)\n",
        "  return money\n",
        "\n",
        "\n",
        "def get_value_pct_change(df: pd.DataFrame) -> FrameOrSeries:\n",
        "  \"\"\"Get percentage of change from one day to another.\"\"\"\n",
        "  return df['Value'].pct_change()\n",
        "\n",
        "\n",
        "def calculate_max_profit_period(\n",
        "    dates: List[tuple], \n",
        "    currency_codes: Dict[str, str]\n",
        ") -> str:\n",
        "  \"\"\"Calculate period with maximum possible profit from currency trading.\"\"\"\n",
        "  max_profit = 0\n",
        "  max_profit_period = None\n",
        "  \n",
        "  for date_tuple in dates:\n",
        "    money = 100.0\n",
        "    changes = []\n",
        "    for currency in currency_codes:\n",
        "      url = get_url(*date_tuple, code=currency)\n",
        "      df = create_and_clean_df(url)\n",
        "      changes.append(get_value_pct_change(df))\n",
        "\n",
        "    data = pd.DataFrame([df.values for df in changes])\n",
        "\n",
        "    for day in data:\n",
        "      max_value = data[day].max()\n",
        "      if max_value and max_value > 0:\n",
        "        money = buy_currency(money, max_value)\n",
        "\n",
        "    if money > max_profit:\n",
        "      max_profit = money\n",
        "      max_profit_period = date_tuple\n",
        "\n",
        "  answer = f\"\"\"Период с максимальной вожможной прибылью: \n",
        "{max_profit_period[0]} - {max_profit_period[1]} - {max_profit-100}%\"\"\"\n",
        "  return answer\n",
        "\n"
      ],
      "execution_count": null,
      "outputs": []
    },
    {
      "cell_type": "code",
      "metadata": {
        "id": "av-iUWCb3OLd",
        "outputId": "ec36f23d-b213-469e-9086-952ae8dac931",
        "colab": {
          "base_uri": "https://localhost:8080/",
          "height": 51
        }
      },
      "source": [
        "print(calculate_max_profit_period(dates, currency_codes))"
      ],
      "execution_count": null,
      "outputs": [
        {
          "output_type": "stream",
          "text": [
            "Период с максимальной вожможной прибылью: \n",
            "02/04/2001 - 02/05/2001 - 15.554178548688284%\n"
          ],
          "name": "stdout"
        }
      ]
    },
    {
      "cell_type": "markdown",
      "metadata": {
        "id": "DpnRdNw9GqXJ"
      },
      "source": [
        "3. найдите наиболее и наименее коррелированные (по отношению друг к другу) валюты в каждом календарном году. Для этого посчитайте коэффициенты корреляции по данным за все 365/366 дней каждого года. Попробуйте выдвинуть гипотезы, почему случались те или иные взлёты/падения, в зависимости от политических и исторических событий.\n"
      ]
    },
    {
      "cell_type": "code",
      "metadata": {
        "id": "W84P_19D3Odc"
      },
      "source": [
        "def get_currency_names(correlated: pd.DataFrame, position:int = 0) -> str:\n",
        "  \"\"\"Get currency name from correlated key.\"\"\"\n",
        "  correlation_key = correlated.keys()[0][position]\n",
        "  return currency_codes[correlation_key]\n",
        "\n",
        "\n",
        "def calculate_currency_correspondence(\n",
        "    currency_codes: Dict[str, str], \n",
        "    date_start: str, \n",
        "    date_to: str\n",
        ") -> str:\n",
        "  \"\"\"Calculate the most and the least corresponding currencies.\"\"\"\n",
        "  dfs = []\n",
        "  for code in currency_codes:\n",
        "    url = get_url(date_start, date_to, code)\n",
        "    df = create_and_clean_df(url)['Value']\n",
        "    dfs.append(df)\n",
        "    \n",
        "  data = pd.DataFrame([df.values for df in dfs], index=currency_codes)\n",
        "\n",
        "  correlation = data.T.corr().unstack()\n",
        "  correlation = correlation[correlation<1]\n",
        "\n",
        "  sorted_correlation = correlation.sort_values(ascending=True)\n",
        "\n",
        "  least_correlated = sorted_correlation[:1]\n",
        "  most_correlated = sorted_correlation[-1:]\n",
        "\n",
        "  least_corr_first_name = get_currency_names(least_correlated)\n",
        "  least_corr_second_name = get_currency_names(least_correlated, position=1)\n",
        "\n",
        "  most_corr_first_name = get_currency_names(most_correlated)\n",
        "  most_corr_second_name = get_currency_names(most_correlated, position=1)\n",
        "\n",
        "  answer = f\"\"\"Наименее зависимые валюты за период {date_start} - {date_to} - {least_corr_first_name} / {least_corr_second_name} со значением {least_correlated[0]}\n",
        "Наиболее зависимые валюты за период {date_start} - {date_to} - {most_corr_first_name} / {most_corr_second_name} со значением {most_correlated[0]}\n",
        "\"\"\"\n",
        "  return answer"
      ],
      "execution_count": null,
      "outputs": []
    },
    {
      "cell_type": "code",
      "metadata": {
        "id": "66BX6ZZXG0-_",
        "outputId": "1c0a4df0-1427-4c69-f6b7-b45539844bd6",
        "colab": {
          "base_uri": "https://localhost:8080/",
          "height": 68
        }
      },
      "source": [
        "date_start = \"02/03/2000\"\n",
        "date_to = \"02/03/2001\"\n",
        "print(calculate_currency_correspondence(currency_codes, date_start, date_to))\n"
      ],
      "execution_count": null,
      "outputs": [
        {
          "output_type": "stream",
          "text": [
            "Наименее зависимые валюты за период 02/03/2000 - 02/03/2001 - Доллар США / Австралийский доллар со значением 0.47461263769007994\n",
            "Наиболее зависимые валюты за период 02/03/2000 - 02/03/2001 - Австралийский доллар / Исландская крона со значением 0.9387706732989517\n",
            "\n"
          ],
          "name": "stdout"
        }
      ]
    },
    {
      "cell_type": "markdown",
      "metadata": {
        "id": "0WsFx17EY6su"
      },
      "source": [
        ""
      ]
    },
    {
      "cell_type": "markdown",
      "metadata": {
        "id": "ec6HSePsY62C"
      },
      "source": [
        "1)\n",
        "2)На курс исландской кроны наибольшее влияние оказало создание социал-демокртаического альянса в 2000 году, который объединил в себе 4 партии. Из экономических факторов влияние оказали: рост уровней инфляции и безработицы."
      ]
    },
    {
      "cell_type": "markdown",
      "metadata": {
        "id": "vajZqiGrY6Yh"
      },
      "source": [
        ""
      ]
    },
    {
      "cell_type": "code",
      "metadata": {
        "id": "EdsHmEtRG1NL",
        "outputId": "a41b2a7d-6fac-4468-92a4-5290130750ef",
        "colab": {
          "base_uri": "https://localhost:8080/",
          "height": 68
        }
      },
      "source": [
        "date_start = \"02/03/2001\"\n",
        "date_to = \"02/03/2002\"\n",
        "print(calculate_currency_correspondence(currency_codes, date_start, date_to))"
      ],
      "execution_count": null,
      "outputs": [
        {
          "output_type": "stream",
          "text": [
            "Наименее зависимые валюты за период 02/03/2001 - 02/03/2002 - Австралийский доллар / Исландская крона со значением -0.29824471254077545\n",
            "Наиболее зависимые валюты за период 02/03/2001 - 02/03/2002 - Датская крона / Фунт стерлингов Соединенного королевства со значением 0.8902765649110639\n",
            "\n"
          ],
          "name": "stdout"
        }
      ]
    },
    {
      "cell_type": "code",
      "metadata": {
        "id": "zFl8dSH4G1Tm",
        "outputId": "f475bbb3-6317-4ffe-ee9b-c8b5cbff3eeb",
        "colab": {
          "base_uri": "https://localhost:8080/",
          "height": 68
        }
      },
      "source": [
        "date_start = \"02/03/2002\"\n",
        "date_to = \"02/03/2003\"\n",
        "print(calculate_currency_correspondence(currency_codes, date_start, date_to))"
      ],
      "execution_count": null,
      "outputs": [
        {
          "output_type": "stream",
          "text": [
            "Наименее зависимые валюты за период 02/03/2002 - 02/03/2003 - Доллар США / Австралийский доллар со значением 0.7293659242034191\n",
            "Наиболее зависимые валюты за период 02/03/2002 - 02/03/2003 - Датская крона / Исландская крона со значением 0.984724456505522\n",
            "\n"
          ],
          "name": "stdout"
        }
      ]
    },
    {
      "cell_type": "code",
      "metadata": {
        "id": "czil1FyZG1dT",
        "outputId": "82064591-670b-4f81-c6cd-13d3eb53d649",
        "colab": {
          "base_uri": "https://localhost:8080/",
          "height": 68
        }
      },
      "source": [
        "date_start = \"02/03/2003\"\n",
        "date_to = \"02/03/2004\"\n",
        "print(calculate_currency_correspondence(currency_codes, date_start, date_to))"
      ],
      "execution_count": null,
      "outputs": [
        {
          "output_type": "stream",
          "text": [
            "Наименее зависимые валюты за период 02/03/2003 - 02/03/2004 - Доллар США / Австралийский доллар со значением -0.9232001528010093\n",
            "Наиболее зависимые валюты за период 02/03/2003 - 02/03/2004 - Датская крона / Фунт стерлингов Соединенного королевства со значением 0.8359446531680941\n",
            "\n"
          ],
          "name": "stdout"
        }
      ]
    },
    {
      "cell_type": "code",
      "metadata": {
        "id": "eUdM1WQ5vacX"
      },
      "source": [
        ""
      ],
      "execution_count": null,
      "outputs": []
    }
  ]
}