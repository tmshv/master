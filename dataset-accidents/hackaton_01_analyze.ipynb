{
 "cells": [
  {
   "cell_type": "code",
   "execution_count": 1,
   "metadata": {},
   "outputs": [],
   "source": [
    "import pandas as pd"
   ]
  },
  {
   "cell_type": "code",
   "execution_count": 2,
   "metadata": {},
   "outputs": [],
   "source": [
    "df = pd.read_csv('20201020-vk-spb_today-accidents.csv', index_col=['id'])\n",
    "df['date'] = pd.to_datetime(df['date'])"
   ]
  },
  {
   "cell_type": "code",
   "execution_count": 3,
   "metadata": {},
   "outputs": [],
   "source": [
    "df = df[~df['text'].str.contains('Приложение можно скачать по ссылке ниже')]"
   ]
  },
  {
   "cell_type": "code",
   "execution_count": 5,
   "metadata": {},
   "outputs": [],
   "source": [
    "df['taxi'] = df['text'].str.contains('такси', case=False, na=False)"
   ]
  },
  {
   "cell_type": "code",
   "execution_count": 6,
   "metadata": {},
   "outputs": [],
   "source": [
    "df['pedestrian'] = (\n",
    "    df['text'].str.contains('сбили', case=False, na=False) |\n",
    "    df['text'].str.contains('сбит', case=False, na=False) |\n",
    "    df['text'].str.contains('сбил', case=False, na=False) |\n",
    "    df['text'].str.contains('наезд', case=False, na=False)\n",
    ")"
   ]
  },
  {
   "cell_type": "code",
   "execution_count": 7,
   "metadata": {},
   "outputs": [],
   "source": [
    "df['drunk'] = (\n",
    "    df['text'].str.contains('сао', case=False, na=False) |\n",
    "    df['text'].str.contains('алког', case=False, na=False) |\n",
    "    df['text'].str.contains('пьян', case=False, na=False)\n",
    ")"
   ]
  },
  {
   "cell_type": "code",
   "execution_count": 8,
   "metadata": {},
   "outputs": [],
   "source": [
    "df['carsharing'] = (\n",
    "    df['text'].str.contains('каршеринг', case=False, na=False) |\n",
    "    df['text'].str.contains('карш', case=False, na=False) |\n",
    "    df['text'].str.contains('делимобил', case=False, na=False) |\n",
    "    df['text'].str.contains('youdrive', case=False, na=False) |\n",
    "    df['text'].str.contains('юдра', case=False, na=False) |\n",
    "    df['text'].str.contains('ю-драйв', case=False, na=False)\n",
    ")"
   ]
  },
  {
   "cell_type": "code",
   "execution_count": 10,
   "metadata": {},
   "outputs": [
    {
     "data": {
      "text/html": [
       "<div>\n",
       "<style scoped>\n",
       "    .dataframe tbody tr th:only-of-type {\n",
       "        vertical-align: middle;\n",
       "    }\n",
       "\n",
       "    .dataframe tbody tr th {\n",
       "        vertical-align: top;\n",
       "    }\n",
       "\n",
       "    .dataframe thead th {\n",
       "        text-align: right;\n",
       "    }\n",
       "</style>\n",
       "<table border=\"1\" class=\"dataframe\">\n",
       "  <thead>\n",
       "    <tr style=\"text-align: right;\">\n",
       "      <th></th>\n",
       "      <th>text</th>\n",
       "      <th>date</th>\n",
       "      <th>comments</th>\n",
       "      <th>likes</th>\n",
       "      <th>reposts</th>\n",
       "      <th>views</th>\n",
       "      <th>attachments_count</th>\n",
       "      <th>words_count</th>\n",
       "      <th>taxi</th>\n",
       "      <th>pedestrian</th>\n",
       "      <th>drunk</th>\n",
       "      <th>carsharing</th>\n",
       "      <th>accident</th>\n",
       "    </tr>\n",
       "    <tr>\n",
       "      <th>id</th>\n",
       "      <th></th>\n",
       "      <th></th>\n",
       "      <th></th>\n",
       "      <th></th>\n",
       "      <th></th>\n",
       "      <th></th>\n",
       "      <th></th>\n",
       "      <th></th>\n",
       "      <th></th>\n",
       "      <th></th>\n",
       "      <th></th>\n",
       "      <th></th>\n",
       "      <th></th>\n",
       "    </tr>\n",
       "  </thead>\n",
       "  <tbody>\n",
       "    <tr>\n",
       "      <th>13691685</th>\n",
       "      <td>Каршеринг завершил аренду на встречной полосе ...</td>\n",
       "      <td>2020-08-21 13:28:00</td>\n",
       "      <td>17</td>\n",
       "      <td>46</td>\n",
       "      <td>3</td>\n",
       "      <td>71596</td>\n",
       "      <td>2</td>\n",
       "      <td>10</td>\n",
       "      <td>False</td>\n",
       "      <td>False</td>\n",
       "      <td>False</td>\n",
       "      <td>True</td>\n",
       "      <td>NaN</td>\n",
       "    </tr>\n",
       "    <tr>\n",
       "      <th>2356</th>\n",
       "      <td>В 13:05 08.06.2014 ДТП в Невском районе.\\n\\nПо...</td>\n",
       "      <td>2014-06-08 11:26:04</td>\n",
       "      <td>0</td>\n",
       "      <td>2</td>\n",
       "      <td>1</td>\n",
       "      <td>0</td>\n",
       "      <td>0</td>\n",
       "      <td>62</td>\n",
       "      <td>False</td>\n",
       "      <td>False</td>\n",
       "      <td>False</td>\n",
       "      <td>False</td>\n",
       "      <td>NaN</td>\n",
       "    </tr>\n",
       "    <tr>\n",
       "      <th>4589118</th>\n",
       "      <td>На перекрёстке Московского и Благодатной в сто...</td>\n",
       "      <td>2016-08-16 10:42:52</td>\n",
       "      <td>0</td>\n",
       "      <td>11</td>\n",
       "      <td>0</td>\n",
       "      <td>0</td>\n",
       "      <td>2</td>\n",
       "      <td>26</td>\n",
       "      <td>False</td>\n",
       "      <td>False</td>\n",
       "      <td>False</td>\n",
       "      <td>False</td>\n",
       "      <td>NaN</td>\n",
       "    </tr>\n",
       "  </tbody>\n",
       "</table>\n",
       "</div>"
      ],
      "text/plain": [
       "                                                       text  \\\n",
       "id                                                            \n",
       "13691685  Каршеринг завершил аренду на встречной полосе ...   \n",
       "2356      В 13:05 08.06.2014 ДТП в Невском районе.\\n\\nПо...   \n",
       "4589118   На перекрёстке Московского и Благодатной в сто...   \n",
       "\n",
       "                        date  comments  likes  reposts  views  \\\n",
       "id                                                              \n",
       "13691685 2020-08-21 13:28:00        17     46        3  71596   \n",
       "2356     2014-06-08 11:26:04         0      2        1      0   \n",
       "4589118  2016-08-16 10:42:52         0     11        0      0   \n",
       "\n",
       "          attachments_count  words_count   taxi  pedestrian  drunk  \\\n",
       "id                                                                   \n",
       "13691685                  2           10  False       False  False   \n",
       "2356                      0           62  False       False  False   \n",
       "4589118                   2           26  False       False  False   \n",
       "\n",
       "          carsharing  accident  \n",
       "id                              \n",
       "13691685        True       NaN  \n",
       "2356           False       NaN  \n",
       "4589118        False       NaN  "
      ]
     },
     "execution_count": 10,
     "metadata": {},
     "output_type": "execute_result"
    }
   ],
   "source": [
    "df.sample(3)"
   ]
  },
  {
   "cell_type": "code",
   "execution_count": 36,
   "metadata": {},
   "outputs": [],
   "source": [
    "def sample_text(df, samples = 5):\n",
    "    s = min(df.shape[0], samples)\n",
    "    print(df.shape)\n",
    "    for post_id, row in df.sample(s).iterrows():\n",
    "        p = row['pedestrian']\n",
    "        d = row['drunk']\n",
    "        l = len(row['text'])\n",
    "        print('_' * 100)\n",
    "        print(f'{post_id} (ped: {p}; drunk: {d}; len: {l})')\n",
    "        print(row['text'])\n",
    "        print(row['location'])"
   ]
  },
  {
   "cell_type": "code",
   "execution_count": 12,
   "metadata": {},
   "outputs": [
    {
     "data": {
      "text/html": [
       "<div>\n",
       "<style scoped>\n",
       "    .dataframe tbody tr th:only-of-type {\n",
       "        vertical-align: middle;\n",
       "    }\n",
       "\n",
       "    .dataframe tbody tr th {\n",
       "        vertical-align: top;\n",
       "    }\n",
       "\n",
       "    .dataframe thead th {\n",
       "        text-align: right;\n",
       "    }\n",
       "</style>\n",
       "<table border=\"1\" class=\"dataframe\">\n",
       "  <thead>\n",
       "    <tr style=\"text-align: right;\">\n",
       "      <th></th>\n",
       "      <th>likes</th>\n",
       "      <th>reposts</th>\n",
       "      <th>views</th>\n",
       "      <th>comments</th>\n",
       "    </tr>\n",
       "  </thead>\n",
       "  <tbody>\n",
       "    <tr>\n",
       "      <th>likes</th>\n",
       "      <td>1.000000</td>\n",
       "      <td>0.596536</td>\n",
       "      <td>0.393843</td>\n",
       "      <td>0.475756</td>\n",
       "    </tr>\n",
       "    <tr>\n",
       "      <th>reposts</th>\n",
       "      <td>0.596536</td>\n",
       "      <td>1.000000</td>\n",
       "      <td>0.111948</td>\n",
       "      <td>0.235208</td>\n",
       "    </tr>\n",
       "    <tr>\n",
       "      <th>views</th>\n",
       "      <td>0.393843</td>\n",
       "      <td>0.111948</td>\n",
       "      <td>1.000000</td>\n",
       "      <td>0.488925</td>\n",
       "    </tr>\n",
       "    <tr>\n",
       "      <th>comments</th>\n",
       "      <td>0.475756</td>\n",
       "      <td>0.235208</td>\n",
       "      <td>0.488925</td>\n",
       "      <td>1.000000</td>\n",
       "    </tr>\n",
       "  </tbody>\n",
       "</table>\n",
       "</div>"
      ],
      "text/plain": [
       "             likes   reposts     views  comments\n",
       "likes     1.000000  0.596536  0.393843  0.475756\n",
       "reposts   0.596536  1.000000  0.111948  0.235208\n",
       "views     0.393843  0.111948  1.000000  0.488925\n",
       "comments  0.475756  0.235208  0.488925  1.000000"
      ]
     },
     "execution_count": 12,
     "metadata": {},
     "output_type": "execute_result"
    }
   ],
   "source": [
    "df[['likes', 'reposts', 'views', 'comments']].corr()"
   ]
  },
  {
   "cell_type": "code",
   "execution_count": 13,
   "metadata": {},
   "outputs": [
    {
     "data": {
      "text/plain": [
       "<matplotlib.axes._subplots.AxesSubplot at 0x7ff845658640>"
      ]
     },
     "execution_count": 13,
     "metadata": {},
     "output_type": "execute_result"
    },
    {
     "data": {
      "image/png": "[encoded data removed]",
      "text/plain": [
       "<Figure size 432x288 with 1 Axes>"
      ]
     },
     "metadata": {
      "needs_background": "light"
     },
     "output_type": "display_data"
    }
   ],
   "source": [
    "df['date'].dt.year.hist(bins=6)"
   ]
  },
  {
   "cell_type": "code",
   "execution_count": 14,
   "metadata": {},
   "outputs": [
    {
     "data": {
      "text/plain": [
       "<matplotlib.axes._subplots.AxesSubplot at 0x7ff84516b9d0>"
      ]
     },
     "execution_count": 14,
     "metadata": {},
     "output_type": "execute_result"
    },
    {
     "data": {
      "image/png": "[encoded data removed]",
      "text/plain": [
       "<Figure size 432x288 with 1 Axes>"
      ]
     },
     "metadata": {
      "needs_background": "light"
     },
     "output_type": "display_data"
    }
   ],
   "source": [
    "df['date'].dt.month.hist(bins=12)"
   ]
  },
  {
   "cell_type": "code",
   "execution_count": 15,
   "metadata": {},
   "outputs": [
    {
     "data": {
      "text/plain": [
       "<matplotlib.axes._subplots.AxesSubplot at 0x7ff8450bfd30>"
      ]
     },
     "execution_count": 15,
     "metadata": {},
     "output_type": "execute_result"
    },
    {
     "data": {
      "image/png": "[encoded data removed]",
      "text/plain": [
       "<Figure size 432x288 with 1 Axes>"
      ]
     },
     "metadata": {
      "needs_background": "light"
     },
     "output_type": "display_data"
    }
   ],
   "source": [
    "df['date'].dt.hour.hist(bins=24)"
   ]
  },
  {
   "cell_type": "code",
   "execution_count": 16,
   "metadata": {},
   "outputs": [
    {
     "data": {
      "text/plain": [
       "pedestrian\n",
       "False    AxesSubplot(0.125,0.125;0.775x0.755)\n",
       "True     AxesSubplot(0.125,0.125;0.775x0.755)\n",
       "Name: hour, dtype: object"
      ]
     },
     "execution_count": 16,
     "metadata": {},
     "output_type": "execute_result"
    },
    {
     "data": {
      "image/png": "[encoded data removed]",
      "text/plain": [
       "<Figure size 432x288 with 1 Axes>"
      ]
     },
     "metadata": {
      "needs_background": "light"
     },
     "output_type": "display_data"
    }
   ],
   "source": [
    "df['hour'] = df['date'].dt.hour\n",
    "df.groupby('pedestrian')['hour'].hist(bins=24)"
   ]
  },
  {
   "cell_type": "code",
   "execution_count": 17,
   "metadata": {},
   "outputs": [
    {
     "data": {
      "text/plain": [
       "drunk\n",
       "False    AxesSubplot(0.125,0.125;0.775x0.755)\n",
       "True     AxesSubplot(0.125,0.125;0.775x0.755)\n",
       "Name: hour, dtype: object"
      ]
     },
     "execution_count": 17,
     "metadata": {},
     "output_type": "execute_result"
    },
    {
     "data": {
      "image/png": "[encoded data removed]",
      "text/plain": [
       "<Figure size 432x288 with 1 Axes>"
      ]
     },
     "metadata": {
      "needs_background": "light"
     },
     "output_type": "display_data"
    }
   ],
   "source": [
    "df['hour'] = df['date'].dt.hour\n",
    "df.groupby('drunk')['hour'].hist(bins=24)"
   ]
  },
  {
   "cell_type": "code",
   "execution_count": 18,
   "metadata": {},
   "outputs": [
    {
     "data": {
      "text/plain": [
       "count     45127.000000\n",
       "mean      40591.047488\n",
       "std       48446.786730\n",
       "min           0.000000\n",
       "25%           0.000000\n",
       "50%           0.000000\n",
       "75%       85085.000000\n",
       "max      441214.000000\n",
       "Name: views, dtype: float64"
      ]
     },
     "execution_count": 18,
     "metadata": {},
     "output_type": "execute_result"
    }
   ],
   "source": [
    "df['views'].describe()"
   ]
  },
  {
   "cell_type": "code",
   "execution_count": 19,
   "metadata": {},
   "outputs": [
    {
     "data": {
      "text/html": [
       "<div>\n",
       "<style scoped>\n",
       "    .dataframe tbody tr th:only-of-type {\n",
       "        vertical-align: middle;\n",
       "    }\n",
       "\n",
       "    .dataframe tbody tr th {\n",
       "        vertical-align: top;\n",
       "    }\n",
       "\n",
       "    .dataframe thead tr th {\n",
       "        text-align: left;\n",
       "    }\n",
       "\n",
       "    .dataframe thead tr:last-of-type th {\n",
       "        text-align: right;\n",
       "    }\n",
       "</style>\n",
       "<table border=\"1\" class=\"dataframe\">\n",
       "  <thead>\n",
       "    <tr>\n",
       "      <th></th>\n",
       "      <th colspan=\"8\" halign=\"left\">likes</th>\n",
       "      <th colspan=\"5\" halign=\"left\">views</th>\n",
       "      <th colspan=\"8\" halign=\"left\">comments</th>\n",
       "    </tr>\n",
       "    <tr>\n",
       "      <th></th>\n",
       "      <th>count</th>\n",
       "      <th>mean</th>\n",
       "      <th>std</th>\n",
       "      <th>min</th>\n",
       "      <th>25%</th>\n",
       "      <th>50%</th>\n",
       "      <th>75%</th>\n",
       "      <th>max</th>\n",
       "      <th>count</th>\n",
       "      <th>mean</th>\n",
       "      <th>...</th>\n",
       "      <th>75%</th>\n",
       "      <th>max</th>\n",
       "      <th>count</th>\n",
       "      <th>mean</th>\n",
       "      <th>std</th>\n",
       "      <th>min</th>\n",
       "      <th>25%</th>\n",
       "      <th>50%</th>\n",
       "      <th>75%</th>\n",
       "      <th>max</th>\n",
       "    </tr>\n",
       "    <tr>\n",
       "      <th>carsharing</th>\n",
       "      <th></th>\n",
       "      <th></th>\n",
       "      <th></th>\n",
       "      <th></th>\n",
       "      <th></th>\n",
       "      <th></th>\n",
       "      <th></th>\n",
       "      <th></th>\n",
       "      <th></th>\n",
       "      <th></th>\n",
       "      <th></th>\n",
       "      <th></th>\n",
       "      <th></th>\n",
       "      <th></th>\n",
       "      <th></th>\n",
       "      <th></th>\n",
       "      <th></th>\n",
       "      <th></th>\n",
       "      <th></th>\n",
       "      <th></th>\n",
       "      <th></th>\n",
       "    </tr>\n",
       "  </thead>\n",
       "  <tbody>\n",
       "    <tr>\n",
       "      <th>False</th>\n",
       "      <td>44390.0</td>\n",
       "      <td>44.047804</td>\n",
       "      <td>81.448255</td>\n",
       "      <td>0.0</td>\n",
       "      <td>13.0</td>\n",
       "      <td>29.0</td>\n",
       "      <td>50.0</td>\n",
       "      <td>4669.0</td>\n",
       "      <td>44390.0</td>\n",
       "      <td>39468.088353</td>\n",
       "      <td>...</td>\n",
       "      <td>84101.75</td>\n",
       "      <td>441214.0</td>\n",
       "      <td>44390.0</td>\n",
       "      <td>26.614688</td>\n",
       "      <td>98.399035</td>\n",
       "      <td>0.0</td>\n",
       "      <td>0.0</td>\n",
       "      <td>0.0</td>\n",
       "      <td>0.0</td>\n",
       "      <td>4019.0</td>\n",
       "    </tr>\n",
       "    <tr>\n",
       "      <th>True</th>\n",
       "      <td>737.0</td>\n",
       "      <td>114.614654</td>\n",
       "      <td>125.794521</td>\n",
       "      <td>20.0</td>\n",
       "      <td>50.0</td>\n",
       "      <td>75.0</td>\n",
       "      <td>121.0</td>\n",
       "      <td>1191.0</td>\n",
       "      <td>737.0</td>\n",
       "      <td>108227.622795</td>\n",
       "      <td>...</td>\n",
       "      <td>122053.00</td>\n",
       "      <td>275734.0</td>\n",
       "      <td>737.0</td>\n",
       "      <td>131.107191</td>\n",
       "      <td>131.069205</td>\n",
       "      <td>0.0</td>\n",
       "      <td>53.0</td>\n",
       "      <td>90.0</td>\n",
       "      <td>170.0</td>\n",
       "      <td>1155.0</td>\n",
       "    </tr>\n",
       "  </tbody>\n",
       "</table>\n",
       "<p>2 rows × 24 columns</p>\n",
       "</div>"
      ],
      "text/plain": [
       "              likes                                                           \\\n",
       "              count        mean         std   min   25%   50%    75%     max   \n",
       "carsharing                                                                     \n",
       "False       44390.0   44.047804   81.448255   0.0  13.0  29.0   50.0  4669.0   \n",
       "True          737.0  114.614654  125.794521  20.0  50.0  75.0  121.0  1191.0   \n",
       "\n",
       "              views                 ...                      comments  \\\n",
       "              count           mean  ...        75%       max    count   \n",
       "carsharing                          ...                                 \n",
       "False       44390.0   39468.088353  ...   84101.75  441214.0  44390.0   \n",
       "True          737.0  108227.622795  ...  122053.00  275734.0    737.0   \n",
       "\n",
       "                                                                    \n",
       "                  mean         std  min   25%   50%    75%     max  \n",
       "carsharing                                                          \n",
       "False        26.614688   98.399035  0.0   0.0   0.0    0.0  4019.0  \n",
       "True        131.107191  131.069205  0.0  53.0  90.0  170.0  1155.0  \n",
       "\n",
       "[2 rows x 24 columns]"
      ]
     },
     "execution_count": 19,
     "metadata": {},
     "output_type": "execute_result"
    }
   ],
   "source": [
    "df.groupby('carsharing')[['likes', 'views', 'comments']].describe()"
   ]
  },
  {
   "cell_type": "code",
   "execution_count": 22,
   "metadata": {},
   "outputs": [
    {
     "data": {
      "text/html": [
       "<div>\n",
       "<style scoped>\n",
       "    .dataframe tbody tr th:only-of-type {\n",
       "        vertical-align: middle;\n",
       "    }\n",
       "\n",
       "    .dataframe tbody tr th {\n",
       "        vertical-align: top;\n",
       "    }\n",
       "\n",
       "    .dataframe thead th {\n",
       "        text-align: right;\n",
       "    }\n",
       "</style>\n",
       "<table border=\"1\" class=\"dataframe\">\n",
       "  <thead>\n",
       "    <tr style=\"text-align: right;\">\n",
       "      <th></th>\n",
       "      <th>comments</th>\n",
       "      <th>likes</th>\n",
       "      <th>reposts</th>\n",
       "      <th>views</th>\n",
       "      <th>attachments_count</th>\n",
       "      <th>words_count</th>\n",
       "      <th>taxi</th>\n",
       "      <th>pedestrian</th>\n",
       "      <th>drunk</th>\n",
       "      <th>carsharing</th>\n",
       "      <th>accident</th>\n",
       "      <th>hour</th>\n",
       "    </tr>\n",
       "  </thead>\n",
       "  <tbody>\n",
       "    <tr>\n",
       "      <th>comments</th>\n",
       "      <td>1.000000</td>\n",
       "      <td>0.475756</td>\n",
       "      <td>0.235208</td>\n",
       "      <td>0.488925</td>\n",
       "      <td>0.185893</td>\n",
       "      <td>0.132223</td>\n",
       "      <td>0.060870</td>\n",
       "      <td>0.148788</td>\n",
       "      <td>0.035505</td>\n",
       "      <td>0.132577</td>\n",
       "      <td>NaN</td>\n",
       "      <td>0.023190</td>\n",
       "    </tr>\n",
       "    <tr>\n",
       "      <th>likes</th>\n",
       "      <td>0.475756</td>\n",
       "      <td>1.000000</td>\n",
       "      <td>0.596536</td>\n",
       "      <td>0.393843</td>\n",
       "      <td>0.184395</td>\n",
       "      <td>0.116123</td>\n",
       "      <td>0.045771</td>\n",
       "      <td>0.091118</td>\n",
       "      <td>0.045972</td>\n",
       "      <td>0.107962</td>\n",
       "      <td>NaN</td>\n",
       "      <td>0.030830</td>\n",
       "    </tr>\n",
       "    <tr>\n",
       "      <th>reposts</th>\n",
       "      <td>0.235208</td>\n",
       "      <td>0.596536</td>\n",
       "      <td>1.000000</td>\n",
       "      <td>0.111948</td>\n",
       "      <td>0.073159</td>\n",
       "      <td>0.155220</td>\n",
       "      <td>0.006687</td>\n",
       "      <td>0.119743</td>\n",
       "      <td>0.025871</td>\n",
       "      <td>0.015273</td>\n",
       "      <td>NaN</td>\n",
       "      <td>0.024597</td>\n",
       "    </tr>\n",
       "    <tr>\n",
       "      <th>views</th>\n",
       "      <td>0.488925</td>\n",
       "      <td>0.393843</td>\n",
       "      <td>0.111948</td>\n",
       "      <td>1.000000</td>\n",
       "      <td>0.360532</td>\n",
       "      <td>-0.020991</td>\n",
       "      <td>0.118726</td>\n",
       "      <td>0.038241</td>\n",
       "      <td>0.022976</td>\n",
       "      <td>0.179892</td>\n",
       "      <td>NaN</td>\n",
       "      <td>0.027264</td>\n",
       "    </tr>\n",
       "    <tr>\n",
       "      <th>attachments_count</th>\n",
       "      <td>0.185893</td>\n",
       "      <td>0.184395</td>\n",
       "      <td>0.073159</td>\n",
       "      <td>0.360532</td>\n",
       "      <td>1.000000</td>\n",
       "      <td>0.052559</td>\n",
       "      <td>0.045132</td>\n",
       "      <td>-0.007027</td>\n",
       "      <td>0.043540</td>\n",
       "      <td>0.074223</td>\n",
       "      <td>NaN</td>\n",
       "      <td>-0.009084</td>\n",
       "    </tr>\n",
       "    <tr>\n",
       "      <th>words_count</th>\n",
       "      <td>0.132223</td>\n",
       "      <td>0.116123</td>\n",
       "      <td>0.155220</td>\n",
       "      <td>-0.020991</td>\n",
       "      <td>0.052559</td>\n",
       "      <td>1.000000</td>\n",
       "      <td>0.010287</td>\n",
       "      <td>0.133790</td>\n",
       "      <td>0.107819</td>\n",
       "      <td>-0.022883</td>\n",
       "      <td>NaN</td>\n",
       "      <td>0.044588</td>\n",
       "    </tr>\n",
       "    <tr>\n",
       "      <th>taxi</th>\n",
       "      <td>0.060870</td>\n",
       "      <td>0.045771</td>\n",
       "      <td>0.006687</td>\n",
       "      <td>0.118726</td>\n",
       "      <td>0.045132</td>\n",
       "      <td>0.010287</td>\n",
       "      <td>1.000000</td>\n",
       "      <td>-0.034843</td>\n",
       "      <td>-0.001675</td>\n",
       "      <td>-0.005316</td>\n",
       "      <td>NaN</td>\n",
       "      <td>-0.003028</td>\n",
       "    </tr>\n",
       "    <tr>\n",
       "      <th>pedestrian</th>\n",
       "      <td>0.148788</td>\n",
       "      <td>0.091118</td>\n",
       "      <td>0.119743</td>\n",
       "      <td>0.038241</td>\n",
       "      <td>-0.007027</td>\n",
       "      <td>0.133790</td>\n",
       "      <td>-0.034843</td>\n",
       "      <td>1.000000</td>\n",
       "      <td>0.035665</td>\n",
       "      <td>-0.028725</td>\n",
       "      <td>NaN</td>\n",
       "      <td>0.052951</td>\n",
       "    </tr>\n",
       "    <tr>\n",
       "      <th>drunk</th>\n",
       "      <td>0.035505</td>\n",
       "      <td>0.045972</td>\n",
       "      <td>0.025871</td>\n",
       "      <td>0.022976</td>\n",
       "      <td>0.043540</td>\n",
       "      <td>0.107819</td>\n",
       "      <td>-0.001675</td>\n",
       "      <td>0.035665</td>\n",
       "      <td>1.000000</td>\n",
       "      <td>0.019651</td>\n",
       "      <td>NaN</td>\n",
       "      <td>0.034547</td>\n",
       "    </tr>\n",
       "    <tr>\n",
       "      <th>carsharing</th>\n",
       "      <td>0.132577</td>\n",
       "      <td>0.107962</td>\n",
       "      <td>0.015273</td>\n",
       "      <td>0.179892</td>\n",
       "      <td>0.074223</td>\n",
       "      <td>-0.022883</td>\n",
       "      <td>-0.005316</td>\n",
       "      <td>-0.028725</td>\n",
       "      <td>0.019651</td>\n",
       "      <td>1.000000</td>\n",
       "      <td>NaN</td>\n",
       "      <td>0.000471</td>\n",
       "    </tr>\n",
       "    <tr>\n",
       "      <th>accident</th>\n",
       "      <td>NaN</td>\n",
       "      <td>NaN</td>\n",
       "      <td>NaN</td>\n",
       "      <td>NaN</td>\n",
       "      <td>NaN</td>\n",
       "      <td>NaN</td>\n",
       "      <td>NaN</td>\n",
       "      <td>NaN</td>\n",
       "      <td>NaN</td>\n",
       "      <td>NaN</td>\n",
       "      <td>NaN</td>\n",
       "      <td>NaN</td>\n",
       "    </tr>\n",
       "    <tr>\n",
       "      <th>hour</th>\n",
       "      <td>0.023190</td>\n",
       "      <td>0.030830</td>\n",
       "      <td>0.024597</td>\n",
       "      <td>0.027264</td>\n",
       "      <td>-0.009084</td>\n",
       "      <td>0.044588</td>\n",
       "      <td>-0.003028</td>\n",
       "      <td>0.052951</td>\n",
       "      <td>0.034547</td>\n",
       "      <td>0.000471</td>\n",
       "      <td>NaN</td>\n",
       "      <td>1.000000</td>\n",
       "    </tr>\n",
       "  </tbody>\n",
       "</table>\n",
       "</div>"
      ],
      "text/plain": [
       "                   comments     likes   reposts     views  attachments_count  \\\n",
       "comments           1.000000  0.475756  0.235208  0.488925           0.185893   \n",
       "likes              0.475756  1.000000  0.596536  0.393843           0.184395   \n",
       "reposts            0.235208  0.596536  1.000000  0.111948           0.073159   \n",
       "views              0.488925  0.393843  0.111948  1.000000           0.360532   \n",
       "attachments_count  0.185893  0.184395  0.073159  0.360532           1.000000   \n",
       "words_count        0.132223  0.116123  0.155220 -0.020991           0.052559   \n",
       "taxi               0.060870  0.045771  0.006687  0.118726           0.045132   \n",
       "pedestrian         0.148788  0.091118  0.119743  0.038241          -0.007027   \n",
       "drunk              0.035505  0.045972  0.025871  0.022976           0.043540   \n",
       "carsharing         0.132577  0.107962  0.015273  0.179892           0.074223   \n",
       "accident                NaN       NaN       NaN       NaN                NaN   \n",
       "hour               0.023190  0.030830  0.024597  0.027264          -0.009084   \n",
       "\n",
       "                   words_count      taxi  pedestrian     drunk  carsharing  \\\n",
       "comments              0.132223  0.060870    0.148788  0.035505    0.132577   \n",
       "likes                 0.116123  0.045771    0.091118  0.045972    0.107962   \n",
       "reposts               0.155220  0.006687    0.119743  0.025871    0.015273   \n",
       "views                -0.020991  0.118726    0.038241  0.022976    0.179892   \n",
       "attachments_count     0.052559  0.045132   -0.007027  0.043540    0.074223   \n",
       "words_count           1.000000  0.010287    0.133790  0.107819   -0.022883   \n",
       "taxi                  0.010287  1.000000   -0.034843 -0.001675   -0.005316   \n",
       "pedestrian            0.133790 -0.034843    1.000000  0.035665   -0.028725   \n",
       "drunk                 0.107819 -0.001675    0.035665  1.000000    0.019651   \n",
       "carsharing           -0.022883 -0.005316   -0.028725  0.019651    1.000000   \n",
       "accident                   NaN       NaN         NaN       NaN         NaN   \n",
       "hour                  0.044588 -0.003028    0.052951  0.034547    0.000471   \n",
       "\n",
       "                   accident      hour  \n",
       "comments                NaN  0.023190  \n",
       "likes                   NaN  0.030830  \n",
       "reposts                 NaN  0.024597  \n",
       "views                   NaN  0.027264  \n",
       "attachments_count       NaN -0.009084  \n",
       "words_count             NaN  0.044588  \n",
       "taxi                    NaN -0.003028  \n",
       "pedestrian              NaN  0.052951  \n",
       "drunk                   NaN  0.034547  \n",
       "carsharing              NaN  0.000471  \n",
       "accident                NaN       NaN  \n",
       "hour                    NaN  1.000000  "
      ]
     },
     "execution_count": 22,
     "metadata": {},
     "output_type": "execute_result"
    }
   ],
   "source": [
    "df.corr()"
   ]
  },
  {
   "cell_type": "code",
   "execution_count": 23,
   "metadata": {},
   "outputs": [
    {
     "name": "stdout",
     "output_type": "stream",
     "text": [
      "(2257, 14)\n",
      "____________________________________________________________________________________________________\n",
      "13197316 (ped: True; drunk: False; len: 366)\n",
      "ДТП на перекрестке Дачного проспекта и бульвара Новаторов в сторону КАД. Кто кого не понятно. Но синяя машина сбила женщину стоявшую у ограждения. Женщина не дожидаясь помощи покинула место ДТП. Из синей машины вышла другая женщина с грудным ребенком. Почти сразу села в другую машину и тоже покинула место ДТП вместе с ребенком. По видимому автокресла в машине нет.\n",
      "____________________________________________________________________________________________________\n",
      "11922790 (ped: False; drunk: False; len: 412)\n",
      "В 12:00 на 82 км а/д «Кола» произошло дтп, в результате выезда на встречную полосу водителя манипуляторы Скания под управлением мужчины 1978 гр, который совершил столкновение с ВАЗ 2107 двигавшейся во встречном направлении под управлением мужчины 1954 гр.\n",
      "В результате дтп Водитель лады погиб на месте. \n",
      "По факту дтп ведётся проверка устанавливаются все обстоятельства произошедшего.- сообщает пресс служба гибдд\n",
      "____________________________________________________________________________________________________\n",
      "6383932 (ped: False; drunk: False; len: 100)\n",
      "Троицкий мост,маршрутка и фокус не поделили полосы \n",
      "Мешают двум крайним полосам движения \n",
      "Пробки нет\n",
      "____________________________________________________________________________________________________\n",
      "13086006 (ped: False; drunk: False; len: 39)\n",
      "На Никольском шоссе перевернулся Лансер\n",
      "____________________________________________________________________________________________________\n",
      "12464664 (ped: False; drunk: False; len: 75)\n",
      "Санкт Петербург Рига. На территории Эстонии перевернулся автобус. Все живы.\n"
     ]
    }
   ],
   "source": [
    "sample_text(\n",
    "    df[df['views'] > df['views'].quantile(0.95)]\n",
    ")"
   ]
  },
  {
   "cell_type": "markdown",
   "metadata": {},
   "source": [
    "## Locations"
   ]
  },
  {
   "cell_type": "code",
   "execution_count": 24,
   "metadata": {},
   "outputs": [],
   "source": [
    "from natasha import (\n",
    "    Segmenter,\n",
    "    MorphVocab,\n",
    "    \n",
    "    NewsEmbedding,\n",
    "    NewsMorphTagger,\n",
    "    NewsSyntaxParser,\n",
    "    NewsNERTagger,\n",
    "    \n",
    "    PER, LOC,\n",
    "    NamesExtractor,\n",
    "\n",
    "    Doc\n",
    ")"
   ]
  },
  {
   "cell_type": "code",
   "execution_count": 25,
   "metadata": {},
   "outputs": [],
   "source": [
    "segmenter = Segmenter()\n",
    "morph_vocab = MorphVocab()\n",
    "\n",
    "emb = NewsEmbedding()\n",
    "morph_tagger = NewsMorphTagger(emb)\n",
    "syntax_parser = NewsSyntaxParser(emb)\n",
    "ner_tagger = NewsNERTagger(emb)\n",
    "\n",
    "names_extractor = NamesExtractor(morph_vocab)"
   ]
  },
  {
   "cell_type": "code",
   "execution_count": 26,
   "metadata": {},
   "outputs": [],
   "source": [
    "def extract_locations(text: str) -> str:\n",
    "    doc = Doc(text)\n",
    "    doc.segment(segmenter)\n",
    "    doc.tag_ner(ner_tagger)\n",
    "    doc.tag_morph(morph_tagger)\n",
    "    for token in doc.tokens:\n",
    "        token.lemmatize(morph_vocab)\n",
    "    doc.parse_syntax(syntax_parser)\n",
    "    for span in doc.spans:\n",
    "        span.normalize(morph_vocab)\n",
    "    return [x.normal for x in doc.spans if x.type == 'LOC']"
   ]
  },
  {
   "cell_type": "code",
   "execution_count": 27,
   "metadata": {},
   "outputs": [],
   "source": [
    "def get_loc(text: str) -> str:\n",
    "    locs = extract_locations(text)\n",
    "    if len(locs) == 0:\n",
    "        return None\n",
    "#     if len(locs) > 1:\n",
    "#         print(text)\n",
    "#         print(locs)\n",
    "#         print('')\n",
    "    return locs"
   ]
  },
  {
   "cell_type": "code",
   "execution_count": 28,
   "metadata": {},
   "outputs": [
    {
     "name": "stdout",
     "output_type": "stream",
     "text": [
      "CPU times: user 46min 38s, sys: 3.01 s, total: 46min 41s\n",
      "Wall time: 46min 43s\n"
     ]
    }
   ],
   "source": [
    "%%time\n",
    "\n",
    "df['location'] = df['text'].apply(get_loc)\n",
    "# df.sample(1000)['text'].apply(get_loc)"
   ]
  },
  {
   "cell_type": "code",
   "execution_count": 33,
   "metadata": {},
   "outputs": [],
   "source": [
    "located = df[df['location'].notnull()]\n",
    "located.to_csv('20201020-vk-spb_today-located.csv')"
   ]
  },
  {
   "cell_type": "code",
   "execution_count": 37,
   "metadata": {},
   "outputs": [
    {
     "name": "stdout",
     "output_type": "stream",
     "text": [
      "(5, 15)\n",
      "____________________________________________________________________________________________________\n",
      "2870249 (ped: False; drunk: False; len: 209)\n",
      "Энгельса,съезд с моста в сторону Меги. ГАИ нима. 9-28 пробка\n",
      "\n",
      "Проспект Энгельса,дтп 108 маршрутка с фордом или опелем неподелили поворот к метро Парнас. ГАИ нима. на 9:28 пробка сильная.. ОПАЗДАЛ НА РАБОТУ :))\n",
      "['Энгельс', 'Мега', 'Проспект Энгельс', 'Парнас']\n",
      "____________________________________________________________________________________________________\n",
      "10887165 (ped: False; drunk: False; len: 122)\n",
      "На пересечении Маршала Говорова и Возрождения при аварии  пострадало 5 автомобилей. Образовался затор в Южном направлении.\n",
      "['Возрождение', 'Южное направление']\n",
      "____________________________________________________________________________________________________\n",
      "2001510 (ped: True; drunk: False; len: 198)\n",
      "Ищу свидетелей аварии 10 октября 2015 года ,\n",
      "в 22 часа на пересечение Ветеранов и Горькавого.\n",
      "Была сбита девушка, состояние девушки, тяжелое, перелом таза + множественные ушибы.\n",
      "Люди , откликнитесь.\n",
      "['Горькавый']\n",
      "____________________________________________________________________________________________________\n",
      "67410 (ped: False; drunk: False; len: 81)\n",
      "В левом ряду паровозик из трех машин на Энгельса 33. Напротив ТК \"Светлановский\".\n",
      "['Энгельса']\n",
      "____________________________________________________________________________________________________\n",
      "2395896 (ped: False; drunk: False; len: 91)\n",
      "ДТП 2 авто на пр просвещения и Ольги форш левый ряд пробке нет служб нет актуально на 17.00\n",
      "['Ольга форш']\n"
     ]
    }
   ],
   "source": [
    "sample_text(\n",
    "    located.sample(5)\n",
    ")"
   ]
  },
  {
   "cell_type": "code",
   "execution_count": 59,
   "metadata": {},
   "outputs": [
    {
     "data": {
      "text/html": [
       "<div>\n",
       "<style scoped>\n",
       "    .dataframe tbody tr th:only-of-type {\n",
       "        vertical-align: middle;\n",
       "    }\n",
       "\n",
       "    .dataframe tbody tr th {\n",
       "        vertical-align: top;\n",
       "    }\n",
       "\n",
       "    .dataframe thead th {\n",
       "        text-align: right;\n",
       "    }\n",
       "</style>\n",
       "<table border=\"1\" class=\"dataframe\">\n",
       "  <thead>\n",
       "    <tr style=\"text-align: right;\">\n",
       "      <th></th>\n",
       "      <th>name</th>\n",
       "    </tr>\n",
       "  </thead>\n",
       "  <tbody>\n",
       "    <tr>\n",
       "      <th>count</th>\n",
       "      <td>61560</td>\n",
       "    </tr>\n",
       "    <tr>\n",
       "      <th>unique</th>\n",
       "      <td>10473</td>\n",
       "    </tr>\n",
       "    <tr>\n",
       "      <th>top</th>\n",
       "      <td>КАД</td>\n",
       "    </tr>\n",
       "    <tr>\n",
       "      <th>freq</th>\n",
       "      <td>653</td>\n",
       "    </tr>\n",
       "  </tbody>\n",
       "</table>\n",
       "</div>"
      ],
      "text/plain": [
       "         name\n",
       "count   61560\n",
       "unique  10473\n",
       "top       КАД\n",
       "freq      653"
      ]
     },
     "execution_count": 59,
     "metadata": {},
     "output_type": "execute_result"
    }
   ],
   "source": [
    "locations = []\n",
    "for x in df['location']:\n",
    "    if x:\n",
    "        locations = locations + x\n",
    "\n",
    "df_loc = pd.DataFrame({'name': locations})\n",
    "df_loc.describe()"
   ]
  },
  {
   "cell_type": "code",
   "execution_count": 107,
   "metadata": {},
   "outputs": [],
   "source": [
    "df_loc.drop(['norm'], axis=1, inplace=True)"
   ]
  },
  {
   "cell_type": "code",
   "execution_count": 142,
   "metadata": {},
   "outputs": [],
   "source": [
    "df_loc.loc[:, 'norm'] = df_loc['name'].str.lower()"
   ]
  },
  {
   "cell_type": "code",
   "execution_count": 143,
   "metadata": {},
   "outputs": [],
   "source": [
    "def fix_location(df, norm, samples):\n",
    "    for sample in samples:\n",
    "        mask = df['name'].str.contains(sample, case=False)\n",
    "        df.loc[mask, 'norm'] = norm"
   ]
  },
  {
   "cell_type": "code",
   "execution_count": 144,
   "metadata": {},
   "outputs": [],
   "source": [
    "fix_location(df_loc, 'Обводный канал', [\n",
    "    'Обводный', 'Обводном', 'Обводным', 'Обводного',\n",
    "    'Обводнова',\n",
    "])"
   ]
  },
  {
   "cell_type": "code",
   "execution_count": 145,
   "metadata": {},
   "outputs": [],
   "source": [
    "fix_location(df_loc, 'Московское шоссе', [\n",
    "    'Московской шоссе',\n",
    "    'Московское',\n",
    "    'Московскм шоссе',\n",
    "])"
   ]
  },
  {
   "cell_type": "code",
   "execution_count": 146,
   "metadata": {},
   "outputs": [],
   "source": [
    "fix_location(df_loc, 'Московский проспект', [\n",
    "    'Московский',\n",
    "    'Московский пр',\n",
    "    'Московское проспектов',\n",
    "    'Московский просп',\n",
    "])"
   ]
  },
  {
   "cell_type": "code",
   "execution_count": 152,
   "metadata": {},
   "outputs": [],
   "source": [
    "df_loc[['name', 'count']].to_csv('20201020-locations.csv')"
   ]
  },
  {
   "cell_type": "code",
   "execution_count": 148,
   "metadata": {},
   "outputs": [
    {
     "data": {
      "text/html": [
       "<div>\n",
       "<style scoped>\n",
       "    .dataframe tbody tr th:only-of-type {\n",
       "        vertical-align: middle;\n",
       "    }\n",
       "\n",
       "    .dataframe tbody tr th {\n",
       "        vertical-align: top;\n",
       "    }\n",
       "\n",
       "    .dataframe thead th {\n",
       "        text-align: right;\n",
       "    }\n",
       "</style>\n",
       "<table border=\"1\" class=\"dataframe\">\n",
       "  <thead>\n",
       "    <tr style=\"text-align: right;\">\n",
       "      <th></th>\n",
       "      <th>name</th>\n",
       "      <th>count</th>\n",
       "      <th>norm</th>\n",
       "    </tr>\n",
       "  </thead>\n",
       "  <tbody>\n",
       "    <tr>\n",
       "      <th>0</th>\n",
       "      <td>КАД</td>\n",
       "      <td>653</td>\n",
       "      <td>кад</td>\n",
       "    </tr>\n",
       "    <tr>\n",
       "      <th>1</th>\n",
       "      <td>Московское шоссе</td>\n",
       "      <td>494</td>\n",
       "      <td>Московское шоссе</td>\n",
       "    </tr>\n",
       "    <tr>\n",
       "      <th>2</th>\n",
       "      <td>Ленинский</td>\n",
       "      <td>422</td>\n",
       "      <td>ленинский</td>\n",
       "    </tr>\n",
       "    <tr>\n",
       "      <th>3</th>\n",
       "      <td>Выборгское шоссе</td>\n",
       "      <td>413</td>\n",
       "      <td>выборгское шоссе</td>\n",
       "    </tr>\n",
       "    <tr>\n",
       "      <th>4</th>\n",
       "      <td>Софийская</td>\n",
       "      <td>407</td>\n",
       "      <td>софийская</td>\n",
       "    </tr>\n",
       "    <tr>\n",
       "      <th>...</th>\n",
       "      <td>...</td>\n",
       "      <td>...</td>\n",
       "      <td>...</td>\n",
       "    </tr>\n",
       "    <tr>\n",
       "      <th>10468</th>\n",
       "      <td>Софийское шоссе</td>\n",
       "      <td>1</td>\n",
       "      <td>софийское шоссе</td>\n",
       "    </tr>\n",
       "    <tr>\n",
       "      <th>10469</th>\n",
       "      <td>Толмачово-Волосово</td>\n",
       "      <td>1</td>\n",
       "      <td>толмачово-волосово</td>\n",
       "    </tr>\n",
       "    <tr>\n",
       "      <th>10470</th>\n",
       "      <td>Цивик Объезжайте</td>\n",
       "      <td>1</td>\n",
       "      <td>цивик объезжайте</td>\n",
       "    </tr>\n",
       "    <tr>\n",
       "      <th>10471</th>\n",
       "      <td>Мечникова</td>\n",
       "      <td>1</td>\n",
       "      <td>мечникова</td>\n",
       "    </tr>\n",
       "    <tr>\n",
       "      <th>10472</th>\n",
       "      <td>Гороховая/Грибоедова</td>\n",
       "      <td>1</td>\n",
       "      <td>гороховая/грибоедова</td>\n",
       "    </tr>\n",
       "  </tbody>\n",
       "</table>\n",
       "<p>10473 rows × 3 columns</p>\n",
       "</div>"
      ],
      "text/plain": [
       "                       name  count                  norm\n",
       "0                       КАД    653                   кад\n",
       "1          Московское шоссе    494      Московское шоссе\n",
       "2                 Ленинский    422             ленинский\n",
       "3          Выборгское шоссе    413      выборгское шоссе\n",
       "4                 Софийская    407             софийская\n",
       "...                     ...    ...                   ...\n",
       "10468       Софийское шоссе      1       софийское шоссе\n",
       "10469    Толмачово-Волосово      1    толмачово-волосово\n",
       "10470      Цивик Объезжайте      1      цивик объезжайте\n",
       "10471             Мечникова      1             мечникова\n",
       "10472  Гороховая/Грибоедова      1  гороховая/грибоедова\n",
       "\n",
       "[10473 rows x 3 columns]"
      ]
     },
     "execution_count": 148,
     "metadata": {},
     "output_type": "execute_result"
    }
   ],
   "source": [
    "df_loc"
   ]
  },
  {
   "cell_type": "code",
   "execution_count": 147,
   "metadata": {},
   "outputs": [
    {
     "data": {
      "text/plain": [
       "Обводный канал          61\n",
       "Московский проспект     42\n",
       "Московское шоссе        17\n",
       "проспект просвещение     3\n",
       "мега                     3\n",
       "                        ..\n",
       "павлово                  1\n",
       "королла                  1\n",
       "английский               1\n",
       "сантьяго де куб          1\n",
       "веденской                1\n",
       "Name: norm, Length: 10050, dtype: int64"
      ]
     },
     "execution_count": 147,
     "metadata": {},
     "output_type": "execute_result"
    }
   ],
   "source": [
    "df_loc['norm'].value_counts()"
   ]
  },
  {
   "cell_type": "code",
   "execution_count": 61,
   "metadata": {},
   "outputs": [],
   "source": [
    "df_loc = df_loc['name'].value_counts().rename_axis('name').reset_index(name='count')"
   ]
  },
  {
   "cell_type": "code",
   "execution_count": 66,
   "metadata": {},
   "outputs": [
    {
     "data": {
      "text/plain": [
       "<matplotlib.axes._subplots.AxesSubplot at 0x7ff82f309eb0>"
      ]
     },
     "execution_count": 66,
     "metadata": {},
     "output_type": "execute_result"
    },
    {
     "data": {
      "image/png": "[encoded data removed]",
      "text/plain": [
       "<Figure size 432x288 with 1 Axes>"
      ]
     },
     "metadata": {
      "needs_background": "light"
     },
     "output_type": "display_data"
    }
   ],
   "source": [
    "df_loc['count'].hist(bins=100)"
   ]
  },
  {
   "cell_type": "code",
   "execution_count": 115,
   "metadata": {},
   "outputs": [
    {
     "data": {
      "text/html": [
       "<div>\n",
       "<style scoped>\n",
       "    .dataframe tbody tr th:only-of-type {\n",
       "        vertical-align: middle;\n",
       "    }\n",
       "\n",
       "    .dataframe tbody tr th {\n",
       "        vertical-align: top;\n",
       "    }\n",
       "\n",
       "    .dataframe thead th {\n",
       "        text-align: right;\n",
       "    }\n",
       "</style>\n",
       "<table border=\"1\" class=\"dataframe\">\n",
       "  <thead>\n",
       "    <tr style=\"text-align: right;\">\n",
       "      <th></th>\n",
       "      <th>name</th>\n",
       "      <th>count</th>\n",
       "      <th>norm</th>\n",
       "    </tr>\n",
       "  </thead>\n",
       "  <tbody>\n",
       "    <tr>\n",
       "      <th>0</th>\n",
       "      <td>КАД</td>\n",
       "      <td>653</td>\n",
       "      <td>NaN</td>\n",
       "    </tr>\n",
       "    <tr>\n",
       "      <th>1</th>\n",
       "      <td>Московское шоссе</td>\n",
       "      <td>494</td>\n",
       "      <td>NaN</td>\n",
       "    </tr>\n",
       "    <tr>\n",
       "      <th>2</th>\n",
       "      <td>Ленинский</td>\n",
       "      <td>422</td>\n",
       "      <td>NaN</td>\n",
       "    </tr>\n",
       "    <tr>\n",
       "      <th>3</th>\n",
       "      <td>Выборгское шоссе</td>\n",
       "      <td>413</td>\n",
       "      <td>NaN</td>\n",
       "    </tr>\n",
       "    <tr>\n",
       "      <th>4</th>\n",
       "      <td>Софийская</td>\n",
       "      <td>407</td>\n",
       "      <td>NaN</td>\n",
       "    </tr>\n",
       "    <tr>\n",
       "      <th>...</th>\n",
       "      <td>...</td>\n",
       "      <td>...</td>\n",
       "      <td>...</td>\n",
       "    </tr>\n",
       "    <tr>\n",
       "      <th>101</th>\n",
       "      <td>Московский пр</td>\n",
       "      <td>104</td>\n",
       "      <td>NaN</td>\n",
       "    </tr>\n",
       "    <tr>\n",
       "      <th>102</th>\n",
       "      <td>Лента</td>\n",
       "      <td>103</td>\n",
       "      <td>NaN</td>\n",
       "    </tr>\n",
       "    <tr>\n",
       "      <th>103</th>\n",
       "      <td>Маршал Жуков</td>\n",
       "      <td>103</td>\n",
       "      <td>NaN</td>\n",
       "    </tr>\n",
       "    <tr>\n",
       "      <th>104</th>\n",
       "      <td>Орджоникидзе</td>\n",
       "      <td>103</td>\n",
       "      <td>NaN</td>\n",
       "    </tr>\n",
       "    <tr>\n",
       "      <th>105</th>\n",
       "      <td>Тельман</td>\n",
       "      <td>103</td>\n",
       "      <td>NaN</td>\n",
       "    </tr>\n",
       "  </tbody>\n",
       "</table>\n",
       "<p>106 rows × 3 columns</p>\n",
       "</div>"
      ],
      "text/plain": [
       "                 name  count norm\n",
       "0                 КАД    653  NaN\n",
       "1    Московское шоссе    494  NaN\n",
       "2           Ленинский    422  NaN\n",
       "3    Выборгское шоссе    413  NaN\n",
       "4           Софийская    407  NaN\n",
       "..                ...    ...  ...\n",
       "101     Московский пр    104  NaN\n",
       "102             Лента    103  NaN\n",
       "103      Маршал Жуков    103  NaN\n",
       "104      Орджоникидзе    103  NaN\n",
       "105           Тельман    103  NaN\n",
       "\n",
       "[106 rows x 3 columns]"
      ]
     },
     "execution_count": 115,
     "metadata": {},
     "output_type": "execute_result"
    }
   ],
   "source": [
    "df_loc[df_loc['count'] > 100]"
   ]
  }
 ],
 "metadata": {
  "kernelspec": {
   "display_name": "Python 3",
   "language": "python",
   "name": "python3"
  },
  "language_info": {
   "codemirror_mode": {
    "name": "ipython",
    "version": 3
   },
   "file_extension": ".py",
   "mimetype": "text/x-python",
   "name": "python",
   "nbconvert_exporter": "python",
   "pygments_lexer": "ipython3",
   "version": "3.8.2"
  }
 },
 "nbformat": 4,
 "nbformat_minor": 4
}
