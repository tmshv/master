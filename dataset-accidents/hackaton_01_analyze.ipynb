{
 "cells": [
  {
   "cell_type": "code",
   "execution_count": 1,
   "metadata": {},
   "outputs": [],
   "source": [
    "import pandas as pd"
   ]
  },
  {
   "cell_type": "code",
   "execution_count": 526,
   "metadata": {},
   "outputs": [],
   "source": [
    "df = pd.read_csv('20201020-vk-spb_today.csv', index_col=['id'])"
   ]
  },
  {
   "cell_type": "code",
   "execution_count": 527,
   "metadata": {},
   "outputs": [],
   "source": [
    "df = df[df['text'].notnull()]"
   ]
  },
  {
   "cell_type": "code",
   "execution_count": 528,
   "metadata": {},
   "outputs": [],
   "source": [
    "df['date'] = df.apply(lambda x: pd.to_datetime(x['date'], unit='s'), axis=1)"
   ]
  },
  {
   "cell_type": "code",
   "execution_count": 529,
   "metadata": {},
   "outputs": [],
   "source": [
    "df = df[~df['text'].str.contains('угнан', case=False)]\n",
    "df = df[~df['text'].str.contains('угнали', case=False)]\n",
    "df = df[~df['text'].str.contains('украден', case=False)]\n",
    "df = df[~df['text'].str.contains('украли', case=False)]\n",
    "df = df[~df['text'].str.contains('ограбления', case=False)]\n",
    "df = df[~df['text'].str.contains('пропал', case=False)]\n",
    "df = df[~df['text'].str.contains('Дайджест новостей Мегаполиса за прошедшие сутки', case=False)]\n",
    "df = df[~df['text'].str.contains('Новости города за последние сутки', case=False)]\n",
    "df = df[~df['text'].str.contains('Новости города за сегодняшний день', case=False)]\n",
    "df = df[~df['text'].str.contains('Новости города за день', case=False)]\n",
    "df = df[~df['text'].str.contains('обзор новостей', case=False)]\n",
    "df = df[~df['text'].str.contains('Новости нашего Мегаполиса', case=False)]\n",
    "df = df[~df['text'].str.contains('эвакуация', case=False)]\n",
    "df = df[~df['text'].str.contains('жильцы', case=False)]\n",
    "df = df[~df['text'].str.contains('стреляют', case=False)]\n",
    "df = df[~df['text'].str.contains('бомж', case=False)]"
   ]
  },
  {
   "cell_type": "code",
   "execution_count": 530,
   "metadata": {},
   "outputs": [],
   "source": [
    "df = df[df['text'].str.len() <= 1000]"
   ]
  },
  {
   "cell_type": "code",
   "execution_count": 531,
   "metadata": {},
   "outputs": [],
   "source": [
    "df['accident'] = 0"
   ]
  },
  {
   "cell_type": "code",
   "execution_count": 532,
   "metadata": {},
   "outputs": [],
   "source": [
    "df.loc[df['text'].str.contains('дтп', case=False, na=False), 'accident'] = 1\n",
    "df.loc[df['text'].str.contains('авари', case=False, na=False), 'accident'] = 1\n",
    "df.loc[df['text'].str.contains('сбили', case=False, na=False), 'accident'] = 1\n",
    "df.loc[df['text'].str.contains('сбит', case=False, na=False), 'accident'] = 1\n",
    "df.loc[df['text'].str.contains('вылетел', case=False, na=False), 'accident'] = 1\n",
    "df.loc[df['text'].str.contains('врезался', case=False, na=False), 'accident'] = 1\n",
    "df.loc[df['text'].str.contains('притерлись', case=False, na=False), 'accident'] = 1\n",
    "df.loc[df['text'].str.contains('столкнулись', case=False, na=False), 'accident'] = 1\n",
    "df.loc[df['text'].str.contains('паровоз', case=False, na=False), 'accident'] = 1\n",
    "df.loc[df['text'].str.contains('догонял', case=False, na=False), 'accident'] = 1\n",
    "df.loc[df['text'].str.contains('тройничок', case=False, na=False), 'accident'] = 1\n",
    "df.loc[df['text'].str.contains('перегородили', case=False, na=False), 'accident'] = 1\n",
    "df.loc[df['text'].str.contains('фура', case=False, na=False), 'accident'] = 1\n",
    "df.loc[df['text'].str.contains('маршрутк', case=False, na=False), 'accident'] = 1\n",
    "df.loc[df['text'].str.contains('мотоцикл', case=False, na=False), 'accident'] = 1"
   ]
  },
  {
   "cell_type": "code",
   "execution_count": 533,
   "metadata": {},
   "outputs": [
    {
     "data": {
      "text/html": [
       "<div>\n",
       "<style scoped>\n",
       "    .dataframe tbody tr th:only-of-type {\n",
       "        vertical-align: middle;\n",
       "    }\n",
       "\n",
       "    .dataframe tbody tr th {\n",
       "        vertical-align: top;\n",
       "    }\n",
       "\n",
       "    .dataframe thead th {\n",
       "        text-align: right;\n",
       "    }\n",
       "</style>\n",
       "<table border=\"1\" class=\"dataframe\">\n",
       "  <thead>\n",
       "    <tr style=\"text-align: right;\">\n",
       "      <th></th>\n",
       "      <th>text</th>\n",
       "      <th>date</th>\n",
       "      <th>comments</th>\n",
       "      <th>likes</th>\n",
       "      <th>reposts</th>\n",
       "      <th>views</th>\n",
       "      <th>attachments_count</th>\n",
       "      <th>from_id</th>\n",
       "      <th>owner_id</th>\n",
       "      <th>signer_id</th>\n",
       "      <th>accident</th>\n",
       "    </tr>\n",
       "    <tr>\n",
       "      <th>id</th>\n",
       "      <th></th>\n",
       "      <th></th>\n",
       "      <th></th>\n",
       "      <th></th>\n",
       "      <th></th>\n",
       "      <th></th>\n",
       "      <th></th>\n",
       "      <th></th>\n",
       "      <th></th>\n",
       "      <th></th>\n",
       "      <th></th>\n",
       "    </tr>\n",
       "  </thead>\n",
       "  <tbody>\n",
       "    <tr>\n",
       "      <th>13700386</th>\n",
       "      <td>Токийский дрифт автобуса на перекрёстке Ленинс...</td>\n",
       "      <td>2020-08-24 05:22:04</td>\n",
       "      <td>47</td>\n",
       "      <td>99</td>\n",
       "      <td>5</td>\n",
       "      <td>102559</td>\n",
       "      <td>1</td>\n",
       "      <td>-68471405</td>\n",
       "      <td>-68471405</td>\n",
       "      <td>340692601.0</td>\n",
       "      <td>0</td>\n",
       "    </tr>\n",
       "    <tr>\n",
       "      <th>8971566</th>\n",
       "      <td>Авария на перекрестке Коллонтай и пр. Большевиков</td>\n",
       "      <td>2018-05-30 05:06:13</td>\n",
       "      <td>0</td>\n",
       "      <td>41</td>\n",
       "      <td>2</td>\n",
       "      <td>90916</td>\n",
       "      <td>0</td>\n",
       "      <td>-68471405</td>\n",
       "      <td>-68471405</td>\n",
       "      <td>NaN</td>\n",
       "      <td>1</td>\n",
       "    </tr>\n",
       "    <tr>\n",
       "      <th>10600620</th>\n",
       "      <td>На международной.\\nТаксист подбил две машины.\\...</td>\n",
       "      <td>2019-02-21 12:12:01</td>\n",
       "      <td>72</td>\n",
       "      <td>63</td>\n",
       "      <td>1</td>\n",
       "      <td>110433</td>\n",
       "      <td>0</td>\n",
       "      <td>-68471405</td>\n",
       "      <td>-68471405</td>\n",
       "      <td>1697915.0</td>\n",
       "      <td>0</td>\n",
       "    </tr>\n",
       "  </tbody>\n",
       "</table>\n",
       "</div>"
      ],
      "text/plain": [
       "                                                       text  \\\n",
       "id                                                            \n",
       "13700386  Токийский дрифт автобуса на перекрёстке Ленинс...   \n",
       "8971566   Авария на перекрестке Коллонтай и пр. Большевиков   \n",
       "10600620  На международной.\\nТаксист подбил две машины.\\...   \n",
       "\n",
       "                        date  comments  likes  reposts   views  \\\n",
       "id                                                               \n",
       "13700386 2020-08-24 05:22:04        47     99        5  102559   \n",
       "8971566  2018-05-30 05:06:13         0     41        2   90916   \n",
       "10600620 2019-02-21 12:12:01        72     63        1  110433   \n",
       "\n",
       "          attachments_count   from_id  owner_id    signer_id  accident  \n",
       "id                                                                      \n",
       "13700386                  1 -68471405 -68471405  340692601.0         0  \n",
       "8971566                   0 -68471405 -68471405          NaN         1  \n",
       "10600620                  0 -68471405 -68471405    1697915.0         0  "
      ]
     },
     "execution_count": 533,
     "metadata": {},
     "output_type": "execute_result"
    }
   ],
   "source": [
    "df.sample(3)"
   ]
  },
  {
   "cell_type": "code",
   "execution_count": 534,
   "metadata": {},
   "outputs": [
    {
     "data": {
      "text/plain": [
       "0    71003\n",
       "1    43527\n",
       "Name: accident, dtype: int64"
      ]
     },
     "execution_count": 534,
     "metadata": {},
     "output_type": "execute_result"
    }
   ],
   "source": [
    "df['accident'].value_counts()"
   ]
  },
  {
   "cell_type": "code",
   "execution_count": 535,
   "metadata": {},
   "outputs": [
    {
     "data": {
      "text/plain": [
       "(114530, 11)"
      ]
     },
     "execution_count": 535,
     "metadata": {},
     "output_type": "execute_result"
    }
   ],
   "source": [
    "df.shape"
   ]
  },
  {
   "cell_type": "code",
   "execution_count": 541,
   "metadata": {},
   "outputs": [],
   "source": [
    "def sample_text(df, samples = 5):\n",
    "    s = min(df.shape[0], samples)\n",
    "    print(df.shape)\n",
    "    for post_id, row in df.sample(s).iterrows():\n",
    "        a = row['accident']\n",
    "        l = len(row['text'])\n",
    "        print('_' * 100)\n",
    "        print(f'{post_id} (accident: {a} len: {l})')\n",
    "        print(row['text'])"
   ]
  },
  {
   "cell_type": "code",
   "execution_count": 64,
   "metadata": {},
   "outputs": [
    {
     "data": {
      "text/html": [
       "<div>\n",
       "<style scoped>\n",
       "    .dataframe tbody tr th:only-of-type {\n",
       "        vertical-align: middle;\n",
       "    }\n",
       "\n",
       "    .dataframe tbody tr th {\n",
       "        vertical-align: top;\n",
       "    }\n",
       "\n",
       "    .dataframe thead th {\n",
       "        text-align: right;\n",
       "    }\n",
       "</style>\n",
       "<table border=\"1\" class=\"dataframe\">\n",
       "  <thead>\n",
       "    <tr style=\"text-align: right;\">\n",
       "      <th></th>\n",
       "      <th>text</th>\n",
       "      <th>date</th>\n",
       "      <th>comments</th>\n",
       "      <th>likes</th>\n",
       "      <th>reposts</th>\n",
       "      <th>views</th>\n",
       "      <th>attachments_count</th>\n",
       "      <th>from_id</th>\n",
       "      <th>owner_id</th>\n",
       "      <th>signer_id</th>\n",
       "    </tr>\n",
       "    <tr>\n",
       "      <th>id</th>\n",
       "      <th></th>\n",
       "      <th></th>\n",
       "      <th></th>\n",
       "      <th></th>\n",
       "      <th></th>\n",
       "      <th></th>\n",
       "      <th></th>\n",
       "      <th></th>\n",
       "      <th></th>\n",
       "      <th></th>\n",
       "    </tr>\n",
       "  </thead>\n",
       "  <tbody>\n",
       "    <tr>\n",
       "      <th>13909332</th>\n",
       "      <td>На улице Трефолева возле заправки Лукойл у фур...</td>\n",
       "      <td>2020-10-07 20:32:13</td>\n",
       "      <td>807</td>\n",
       "      <td>450</td>\n",
       "      <td>83</td>\n",
       "      <td>154777</td>\n",
       "      <td>7</td>\n",
       "      <td>-68471405</td>\n",
       "      <td>-68471405</td>\n",
       "      <td>422391233.0</td>\n",
       "    </tr>\n",
       "    <tr>\n",
       "      <th>13813634</th>\n",
       "      <td>Новости нашего Мегаполиса: \\n\\n1. Тело пенсион...</td>\n",
       "      <td>2020-09-18 20:02:22</td>\n",
       "      <td>99</td>\n",
       "      <td>71</td>\n",
       "      <td>1</td>\n",
       "      <td>108595</td>\n",
       "      <td>10</td>\n",
       "      <td>-68471405</td>\n",
       "      <td>-68471405</td>\n",
       "      <td>NaN</td>\n",
       "    </tr>\n",
       "    <tr>\n",
       "      <th>13811473</th>\n",
       "      <td>Задержан мужчина, подозреваемый в травмировани...</td>\n",
       "      <td>2020-09-18 12:50:06</td>\n",
       "      <td>218</td>\n",
       "      <td>197</td>\n",
       "      <td>28</td>\n",
       "      <td>81935</td>\n",
       "      <td>2</td>\n",
       "      <td>-68471405</td>\n",
       "      <td>-68471405</td>\n",
       "      <td>NaN</td>\n",
       "    </tr>\n",
       "    <tr>\n",
       "      <th>13809928</th>\n",
       "      <td>Сотрудники полиции обнаружили частный дом, где...</td>\n",
       "      <td>2020-09-18 09:08:08</td>\n",
       "      <td>284</td>\n",
       "      <td>307</td>\n",
       "      <td>12</td>\n",
       "      <td>159162</td>\n",
       "      <td>10</td>\n",
       "      <td>-68471405</td>\n",
       "      <td>-68471405</td>\n",
       "      <td>NaN</td>\n",
       "    </tr>\n",
       "    <tr>\n",
       "      <th>13805044</th>\n",
       "      <td>Собачьи бои на Ветеранов\\n\\nВзрослый человек б...</td>\n",
       "      <td>2020-09-16 22:20:12</td>\n",
       "      <td>134</td>\n",
       "      <td>73</td>\n",
       "      <td>9</td>\n",
       "      <td>77101</td>\n",
       "      <td>2</td>\n",
       "      <td>-68471405</td>\n",
       "      <td>-68471405</td>\n",
       "      <td>NaN</td>\n",
       "    </tr>\n",
       "    <tr>\n",
       "      <th>...</th>\n",
       "      <td>...</td>\n",
       "      <td>...</td>\n",
       "      <td>...</td>\n",
       "      <td>...</td>\n",
       "      <td>...</td>\n",
       "      <td>...</td>\n",
       "      <td>...</td>\n",
       "      <td>...</td>\n",
       "      <td>...</td>\n",
       "      <td>...</td>\n",
       "    </tr>\n",
       "    <tr>\n",
       "      <th>861</th>\n",
       "      <td>Немного автомобильного юмора 😊😉\\nРасшифровки а...</td>\n",
       "      <td>2014-05-10 13:30:05</td>\n",
       "      <td>0</td>\n",
       "      <td>34</td>\n",
       "      <td>19</td>\n",
       "      <td>0</td>\n",
       "      <td>0</td>\n",
       "      <td>-68471405</td>\n",
       "      <td>-68471405</td>\n",
       "      <td>NaN</td>\n",
       "    </tr>\n",
       "    <tr>\n",
       "      <th>794</th>\n",
       "      <td>Немного автомобильного юмора 😊😉\\nРасшифровки а...</td>\n",
       "      <td>2014-05-07 20:28:30</td>\n",
       "      <td>0</td>\n",
       "      <td>29</td>\n",
       "      <td>9</td>\n",
       "      <td>0</td>\n",
       "      <td>0</td>\n",
       "      <td>-68471405</td>\n",
       "      <td>-68471405</td>\n",
       "      <td>NaN</td>\n",
       "    </tr>\n",
       "    <tr>\n",
       "      <th>420</th>\n",
       "      <td>Мотоциклист, влетевший под «Спринтер» на Карав...</td>\n",
       "      <td>2014-04-18 14:07:55</td>\n",
       "      <td>0</td>\n",
       "      <td>2</td>\n",
       "      <td>1</td>\n",
       "      <td>0</td>\n",
       "      <td>0</td>\n",
       "      <td>-68471405</td>\n",
       "      <td>-68471405</td>\n",
       "      <td>NaN</td>\n",
       "    </tr>\n",
       "    <tr>\n",
       "      <th>404</th>\n",
       "      <td>В массовой аварии на Свердловской набережной п...</td>\n",
       "      <td>2014-04-17 06:20:35</td>\n",
       "      <td>0</td>\n",
       "      <td>1</td>\n",
       "      <td>1</td>\n",
       "      <td>0</td>\n",
       "      <td>1</td>\n",
       "      <td>-68471405</td>\n",
       "      <td>-68471405</td>\n",
       "      <td>NaN</td>\n",
       "    </tr>\n",
       "    <tr>\n",
       "      <th>321</th>\n",
       "      <td>Подросток сообщил о несуществующей бомбе в ДК ...</td>\n",
       "      <td>2014-04-12 10:45:04</td>\n",
       "      <td>0</td>\n",
       "      <td>2</td>\n",
       "      <td>1</td>\n",
       "      <td>0</td>\n",
       "      <td>0</td>\n",
       "      <td>-68471405</td>\n",
       "      <td>-68471405</td>\n",
       "      <td>NaN</td>\n",
       "    </tr>\n",
       "  </tbody>\n",
       "</table>\n",
       "<p>400 rows × 10 columns</p>\n",
       "</div>"
      ],
      "text/plain": [
       "                                                       text  \\\n",
       "id                                                            \n",
       "13909332  На улице Трефолева возле заправки Лукойл у фур...   \n",
       "13813634  Новости нашего Мегаполиса: \\n\\n1. Тело пенсион...   \n",
       "13811473  Задержан мужчина, подозреваемый в травмировани...   \n",
       "13809928  Сотрудники полиции обнаружили частный дом, где...   \n",
       "13805044  Собачьи бои на Ветеранов\\n\\nВзрослый человек б...   \n",
       "...                                                     ...   \n",
       "861       Немного автомобильного юмора 😊😉\\nРасшифровки а...   \n",
       "794       Немного автомобильного юмора 😊😉\\nРасшифровки а...   \n",
       "420       Мотоциклист, влетевший под «Спринтер» на Карав...   \n",
       "404       В массовой аварии на Свердловской набережной п...   \n",
       "321       Подросток сообщил о несуществующей бомбе в ДК ...   \n",
       "\n",
       "                        date  comments  likes  reposts   views  \\\n",
       "id                                                               \n",
       "13909332 2020-10-07 20:32:13       807    450       83  154777   \n",
       "13813634 2020-09-18 20:02:22        99     71        1  108595   \n",
       "13811473 2020-09-18 12:50:06       218    197       28   81935   \n",
       "13809928 2020-09-18 09:08:08       284    307       12  159162   \n",
       "13805044 2020-09-16 22:20:12       134     73        9   77101   \n",
       "...                      ...       ...    ...      ...     ...   \n",
       "861      2014-05-10 13:30:05         0     34       19       0   \n",
       "794      2014-05-07 20:28:30         0     29        9       0   \n",
       "420      2014-04-18 14:07:55         0      2        1       0   \n",
       "404      2014-04-17 06:20:35         0      1        1       0   \n",
       "321      2014-04-12 10:45:04         0      2        1       0   \n",
       "\n",
       "          attachments_count   from_id  owner_id    signer_id  \n",
       "id                                                            \n",
       "13909332                  7 -68471405 -68471405  422391233.0  \n",
       "13813634                 10 -68471405 -68471405          NaN  \n",
       "13811473                  2 -68471405 -68471405          NaN  \n",
       "13809928                 10 -68471405 -68471405          NaN  \n",
       "13805044                  2 -68471405 -68471405          NaN  \n",
       "...                     ...       ...       ...          ...  \n",
       "861                       0 -68471405 -68471405          NaN  \n",
       "794                       0 -68471405 -68471405          NaN  \n",
       "420                       0 -68471405 -68471405          NaN  \n",
       "404                       1 -68471405 -68471405          NaN  \n",
       "321                       0 -68471405 -68471405          NaN  \n",
       "\n",
       "[400 rows x 10 columns]"
      ]
     },
     "execution_count": 64,
     "metadata": {},
     "output_type": "execute_result"
    }
   ],
   "source": [
    "df[df['text'].str.contains('')]"
   ]
  },
  {
   "cell_type": "code",
   "execution_count": 562,
   "metadata": {},
   "outputs": [
    {
     "data": {
      "text/plain": [
       "<matplotlib.axes._subplots.AxesSubplot at 0x7fa10419ed30>"
      ]
     },
     "execution_count": 562,
     "metadata": {},
     "output_type": "execute_result"
    },
    {
     "data": {
      "image/png": "[encoded data removed]",
      "text/plain": [
       "<Figure size 432x288 with 1 Axes>"
      ]
     },
     "metadata": {
      "needs_background": "light"
     },
     "output_type": "display_data"
    }
   ],
   "source": [
    "df['text'].str.len().hist(bins=100)"
   ]
  },
  {
   "cell_type": "code",
   "execution_count": 434,
   "metadata": {},
   "outputs": [
    {
     "data": {
      "text/plain": [
       "count    116406.000000\n",
       "mean        184.578140\n",
       "std         275.020158\n",
       "min           1.000000\n",
       "25%          71.000000\n",
       "50%         109.000000\n",
       "75%         186.000000\n",
       "max       10149.000000\n",
       "Name: text, dtype: float64"
      ]
     },
     "execution_count": 434,
     "metadata": {},
     "output_type": "execute_result"
    }
   ],
   "source": [
    "df['text'].str.len().describe()"
   ]
  },
  {
   "cell_type": "code",
   "execution_count": 475,
   "metadata": {},
   "outputs": [
    {
     "data": {
      "text/plain": [
       "count    44323.000000\n",
       "mean       209.631027\n",
       "std        282.709497\n",
       "min          3.000000\n",
       "25%         78.000000\n",
       "50%        122.000000\n",
       "75%        226.000000\n",
       "max       6993.000000\n",
       "Name: text, dtype: float64"
      ]
     },
     "execution_count": 475,
     "metadata": {},
     "output_type": "execute_result"
    }
   ],
   "source": [
    "df[df['accident'] == 1]['text'].str.len().describe()"
   ]
  },
  {
   "cell_type": "code",
   "execution_count": 567,
   "metadata": {},
   "outputs": [
    {
     "data": {
      "text/html": [
       "<div>\n",
       "<style scoped>\n",
       "    .dataframe tbody tr th:only-of-type {\n",
       "        vertical-align: middle;\n",
       "    }\n",
       "\n",
       "    .dataframe tbody tr th {\n",
       "        vertical-align: top;\n",
       "    }\n",
       "\n",
       "    .dataframe thead th {\n",
       "        text-align: right;\n",
       "    }\n",
       "</style>\n",
       "<table border=\"1\" class=\"dataframe\">\n",
       "  <thead>\n",
       "    <tr style=\"text-align: right;\">\n",
       "      <th></th>\n",
       "      <th>text</th>\n",
       "      <th>date</th>\n",
       "      <th>comments</th>\n",
       "      <th>likes</th>\n",
       "      <th>reposts</th>\n",
       "      <th>views</th>\n",
       "    </tr>\n",
       "    <tr>\n",
       "      <th>id</th>\n",
       "      <th></th>\n",
       "      <th></th>\n",
       "      <th></th>\n",
       "      <th></th>\n",
       "      <th></th>\n",
       "      <th></th>\n",
       "    </tr>\n",
       "  </thead>\n",
       "  <tbody>\n",
       "    <tr>\n",
       "      <th>13979013</th>\n",
       "      <td>Паровозик из 4х машин на Пискаревском над Шафи...</td>\n",
       "      <td>2020-10-20 19:36:23</td>\n",
       "      <td>8</td>\n",
       "      <td>15</td>\n",
       "      <td>0</td>\n",
       "      <td>23230</td>\n",
       "    </tr>\n",
       "    <tr>\n",
       "      <th>13978872</th>\n",
       "      <td>Мазда и Шкода устроили дтп на Гренадерской ули...</td>\n",
       "      <td>2020-10-20 19:01:36</td>\n",
       "      <td>6</td>\n",
       "      <td>23</td>\n",
       "      <td>2</td>\n",
       "      <td>33686</td>\n",
       "    </tr>\n",
       "    <tr>\n",
       "      <th>13978184</th>\n",
       "      <td>Двое столкнулись и стоят на выезде с Пархоменк...</td>\n",
       "      <td>2020-10-20 16:40:01</td>\n",
       "      <td>10</td>\n",
       "      <td>35</td>\n",
       "      <td>1</td>\n",
       "      <td>62495</td>\n",
       "    </tr>\n",
       "    <tr>\n",
       "      <th>13977833</th>\n",
       "      <td>Ищу свидетелей аварии произошедшей 19 октября ...</td>\n",
       "      <td>2020-10-20 15:46:56</td>\n",
       "      <td>11</td>\n",
       "      <td>23</td>\n",
       "      <td>4</td>\n",
       "      <td>51419</td>\n",
       "    </tr>\n",
       "    <tr>\n",
       "      <th>13977804</th>\n",
       "      <td>Уважаемы эксперты ПДД и адепты ДТП. Представля...</td>\n",
       "      <td>2020-10-20 15:42:25</td>\n",
       "      <td>264</td>\n",
       "      <td>65</td>\n",
       "      <td>1</td>\n",
       "      <td>51432</td>\n",
       "    </tr>\n",
       "    <tr>\n",
       "      <th>...</th>\n",
       "      <td>...</td>\n",
       "      <td>...</td>\n",
       "      <td>...</td>\n",
       "      <td>...</td>\n",
       "      <td>...</td>\n",
       "      <td>...</td>\n",
       "    </tr>\n",
       "    <tr>\n",
       "      <th>8</th>\n",
       "      <td>Авария в 8 часов утра 3.20.2014 на пр. Науки 1...</td>\n",
       "      <td>2014-03-21 10:57:24</td>\n",
       "      <td>0</td>\n",
       "      <td>2</td>\n",
       "      <td>0</td>\n",
       "      <td>0</td>\n",
       "    </tr>\n",
       "    <tr>\n",
       "      <th>5</th>\n",
       "      <td>ДТП произошло 20 марта в 17:58. Автомобиль БМВ...</td>\n",
       "      <td>2014-03-21 06:27:02</td>\n",
       "      <td>0</td>\n",
       "      <td>1</td>\n",
       "      <td>0</td>\n",
       "      <td>0</td>\n",
       "    </tr>\n",
       "    <tr>\n",
       "      <th>4</th>\n",
       "      <td>Водителя занесло на повороте, а после столкнов...</td>\n",
       "      <td>2014-03-21 03:20:23</td>\n",
       "      <td>0</td>\n",
       "      <td>0</td>\n",
       "      <td>0</td>\n",
       "      <td>0</td>\n",
       "    </tr>\n",
       "    <tr>\n",
       "      <th>3</th>\n",
       "      <td>На проспекте Энергетиков пожилая женщина попал...</td>\n",
       "      <td>2014-03-20 22:53:32</td>\n",
       "      <td>0</td>\n",
       "      <td>0</td>\n",
       "      <td>0</td>\n",
       "      <td>0</td>\n",
       "    </tr>\n",
       "    <tr>\n",
       "      <th>2</th>\n",
       "      <td>Авария 18 марта на проспекте Стачек,не кто не ...</td>\n",
       "      <td>2014-03-20 22:17:27</td>\n",
       "      <td>0</td>\n",
       "      <td>3</td>\n",
       "      <td>2</td>\n",
       "      <td>0</td>\n",
       "    </tr>\n",
       "  </tbody>\n",
       "</table>\n",
       "<p>43527 rows × 6 columns</p>\n",
       "</div>"
      ],
      "text/plain": [
       "                                                       text  \\\n",
       "id                                                            \n",
       "13979013  Паровозик из 4х машин на Пискаревском над Шафи...   \n",
       "13978872  Мазда и Шкода устроили дтп на Гренадерской ули...   \n",
       "13978184  Двое столкнулись и стоят на выезде с Пархоменк...   \n",
       "13977833  Ищу свидетелей аварии произошедшей 19 октября ...   \n",
       "13977804  Уважаемы эксперты ПДД и адепты ДТП. Представля...   \n",
       "...                                                     ...   \n",
       "8         Авария в 8 часов утра 3.20.2014 на пр. Науки 1...   \n",
       "5         ДТП произошло 20 марта в 17:58. Автомобиль БМВ...   \n",
       "4         Водителя занесло на повороте, а после столкнов...   \n",
       "3         На проспекте Энергетиков пожилая женщина попал...   \n",
       "2         Авария 18 марта на проспекте Стачек,не кто не ...   \n",
       "\n",
       "                        date  comments  likes  reposts  views  \n",
       "id                                                             \n",
       "13979013 2020-10-20 19:36:23         8     15        0  23230  \n",
       "13978872 2020-10-20 19:01:36         6     23        2  33686  \n",
       "13978184 2020-10-20 16:40:01        10     35        1  62495  \n",
       "13977833 2020-10-20 15:46:56        11     23        4  51419  \n",
       "13977804 2020-10-20 15:42:25       264     65        1  51432  \n",
       "...                      ...       ...    ...      ...    ...  \n",
       "8        2014-03-21 10:57:24         0      2        0      0  \n",
       "5        2014-03-21 06:27:02         0      1        0      0  \n",
       "4        2014-03-21 03:20:23         0      0        0      0  \n",
       "3        2014-03-20 22:53:32         0      0        0      0  \n",
       "2        2014-03-20 22:17:27         0      3        2      0  \n",
       "\n",
       "[43527 rows x 6 columns]"
      ]
     },
     "execution_count": 567,
     "metadata": {},
     "output_type": "execute_result"
    }
   ],
   "source": [
    "df[df['accident'] == 1][['text', 'date', 'comments', 'likes', 'reposts', 'views']]"
   ]
  },
  {
   "cell_type": "code",
   "execution_count": 561,
   "metadata": {},
   "outputs": [
    {
     "name": "stdout",
     "output_type": "stream",
     "text": [
      "(36697, 11)\n",
      "____________________________________________________________________________________________________\n",
      "621833 (accident: 0 len: 117)\n",
      "Приморское шоссе , пупсик улетел (( как так произошло не понятно , водитель стоит в шоке , все живы !\n",
      "Пробушки нет !)\n",
      "____________________________________________________________________________________________________\n",
      "2027153 (accident: 0 len: 172)\n",
      "Что-то произошло в тц сенная. Три машины полиции и скорая, всех выгоняют\n",
      "\n",
      "[id88805269|Ксения Орлова]:\n",
      "Около входа , со стороны рынка , лежит сумка\n",
      "Полицаи сказали из-за нее\n",
      "____________________________________________________________________________________________________\n",
      "2990225 (accident: 0 len: 131)\n",
      "Огромная пробка от пересечения Дачного и Ветеранов до Лени Голикова. \n",
      "На Голикова не работает светофор, движение сильно затруднено.\n",
      "____________________________________________________________________________________________________\n",
      "7079817 (accident: 0 len: 145)\n",
      "Вчера в 21:00 на Авиаконструкторов 25. Мужчина в нетрезвом виде вышел через 5 метров после пешеходного перехода на красный свет.\n",
      "я пассажир авто.\n",
      "____________________________________________________________________________________________________\n",
      "13191721 (accident: 0 len: 113)\n",
      "Помогли/\n",
      "____________________----\n",
      "Помогите, пожалуйста. Два часа пытаемся выбраться.... Всем спасибо за понимание\n"
     ]
    }
   ],
   "source": [
    "sample_text(\n",
    "    df[\n",
    "        (df['accident'] == 0) &\n",
    "        (df['text'].str.len() >= 78) &\n",
    "        (df['text'].str.len() <= 226)\n",
    "    ]\n",
    ")"
   ]
  },
  {
   "cell_type": "code",
   "execution_count": 494,
   "metadata": {},
   "outputs": [
    {
     "name": "stdout",
     "output_type": "stream",
     "text": [
      "(23663, 11)\n",
      "___________________________________________________\n",
      "7279001 (accident: 0, len: 60)\n",
      "На Киевском шоссе горит самосвал у поворота на Малое Карлино\n",
      "___________________________________________________\n",
      "876858 (accident: 0, len: 51)\n",
      "Съезд на Пулково,2 скорые,ДПС.\n",
      "Движение затруднено.\n",
      "___________________________________________________\n",
      "3054646 (accident: 0, len: 54)\n",
      "Таран на перекрёстке Королева Байконурской  служб нет.\n",
      "___________________________________________________\n",
      "13310602 (accident: 0, len: 64)\n",
      "ТРК ЛЕТО тоже плывет. Магазины заливает , а никого там даже нет.\n",
      "___________________________________________________\n",
      "5435048 (accident: 0, len: 68)\n",
      "Классика жанра на Воронежской  улице, перед Обводным. 28.11.16 11:55\n"
     ]
    }
   ],
   "source": [
    "sample_text(\n",
    "    df[\n",
    "        (df['accident'] == 0) &\n",
    "        (df['text'].str.len() < 78)\n",
    "    ]\n",
    ")"
   ]
  },
  {
   "cell_type": "code",
   "execution_count": 499,
   "metadata": {},
   "outputs": [
    {
     "name": "stdout",
     "output_type": "stream",
     "text": [
      "(26585, 11)\n",
      "____________________________________________________________________________________________________\n",
      "11136946 (accident: 0, len: 54)\n",
      "Дамы не разъехались на Кузнецовской перед Свеаборгской\n",
      "____________________________________________________________________________________________________\n",
      "1739580 (accident: 0, len: 58)\n",
      "Художников 10. Все живы. даже светофор, хоть и лежит 21.55\n",
      "____________________________________________________________________________________________________\n",
      "13305473 (accident: 0, len: 46)\n",
      "На Лиговском, у дома 60 авто оказалось на боку\n",
      "____________________________________________________________________________________________________\n",
      "326995 (accident: 1, len: 41)\n",
      "Серьезное ДТП \n",
      "Просп. Народного Ополчения\n",
      "____________________________________________________________________________________________________\n",
      "4345830 (accident: 1, len: 40)\n",
      "На пр.Добролюбова в 8:20 сгорел мотоцикл\n"
     ]
    }
   ],
   "source": [
    "sample_text(\n",
    "    df[(df['text'].str.len() < 69)]\n",
    ")"
   ]
  },
  {
   "cell_type": "code",
   "execution_count": 338,
   "metadata": {},
   "outputs": [
    {
     "name": "stdout",
     "output_type": "stream",
     "text": [
      "(76672, 11)\n",
      "___________________________________________________\n",
      "10289181 (accident: 0)\n",
      "Ребята нужна помощь джиперов, застряли по жести на Газели в Токсово на Санаторной 36\n",
      "————-\n",
      "Помогли\n",
      "___________________________________________________\n",
      "7113014 (accident: 0)\n",
      "Солярис получил под зад по адресу Коллонтай 13. P.S. чуть дальше по ул. Коллонтай на перекрестке с пр. Большевиков не работает светофор\n",
      "___________________________________________________\n",
      "6885841 (accident: 0)\n",
      "Станция метро Черная речка закрыта по тех.причинам. актуально на 14:45\n",
      "Открыли в 15 48\n",
      "___________________________________________________\n",
      "6622691 (accident: 0)\n",
      "В доме 5 корпус 1 на Маршала Казакова \n",
      "толком не понятно, что случидось, но вся парадная в дыму и выводят людей. Всех с праздником! Будьте аккуратнее!\n",
      "___________________________________________________\n",
      "8318724 (accident: 0)\n",
      "На Московском пр-те перед 7-ой Красноармейской 3 игрока в догонялки\n"
     ]
    }
   ],
   "source": [
    "sample_text(df[df['accident'] == 0])"
   ]
  },
  {
   "cell_type": "code",
   "execution_count": 363,
   "metadata": {},
   "outputs": [
    {
     "name": "stdout",
     "output_type": "stream",
     "text": [
      "(76329, 11)\n",
      "___________________________________________________\n",
      "4854476 (accident: 0)\n",
      "Угол Наставников и Ударников.  Золотистый седан и белый кроссовер. Жертв нет.\n",
      "___________________________________________________\n",
      "8450245 (accident: 0)\n",
      "Рено на Троицком  мосту, наверное с рельсов выкинуло,служб нет,пробка есть в сторону центра.\n",
      "___________________________________________________\n",
      "13208460 (accident: 0)\n",
      "Помните, мы несколько дней назад размещали новость о [https://vk.com/wall-68471405_13183921|вороне в гнезде покрытую льдом]? \n",
      "\n",
      "Наконец-то начало что-то происходить. Появился папа. Вместе с мамой задумчиво смотрят в гнездо периодически и уже кормят тех, кто вылупился, но их почти никогда не видно. Прячут, чтобы не замерзли.\n",
      "А страшненькие они, пока новорожденные... Это просто жуть!\n",
      "\n",
      "Фото: [id16044611|Елена Лесина]\n",
      "___________________________________________________\n",
      "8689859 (accident: 0)\n",
      "В Смолячково, Курортного района.\n",
      "___________________________________________________\n",
      "1120589 (accident: 0)\n",
      "Мурманское шоссе, поселок Приладожский направление на спб\n",
      "Камаз на боку по среди дороги + рейсовый курган без переднего колеса перед ним\n",
      "Больше рассмотреть не успел\n",
      "Много  стекла и пластика на дороге\n",
      "Вроде без жертв\n",
      "Дпс только приехало \n",
      "Объезд по полосе левого поворота\n"
     ]
    }
   ],
   "source": [
    "sample_text(df[df['accident'] == 0])"
   ]
  },
  {
   "cell_type": "code",
   "execution_count": 24,
   "metadata": {},
   "outputs": [
    {
     "data": {
      "text/html": [
       "<div>\n",
       "<style scoped>\n",
       "    .dataframe tbody tr th:only-of-type {\n",
       "        vertical-align: middle;\n",
       "    }\n",
       "\n",
       "    .dataframe tbody tr th {\n",
       "        vertical-align: top;\n",
       "    }\n",
       "\n",
       "    .dataframe thead th {\n",
       "        text-align: right;\n",
       "    }\n",
       "</style>\n",
       "<table border=\"1\" class=\"dataframe\">\n",
       "  <thead>\n",
       "    <tr style=\"text-align: right;\">\n",
       "      <th></th>\n",
       "      <th>likes</th>\n",
       "      <th>reposts</th>\n",
       "      <th>views</th>\n",
       "      <th>comments</th>\n",
       "    </tr>\n",
       "  </thead>\n",
       "  <tbody>\n",
       "    <tr>\n",
       "      <th>likes</th>\n",
       "      <td>1.000000</td>\n",
       "      <td>0.887954</td>\n",
       "      <td>0.450440</td>\n",
       "      <td>0.183336</td>\n",
       "    </tr>\n",
       "    <tr>\n",
       "      <th>reposts</th>\n",
       "      <td>0.887954</td>\n",
       "      <td>1.000000</td>\n",
       "      <td>0.326351</td>\n",
       "      <td>0.061272</td>\n",
       "    </tr>\n",
       "    <tr>\n",
       "      <th>views</th>\n",
       "      <td>0.450440</td>\n",
       "      <td>0.326351</td>\n",
       "      <td>1.000000</td>\n",
       "      <td>0.466769</td>\n",
       "    </tr>\n",
       "    <tr>\n",
       "      <th>comments</th>\n",
       "      <td>0.183336</td>\n",
       "      <td>0.061272</td>\n",
       "      <td>0.466769</td>\n",
       "      <td>1.000000</td>\n",
       "    </tr>\n",
       "  </tbody>\n",
       "</table>\n",
       "</div>"
      ],
      "text/plain": [
       "             likes   reposts     views  comments\n",
       "likes     1.000000  0.887954  0.450440  0.183336\n",
       "reposts   0.887954  1.000000  0.326351  0.061272\n",
       "views     0.450440  0.326351  1.000000  0.466769\n",
       "comments  0.183336  0.061272  0.466769  1.000000"
      ]
     },
     "execution_count": 24,
     "metadata": {},
     "output_type": "execute_result"
    }
   ],
   "source": [
    "df[['likes', 'reposts', 'views', 'comments']].corr()"
   ]
  },
  {
   "cell_type": "code",
   "execution_count": 33,
   "metadata": {},
   "outputs": [
    {
     "data": {
      "text/plain": [
       "<matplotlib.axes._subplots.AxesSubplot at 0x7fa1082d5700>"
      ]
     },
     "execution_count": 33,
     "metadata": {},
     "output_type": "execute_result"
    },
    {
     "data": {
      "image/png": "[encoded data removed]",
      "text/plain": [
       "<Figure size 432x288 with 1 Axes>"
      ]
     },
     "metadata": {
      "needs_background": "light"
     },
     "output_type": "display_data"
    }
   ],
   "source": [
    "df['date'].dt.year.hist(bins=6)"
   ]
  },
  {
   "cell_type": "code",
   "execution_count": 141,
   "metadata": {},
   "outputs": [
    {
     "data": {
      "text/plain": [
       "<matplotlib.axes._subplots.AxesSubplot at 0x7fa10694c7f0>"
      ]
     },
     "execution_count": 141,
     "metadata": {},
     "output_type": "execute_result"
    },
    {
     "data": {
      "image/png": "[encoded data removed]",
      "text/plain": [
       "<Figure size 432x288 with 1 Axes>"
      ]
     },
     "metadata": {
      "needs_background": "light"
     },
     "output_type": "display_data"
    }
   ],
   "source": [
    "df['attachments_count'].hist(bins=10)"
   ]
  },
  {
   "cell_type": "code",
   "execution_count": 35,
   "metadata": {},
   "outputs": [
    {
     "data": {
      "text/html": [
       "<div>\n",
       "<style scoped>\n",
       "    .dataframe tbody tr th:only-of-type {\n",
       "        vertical-align: middle;\n",
       "    }\n",
       "\n",
       "    .dataframe tbody tr th {\n",
       "        vertical-align: top;\n",
       "    }\n",
       "\n",
       "    .dataframe thead th {\n",
       "        text-align: right;\n",
       "    }\n",
       "</style>\n",
       "<table border=\"1\" class=\"dataframe\">\n",
       "  <thead>\n",
       "    <tr style=\"text-align: right;\">\n",
       "      <th></th>\n",
       "      <th>text</th>\n",
       "      <th>date</th>\n",
       "      <th>comments</th>\n",
       "      <th>likes</th>\n",
       "      <th>reposts</th>\n",
       "      <th>views</th>\n",
       "      <th>attachments_count</th>\n",
       "      <th>from_id</th>\n",
       "      <th>owner_id</th>\n",
       "      <th>signer_id</th>\n",
       "    </tr>\n",
       "    <tr>\n",
       "      <th>id</th>\n",
       "      <th></th>\n",
       "      <th></th>\n",
       "      <th></th>\n",
       "      <th></th>\n",
       "      <th></th>\n",
       "      <th></th>\n",
       "      <th></th>\n",
       "      <th></th>\n",
       "      <th></th>\n",
       "      <th></th>\n",
       "    </tr>\n",
       "  </thead>\n",
       "  <tbody>\n",
       "    <tr>\n",
       "      <th>13979023</th>\n",
       "      <td>Новости нашего мегаполиса:\\n\\n1. Дефицит бюдже...</td>\n",
       "      <td>2020-10-20 19:38:27</td>\n",
       "      <td>34</td>\n",
       "      <td>19</td>\n",
       "      <td>0</td>\n",
       "      <td>20049</td>\n",
       "      <td>9</td>\n",
       "      <td>-68471405</td>\n",
       "      <td>-68471405</td>\n",
       "      <td>NaN</td>\n",
       "    </tr>\n",
       "    <tr>\n",
       "      <th>13979092</th>\n",
       "      <td>В ночь с 19 на 20 октября был угнан Рено Дасте...</td>\n",
       "      <td>2020-10-20 19:57:04</td>\n",
       "      <td>17</td>\n",
       "      <td>10</td>\n",
       "      <td>0</td>\n",
       "      <td>22263</td>\n",
       "      <td>3</td>\n",
       "      <td>-68471405</td>\n",
       "      <td>-68471405</td>\n",
       "      <td>22394006.0</td>\n",
       "    </tr>\n",
       "    <tr>\n",
       "      <th>13979085</th>\n",
       "      <td>Сегодня в промежутке 17.40-17.55 на парковке у...</td>\n",
       "      <td>2020-10-20 19:55:53</td>\n",
       "      <td>59</td>\n",
       "      <td>9</td>\n",
       "      <td>0</td>\n",
       "      <td>22659</td>\n",
       "      <td>1</td>\n",
       "      <td>-68471405</td>\n",
       "      <td>-68471405</td>\n",
       "      <td>22648.0</td>\n",
       "    </tr>\n",
       "    <tr>\n",
       "      <th>13979013</th>\n",
       "      <td>Паровозик из 4х машин на Пискаревском над Шафи...</td>\n",
       "      <td>2020-10-20 19:36:23</td>\n",
       "      <td>8</td>\n",
       "      <td>15</td>\n",
       "      <td>0</td>\n",
       "      <td>23230</td>\n",
       "      <td>1</td>\n",
       "      <td>-68471405</td>\n",
       "      <td>-68471405</td>\n",
       "      <td>35464517.0</td>\n",
       "    </tr>\n",
       "    <tr>\n",
       "      <th>13978872</th>\n",
       "      <td>Мазда и Шкода устроили дтп на Гренадерской ули...</td>\n",
       "      <td>2020-10-20 19:01:36</td>\n",
       "      <td>6</td>\n",
       "      <td>23</td>\n",
       "      <td>2</td>\n",
       "      <td>33686</td>\n",
       "      <td>2</td>\n",
       "      <td>-68471405</td>\n",
       "      <td>-68471405</td>\n",
       "      <td>425196.0</td>\n",
       "    </tr>\n",
       "    <tr>\n",
       "      <th>...</th>\n",
       "      <td>...</td>\n",
       "      <td>...</td>\n",
       "      <td>...</td>\n",
       "      <td>...</td>\n",
       "      <td>...</td>\n",
       "      <td>...</td>\n",
       "      <td>...</td>\n",
       "      <td>...</td>\n",
       "      <td>...</td>\n",
       "      <td>...</td>\n",
       "    </tr>\n",
       "    <tr>\n",
       "      <th>12477815</th>\n",
       "      <td>Водители трёх  машин,  в центре Петербурга на ...</td>\n",
       "      <td>2020-01-01 03:10:21</td>\n",
       "      <td>153</td>\n",
       "      <td>324</td>\n",
       "      <td>6</td>\n",
       "      <td>158103</td>\n",
       "      <td>0</td>\n",
       "      <td>-68471405</td>\n",
       "      <td>-68471405</td>\n",
       "      <td>12004708.0</td>\n",
       "    </tr>\n",
       "    <tr>\n",
       "      <th>12477814</th>\n",
       "      <td>В деревне Новополье горит дом, пожарных вызвали.</td>\n",
       "      <td>2020-01-01 03:08:49</td>\n",
       "      <td>47</td>\n",
       "      <td>60</td>\n",
       "      <td>4</td>\n",
       "      <td>144067</td>\n",
       "      <td>2</td>\n",
       "      <td>-68471405</td>\n",
       "      <td>-68471405</td>\n",
       "      <td>6716721.0</td>\n",
       "    </tr>\n",
       "    <tr>\n",
       "      <th>12477813</th>\n",
       "      <td>На Зверинской д. 7-9 серьезный пожар на чердак...</td>\n",
       "      <td>2020-01-01 03:08:40</td>\n",
       "      <td>67</td>\n",
       "      <td>80</td>\n",
       "      <td>3</td>\n",
       "      <td>125486</td>\n",
       "      <td>3</td>\n",
       "      <td>-68471405</td>\n",
       "      <td>-68471405</td>\n",
       "      <td>92347407.0</td>\n",
       "    </tr>\n",
       "    <tr>\n",
       "      <th>12477703</th>\n",
       "      <td>Новый год 2020, 1 января в Санкт-Петербурге Де...</td>\n",
       "      <td>2020-01-01 01:04:18</td>\n",
       "      <td>109</td>\n",
       "      <td>433</td>\n",
       "      <td>24</td>\n",
       "      <td>164476</td>\n",
       "      <td>1</td>\n",
       "      <td>-68471405</td>\n",
       "      <td>-68471405</td>\n",
       "      <td>135038.0</td>\n",
       "    </tr>\n",
       "    <tr>\n",
       "      <th>12477627</th>\n",
       "      <td>На Авиаконструкторов 38/2 горела в час ночи кв...</td>\n",
       "      <td>2020-01-01 00:00:05</td>\n",
       "      <td>63</td>\n",
       "      <td>96</td>\n",
       "      <td>7</td>\n",
       "      <td>166395</td>\n",
       "      <td>3</td>\n",
       "      <td>-68471405</td>\n",
       "      <td>-68471405</td>\n",
       "      <td>6073877.0</td>\n",
       "    </tr>\n",
       "  </tbody>\n",
       "</table>\n",
       "<p>9169 rows × 10 columns</p>\n",
       "</div>"
      ],
      "text/plain": [
       "                                                       text  \\\n",
       "id                                                            \n",
       "13979023  Новости нашего мегаполиса:\\n\\n1. Дефицит бюдже...   \n",
       "13979092  В ночь с 19 на 20 октября был угнан Рено Дасте...   \n",
       "13979085  Сегодня в промежутке 17.40-17.55 на парковке у...   \n",
       "13979013  Паровозик из 4х машин на Пискаревском над Шафи...   \n",
       "13978872  Мазда и Шкода устроили дтп на Гренадерской ули...   \n",
       "...                                                     ...   \n",
       "12477815  Водители трёх  машин,  в центре Петербурга на ...   \n",
       "12477814   В деревне Новополье горит дом, пожарных вызвали.   \n",
       "12477813  На Зверинской д. 7-9 серьезный пожар на чердак...   \n",
       "12477703  Новый год 2020, 1 января в Санкт-Петербурге Де...   \n",
       "12477627  На Авиаконструкторов 38/2 горела в час ночи кв...   \n",
       "\n",
       "                        date  comments  likes  reposts   views  \\\n",
       "id                                                               \n",
       "13979023 2020-10-20 19:38:27        34     19        0   20049   \n",
       "13979092 2020-10-20 19:57:04        17     10        0   22263   \n",
       "13979085 2020-10-20 19:55:53        59      9        0   22659   \n",
       "13979013 2020-10-20 19:36:23         8     15        0   23230   \n",
       "13978872 2020-10-20 19:01:36         6     23        2   33686   \n",
       "...                      ...       ...    ...      ...     ...   \n",
       "12477815 2020-01-01 03:10:21       153    324        6  158103   \n",
       "12477814 2020-01-01 03:08:49        47     60        4  144067   \n",
       "12477813 2020-01-01 03:08:40        67     80        3  125486   \n",
       "12477703 2020-01-01 01:04:18       109    433       24  164476   \n",
       "12477627 2020-01-01 00:00:05        63     96        7  166395   \n",
       "\n",
       "          attachments_count   from_id  owner_id   signer_id  \n",
       "id                                                           \n",
       "13979023                  9 -68471405 -68471405         NaN  \n",
       "13979092                  3 -68471405 -68471405  22394006.0  \n",
       "13979085                  1 -68471405 -68471405     22648.0  \n",
       "13979013                  1 -68471405 -68471405  35464517.0  \n",
       "13978872                  2 -68471405 -68471405    425196.0  \n",
       "...                     ...       ...       ...         ...  \n",
       "12477815                  0 -68471405 -68471405  12004708.0  \n",
       "12477814                  2 -68471405 -68471405   6716721.0  \n",
       "12477813                  3 -68471405 -68471405  92347407.0  \n",
       "12477703                  1 -68471405 -68471405    135038.0  \n",
       "12477627                  3 -68471405 -68471405   6073877.0  \n",
       "\n",
       "[9169 rows x 10 columns]"
      ]
     },
     "execution_count": 35,
     "metadata": {},
     "output_type": "execute_result"
    }
   ],
   "source": [
    "df[df['date'].dt.year == 2020]"
   ]
  },
  {
   "cell_type": "code",
   "execution_count": 496,
   "metadata": {},
   "outputs": [
    {
     "name": "stdout",
     "output_type": "stream",
     "text": [
      "(58562, 11)\n",
      "____________________________________________________________________________________________________\n",
      "3765155 (accident: 1, len: 122)\n",
      "Страшное ДТП  на мосту перед заездом на КАД по Софийке в сторону города. 5 машит....2 жигули смялись. Пробке быть большой.\n",
      "____________________________________________________________________________________________________\n",
      "1125251 (accident: 1, len: 37)\n",
      "Не ЧП и не дтп просто сердце над В.О.\n",
      "____________________________________________________________________________________________________\n",
      "7637008 (accident: 0, len: 72)\n",
      "Горит квартира или мусоропровод на Пулковском шоссе 9/1, всех эвакуируют\n",
      "____________________________________________________________________________________________________\n",
      "4265130 (accident: 0, len: 36)\n",
      "Только что с толкнулись на гончарной\n",
      "____________________________________________________________________________________________________\n",
      "10351013 (accident: 0, len: 200)\n",
      "И снова очередные жопуцеловаши на путепроводе в Автово в сторону Трамвайного. Движение уплотнилось, но без пробки. Вышли, разговаривают, знак не ставят. 17:30\n",
      "\n",
      "17:36 - поставили знак. Не договорились.\n"
     ]
    }
   ],
   "source": [
    "sample_text(\n",
    "    df[df['attachments_count'] == 0]\n",
    ")"
   ]
  },
  {
   "cell_type": "markdown",
   "metadata": {},
   "source": [
    "```\n",
    "df[\n",
    "    df['text'].str.contains('разводк', case=False)\n",
    "    & df['text'].str.contains('мост', case=False)\n",
    "]\n",
    "```\n",
    "\n",
    "6971001\n",
    "Серьезное ДТП у Кунсткамеры. Сбили женщину, вся в крови. Накрыта синим пакетом. Службы на месте. Видимо кто-то посмотрел разводку мостов..."
   ]
  },
  {
   "cell_type": "code",
   "execution_count": 162,
   "metadata": {},
   "outputs": [
    {
     "name": "stdout",
     "output_type": "stream",
     "text": [
      "(22, 10)\n",
      "___________________________________________________\n",
      "305\n",
      "График разводки мостов в Санкт-Петербурге на 2014 год!\n",
      "Уже на этих выходных окончательно откроется сезон навигации по Неве. Сохраняйте себе график!\n",
      "#СанктПетербург #мосты\n",
      "___________________________________________________\n",
      "524530\n",
      "В Петербурге продолжается подготовка разводных мостов к сезону навигации. Четыре моста будут разведены в Петербурге в ночь на пятницу, 3 апреля, для проведения профилактических работ.\n",
      "Как сообщили Neva.Today в КРТИ, будут разведены Дворцовый и Володарский мосты, мост Александра Невского и Гренадерский мост.\n",
      "\n",
      "Дворцовый мост разведут с 1.25 до 2.50 и с 3.10 до 4.55 часов. Володарский мост - с 2.00 до 3.45 и с 4.15 до 5.45 часов.\n",
      "\n",
      "Мост Александра Невского будет разведен с 2.20 до 5.10 часов. Разводка Гренадерского моста продлится с 1.30 до 4.30 часов.\n",
      "___________________________________________________\n",
      "8854742\n",
      "Санкт- Петербург один из самых красивых городов Европы. В каждом районе нашего прекрасного города присутствуют дворцы, музеи и парки! Ну и конечно же мосты! Недаром Санкт-Петербург называют северной Венецией. Без мостов и мостиков невозможно представить этот удивительный город. Эти сооружения смело можно назвать одними из самых красивейших символов города. \n",
      "\n",
      "Более 300 больших и малых мостиков расположено в Петербурге. 13 из них имеют механизмы развода, но только 9 разводятся по графику. Стартом «сезона» разведения мостов является начало навигации по Неве. Обычно эти даты выпадают на конец апреля, начала мая. Заканчивается же сезон в ноябре.\n",
      "\n",
      "Актуальный график разводки мостов:\n",
      "___________________________________________________\n",
      "8209505\n",
      "В Петербурге развели Тучков мост.\n",
      " \n",
      "В Петербурге в ночь на пятницу, 19 января, развели Тучков мост. Об этом сообщает пресс-служба СПб ГБУ «Мостотрест». \n",
      " \n",
      "Контактную сеть сняли, трамваи и троллейбусы через мост не будут ходить весь день \n",
      "\n",
      "Разводка переправы будет производиться по графику: \n",
      " \n",
      "с 2:00 до 2:55; \n",
      "с 3:35 до 4:55.\n",
      "\n",
      "Всех с праздником!\n",
      "___________________________________________________\n",
      "11569289\n",
      "Напоминаем вам об изменениях графика разводки мостов в связи с проведением 28 июля Главного военно-морского парада.\n",
      "\n",
      "Также список всех ограничений можно посмотреть на нашем сайте: https://vk.cc/9C2hIv\n"
     ]
    }
   ],
   "source": [
    "# #ДТП\n",
    "# #Авария\n",
    "#spb_today\n",
    "sample_text(\n",
    "    df[\n",
    "        df['text'].str.contains('разводк', case=False)\n",
    "        & df['text'].str.contains('мост', case=False)\n",
    "    ]\n",
    ")"
   ]
  },
  {
   "cell_type": "code",
   "execution_count": 228,
   "metadata": {},
   "outputs": [
    {
     "name": "stdout",
     "output_type": "stream",
     "text": [
      "(4953, 11)\n",
      "___________________________________________________\n",
      "3315385\n",
      "Девушка на Suzuki «загнала» пенсионера на 9-ке на газон. \n",
      "Сегодня около часа дня на проспекта Карла Маркса произошло ДТП с участием отечественной девятки и «Suzuki Jimny». \n",
      "\n",
      "Как сообщила нашему изданию девушка, водитель иномарки, при выезде с улицы 1-ая Линия налево на проспект Карла Маркса, она не заметила двигавшийся по Карла Маркса, со стороны кольца отечественный автомобиль. \n",
      "\n",
      "Пытаясь уйти от серьезного столкновения, пенсионеру пришлось увести машину через встречную полосу, где, едва не врезавшись в забор, он заскочил на газон. \n",
      "Оказавшись на газоне «девятка» снесла две елки. \n",
      "\n",
      "Стоит отметить, что как такового столкновения друг с другом избежать участникам все равно не удалось. \n",
      "\n",
      "Оба ТС в различной степени получили повреждения. \n",
      "Обсуждалась возможность оформления без привлечения сотрудников ГИБДД.  Пострадавших нет.\n",
      "http://www.кингисепп-сегодня.рф/news/block-8301/\n",
      "___________________________________________________\n",
      "9357513\n",
      "“Горэлектротранс” изменит маршруты трамваев №21, №40, №48 и троллейбусов №14, №27, №28 с 4 августа.\n",
      "\n",
      "Подробнее: https://megapolisonline.ru/gorjelektrotrans-izmenit-marshruty-tramvaev-i-trollejbusov-s-4-ijulja/\n",
      "___________________________________________________\n",
      "7860717\n",
      "В Школе 547 Красносельского района идёт эвакуация. Был звонок о заминировании. Балтийская Жемчужина, дети идут домой.\n",
      "В школе 176 тоже что-то случилось , полиция, скорая, пожарная на месте. \n",
      "И 185 школу тоже эвакуировали. \n",
      "561 школа в Калининском районе так же эвакуирована. \n",
      "Эвакуировали школу 643 в Московском районе .\n",
      "Школу 630 Приморского района тоже эвакуировали\n",
      "В школе 376 происходит эвакуация. \n",
      "В школе 234 объявлена эвакуация \n",
      "Эвакуируют школу 292 во Фрунзенском районе. ОМОН на месте.\n",
      "В школе 249 началась эвакуация. \n",
      "Школа 484 Московского района, эвакуация\n",
      "Школа 179 - идет эвакуация. \n",
      "Школа 549 - идет эвакуация. \n",
      "Школа 362 - идет эвакуация. \n",
      "Школа 181 - идет эвакуация.\n",
      "Школа 71 - идет эвакуация.\n",
      "Школа 535 - идет эвакуация.\n",
      "Школа 80 - идет эвакуация.\n",
      "Школа 72 - идет эвакуация.\n",
      "Школа 138 - идёт эвакуация.\n",
      "Школа 690 - идёт эвакуация.\n",
      "Школа 45 - идёт эвакуация.\n",
      "Школа 89 - идёт эвакуация\n",
      "\n",
      "Эвакуируют ТРК \"Жемчужная плаза\".\n",
      "Здание РАНХиГС на В.О. эвакуируют.\n",
      "Эвакуация \"Мега Парнас\"\n",
      "Идет эвакуация Санкт-Петербургского государственного института культуры\n",
      "ТРК \"Рио\" - эвакуация.\n",
      "Эвакуируют ТЦ «Радуга»\n",
      "Эвакуация ТЦ Июнь.\n",
      "Объявлена эвакуация ТРК Меркурий Савушкина 141\n",
      "Эвакуируют Торговый комплекс Китай Город.\n",
      "В бизнес-центре \"Портал\" на ул. Бумажной - эвакуация.\n",
      "Автовокзал на Обводном канале. Всех эвакуировали, никого не пускают.\n",
      "ТРК «Монпасе» началась эвакуация.\n",
      "\n",
      " Полный список: https://www.megapolisonline.ru/2017/11/17/evakuaciya-neskolkikh-shkol\n",
      "___________________________________________________\n",
      "6805182\n",
      "Направо  из левого ряда на Невском проспекте - \n",
      "Ничто не предвещало неприятностей, однако наши люди создавать себе проблемы умеют! Водитель автомобиля Шкода Фабия, неожиданно решил из правого ряда на Невском проспекте повернуть налево на улицу Марата, не обрати внимание на то, что рядом с ним едет кроссовер Mazda. В результате обидное ненужное столкновение транспортных средств с перекрытием двух полос движения на Невском проспекте. Никто не пострадал.\n",
      "ВИДЕО по ссылке https://usedcars.ru/articles/68678/\n",
      "___________________________________________________\n",
      "552538\n",
      "ДРУЗЬЯ! 03.04.2015 приблизительно в 15:45 произошло серьезное ДТП в Санкт-Петербурге на пересечение Витебского проспекта и ул. Парковой (На мосту Артиллерийский путепровод) В этой аварии серьезно пострадал мой родственник просьба всех у кого есть какая либо информация и кто проезжал в это время там и есть запись с видео регистратора сообщить мне в ЛС! Заранее большое спасибо, берегите себя! \n",
      "http://vk.com/wall-68471405_529876\n",
      "группа помощи: [club91369722|Поможем КириллуЧ.]\n"
     ]
    }
   ],
   "source": [
    "sample_text(\n",
    "    df[df['text'].str.contains('http', case=False)]\n",
    ")"
   ]
  },
  {
   "cell_type": "code",
   "execution_count": 285,
   "metadata": {},
   "outputs": [
    {
     "name": "stdout",
     "output_type": "stream",
     "text": [
      "(2580, 11)\n",
      "___________________________________________________\n",
      "7385868 (accident: 0)\n",
      "11:30\n",
      "Может есть кто на Германа,22 у [id1122078|Надежды] машина не заводиться, вроде как сел акум((( проводов нет, дергать нельзя((( помогите пожалуйста. Утром все было ок, завелась и поехала. Машина заглушена с час, все выключено. Заранее благодарит 89819555401 [id1122078|Надежда] \n",
      "___\n",
      "Сел аккум, прикурите пожалуйста!\n",
      "Проводов нету, Гражданская улица 11\n",
      "[id19579740|Семён Витальевич] \n",
      "________\n",
      "У [id255499|Натальи] сел аккумулятор... Просит прикурить, ребята!!! \n",
      "Кто мимо проезжает .. проводов нет 😔\n",
      "Гражданский проспект 20 во дворе___________\n",
      "___________________________________________________\n",
      "13100532 (accident: 0)\n",
      "Помогите пожалуйста выдернуть Газельку, сел вообще никак не выбраться. Нахожусь в СНТ Техфлотец, садоводческий массив Михайловский, Мгинское городское поселение.\n",
      "\n",
      "Координаты: 59.771346,31.141919\n",
      "___________________________________________________\n",
      "6585023 (accident: 1)\n",
      "Прошу очевидцев откликнуться. Вчера 03.05.17 в 14:15 произошло ДТП на пересечении Дунайского и Витебского проспектов между маршрутным автобусом \"ПАЗ\" (номер маршрута 202) и Kia Sportage 3. Необходимы видеоматериалы с регистратора для выяснения деталей ДТП. \n",
      "Свидетели, располагающие видеоматериалами регистраторов, пожалуйста, напишите в личные сообщения, премного буду благодарен, спасибо.\n",
      "___________________________________________________\n",
      "7990454 (accident: 0)\n",
      "Помогли \n",
      "\n",
      "Прошу о помощи.\n",
      "Может кто-то не спит на Русановской?\n",
      "или кто то рядом\n",
      "Помогите машину из грязи вытащить,пожалуйста, \n",
      "Застряли напротив дома 19к3\n",
      "Тросика нет\n",
      "___________________________________________________\n",
      "7711475 (accident: 0)\n",
      "В ночь с 21- на 22 октября со двора дома 14 на Российском проспекте был угнал автомобиль Lexus NX200 цвета Темная-бронза 2015 года выпуска ,\n",
      "с номерами К972ХА82\n",
      "отличительный признак порожки цвета металл по низу, на месте были найдены осколки от стёкол автомобиля,\n",
      "просьба если кто-то то где-то увидел или увидит Лексус NX 200 К972ХА 82 пожалуйста сообщить в вк.\n"
     ]
    }
   ],
   "source": [
    "#  http\n",
    "sample_text(\n",
    "    df[df['text'].str.contains('пожалуйста', case=False)]\n",
    ")"
   ]
  },
  {
   "cell_type": "code",
   "execution_count": 222,
   "metadata": {},
   "outputs": [
    {
     "name": "stdout",
     "output_type": "stream",
     "text": [
      "(124, 11)\n",
      "___________________________________________________\n",
      "2082966\n",
      "Сгорела бедняжка , пожар начался где-то в 12:20.\n",
      "Время 12:50 - открыли капот , аккумулятора на месте нет , по словам пожарников это поджог.\n",
      "Улица Ленсовета 89\n",
      "___________________________________________________\n",
      "2833798\n",
      "во дворе дома на Луначарского 27 поджог машины volkswagen polo\n",
      "жертв нет, пожарная на месте\n",
      "актуально на 2:15\n",
      "___________________________________________________\n",
      "11822093\n",
      "Сегодня ночью сгорело Ранчо в Стеклянном. Погибли все лошади, жившие там.. Крош, Петя, Симпатико, Хохо, Энерджи, Кайман, Бамблби, Принцесса, Скарлетт.\n",
      "\n",
      "\"Невинные души, молодые.. поджог очевиден. Конюшню облили бензином со всех сторон, чтобы шанса выжить лошадям и спасти их не было. Это особый вид жестокости... В 10 метрах от конюшни нашли канистру с остатками бензина. Сгорело все, и конюшня, и все хоз. постройки. Следствие ведётся. Больше ничего писать не буду. Тяжело.\" - пишет [id6171884|Елена Чистякова] \n",
      "\n",
      "ГУ МЧС отметили, что пожар начался в 4:10. Спустя час с небольшим усилиями сотрудников 94 и 104 ПСЧ возгорание было ликвидировано.\n",
      "___________________________________________________\n",
      "2631670\n",
      "Ищу свидетелей ЗАКАЗНОГО поджога моей машины 28.12.2015 в 3:50 на Энергетиков дом 70. Преступники приехали на зелёной ладе 15 модели. Ищу свидетелей кто видел ЭТУ МАШИНУ,либо самих преступников. На видеокамере были зафиксированы люди которые проходили мимо них. А так же машины которые проезжали рядом. ЕЩЕ РАЗ ХОЧУ ОБРАТИТЬ ВНИМАНИЕ ЧТО ЭТО ЗАКАЗНОЙ ПОДЖОГ. Заранее благодарю вас за помощь в поиске виновников совершенного. \n",
      "ТЕЛЕФОН для контакта 8-965-034-91-82 \n",
      "[id3311046|Димка Полонский]\n",
      "___________________________________________________\n",
      "9994596\n",
      "Ночью с 14 на 15 ноября во дворе дома по адресу Богатырский 26к1 в 4:56 ночи был совершён поджог автомобиля Land Rover Discovery .\n"
     ]
    }
   ],
   "source": [
    "# сожгли\n",
    "sample_text(\n",
    "    df[df['text'].str.contains('поджог', case=False)]\n",
    ")"
   ]
  },
  {
   "cell_type": "code",
   "execution_count": 560,
   "metadata": {},
   "outputs": [
    {
     "name": "stdout",
     "output_type": "stream",
     "text": [
      "(22, 11)\n",
      "____________________________________________________________________________________________________\n",
      "9338099 (accident: 0 len: 418)\n",
      "На озере \"Бездонка\" в Ленинградской области (около пл.47км.) найден труп. Заход со стороны жд закрыт, откроют в течение 3-4 часов, не повезло...\n",
      "\n",
      "И  в Кавголово  лежит на берегу озера утопленник, мужчина до 35 лет. \n",
      "Из всего что запомнила Марина это синие кроссовки. Рост более 175 см, крупного телосложения.\n",
      "Фото утопленника  сделать не смогла  из моральных соображений, только общий план , он лежит справа за деревом\n",
      "____________________________________________________________________________________________________\n",
      "11359839 (accident: 0 len: 661)\n",
      "На Верхнем Суздальском озере за день достали двух утопленников. Один вчера утонул 31 летний и сегодня всплыл, сегодня утром утонул второй мужчина 45-55 лет на вид . Оба были в состоянии алкогольного опьянения.\n",
      "\n",
      "МЧС по Выборгскому району, где находятся 4 водоема в которых разрешено купание напоминает адреса и телефоны спасательных станций на них:\n",
      "\n",
      "Верхнее Суздальское озеро\n",
      "Большая Озерная улица, д.31, к.3, лит. А, тел. 89313269208\n",
      "\n",
      "Среднее Суздальское озеро\n",
      "Эриванская улица, д.7, лит. А,\n",
      "тел. 89313260761\n",
      "\n",
      "Нижнее Суздальское озеро\n",
      "Староорловская улица, д.17, к.4, лит. А, тел. 89313268642\n",
      "\n",
      "Ольгинский пруд\n",
      "проспект Раевского, д.22, к.4, лит. А,\n",
      "тел. 5916605\n",
      "____________________________________________________________________________________________________\n",
      "4606972 (accident: 0 len: 125)\n",
      "На Набережной Лейтенанта Шмидта обнаружен труп, работают эксперты. Вероятно, утопленник, со слов оперуполномоченного полиции.\n",
      "____________________________________________________________________________________________________\n",
      "4764878 (accident: 0 len: 158)\n",
      "Жуткое зрелище утопленник на реке Оккервиль на месте работают следователи.фото нет.прям напротив дома ул.Коллонтай 25 кор.1\n",
      "Фото [id12715363|Natalia Ginzburg]\n",
      "____________________________________________________________________________________________________\n",
      "860375 (accident: 0 len: 912)\n",
      "Погибший неудачно отметил свой 44-ый день рождения.\n",
      "\n",
      "Неизвестный прыгнул в Фонтанку недалеко от здания Большого драматического театра им. Товстоногова.\n",
      "\n",
      "Как сообщает пресс-служба ГУ МЧС по Петербургу, инцидент произошел сегодня вечером примерно в 18.10. По словам очевидцев, рядом с домом 67 по набережной реки Фонтанки человек прыгнул в воду и не выплыл. 17 спасателей и 7 технических средств занимались поисками утопленника. Тело было найдено в пяти метрах ниже по течению.\n",
      "\n",
      "Как сообщают очевидцы, мужчина был пьян и находился в компании знакомых, вместе с которыми распивал спиртные напитки. В какой-то момент мужчина попытался дотянуться рукой до воды, но потерял равновесие и упал. После этого он стал звать на помощь, но все его товарищи сбежали, сообщает \"Телеграф\".\n",
      "\n",
      "Кроме того, свидетели трагедии сообщили, что погибший буквально накануне справил 44-й день рождения.\n",
      "\n",
      "http://www.gazeta.spb.ru/1850745-0/\n"
     ]
    }
   ],
   "source": [
    "sample_text(\n",
    "    df[df['text'].str.contains('утопленник', case=False)]\n",
    ")"
   ]
  },
  {
   "cell_type": "code",
   "execution_count": 559,
   "metadata": {},
   "outputs": [
    {
     "name": "stdout",
     "output_type": "stream",
     "text": [
      "(317, 11)\n",
      "____________________________________________________________________________________________________\n",
      "1241245 (accident: 0 len: 193)\n",
      "ХЭЛП!!!!!Потерялась собака!!!Очень ласковая и доверчивая, спокойно подходит к людям. На собаке имеется шлейка, медальона нет))) Сейчас сидит возле магазина Коммуны 63, на улице он пропадет!!!!!\n",
      "____________________________________________________________________________________________________\n",
      "5069048 (accident: 1 len: 89)\n",
      "На Большом Сампсониевском по-ходу собаку сбили \n",
      "Стоит Лексус и лежит собака на пешеходном\n",
      "____________________________________________________________________________________________________\n",
      "6108062 (accident: 0 len: 172)\n",
      "Кто-то около 19.00 отвязал мою собаку темно-коричневого Ягтертера и с ней ушёл на Маршала Блюхера 59 от ларька,собака старая , непонятно кому нужна ... помогите найти . \n",
      " .\n",
      "____________________________________________________________________________________________________\n",
      "9184182 (accident: 0 len: 432)\n",
      "На Киевском шоссе после столкновения двух легковушек, одна съехала в кювет, вторая Лада Веста сгорела у отбойника с двумя людьми внутри. Мужчину не смогли вытащить, ему зажало ноги.\n",
      "В кювете в машине девушка была. Вытащили. Всё нормально, только голова разбита.\n",
      " Говорят, что собака выбежала на дорогу, водитель Весты вырулил сразу налево, машину зажало между фурой и загорелась мгновенно, очевидцы пробовали потушить, но безуспешно\n",
      "____________________________________________________________________________________________________\n",
      "8557811 (accident: 0 len: 548)\n",
      "После взрыва в доме №219 на проспекте Народного Ополчения убежала собака породы Ирландский терьер, по кличке Оливия или просто Олли, на собаке был красный ошейник, на нем метка с гравировкой телефонов. \n",
      "\n",
      "Кто живёт в Красносельском районе, помогите найти напуганное животное! \n",
      "Просьба увидевших сообщить в Л.С. [id1996514|Ане Фадеевой] или по тел 89312027772, или по возможности поймать\n",
      "\n",
      "Новость о взрыве ранее: https://www.megapolisonline.ru/category/chp/2018/03/13/vzryv-gaza-v-zhilom-dome-na-germana\n",
      "В группе: https://vk.com/wall-68471405_8551400\n"
     ]
    }
   ],
   "source": [
    "sample_text(\n",
    "    df[df['text'].str.contains('собака', case=False)]\n",
    ")"
   ]
  },
  {
   "cell_type": "code",
   "execution_count": 386,
   "metadata": {},
   "outputs": [
    {
     "name": "stdout",
     "output_type": "stream",
     "text": [
      "(1869, 11)\n",
      "___________________________________________________\n",
      "6231958 (accident: 0)\n",
      "На Дорога Жизни в Углово,одна машина чуть не влетела в автобусную остановку  с магазином,служб нет,проезду не мешают\n",
      "___________________________________________________\n",
      "5785291 (accident: 0)\n",
      "Пересечение Светлановского и Жака Дюкло. Пострадавших вроде нет, служб нет.Актуально на 15.10\n",
      "\n",
      "[id441841|Ольга Рябинина]:\n",
      "Джип въехал в остановку. Пострадала девочка, ждут скорую.\n",
      "___________________________________________________\n",
      "2790747 (accident: 0)\n",
      "Горит Форд Транзит на перекрестке Дунайского и Бухаресткой( служб нет(\n",
      "___________________________________________________\n",
      "8508626 (accident: 0)\n",
      "В среднем ряду  по Луначарского сразу после Светлановского в сторону Руставели,  Дама на Логане решила подвинуть военный КАМАЗ и не вышло, Служб нет. Проезду мешают\n",
      "___________________________________________________\n",
      "3380616 (accident: 0)\n",
      "В Янино-1 Огромный грузовик съехал в кювет пропахав там номом землю \n",
      "актуально на 18:00 служб нет, собирается пробка в сторону города\n"
     ]
    }
   ],
   "source": [
    "sample_text(\n",
    "    df[\n",
    "        (df['accident'] == 0) &\n",
    "        df['text'].str.contains('служб нет', case=False)\n",
    "    ]\n",
    ")"
   ]
  },
  {
   "cell_type": "code",
   "execution_count": 557,
   "metadata": {},
   "outputs": [
    {
     "name": "stdout",
     "output_type": "stream",
     "text": [
      "(320, 11)\n",
      "____________________________________________________________________________________________________\n",
      "1463880 (accident: 0 len: 224)\n",
      "Бутлерова 30,\n",
      "Перед девяткой (14) резко затормозила машина и свернула во двор. Девятку по скользкой дороге занесло носом в мерседес, закрутило и задом еще в нисан микра. Задымилась, пожарные 2 минуты.\n",
      "Жертв нет, пробка есть.\n",
      "____________________________________________________________________________________________________\n",
      "11959129 (accident: 0 len: 148)\n",
      "На улице Федосеенко в доме 25 пожар на первом этаже. Говорят, не надо засыпать с сигаретами. Все хорошо, успели, дверь сломали, разбудили, жертв нет\n",
      "____________________________________________________________________________________________________\n",
      "838891 (accident: 0 len: 212)\n",
      "Только что песковоз опрокинулся. Жертв нет\n",
      "+фото: [id28377475|Юрка Силаков]\n",
      "Перевернулся тягач с щебнемь на парашутной в сторону города.небошьшая пробочка. Движение в два ряда\n",
      "И фото: [id59762394|Андрюшка Азаров]\n",
      "____________________________________________________________________________________________________\n",
      "1980956 (accident: 0 len: 267)\n",
      "Перекрёсток Книпович и Обуховской обороны, 2 газели полицейских уже, бегают, курят\n",
      "\n",
      "Только что, угол Обуховской обороны и ул. Книпович. Полиция хотела проскочить на уже красный свет и снесла перед поворачивающему. Жертв нет, актуально 19:08. [id95978|Дмитрий Голяков]\n",
      "____________________________________________________________________________________________________\n",
      "28250 (accident: 0 len: 278)\n",
      "Доброе утро! Хотя не у всех оно доброе! Первая линия В О возле Соловьевского садика каша из машин два ряда занято правый и средний! ДПС уже на месте! Жертв нет!фото на ходу сорри за качество!\n",
      "Фото: [id106508|Natalia Komissarova] и Кирилл с сайта http://spbvoditel.ru/\n",
      "27.10.2014\n"
     ]
    }
   ],
   "source": [
    "sample_text(\n",
    "    df[\n",
    "        (df['accident'] == 0) &\n",
    "        df['text'].str.contains('жертв нет', case=False)\n",
    "    ]\n",
    ")"
   ]
  },
  {
   "cell_type": "code",
   "execution_count": 393,
   "metadata": {},
   "outputs": [
    {
     "name": "stdout",
     "output_type": "stream",
     "text": [
      "(833, 11)\n",
      "___________________________________________________\n",
      "5368721 (accident: 0)\n",
      "Представление в цирке Автово. ГИБДД НЕТ. Эвакуаторщики сами фотографируют машины и увозят.\n",
      " Почему нельзя ограничиться только штрафом? Машины не мешают проезду! И так каждые выходные во время представлений. Писали на Фонтанку и Водитель Петербурга . Тишина.\n",
      "___________________________________________________\n",
      "7640366 (accident: 0)\n",
      "Две малютки нашли друг друга, на перекрёстке Коллонтай и Товарищеского. Служб нет. Проезда особа не мешают.\n",
      "___________________________________________________\n",
      "1988365 (accident: 0)\n",
      "Дворцовый проезд.  15.08 \n",
      "Стоят грустят, никому не мешают.\n",
      "ДПС нет.\n",
      "___________________________________________________\n",
      "1478048 (accident: 0)\n",
      "Только что на выезде с ушаковчкого моста чуть-чуть не доезжая пересечения каменоостровского и 2-й березовой аллеи маршрутка въехала в Kia. Крайний левый. Никому не мешают.\n",
      "___________________________________________________\n",
      "7095210 (accident: 0)\n",
      "Ситроен и Мазда побились  улице  Подвойского и проезду не мешают\n"
     ]
    }
   ],
   "source": [
    "sample_text(\n",
    "    df[\n",
    "        (df['accident'] == 0) &\n",
    "        df['text'].str.contains('не мешают', case=False)\n",
    "    ]\n",
    ")"
   ]
  },
  {
   "cell_type": "code",
   "execution_count": 556,
   "metadata": {},
   "outputs": [
    {
     "name": "stdout",
     "output_type": "stream",
     "text": [
      "(4834, 11)\n",
      "____________________________________________________________________________________________________\n",
      "8003935 (accident: 0 len: 76)\n",
      "Поцелуйчики на перекрестке ул. Салова и ул. Самойловой. ДПС нет, пробки нет.\n",
      "____________________________________________________________________________________________________\n",
      "2230812 (accident: 0 len: 82)\n",
      "Пересечение Новочеркасского и Гранитной, камаз и что-то еще. Ждут дпс, будет жесть\n",
      "____________________________________________________________________________________________________\n",
      "7938132 (accident: 0 len: 63)\n",
      "Есенина, невнимательная дама протаранила Логан! Стоят ждут ДПС.\n",
      "____________________________________________________________________________________________________\n",
      "588293 (accident: 0 len: 110)\n",
      "На пересечении Комендантского и Шаврова встретились два одиночества. Затрудняют проезд. ДПС в 10 утра не было.\n",
      "____________________________________________________________________________________________________\n",
      "3095202 (accident: 0 len: 484)\n",
      "Около 12 часов 25.02. 2016 около дома маршала Захарова дом 16 корпус 1 сотрудники Дпс остановили девушку с лыжами,  которая переходила дорогу не по пешеходному переходу. Я наблюдала из окна. Они  отобрали у нее лыжи,  чтобы она не сбежала от них. Снимали ее на камеру. Я не выдержала и пошла на улицу к ней.  Когда подошла, они уже стояли около их машины. У нее нет с собой ни документов, ни телефона.  Мало ли они ее не отпустят. Может кто ищет. Они повезли ее в отделение. Анонимно.\n"
     ]
    }
   ],
   "source": [
    "sample_text(\n",
    "    df[\n",
    "        (df['accident'] == 0) &\n",
    "        df['text'].str.contains('дпс', case=False)\n",
    "    ]\n",
    ")"
   ]
  },
  {
   "cell_type": "code",
   "execution_count": 555,
   "metadata": {},
   "outputs": [
    {
     "name": "stdout",
     "output_type": "stream",
     "text": [
      "(98, 11)\n",
      "____________________________________________________________________________________________________\n",
      "4273214 (accident: 0 len: 46)\n",
      "Парковка Мега парнас, не скучают - оформляются\n",
      "____________________________________________________________________________________________________\n",
      "6064139 (accident: 0 len: 72)\n",
      "Напротив метро Парнас. Пробка только по Дудина от Энгельса. Оформляются.\n",
      "____________________________________________________________________________________________________\n",
      "915570 (accident: 0 len: 45)\n",
      "Якубовича д1. Время 16.20. ДПС уже оформляют.\n",
      "____________________________________________________________________________________________________\n",
      "1002386 (accident: 0 len: 75)\n",
      "Владимирский пр 3 уже оформляют !!!\n",
      "Нексию разбившую морду об новую Альмеру\n",
      "____________________________________________________________________________________________________\n",
      "7477779 (accident: 0 len: 105)\n",
      "Куча земли и камней вывалена на перекрёстке Авиаконструкторов и Долгоозерной. Самосвал уже оформляют ДПС.\n"
     ]
    }
   ],
   "source": [
    "sample_text(\n",
    "    df[\n",
    "        (df['accident'] == 0) &\n",
    "        df['text'].str.contains('оформляют', case=False)\n",
    "    ]\n",
    ")"
   ]
  },
  {
   "cell_type": "code",
   "execution_count": 554,
   "metadata": {},
   "outputs": [
    {
     "name": "stdout",
     "output_type": "stream",
     "text": [
      "(294, 11)\n",
      "____________________________________________________________________________________________________\n",
      "1841299 (accident: 0 len: 272)\n",
      "На Благодатной, возле перекрестка с Севастьянова стукнулись двое - Гранта и что-то большое иностранное, вроде инфинити. У иностранца распорота вся бочина, Гранта на тротуаре. Жертв не увидел. Актуально на 19.40 Трамваю ехать некуда, если быстро не растащат - будет пробка.\n",
      "____________________________________________________________________________________________________\n",
      "8786368 (accident: 0 len: 95)\n",
      "Прям у крылечка в Собес (Расстанная улица). Стукнулись во дворе. \n",
      "Ибо не фиг гонять по двору...\n",
      "____________________________________________________________________________________________________\n",
      "12424408 (accident: 0 len: 51)\n",
      "Стукнулись и стоят на Энгельса. Трамваи тоже встали\n",
      "____________________________________________________________________________________________________\n",
      "8249630 (accident: 0 len: 64)\n",
      "Стукнулись на перекрестке Дальневосточного и Тельмана. Служб нет\n",
      "____________________________________________________________________________________________________\n",
      "3156454 (accident: 0 len: 167)\n",
      "Немного стукнулись, трамваи встали, европротокол отменяется, 3 участника. Проезду машин мешают не сильно, а вот с Петроградки к Финляндскому на трамвае ехать не стоит)\n"
     ]
    }
   ],
   "source": [
    "sample_text(\n",
    "    df[\n",
    "        (df['accident'] == 0) &\n",
    "        df['text'].str.contains('стукнул', case=False)\n",
    "    ]\n",
    ")"
   ]
  },
  {
   "cell_type": "code",
   "execution_count": 553,
   "metadata": {},
   "outputs": [
    {
     "name": "stdout",
     "output_type": "stream",
     "text": [
      "(34, 11)\n",
      "____________________________________________________________________________________________________\n",
      "9412123 (accident: 0 len: 93)\n",
      "Невский, в сторону Васьки, не доезжая ул. Маяковского, там Легковушка притерлась с автобусом.\n",
      "____________________________________________________________________________________________________\n",
      "1097990 (accident: 0 len: 74)\n",
      "Напротив метро Большевиков хендай притерлась с автобусом, 2 ряд,  гаи нет.\n",
      "____________________________________________________________________________________________________\n",
      "7437097 (accident: 0 len: 87)\n",
      "У разворота на Богатырском 36, притерлась БМВ и Киа , разборки вроде. Будьте осторожны.\n",
      "____________________________________________________________________________________________________\n",
      "1319200 (accident: 0 len: 387)\n",
      "Перекресток Ленинского пр. и пр. Маршала Жукова. Девушка на белом Шевроле Круз поворачивая налево вторым рядом с Ленинского на Жукова в сторону Захарова, притерлась к фуре-щебневозу. Стоит нервничает и по телефону рассказывает-показывает кому-то, видимо, как ехала. Водитель фуры не нервничает. ДПС нет. Пробки пока нет, но движение уплотняется. Не поворачивайте вторым рядом где нельзя.\n",
      "____________________________________________________________________________________________________\n",
      "7896888 (accident: 0 len: 167)\n",
      "Девушка на VW притерлась к корме трамвая, поворачивающего с Большого Сампсониевского на 1-ый Муринский .. Проезд затруднен во все стороны. Особенно в сторону Удельной.\n"
     ]
    }
   ],
   "source": [
    "sample_text(\n",
    "    df[\n",
    "        (df['accident'] == 0) &\n",
    "        df['text'].str.contains('притерлась', case=False)\n",
    "    ]\n",
    ")"
   ]
  },
  {
   "cell_type": "code",
   "execution_count": 503,
   "metadata": {},
   "outputs": [
    {
     "name": "stdout",
     "output_type": "stream",
     "text": [
      "(28, 11)\n",
      "____________________________________________________________________________________________________\n",
      "8015763 (accident: 0, len: 156)\n",
      "На Кронверкском проспекте , перед Каменноостровским , Газель перестроилась в Рио, Проезд очень затруднен, трамваи стоят Гайцы прилетели. Объезд по тротуару.\n",
      "____________________________________________________________________________________________________\n",
      "4736477 (accident: 0, len: 122)\n",
      "Дама перестроилась перед перекрестком заневского и энергетиков в сторону ладожского вокзала, средний ряд, служб нет, 15 10\n",
      "____________________________________________________________________________________________________\n",
      "12466225 (accident: 0, len: 324)\n",
      "Вчера, 28 декабря около 18:00-18:15 выезжая с Ялтинской улицы на Митрофаньевское шоссе, Скания резко перестроилась через две полосы и остановилась чтобы совершить разворот на перекрёстке, где он запрещён, и КАМАЗ не успел затормозить и въехал в него. \n",
      "Просьба свидетелей с видеорегистратором откликнуться в личные сообщения.\n",
      "____________________________________________________________________________________________________\n",
      "5080100 (accident: 0, len: 165)\n",
      "На Арсенальной набережной у Арсенальной улицы в 10:20\n",
      "X5 влетела в зад  2112, сразу после этого в бок двенашке перестроилась ещё одна BMW \n",
      "Будет пробка, скорее всего\n",
      "____________________________________________________________________________________________________\n",
      "7495759 (accident: 0, len: 72)\n",
      "Газель перестроилась в меня на Витебском у Благодатной ,\n",
      "Пробка сильная.\n"
     ]
    }
   ],
   "source": [
    "sample_text(\n",
    "    df[\n",
    "        (df['accident'] == 0) &\n",
    "        df['text'].str.contains('перестроилась', case=False)\n",
    "    ]\n",
    ")"
   ]
  },
  {
   "cell_type": "code",
   "execution_count": 570,
   "metadata": {},
   "outputs": [
    {
     "name": "stdout",
     "output_type": "stream",
     "text": [
      "(173, 11)\n",
      "____________________________________________________________________________________________________\n",
      "12478173 (accident: 1 len: 99)\n",
      "ДТП с каршерингом на съезде с  внутренней стороны КАД на Таллинское шоссе, в сторону Красного села.\n",
      "____________________________________________________________________________________________________\n",
      "12601699 (accident: 1 len: 125)\n",
      "На проспекте Мечникова в сторону Замшиной улицы каршеринг догнал маршрутку. Перед светофором собирается пробка в обе стороны.\n",
      "____________________________________________________________________________________________________\n",
      "12211470 (accident: 1 len: 122)\n",
      "ДТП напротив дома по Адмирала Трибуца 10 с участием каршеринга. Стоят, что то решают. Дорожный наблюдатель на каршеринге 😂\n",
      "____________________________________________________________________________________________________\n",
      "10609586 (accident: 1 len: 99)\n",
      "На Среднем проспекте В.О. от 8-ой линии до 10-ой затор!!! ДТП + брошенный каршеринг по среди дороги\n",
      "____________________________________________________________________________________________________\n",
      "12925412 (accident: 1 len: 72)\n",
      "Дтп на съезде с ЗСД на Краснопутиловскую. Каршеринг скрылся с места ДТП.\n"
     ]
    }
   ],
   "source": [
    "sample_text(\n",
    "    df[\n",
    "        (df['accident'] == 1) &\n",
    "        df['text'].str.contains('карш', case=False)\n",
    "    ]\n",
    ")"
   ]
  },
  {
   "cell_type": "code",
   "execution_count": 572,
   "metadata": {},
   "outputs": [
    {
     "name": "stdout",
     "output_type": "stream",
     "text": [
      "(889, 11)\n",
      "____________________________________________________________________________________________________\n",
      "11025033 (accident: 1 len: 310)\n",
      "Прошу откликнуться двух молодых людей, выходивших сегодня из такси (белый автомобиль ориентировочно марки KIA), совершивший ДТП с припаркованным автомобилем Hyundai Accent во дворе дома на Искровском проспекте 20 около 15:18-15:20 (на карте точка, где стояла моя машина)\n",
      "\n",
      " Таксист с места происшествия скрылся.\n",
      "____________________________________________________________________________________________________\n",
      "420930 (accident: 1 len: 268)\n",
      "16 марта около форта Константин было дтп , таксист компании 311 16 16 со свистом выехал с форта , и тут же врезался в рабочую газель , с места ДТП он скрылся тут же , но оставил сувенир парням с газели , смеялись долго , ну что за олень\n",
      "[id121119785|Женечка Евгеньева]\n",
      "____________________________________________________________________________________________________\n",
      "7872667 (accident: 1 len: 182)\n",
      "ДТП с участием автомобиля Яндекс. ДТП на пересечении Киевской улице и Московского пр. Данный водитель официально не оформлен. \n",
      "По предварительным данным виновен в ДТП водитель такси.\n",
      "____________________________________________________________________________________________________\n",
      "640307 (accident: 1 len: 632)\n",
      "Сегодня в 12.59 на станцию Ковалёво прибыла электричка с опозданием на 10 мин, но главное прибыла на другой путь. И множеству людей (платформа была забита людьми) в основном пожилые, с палочками, поддерживающие друг друга \"побежали\" догонять долгожданный поезд (следующий должен был прибыть через 2 часа). Был сущий кошмар Спасибо машинисту. но руководство которое планирует движение должно хотя бы иногда думать что делает. Ведь на этом полустанке нет громкой связи и нет других вариантов уехать (маршрутки и такси туда не ходят).  Руководство службы движения Финляндского вокзала, не мешало бы Вам извиниться за свою плохую работу\n",
      "____________________________________________________________________________________________________\n",
      "7464621 (accident: 1 len: 118)\n",
      "ДТП на пр.Науки от м.Академическая к Бутлерова. Маршрутка и таксишник.\n",
      "Трамваи стоят. Пробка у метро. Служб нет. 14.40\n"
     ]
    }
   ],
   "source": [
    "sample_text(\n",
    "    df[\n",
    "        (df['accident'] == 1) &\n",
    "        df['text'].str.contains('такси', case=False)\n",
    "    ]\n",
    ")"
   ]
  },
  {
   "cell_type": "code",
   "execution_count": 551,
   "metadata": {},
   "outputs": [
    {
     "name": "stdout",
     "output_type": "stream",
     "text": [
      "(3082, 11)\n",
      "____________________________________________________________________________________________________\n",
      "2800175 (accident: 0 len: 157)\n",
      "Форд не уступил автобусу на Дороге на Каменку. теперь Стоят,беседуют, а моя Газель чуть дальше 'ушла'. се живы. Служб нет. сообщает [id208066895|Упырь Лютый]\n",
      "____________________________________________________________________________________________________\n",
      "6752787 (accident: 0 len: 151)\n",
      "ВАЗ 2115 попал под трамвай , поворачивая с Дальневосточного на Тельмана \n",
      "и по Тельмана проезд заблокировали полностью \n",
      "Трамваи в сторону Народной стоят\n",
      "____________________________________________________________________________________________________\n",
      "429473 (accident: 0 len: 95)\n",
      "Кого-то вроде приняли угол бабушкина и Ивановской менты стоят на углу...25 минут назад проезжал\n",
      "____________________________________________________________________________________________________\n",
      "12280468 (accident: 0 len: 239)\n",
      "Два объездуна сошлись в неравной схватке за секунды на выезде с Земской ул. на Таллинское шоссе. VW Passat CC не пустил лезущий вторым рядом (фактически - по встречке) ПАЗ, следовавший по маршруту к-105а. Теперь стоят, никуда не торопятся.\n",
      "____________________________________________________________________________________________________\n",
      "10406628 (accident: 0 len: 123)\n",
      "На Ленинском проспекте у  Соломахинского проезда провисли провода троллейбусной линии. Троллейбусы стоят. Народ идет пешком\n"
     ]
    }
   ],
   "source": [
    "sample_text(\n",
    "    df[\n",
    "        (df['accident'] == 0) &\n",
    "        df['text'].str.contains('стоят', case=False)\n",
    "    ]\n",
    ")"
   ]
  },
  {
   "cell_type": "code",
   "execution_count": 565,
   "metadata": {},
   "outputs": [
    {
     "name": "stdout",
     "output_type": "stream",
     "text": [
      "(1651, 11)\n",
      "____________________________________________________________________________________________________\n",
      "422254 (accident: 0 len: 45)\n",
      "Перекресток Ул. Подвойского и пр. Большевиков\n",
      "____________________________________________________________________________________________________\n",
      "5662955 (accident: 0 len: 85)\n",
      "Перекресток ул. Адмирала Трибуца и Петергофского шоссе. Трамваи встали в обе стороны.\n",
      "____________________________________________________________________________________________________\n",
      "972067 (accident: 0 len: 125)\n",
      "Ветром прилетел кусок фанеры\n",
      "Стою жду гайцов\n",
      "Перекрыл единственный ряд\n",
      "Перекресток Полевой сабировской и богатырского \n",
      "Пробка\n",
      "____________________________________________________________________________________________________\n",
      "522486 (accident: 0 len: 165)\n",
      "15:33 перекресток пр. Непокоренных и Гражданского в сторону пл. Мужества. Заняты правые ряды. Троллейбусам с Гражд. не проехать. ДПС нет.\n",
      "[id111405|Алиночка Козлова]\n",
      "____________________________________________________________________________________________________\n",
      "10159286 (accident: 0 len: 179)\n",
      "Старенький мерин ушел в забор, видимо дрифт не удался. Перекресток Композиторов и Суздальского в сторону Энгельса. Экипаж в количестве 3 единиц на месте, впринципе он и не мешает.\n"
     ]
    }
   ],
   "source": [
    "sample_text(\n",
    "    df[\n",
    "        (df['accident'] == 0) &\n",
    "        df['text'].str.contains('перекресток', case=False)\n",
    "    ]\n",
    ")"
   ]
  },
  {
   "cell_type": "code",
   "execution_count": null,
   "metadata": {},
   "outputs": [],
   "source": []
  },
  {
   "cell_type": "code",
   "execution_count": null,
   "metadata": {},
   "outputs": [],
   "source": []
  }
 ],
 "metadata": {
  "kernelspec": {
   "display_name": "Python 3",
   "language": "python",
   "name": "python3"
  },
  "language_info": {
   "codemirror_mode": {
    "name": "ipython",
    "version": 3
   },
   "file_extension": ".py",
   "mimetype": "text/x-python",
   "name": "python",
   "nbconvert_exporter": "python",
   "pygments_lexer": "ipython3",
   "version": "3.8.2"
  }
 },
 "nbformat": 4,
 "nbformat_minor": 4
}
