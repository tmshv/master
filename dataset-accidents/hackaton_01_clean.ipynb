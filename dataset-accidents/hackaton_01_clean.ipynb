{
 "cells": [
  {
   "cell_type": "code",
   "execution_count": 4,
   "metadata": {},
   "outputs": [],
   "source": [
    "import pandas as pd"
   ]
  },
  {
   "cell_type": "code",
   "execution_count": 5,
   "metadata": {},
   "outputs": [],
   "source": [
    "df = pd.read_csv('20201020-vk-spb_today.csv', index_col=['id'])"
   ]
  },
  {
   "cell_type": "code",
   "execution_count": 6,
   "metadata": {},
   "outputs": [],
   "source": [
    "df = df[df['text'].notnull()]"
   ]
  },
  {
   "cell_type": "code",
   "execution_count": 7,
   "metadata": {},
   "outputs": [],
   "source": [
    "df['date'] = df.apply(lambda x: pd.to_datetime(x['date'], unit='s'), axis=1)"
   ]
  },
  {
   "cell_type": "code",
   "execution_count": 8,
   "metadata": {},
   "outputs": [],
   "source": [
    "df = df[~df['text'].str.contains('угнан', case=False)]\n",
    "df = df[~df['text'].str.contains('угнали', case=False)]\n",
    "df = df[~df['text'].str.contains('украден', case=False)]\n",
    "df = df[~df['text'].str.contains('украли', case=False)]\n",
    "df = df[~df['text'].str.contains('ограбления', case=False)]\n",
    "df = df[~df['text'].str.contains('пропал', case=False)]\n",
    "df = df[~df['text'].str.contains('Дайджест', case=False)]\n",
    "df = df[~df['text'].str.contains('Новости города за последние сутки', case=False)]\n",
    "df = df[~df['text'].str.contains('Новости города за сегодняшний день', case=False)]\n",
    "df = df[~df['text'].str.contains('Новости города за день', case=False)]\n",
    "df = df[~df['text'].str.contains('обзор новостей', case=False)]\n",
    "df = df[~df['text'].str.contains('Новости нашего Мегаполиса', case=False)]\n",
    "df = df[~df['text'].str.contains('эвакуация', case=False)]\n",
    "df = df[~df['text'].str.contains('задымление', case=False)]\n",
    "df = df[~df['text'].str.contains('жильцы', case=False)]\n",
    "df = df[~df['text'].str.contains('стреляют', case=False)]\n",
    "df = df[~df['text'].str.contains('бомж', case=False)]\n",
    "\n",
    "df = df[~df['text'].str.contains('не дтп', case=False)]\n",
    "\n",
    "df = df[~df['text'].str.contains('нужна помощь', case=False)]\n",
    "df = df[~df['text'].str.contains('помогите', case=False)]\n",
    "df = df[~df['text'].str.contains('выручайте', case=False)]\n",
    "df = df[~df['text'].str.contains('помогли', case=False)]\n",
    "df = df[~df['text'].str.contains('help', case=False)]\n",
    "df = df[~df['text'].str.contains('хелп', case=False)]\n",
    "df = df[~df['text'].str.contains('хэлп', case=False)]\n",
    "df = df[~df['text'].str.contains('прикурит', case=False)]"
   ]
  },
  {
   "cell_type": "code",
   "execution_count": 9,
   "metadata": {},
   "outputs": [],
   "source": [
    "df = df[df['text'].str.len() <= 500]"
   ]
  },
  {
   "cell_type": "code",
   "execution_count": 10,
   "metadata": {},
   "outputs": [],
   "source": [
    "df['accident'] = 0"
   ]
  },
  {
   "cell_type": "code",
   "execution_count": 11,
   "metadata": {},
   "outputs": [],
   "source": [
    "df.loc[df['text'].str.contains('дтп', case=False, na=False), 'accident'] = 1\n",
    "df.loc[df['text'].str.contains('авари', case=False, na=False), 'accident'] = 1\n",
    "df.loc[df['text'].str.contains('сбили', case=False, na=False), 'accident'] = 1\n",
    "df.loc[df['text'].str.contains('сбит', case=False, na=False), 'accident'] = 1\n",
    "df.loc[df['text'].str.contains('сбил', case=False, na=False), 'accident'] = 1\n",
    "df.loc[df['text'].str.contains('вылетел', case=False, na=False), 'accident'] = 1\n",
    "df.loc[df['text'].str.contains('врезался', case=False, na=False), 'accident'] = 1\n",
    "df.loc[df['text'].str.contains('зацепил', case=False, na=False), 'accident'] = 1\n",
    "df.loc[df['text'].str.contains('перегородил', case=False, na=False), 'accident'] = 1\n",
    "df.loc[df['text'].str.contains('догонял', case=False, na=False), 'accident'] = 1\n",
    "df.loc[df['text'].str.contains('не справился', case=False, na=False), 'accident'] = 1\n",
    "df.loc[df['text'].str.contains('не вписался', case=False, na=False), 'accident'] = 1\n",
    "df.loc[df['text'].str.contains('перевернул', case=False, na=False), 'accident'] = 1\n",
    "df.loc[df['text'].str.contains('притёр', case=False, na=False), 'accident'] = 1\n",
    "df.loc[df['text'].str.contains('притерлись', case=False, na=False), 'accident'] = 1\n",
    "df.loc[df['text'].str.contains('столкнулись', case=False, na=False), 'accident'] = 1\n",
    "df.loc[df['text'].str.contains('стукнулись', case=False, na=False), 'accident'] = 1\n",
    "df.loc[df['text'].str.contains('паровоз', case=False, na=False), 'accident'] = 1\n",
    "df.loc[df['text'].str.contains('тройничок', case=False, na=False), 'accident'] = 1\n",
    "df.loc[df['text'].str.contains('перекресток', case=False, na=False), 'accident'] = 1\n",
    "df.loc[df['text'].str.contains('перестроилась', case=False, na=False), 'accident'] = 1\n",
    "df.loc[df['text'].str.contains('оформляют', case=False, na=False), 'accident'] = 1\n",
    "\n",
    "df.loc[df['text'].str.contains('фура', case=False, na=False), 'accident'] = 1\n",
    "df.loc[df['text'].str.contains('маршрутк', case=False, na=False), 'accident'] = 1\n",
    "df.loc[df['text'].str.contains('мотоцикл', case=False, na=False), 'accident'] = 1\n",
    "df.loc[df['text'].str.contains('каршеринг', case=False, na=False), 'accident'] = 1\n",
    "df.loc[df['text'].str.contains('карш', case=False, na=False), 'accident'] = 1\n",
    "df.loc[df['text'].str.contains('делимобил', case=False, na=False), 'accident'] = 1\n",
    "df.loc[df['text'].str.contains('youdrive', case=False, na=False), 'accident'] = 1\n",
    "df.loc[df['text'].str.contains('юдра', case=False, na=False), 'accident'] = 1\n",
    "df.loc[df['text'].str.contains('ю-драйв', case=False, na=False), 'accident'] = 1\n",
    "df.loc[df['text'].str.contains('такси', case=False, na=False), 'accident'] = 1\n",
    "\n",
    "df.loc[\n",
    "    df['text'].str.contains('отправил', case=False) &\n",
    "    df['text'].str.contains('отдыхать', case=False)\n",
    ", 'accident'] = 1"
   ]
  },
  {
   "cell_type": "code",
   "execution_count": 12,
   "metadata": {},
   "outputs": [
    {
     "data": {
      "text/html": [
       "<div>\n",
       "<style scoped>\n",
       "    .dataframe tbody tr th:only-of-type {\n",
       "        vertical-align: middle;\n",
       "    }\n",
       "\n",
       "    .dataframe tbody tr th {\n",
       "        vertical-align: top;\n",
       "    }\n",
       "\n",
       "    .dataframe thead th {\n",
       "        text-align: right;\n",
       "    }\n",
       "</style>\n",
       "<table border=\"1\" class=\"dataframe\">\n",
       "  <thead>\n",
       "    <tr style=\"text-align: right;\">\n",
       "      <th></th>\n",
       "      <th>text</th>\n",
       "      <th>date</th>\n",
       "      <th>comments</th>\n",
       "      <th>likes</th>\n",
       "      <th>reposts</th>\n",
       "      <th>views</th>\n",
       "      <th>attachments_count</th>\n",
       "      <th>from_id</th>\n",
       "      <th>owner_id</th>\n",
       "      <th>signer_id</th>\n",
       "      <th>accident</th>\n",
       "    </tr>\n",
       "    <tr>\n",
       "      <th>id</th>\n",
       "      <th></th>\n",
       "      <th></th>\n",
       "      <th></th>\n",
       "      <th></th>\n",
       "      <th></th>\n",
       "      <th></th>\n",
       "      <th></th>\n",
       "      <th></th>\n",
       "      <th></th>\n",
       "      <th></th>\n",
       "      <th></th>\n",
       "    </tr>\n",
       "  </thead>\n",
       "  <tbody>\n",
       "    <tr>\n",
       "      <th>2595424</th>\n",
       "      <td>Авария на пересечении Наб. Реки Карповки и Бол...</td>\n",
       "      <td>2015-12-25 07:53:38</td>\n",
       "      <td>0</td>\n",
       "      <td>10</td>\n",
       "      <td>0</td>\n",
       "      <td>0</td>\n",
       "      <td>1</td>\n",
       "      <td>-68471405</td>\n",
       "      <td>-68471405</td>\n",
       "      <td>446783.0</td>\n",
       "      <td>1</td>\n",
       "    </tr>\n",
       "    <tr>\n",
       "      <th>13136947</th>\n",
       "      <td>На  Пионерской девочка бегала  по машинам, под...</td>\n",
       "      <td>2020-05-07 03:54:18</td>\n",
       "      <td>1169</td>\n",
       "      <td>834</td>\n",
       "      <td>27</td>\n",
       "      <td>380778</td>\n",
       "      <td>4</td>\n",
       "      <td>-68471405</td>\n",
       "      <td>-68471405</td>\n",
       "      <td>498509822.0</td>\n",
       "      <td>0</td>\n",
       "    </tr>\n",
       "    <tr>\n",
       "      <th>12342729</th>\n",
       "      <td>Из-за ДТП на перекрестке с Ленсовета и Орджони...</td>\n",
       "      <td>2019-12-09 17:40:57</td>\n",
       "      <td>41</td>\n",
       "      <td>40</td>\n",
       "      <td>3</td>\n",
       "      <td>85432</td>\n",
       "      <td>0</td>\n",
       "      <td>-68471405</td>\n",
       "      <td>-68471405</td>\n",
       "      <td>507845.0</td>\n",
       "      <td>1</td>\n",
       "    </tr>\n",
       "  </tbody>\n",
       "</table>\n",
       "</div>"
      ],
      "text/plain": [
       "                                                       text  \\\n",
       "id                                                            \n",
       "2595424   Авария на пересечении Наб. Реки Карповки и Бол...   \n",
       "13136947  На  Пионерской девочка бегала  по машинам, под...   \n",
       "12342729  Из-за ДТП на перекрестке с Ленсовета и Орджони...   \n",
       "\n",
       "                        date  comments  likes  reposts   views  \\\n",
       "id                                                               \n",
       "2595424  2015-12-25 07:53:38         0     10        0       0   \n",
       "13136947 2020-05-07 03:54:18      1169    834       27  380778   \n",
       "12342729 2019-12-09 17:40:57        41     40        3   85432   \n",
       "\n",
       "          attachments_count   from_id  owner_id    signer_id  accident  \n",
       "id                                                                      \n",
       "2595424                   1 -68471405 -68471405     446783.0         1  \n",
       "13136947                  4 -68471405 -68471405  498509822.0         0  \n",
       "12342729                  0 -68471405 -68471405     507845.0         1  "
      ]
     },
     "execution_count": 12,
     "metadata": {},
     "output_type": "execute_result"
    }
   ],
   "source": [
    "df.sample(3)"
   ]
  },
  {
   "cell_type": "code",
   "execution_count": 47,
   "metadata": {},
   "outputs": [],
   "source": [
    "df[df['accident'] == 1].drop(['accident', 'from_id', 'owner_id', 'signer_id'], axis=1).to_csv('20201020-vk-spb_today-accidents.csv')"
   ]
  },
  {
   "cell_type": "code",
   "execution_count": 14,
   "metadata": {},
   "outputs": [
    {
     "data": {
      "text/plain": [
       "0    59834\n",
       "1    45132\n",
       "Name: accident, dtype: int64"
      ]
     },
     "execution_count": 14,
     "metadata": {},
     "output_type": "execute_result"
    }
   ],
   "source": [
    "df['accident'].value_counts()"
   ]
  },
  {
   "cell_type": "code",
   "execution_count": 15,
   "metadata": {},
   "outputs": [
    {
     "data": {
      "text/plain": [
       "(104966, 11)"
      ]
     },
     "execution_count": 15,
     "metadata": {},
     "output_type": "execute_result"
    }
   ],
   "source": [
    "df.shape"
   ]
  },
  {
   "cell_type": "code",
   "execution_count": 16,
   "metadata": {},
   "outputs": [],
   "source": [
    "def sample_text(df, samples = 5):\n",
    "    s = min(df.shape[0], samples)\n",
    "    print(df.shape)\n",
    "    for post_id, row in df.sample(s).iterrows():\n",
    "        a = row['accident']\n",
    "        l = len(row['text'])\n",
    "        print('_' * 100)\n",
    "        print(f'{post_id} (accident: {a} len: {l})')\n",
    "        print(row['text'])"
   ]
  },
  {
   "cell_type": "code",
   "execution_count": 17,
   "metadata": {},
   "outputs": [
    {
     "data": {
      "text/html": [
       "<div>\n",
       "<style scoped>\n",
       "    .dataframe tbody tr th:only-of-type {\n",
       "        vertical-align: middle;\n",
       "    }\n",
       "\n",
       "    .dataframe tbody tr th {\n",
       "        vertical-align: top;\n",
       "    }\n",
       "\n",
       "    .dataframe thead th {\n",
       "        text-align: right;\n",
       "    }\n",
       "</style>\n",
       "<table border=\"1\" class=\"dataframe\">\n",
       "  <thead>\n",
       "    <tr style=\"text-align: right;\">\n",
       "      <th></th>\n",
       "      <th>likes</th>\n",
       "      <th>reposts</th>\n",
       "      <th>views</th>\n",
       "      <th>comments</th>\n",
       "    </tr>\n",
       "  </thead>\n",
       "  <tbody>\n",
       "    <tr>\n",
       "      <th>likes</th>\n",
       "      <td>1.000000</td>\n",
       "      <td>0.701770</td>\n",
       "      <td>0.314915</td>\n",
       "      <td>0.326599</td>\n",
       "    </tr>\n",
       "    <tr>\n",
       "      <th>reposts</th>\n",
       "      <td>0.701770</td>\n",
       "      <td>1.000000</td>\n",
       "      <td>0.119132</td>\n",
       "      <td>0.111618</td>\n",
       "    </tr>\n",
       "    <tr>\n",
       "      <th>views</th>\n",
       "      <td>0.314915</td>\n",
       "      <td>0.119132</td>\n",
       "      <td>1.000000</td>\n",
       "      <td>0.501118</td>\n",
       "    </tr>\n",
       "    <tr>\n",
       "      <th>comments</th>\n",
       "      <td>0.326599</td>\n",
       "      <td>0.111618</td>\n",
       "      <td>0.501118</td>\n",
       "      <td>1.000000</td>\n",
       "    </tr>\n",
       "  </tbody>\n",
       "</table>\n",
       "</div>"
      ],
      "text/plain": [
       "             likes   reposts     views  comments\n",
       "likes     1.000000  0.701770  0.314915  0.326599\n",
       "reposts   0.701770  1.000000  0.119132  0.111618\n",
       "views     0.314915  0.119132  1.000000  0.501118\n",
       "comments  0.326599  0.111618  0.501118  1.000000"
      ]
     },
     "execution_count": 17,
     "metadata": {},
     "output_type": "execute_result"
    }
   ],
   "source": [
    "df[['likes', 'reposts', 'views', 'comments']].corr()"
   ]
  },
  {
   "cell_type": "code",
   "execution_count": 18,
   "metadata": {},
   "outputs": [],
   "source": [
    "df['words_count'] = df['text'].str.split().str.len()"
   ]
  },
  {
   "cell_type": "code",
   "execution_count": 19,
   "metadata": {},
   "outputs": [
    {
     "data": {
      "text/plain": [
       "<matplotlib.axes._subplots.AxesSubplot at 0x7f844f86e520>"
      ]
     },
     "execution_count": 19,
     "metadata": {},
     "output_type": "execute_result"
    },
    {
     "data": {
      "image/png": "[encoded data removed]",
      "text/plain": [
       "<Figure size 432x288 with 1 Axes>"
      ]
     },
     "metadata": {
      "needs_background": "light"
     },
     "output_type": "display_data"
    }
   ],
   "source": [
    "df['text'].str.len().hist(bins=20)"
   ]
  },
  {
   "cell_type": "code",
   "execution_count": 20,
   "metadata": {},
   "outputs": [
    {
     "data": {
      "text/plain": [
       "<matplotlib.axes._subplots.AxesSubplot at 0x7f844f7688e0>"
      ]
     },
     "execution_count": 20,
     "metadata": {},
     "output_type": "execute_result"
    },
    {
     "data": {
      "image/png": "[encoded data removed]",
      "text/plain": [
       "<Figure size 432x288 with 1 Axes>"
      ]
     },
     "metadata": {
      "needs_background": "light"
     },
     "output_type": "display_data"
    }
   ],
   "source": [
    "df['words_count'].hist(bins=20)"
   ]
  },
  {
   "cell_type": "code",
   "execution_count": 21,
   "metadata": {},
   "outputs": [
    {
     "data": {
      "text/plain": [
       "count    104966.000000\n",
       "mean        130.811701\n",
       "std          93.721861\n",
       "min           1.000000\n",
       "25%          68.000000\n",
       "50%         101.000000\n",
       "75%         159.000000\n",
       "max         500.000000\n",
       "Name: text, dtype: float64"
      ]
     },
     "execution_count": 21,
     "metadata": {},
     "output_type": "execute_result"
    }
   ],
   "source": [
    "df['text'].str.len().describe()"
   ]
  },
  {
   "cell_type": "code",
   "execution_count": 22,
   "metadata": {},
   "outputs": [
    {
     "data": {
      "text/plain": [
       "count    45132.000000\n",
       "mean       143.142028\n",
       "std         99.155931\n",
       "min          3.000000\n",
       "25%         75.000000\n",
       "50%        112.000000\n",
       "75%        177.000000\n",
       "max        500.000000\n",
       "Name: text, dtype: float64"
      ]
     },
     "execution_count": 22,
     "metadata": {},
     "output_type": "execute_result"
    }
   ],
   "source": [
    "df[df['accident'] == 1]['text'].str.len().describe()"
   ]
  },
  {
   "cell_type": "code",
   "execution_count": 23,
   "metadata": {},
   "outputs": [
    {
     "name": "stdout",
     "output_type": "stream",
     "text": [
      "(31402, 12)\n",
      "____________________________________________________________________________________________________\n",
      "1174625 (accident: 0 len: 114)\n",
      "Карусель на Колонтай 3. Торговый центр ЛондонМолл.\n",
      "\n",
      "Пост с новостью о пожаре: https://vk.com/wall-68471405_1173082\n",
      "____________________________________________________________________________________________________\n",
      "5630723 (accident: 0 len: 78)\n",
      "Пьяный собрал 4 машины на Московской трассе в сторону СПб, прямо перед Любанью\n",
      "____________________________________________________________________________________________________\n",
      "8348123 (accident: 0 len: 89)\n",
      "В новом Петергофе оцепили вокзал.. Всё перекрыто, полиция, реанимации, что то случилось 😐\n",
      "____________________________________________________________________________________________________\n",
      "4361476 (accident: 0 len: 133)\n",
      "Неплохо бы за такое вождение наказать! Пересечение двойной сплошной с обгоном и проезд на красный свет по встречке на Шоссе Революции\n",
      "____________________________________________________________________________________________________\n",
      "9875436 (accident: 0 len: 86)\n",
      "Завались строительные леса на восстанавливаемом храме на проспекте Обуховской Обороны.\n"
     ]
    }
   ],
   "source": [
    "sample_text(\n",
    "    df[\n",
    "        (df['accident'] == 0) &\n",
    "        (df['text'].str.len() >= 78) &\n",
    "        (df['text'].str.len() <= 226)\n",
    "    ]\n",
    ")"
   ]
  },
  {
   "cell_type": "code",
   "execution_count": 24,
   "metadata": {},
   "outputs": [
    {
     "name": "stdout",
     "output_type": "stream",
     "text": [
      "(9194, 12)\n",
      "____________________________________________________________________________________________________\n",
      "861128 (accident: 1 len: 364)\n",
      "Утеряны документы. А именно водительское удостоверение на имя Рязанцев Денис Владимирович, свидетельство о регистрации Форд Мондео, свидетельство о регистрации мотоцикла Хонда, и страховки к ним. нашедшим просьба позвонить по телефону 8-911-999-87-70 Денис, или пишите в ВК [id472059|Денис Рязанцев]. \n",
      "Вознаграждение гарантировано. \n",
      "Максимальный репост пожалуйста.\n",
      "____________________________________________________________________________________________________\n",
      "1510513 (accident: 1 len: 231)\n",
      "На 16:25 КАД, внутреннее кольцо не доезжая Вантового: в левом ряду кашкайка занырнул под газель.. \n",
      "А на мосту еще: в правом ряду Опель на аварийке с открытым капотом 😏\n",
      "\n",
      "+Фото: [id58704273|Юлия Карина], [id104213372|Владимир Фролов]\n",
      "____________________________________________________________________________________________________\n",
      "3942996 (accident: 1 len: 299)\n",
      "В 22:14 на перекрестке детской улицы и косой линии потасовка (драка) между Мопедистом и людьми не русской национальности видимо авария,\n",
      "на Lada Priora ( номера дагестанские 05 запомнил только цифры и первую букву к361 ) запечатлеть не успел спешил, кто видел или подходил  скиньте фото авто и мопеда\n",
      "____________________________________________________________________________________________________\n",
      "977316 (accident: 1 len: 331)\n",
      "Авария на дворцовом мосту. По центру стоят. Небольшой затор. Похожу сбили мотоциклиста. Скорая, пожарная, ДПС на месте\n",
      "\n",
      "На Дворцовом мосту очередное серьезное дтп с мотом. Все службы на месте. Вроде жив пилот, чего не скажешь о байке. [id545647|Денис Щебеньков]\n",
      "\n",
      "Фото: [id11260427|Суймонкул Тавалдиев], [id291011027|Серега Мещенко]\n",
      "____________________________________________________________________________________________________\n",
      "242 (accident: 1 len: 218)\n",
      "Новость от подписчицы:\n",
      "ДТП произошло 7 апреля по улице Есенина 19/2 около 10:15 утра. Маршрутка K152 протаранила автомобиль ВАЗ.\n",
      "«Пора ходить на работу пешочком:)» - прокомментировала ДТП подписчица.\n",
      "#новости #спб #дтп\n"
     ]
    }
   ],
   "source": [
    "sample_text(\n",
    "    df[\n",
    "        (df['accident'] == 1) &\n",
    "        (df['text'].str.len() > 200)\n",
    "    ]\n",
    ")"
   ]
  },
  {
   "cell_type": "code",
   "execution_count": 25,
   "metadata": {},
   "outputs": [
    {
     "name": "stdout",
     "output_type": "stream",
     "text": [
      "(1237, 12)\n",
      "____________________________________________________________________________________________________\n",
      "94722 (accident: 1 len: 462)\n",
      "КАД. Внешнее кольцо, возле съезда в Низино авария: левый и средний ряд. 4 или 5 авто. ДПС на месте. Еще одно масштабное: внутреннее кольцо, на дамбе (между Кронштадтом и Приморкой. С жертвами. [id118915|Леночка По]\n",
      "\n",
      "22:10. Проезжали КАД, внутренняя сторона, после Кронштадта авария на 3 и 2 полосе. Боковое столкновение Санйонг и Внедорожника, сильно вмялись, рядом Газель развернутая и перед ДТП еще пару машин. Лежит укрытый труп... [id12740851|Julia Smirnova]\n",
      "____________________________________________________________________________________________________\n",
      "4013307 (accident: 1 len: 419)\n",
      "Серьёзное ДТП произошло на КАД на развязке с Красносельским шоссе.\n",
      "\n",
      "Как сообщает отдел пропаганды УГИБДД по Петербургу и области, около 18:50 на внешнем кольце в районе съезда на проспект Маршала Жукова 47-летняя женщина на «Лексусе» врезалась в стоящий в левом ряду «Мерседес», а затем сбила двух мужчин, пассажиров «Мерседеса».\n",
      "\n",
      "Один мужчина получил лёгкие травмы, второй – в тяжёлом состоянии. Оба госпитализированы.\n",
      "____________________________________________________________________________________________________\n",
      "8826326 (accident: 1 len: 384)\n",
      "Я водитель Соляриса ехал в крайнем левом ряду по Уральской, рядом водитель Лады решил перестроиться, видел, что я его не пускаю и специально ударил меня в правое задние крыло! \n",
      "Я не пускал его, так как его правый ряд был свободный и он ехал 30-40 км в час! \n",
      "После того как я сделал фотографии он сказал что торопится и уехал! \n",
      "ДТП произошло в 7:50, \n",
      "Гайцов до сих пор нету время 9:18!\n",
      "____________________________________________________________________________________________________\n",
      "980547 (accident: 1 len: 425)\n",
      "Октябрьская набережная. 4 машины. Движение ограничено двумя действующими полосами. По состоянию на 13:50. ДПС не было\n",
      "\n",
      "ДТП на Октябрьской набережной в районе дома 40. В сторону Володарки Дастеру въехали в зад, в сторону Ал.Невского тоже двое догнались. На 14:00 ДПС и реанимация на месте. К Володарке собирается пробка. В дастере сзади детское кресло, хочется верить, что с ребенком все хорошо. [id332228|Светлана Соленикова]\n",
      "____________________________________________________________________________________________________\n",
      "8878703 (accident: 1 len: 485)\n",
      "На Каменноостровском сбили девушку. \n",
      "Она вышла со Сбербанка, пропустила 3 машины, Светофор по Каменноостровскому уже секунд 10 горел зелёный, Водителя начал сигналить он ехал в левой полосе, девушка стояла у двойной сплошной, водитель уходил от нее вправо, но девушка то ли испугалась, то ли ещё что и тоже рванула обратно, удар пошел об левое переднее крыло, девушку отбросило метров 5, водитель молодой парень и не виноват, старался уйти от столкновения как мог... \n",
      " Увезли на скорой\n"
     ]
    }
   ],
   "source": [
    "sample_text(\n",
    "    df[\n",
    "        (df['accident'] == 1) &\n",
    "        (df['words_count'] > 60)\n",
    "    ]\n",
    ")"
   ]
  },
  {
   "cell_type": "code",
   "execution_count": 26,
   "metadata": {},
   "outputs": [
    {
     "data": {
      "text/plain": [
       "<matplotlib.axes._subplots.AxesSubplot at 0x7f844ed982e0>"
      ]
     },
     "execution_count": 26,
     "metadata": {},
     "output_type": "execute_result"
    },
    {
     "data": {
      "image/png": "[encoded data removed]",
      "text/plain": [
       "<Figure size 432x288 with 1 Axes>"
      ]
     },
     "metadata": {
      "needs_background": "light"
     },
     "output_type": "display_data"
    }
   ],
   "source": [
    "df['date'].dt.year.hist(bins=6)"
   ]
  },
  {
   "cell_type": "code",
   "execution_count": 27,
   "metadata": {},
   "outputs": [
    {
     "data": {
      "text/plain": [
       "<matplotlib.axes._subplots.AxesSubplot at 0x7f844ecb6880>"
      ]
     },
     "execution_count": 27,
     "metadata": {},
     "output_type": "execute_result"
    },
    {
     "data": {
      "image/png": "[encoded data removed]",
      "text/plain": [
       "<Figure size 432x288 with 1 Axes>"
      ]
     },
     "metadata": {
      "needs_background": "light"
     },
     "output_type": "display_data"
    }
   ],
   "source": [
    "df[df['accident'] == 1]['date'].dt.year.hist(bins=6)"
   ]
  },
  {
   "cell_type": "code",
   "execution_count": 28,
   "metadata": {},
   "outputs": [
    {
     "name": "stdout",
     "output_type": "stream",
     "text": [
      "(19, 12)\n",
      "____________________________________________________________________________________________________\n",
      "4184476 (accident: 0 len: 379)\n",
      "Утопленник в Неве \n",
      "у Набережной Обуховской обороны.\n",
      "Объявление о поиске Свидетелей : https://vk.com/wall-37497136_163465\n",
      " \n",
      "\"Ищем человека! Ищем очевидцев! \n",
      "В пятницу 24.06. примерно в пол девятого вечера с Володарского моста прыгнул молодой человек. Был в синей футболке, джинсах. На вид 30-35 лет. Если кто-нибудь что-то видел, пожалуйста, дайте знать\"\n",
      "[id98943|Регина Морякова]\n",
      "____________________________________________________________________________________________________\n",
      "9273396 (accident: 0 len: 157)\n",
      "В парке на Ивана Фомина кто-то решил искупаться. Достали. Вроде живой. Приехала реанимация.\n",
      "\n",
      "Там не утопленник, там драка... Скорая на месте оказывает помощь\n",
      "____________________________________________________________________________________________________\n",
      "1525668 (accident: 0 len: 336)\n",
      "В парке 300летия что-то непонятное. \n",
      "Спасатели и скорая на месте. Спасатели стоят на пляже и просто с кем то общаются. Мимо прошли медики.\n",
      "\n",
      "Со слов спасателя : вызов по утопленнику. Ищут,  пока не нашли.\n",
      "\n",
      "На 18:06. Прибыла еще одна бригада спасателей. Полиция берет показания у вызвавшего. Водолазы ныряют.\n",
      "\n",
      "На 18:30. Нашли труп мужчины\n",
      "____________________________________________________________________________________________________\n",
      "9247301 (accident: 0 len: 87)\n",
      "На Пироговской наб. все службы и водолазы ищут утопленника возле Сампсониевского моста.\n",
      "____________________________________________________________________________________________________\n",
      "1688254 (accident: 0 len: 77)\n",
      "В парке интернационалистов за софией на берегу у озера лежат два утопленника.\n"
     ]
    }
   ],
   "source": [
    "sample_text(\n",
    "    df[df['text'].str.contains('утопленник', case=False)]\n",
    ")"
   ]
  },
  {
   "cell_type": "code",
   "execution_count": 29,
   "metadata": {},
   "outputs": [
    {
     "name": "stdout",
     "output_type": "stream",
     "text": [
      "(203, 12)\n",
      "____________________________________________________________________________________________________\n",
      "9810963 (accident: 0 len: 271)\n",
      "Пассажиров прибывших в Санкт-Петербург на пароме \"Принцесса Анастасия\" с 9 часов не пускают в морской вокзал. По имеющейся информации в здании что-то ищут с собаками. \n",
      " Нашли чемодан с проводами. Всех эвакуировали и попросили отойти от здания.\n",
      "Люди 2 часа стоят на улице.\n",
      "____________________________________________________________________________________________________\n",
      "9296955 (accident: 0 len: 368)\n",
      "Дальневосточный 15, 23.07.2018 5.45 утра , неравнодушные сотрудники ближайшей бензоколонки услышали скуление собаки, как выяснилось бездомный пёс увяз всеми лапами в песке, торчала только голова. По телефону 01 были вызваны пожарные. Успешно извлекли пса, правда, всеж немного покусал своих спасителей. Оказавшись на свободе собака отправилась восвояси. Все добра ! 😉🚒\n",
      "____________________________________________________________________________________________________\n",
      "8464703 (accident: 0 len: 124)\n",
      "Сегодня в Ломоносовском районе была найдена собака-сука породы Бигль. Собака очень замерзшая и сильно истощена. Ищем хозяев.\n",
      "____________________________________________________________________________________________________\n",
      "13954852 (accident: 0 len: 72)\n",
      "Собака сидит и ждёт хозяина, с 10 утра в Парке Александро-Невской Лавры.\n",
      "____________________________________________________________________________________________________\n",
      "13516445 (accident: 0 len: 378)\n",
      "В Сертолово на Пограничной улице на крыше строящегося здания бегает собака, скулит и видимо хочет спуститься вниз... Стройка стоит, рабочих нет! [id10675988|Светлана] около часа с ребенком гуляла и никого не увидела из рабочих. Это щенок еще подросток. На место выехала Спасательная Команда \"Легион\".\n",
      "\n",
      "UPD: Друзья, [id218326|Александр] спас собаку.  Пёс едет в приют \"Ильинка \".\n"
     ]
    }
   ],
   "source": [
    "sample_text(\n",
    "    df[df['text'].str.contains('собака', case=False)]\n",
    ")"
   ]
  },
  {
   "cell_type": "code",
   "execution_count": 30,
   "metadata": {},
   "outputs": [
    {
     "name": "stdout",
     "output_type": "stream",
     "text": [
      "(1560, 12)\n",
      "____________________________________________________________________________________________________\n",
      "7512860 (accident: 0 len: 178)\n",
      "На 1-ой Красноармейской, напротив БГТУ военмех, трамваи встанут, пострадавших нет\n",
      "VW выезжал со второстепенной, форд ехал от Измайловского проспекта по Красноармейской, служб нет\n",
      "____________________________________________________________________________________________________\n",
      "5202929 (accident: 0 len: 116)\n",
      "Комбо! 4 красавы,похожу на летней\n",
      "Служб нет\n",
      "Движение 30км/ч\n",
      "Октябрьская набережная,82 в сторону када\n",
      "Актуально 19:55\n",
      "____________________________________________________________________________________________________\n",
      "1484196 (accident: 0 len: 76)\n",
      "На углу краснопутиловской и кубинской. Маленькая пробка, служб нет. Все живы\n",
      "____________________________________________________________________________________________________\n",
      "2597449 (accident: 0 len: 64)\n",
      "Литейный мост,на рельсах в обе стороны!служб нет,движению мешают\n",
      "____________________________________________________________________________________________________\n",
      "2006631 (accident: 0 len: 207)\n",
      "Колтушское шоссе пересечение с Алексеевским проспектом в область стоят. Мешают проезду. Объезд либо по обочине либо по встречке. Все живы. Служб нет. Что произошло не видела. Актуально на 10:45. Пробке быть!\n"
     ]
    }
   ],
   "source": [
    "sample_text(\n",
    "    df[\n",
    "        (df['accident'] == 0) &\n",
    "        df['text'].str.contains('служб нет', case=False)\n",
    "    ]\n",
    ")"
   ]
  },
  {
   "cell_type": "code",
   "execution_count": 31,
   "metadata": {},
   "outputs": [
    {
     "name": "stdout",
     "output_type": "stream",
     "text": [
      "(285, 12)\n",
      "____________________________________________________________________________________________________\n",
      "1759030 (accident: 0 len: 75)\n",
      "Парашютная -долгоозерная Дпс нет, жертв нет , пробки быть ) актуально 16:15\n",
      "____________________________________________________________________________________________________\n",
      "2267289 (accident: 0 len: 70)\n",
      "Московский проспект в сторону центра. Жертв нет, служб нет, пробки нет\n",
      "____________________________________________________________________________________________________\n",
      "1603406 (accident: 0 len: 249)\n",
      "Только что.Угол Ланского шоссе и Новосибирской улицы.Ваз 2110 и Красный хёндай.Жертв нет,дпс нет.Водитель ваза очень сильно расстроен и бьёт свою машину,видимо виноват красный,сори за фото уже темно.Ах да,проезду мешают слегка,пробки не предвидится.\n",
      "____________________________________________________________________________________________________\n",
      "4746372 (accident: 0 len: 66)\n",
      "Съезд на рыбацкое жертв нет возможно будет пробка актуально в 8:53\n",
      "____________________________________________________________________________________________________\n",
      "1368475 (accident: 0 len: 67)\n",
      "Вьезд в колпино, целовашки, жертв нет служб нет. Всем хорошего дня.\n"
     ]
    }
   ],
   "source": [
    "sample_text(\n",
    "    df[\n",
    "        (df['accident'] == 0) &\n",
    "        df['text'].str.contains('жертв нет', case=False)\n",
    "    ]\n",
    ")"
   ]
  },
  {
   "cell_type": "code",
   "execution_count": 32,
   "metadata": {},
   "outputs": [
    {
     "name": "stdout",
     "output_type": "stream",
     "text": [
      "(701, 12)\n",
      "____________________________________________________________________________________________________\n",
      "77914 (accident: 0 len: 114)\n",
      "Только что! Пересечение придорожной аллеи и проспекта Художников. Хендэ и бэха единичка. Движению особо не мешают.\n",
      "____________________________________________________________________________________________________\n",
      "3872533 (accident: 0 len: 160)\n",
      "На Литовской у дома  10, Водитель шкоды открывал дверь и не заметил велосипедиста. Все живы, велосипедисту оказан мед помощь. Службы на месте, проезду не мешают\n",
      "____________________________________________________________________________________________________\n",
      "3841142 (accident: 0 len: 133)\n",
      "Сложный поворот с Комсомола-на Арсенальную и на Кондратьевский проспект не очень получился \n",
      "стоят по середине ,пока никому не мешают.\n",
      "____________________________________________________________________________________________________\n",
      "7601316 (accident: 0 len: 82)\n",
      "Ранили 99-ую на перекрестке Дальневосточного и Новоселов, движению почти не мешают\n",
      "____________________________________________________________________________________________________\n",
      "3395028 (accident: 0 len: 175)\n",
      "На Пр. Обуховской обороны 79 Стоят на рельсах и проезду не мешают.\n",
      "Но! Это значит, что трамваи в обе стороны ходить не будут (в 2х трамвайных остановках кольцо всех трамваев).\n"
     ]
    }
   ],
   "source": [
    "sample_text(\n",
    "    df[\n",
    "        (df['accident'] == 0) &\n",
    "        df['text'].str.contains('не мешают', case=False)\n",
    "    ]\n",
    ")"
   ]
  },
  {
   "cell_type": "code",
   "execution_count": 33,
   "metadata": {},
   "outputs": [
    {
     "name": "stdout",
     "output_type": "stream",
     "text": [
      "(4141, 12)\n",
      "____________________________________________________________________________________________________\n",
      "898051 (accident: 0 len: 181)\n",
      "На волхонском шоссе огромная пробка из-за сворачивающих на кладбище по состоянию на 14.00, два наряда ДПС регулируют движение. Умников на обочине стопорил мужик на крузаке, молодец!\n",
      "____________________________________________________________________________________________________\n",
      "10383093 (accident: 0 len: 88)\n",
      "На  Тихорецком, перед Светлановским в сторону Северного, Киа чмокнула Хаммер  а ДПС нет.\n",
      "____________________________________________________________________________________________________\n",
      "948971 (accident: 0 len: 191)\n",
      "На Советском проспекте в сторону пос. Металлострой Кроссовер ударил прямо в бак выезжающему Камазу, перекрыли все направление, Объезд по обочине ДПС нет . Вовремя домой будет весело стоять(((\n",
      "____________________________________________________________________________________________________\n",
      "1127933 (accident: 0 len: 81)\n",
      "124 Мерс и Ниссан, ул. Фучика, около НИИ Скорой Помощи. Дпс на месте, пробки нет.\n",
      "____________________________________________________________________________________________________\n",
      "5181018 (accident: 0 len: 118)\n",
      "На углу перекрестка улицы   Пинегина и Большого Смоленского прижавшись к дому  отдыхает машинка) дпс, скорая, пожарные\n"
     ]
    }
   ],
   "source": [
    "sample_text(\n",
    "    df[\n",
    "        (df['accident'] == 0) &\n",
    "        df['text'].str.contains('дпс', case=False)\n",
    "    ]\n",
    ")"
   ]
  },
  {
   "cell_type": "code",
   "execution_count": 34,
   "metadata": {},
   "outputs": [
    {
     "name": "stdout",
     "output_type": "stream",
     "text": [
      "(32, 12)\n",
      "____________________________________________________________________________________________________\n",
      "6719795 (accident: 0 len: 132)\n",
      "Во дворе домов   31 кор.5 и 31 кор.4  по Витебскому просректу девушка притерлась к припаркованному автомобилю .\n",
      "Проехать невозможно.\n",
      "____________________________________________________________________________________________________\n",
      "1097990 (accident: 0 len: 74)\n",
      "Напротив метро Большевиков хендай притерлась с автобусом, 2 ряд,  гаи нет.\n",
      "____________________________________________________________________________________________________\n",
      "4622409 (accident: 0 len: 96)\n",
      "Легковушка притерлась к автобусу на Ириновском пр. у д.33/49. ГАИ уже на месте. Объезд в карман.\n",
      "____________________________________________________________________________________________________\n",
      "4114046 (accident: 0 len: 82)\n",
      "Янинская классика! Ауди притерлась в грузовичку в Среднем ряду из города в область\n",
      "____________________________________________________________________________________________________\n",
      "7896888 (accident: 0 len: 167)\n",
      "Девушка на VW притерлась к корме трамвая, поворачивающего с Большого Сампсониевского на 1-ый Муринский .. Проезд затруднен во все стороны. Особенно в сторону Удельной.\n"
     ]
    }
   ],
   "source": [
    "sample_text(\n",
    "    df[\n",
    "        (df['accident'] == 0) &\n",
    "        df['text'].str.contains('притерлась', case=False)\n",
    "    ]\n",
    ")"
   ]
  },
  {
   "cell_type": "code",
   "execution_count": 35,
   "metadata": {},
   "outputs": [
    {
     "name": "stdout",
     "output_type": "stream",
     "text": [
      "(0, 12)\n"
     ]
    }
   ],
   "source": [
    "sample_text(\n",
    "    df[\n",
    "        (df['accident'] == 0) &\n",
    "        df['text'].str.contains('перестроилась', case=False)\n",
    "    ]\n",
    ")"
   ]
  },
  {
   "cell_type": "code",
   "execution_count": 36,
   "metadata": {},
   "outputs": [
    {
     "name": "stdout",
     "output_type": "stream",
     "text": [
      "(198, 12)\n",
      "____________________________________________________________________________________________________\n",
      "7520173 (accident: 0 len: 176)\n",
      "На Старо-Петергофском у дома 30 корп 1 открытый люк. Если ехать от Нарвской к Обводному. Вчера позвонили в 112 и они поставили знак. Метки с Яндекс карт убирают. [id13704328|.]\n",
      "____________________________________________________________________________________________________\n",
      "13739126 (accident: 0 len: 123)\n",
      "На проспекте Науки у  дома 30к1 на полосе  в сторону Карпинского Яндекс Драйв догнал Жигу. \n",
      "Трамваи в сторону ручьев стали.\n",
      "____________________________________________________________________________________________________\n",
      "12099278 (accident: 0 len: 115)\n",
      "В конце Комендантского проспекта Яндекс-драйв собрал несколько припаркованных машин. Виновник оставил машину и ушел\n",
      "____________________________________________________________________________________________________\n",
      "10745950 (accident: 0 len: 98)\n",
      "Яндекс.Драйв потерпел крушение у дома 101 к4 на Витебском, \n",
      "Водителя нужно искать по мокрым ногам)\n",
      "____________________________________________________________________________________________________\n",
      "8219847 (accident: 0 len: 110)\n",
      "Два профи из Яндекса нашли друг друга на перекрестке Р Зорге и Брестского бульвара.\n",
      "Все фото на нашем портале:\n"
     ]
    }
   ],
   "source": [
    "sample_text(\n",
    "    df[\n",
    "        (df['accident'] == 0) &\n",
    "        df['text'].str.contains('яндекс', case=False)\n",
    "    ]\n",
    ")"
   ]
  },
  {
   "cell_type": "code",
   "execution_count": 37,
   "metadata": {},
   "outputs": [
    {
     "name": "stdout",
     "output_type": "stream",
     "text": [
      "(2662, 12)\n",
      "____________________________________________________________________________________________________\n",
      "12616826 (accident: 0 len: 96)\n",
      "В Лавриках сломался переезд. Стоят уже минут 30 и перспектив впереди никаких. \n",
      "Мужайтесь, хлопцы\n",
      "____________________________________________________________________________________________________\n",
      "2572987 (accident: 0 len: 92)\n",
      "Маршала Говорова 15, гаи нет пострадавших тоже, боковой удар. Трамваи стоят. Актуально 16.15\n",
      "____________________________________________________________________________________________________\n",
      "6212624 (accident: 0 len: 55)\n",
      "Стоят в правом ряду возле главного входа в ТРЦ Галерею.\n",
      "____________________________________________________________________________________________________\n",
      "6242129 (accident: 0 len: 185)\n",
      "Лансер догнал Шкоду на пешеходнике Карповки и Медиков под стрелкой на Медиков в сторону Кантемировского моста. Стоят мешают ВСЕМ, кроме самих себя! Пешеходам, автомобилистам... ДПС нет.\n",
      "____________________________________________________________________________________________________\n",
      "626716 (accident: 0 len: 167)\n",
      "Улица Десантников стоят у детской площадки,следы от шин расположены так что через бордюр перескочил один только,Лада калина и Опель вектра\n",
      "[id168504178|Антон Трущобин]\n"
     ]
    }
   ],
   "source": [
    "sample_text(\n",
    "    df[\n",
    "        (df['accident'] == 0) &\n",
    "        df['text'].str.contains('стоят', case=False)\n",
    "    ]\n",
    ")"
   ]
  },
  {
   "cell_type": "code",
   "execution_count": 38,
   "metadata": {},
   "outputs": [
    {
     "name": "stdout",
     "output_type": "stream",
     "text": [
      "(10, 12)\n",
      "____________________________________________________________________________________________________\n",
      "6008343 (accident: 0 len: 397)\n",
      "На Октябрьской набережной по направлению из центра перед Володарским мостом образовалась дыра в асфальте. \n",
      "Будьте аккуратны! Заявку в 004 оставила, её приняли и сказали, что звонят многие. Странно, что никто еще не приехал и не оградил.\n",
      "\n",
      "\"Было ограждение,но его неоднократно сносили...Каждая 3 машина получает сильный удар в подвеску...оттормаживайтесь заранее! \" Предупреждает [id68675090|Максим]\n",
      "____________________________________________________________________________________________________\n",
      "9957666 (accident: 0 len: 182)\n",
      "ДАЧНЫЙ пр./НОВАТОРОВ, разворот в сторону КАД.\n",
      "Очень сильный удар, люди сразу кинулись помогать, отключать аккумулятор. Вторая машина далеко уехала, за остановку, стоит во втором ряду\n",
      "____________________________________________________________________________________________________\n",
      "3521801 (accident: 0 len: 154)\n",
      "В час ночи   на перекрестке  Захарова и Кузнецова  был слышен очень сильный удар. Одну из машин по ходу дела отбросило на разделительную полосу. Все живы.\n",
      "____________________________________________________________________________________________________\n",
      "3711646 (accident: 0 len: 191)\n",
      "На Белградской у Димитрова, я курил на балконе, услышал гул тормозов и сильный удар. Кто то у гонял от ментов и въехал на ходу на стоянку при этом снёс забор. Два наряда за ним гнались. 22:20\n",
      "____________________________________________________________________________________________________\n",
      "7501888 (accident: 0 len: 119)\n",
      "На Лиговском проспекте \n",
      "Автобус столкнулся с машиной, сильный удар\n",
      "Стекла полетели в салон автобуса, никто не пострадал\n"
     ]
    }
   ],
   "source": [
    "sample_text(\n",
    "    df[\n",
    "        (df['accident'] == 0) &\n",
    "        df['text'].str.contains('сильный удар', case=False)\n",
    "    ]\n",
    ")"
   ]
  },
  {
   "cell_type": "code",
   "execution_count": 39,
   "metadata": {},
   "outputs": [
    {
     "name": "stdout",
     "output_type": "stream",
     "text": [
      "(108, 12)\n",
      "____________________________________________________________________________________________________\n",
      "11531461 (accident: 0 len: 40)\n",
      "На площади Ленина трамвай снёс зад мерсу\n",
      "____________________________________________________________________________________________________\n",
      "13487015 (accident: 0 len: 70)\n",
      "Рено снёс отбойник на развязке Кировск и Шлиссельбург перед постом ДПС\n",
      "____________________________________________________________________________________________________\n",
      "4036634 (accident: 0 len: 113)\n",
      "Олеко дундича д.36к1.  Снёс бампер об припаркованную машину.У водителя припаркованной машины утром будет сюрприз.\n",
      "____________________________________________________________________________________________________\n",
      "4320773 (accident: 0 len: 84)\n",
      "Уральская и пер.Декабристов, напротив Ленты. Грузовик Renault(что???!!:) ) снёс Juke\n",
      "____________________________________________________________________________________________________\n",
      "2648488 (accident: 0 len: 141)\n",
      "Ваз 2111 снёс ограждение на перекрестке Бухарестской улицы и Дунайского проспекта. , полиция на месте. Водителя нет,по всей видимости сбежал.\n"
     ]
    }
   ],
   "source": [
    "sample_text(\n",
    "    df[\n",
    "        (df['accident'] == 0) &\n",
    "        df['text'].str.contains('снёс', case=False)\n",
    "    ]\n",
    ")"
   ]
  },
  {
   "cell_type": "code",
   "execution_count": 40,
   "metadata": {},
   "outputs": [
    {
     "name": "stdout",
     "output_type": "stream",
     "text": [
      "(880, 12)\n",
      "____________________________________________________________________________________________________\n",
      "9704315 (accident: 0 len: 109)\n",
      "На Двинской улице автобус не успел остановиться перед пешеходным переходом и наехал 69 летней женщине на ногу\n",
      "____________________________________________________________________________________________________\n",
      "1583144 (accident: 0 len: 142)\n",
      "Приозерское ш. в город напротив 10-го дома на пешеходнике. УАЗ патриот догнал какую то китайскую хрень. Все живы служб нет. Актуально на 10:50\n",
      "____________________________________________________________________________________________________\n",
      "4705467 (accident: 0 len: 87)\n",
      "На пересечении  Рузовской ул. и Клинского проспекта ,микрик вынесло на пешеходную зону!\n",
      "____________________________________________________________________________________________________\n",
      "11889643 (accident: 0 len: 82)\n",
      "Пешеходный переход с препятствиями в Пушкине на Саперной улице напротив дома 40к4.\n",
      "____________________________________________________________________________________________________\n",
      "2480664 (accident: 0 len: 163)\n",
      "Перед пешеходным переходом на перекрестке Руднева и Поэтического в сторону Просвещения, Шкода Фабия сильно влетела в зад вроде Фольксвагену. Фото не сфокусировано.\n"
     ]
    }
   ],
   "source": [
    "sample_text(\n",
    "    df[\n",
    "        (df['accident'] == 0) &\n",
    "        df['text'].str.contains('пешеход', case=False)\n",
    "    ]\n",
    ")"
   ]
  },
  {
   "cell_type": "code",
   "execution_count": 41,
   "metadata": {},
   "outputs": [
    {
     "name": "stdout",
     "output_type": "stream",
     "text": [
      "(47, 12)\n",
      "____________________________________________________________________________________________________\n",
      "13774739 (accident: 0 len: 147)\n",
      "В кармане на проспекте Славы у дома 8  Мерседес влетел в припаркованные автомобили. \n",
      "Водитель с признаками САО ( со слов 5 разбитых машин) скрылся.\n",
      "____________________________________________________________________________________________________\n",
      "12215795 (accident: 0 len: 160)\n",
      "Водитель с признаками САО влетел в столб на перекрёстке Шлиссельбургского и  Дмитрия Устинова. В машине был ещё пассажир, тоже в сао. Все живы. Службы на месте.\n",
      "____________________________________________________________________________________________________\n",
      "12832351 (accident: 0 len: 151)\n",
      "В 2:40 произошла погоня на среднеохтинском проспекте.\n",
      "Обстоятельства не сообщаются, водитель был с признаками сао и гнал по городу с высокой скоростью.\n",
      "____________________________________________________________________________________________________\n",
      "11515041 (accident: 0 len: 211)\n",
      "Сегодня около 14:00 в Русановке у 4-ой парадной ЖК \"Приневский\" водитель с признаками САО на Шкоде Рапид ударил две машины. Гос номер х595ус. Ударил серую Киа Рио и красный Лансер 10 (бампер притер слева сзади).\n",
      "____________________________________________________________________________________________________\n",
      "11684825 (accident: 0 len: 152)\n",
      "На Ленинском 75/1 водитель, Возможно в сао, снес дорожные ограждения и влетел в строительную яму. Медики осмотрели мужчину и передали под наручники ДПС.\n"
     ]
    }
   ],
   "source": [
    "sample_text(\n",
    "    df[\n",
    "        (df['accident'] == 0) &\n",
    "        df['text'].str.contains('сао', case=False)\n",
    "    ]\n",
    ")"
   ]
  },
  {
   "cell_type": "code",
   "execution_count": 42,
   "metadata": {},
   "outputs": [
    {
     "name": "stdout",
     "output_type": "stream",
     "text": [
      "(645, 12)\n",
      "____________________________________________________________________________________________________\n",
      "13017147 (accident: 0 len: 87)\n",
      "Ауди поймала столб на пересечении набережной Обводного канала и Митрофаньевского шоссе.\n",
      "____________________________________________________________________________________________________\n",
      "4078835 (accident: 0 len: 62)\n",
      "На Площади Мужества горит электрическая проводка внутри столба\n",
      "____________________________________________________________________________________________________\n",
      "9825489 (accident: 0 len: 180)\n",
      "Возле перекрестка с Лужской улицей у дома 93 автобус выполнял разворот на пр Луначарского. Водитель не заметил столб и снёс его кабиной. Никто не пострадал, провода были в обмотке.\n",
      "____________________________________________________________________________________________________\n",
      "6725118 (accident: 0 len: 116)\n",
      "В Павлово, за остановкой на Кировск, Ваз 2114 снес столб и дерево и повис в кустах,\n",
      "непонятно, когда и как случилось\n",
      "____________________________________________________________________________________________________\n",
      "10264772 (accident: 0 len: 54)\n",
      "Окей Выборгское / Просвещения ушёл в столб. Жертв нет.\n"
     ]
    }
   ],
   "source": [
    "sample_text(\n",
    "    df[\n",
    "        (df['accident'] == 0) &\n",
    "        df['text'].str.contains('столб', case=False)\n",
    "    ]\n",
    ")"
   ]
  },
  {
   "cell_type": "code",
   "execution_count": 43,
   "metadata": {},
   "outputs": [
    {
     "name": "stdout",
     "output_type": "stream",
     "text": [
      "(70, 12)\n",
      "____________________________________________________________________________________________________\n",
      "1239091 (accident: 0 len: 108)\n",
      "Угол Типанова и Гагарина.Газелька присела,владельцы приуныли.Пробка вроде не предвидится.Актуально на 12:00.\n",
      "____________________________________________________________________________________________________\n",
      "928602 (accident: 0 len: 40)\n",
      "В Старой Деревне чет светофор приуныл:))\n",
      "____________________________________________________________________________________________________\n",
      "5204516 (accident: 0 len: 55)\n",
      "икстрейл приуныл на газоне набережной реки Карповки 13,\n",
      "____________________________________________________________________________________________________\n",
      "8623642 (accident: 0 len: 90)\n",
      "На Лапинском проспекте около молокозавода, грузовик  не вошёл в поворот и приуныл в кювете\n",
      "____________________________________________________________________________________________________\n",
      "8748683 (accident: 0 len: 108)\n",
      "У съезда с путепровода на Малое Карлино в сторону Красного Села. Тяжеловоз приуныл, что странно, вёз картон)\n"
     ]
    }
   ],
   "source": [
    "sample_text(\n",
    "    df[\n",
    "        (df['accident'] == 0) &\n",
    "        df['text'].str.contains('приуныл', case=False)\n",
    "    ]\n",
    ")"
   ]
  },
  {
   "cell_type": "code",
   "execution_count": 44,
   "metadata": {},
   "outputs": [
    {
     "name": "stdout",
     "output_type": "stream",
     "text": [
      "(25, 12)\n",
      "____________________________________________________________________________________________________\n",
      "12270984 (accident: 0 len: 186)\n",
      "Сюрприз на новой велопешеходной дорожке вдоль проспекта Непокоренных около Пискаревского парка, \n",
      " Хендайчик перемахнул через кусты и прилег отдохнуть.\n",
      "\n",
      "Водитель цел и осматривает машину.\n",
      "____________________________________________________________________________________________________\n",
      "11547360 (accident: 0 len: 96)\n",
      "Прилег отдохнуть на развороте в Славянку, таджики дружно таскают остатки бананов, пробке быть!!!\n",
      "____________________________________________________________________________________________________\n",
      "7528116 (accident: 0 len: 29)\n",
      "Прилег отдохнуть на Динамо 3.\n",
      "____________________________________________________________________________________________________\n",
      "8099650 (accident: 0 len: 65)\n",
      "Фургон прилег отдохнуть напротив дома 76 по проспекту Металлистов\n",
      "____________________________________________________________________________________________________\n",
      "11793653 (accident: 0 len: 86)\n",
      "УАЗ прилег отдохнуть на Лужской улице. Проезд полностью перекрыт в обоих направлениях.\n"
     ]
    }
   ],
   "source": [
    "sample_text(\n",
    "    df[\n",
    "        (df['accident'] == 0) &\n",
    "        df['text'].str.contains('прилег отдохнуть', case=False)\n",
    "    ]\n",
    ")"
   ]
  }
 ],
 "metadata": {
  "kernelspec": {
   "display_name": "Python 3",
   "language": "python",
   "name": "python3"
  },
  "language_info": {
   "codemirror_mode": {
    "name": "ipython",
    "version": 3
   },
   "file_extension": ".py",
   "mimetype": "text/x-python",
   "name": "python",
   "nbconvert_exporter": "python",
   "pygments_lexer": "ipython3",
   "version": "3.8.2"
  }
 },
 "nbformat": 4,
 "nbformat_minor": 4
}
