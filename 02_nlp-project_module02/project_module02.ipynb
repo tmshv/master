{
 "cells": [
  {
   "cell_type": "markdown",
   "metadata": {
    "id": "f9ww-OrGOGYU"
   },
   "source": [
    "# Практическое задание к модулю 2 (PJ)\n",
    "\n",
    "- Для закрепления материалов модуля предлагаем выполнить следующий проект. Вам необходимо решить задачу нахождения похожих товаров в интернет-магазинах по их описанию. На практике похожую задачу, например, с помощью организации `kaggle` соревнования решал маркет-плейс [shopee.co.id](https://shopee.co.id/).\n",
    "- Датасет для выполнения задания — [product-item-data](https://www.kaggle.com/cclark/product-item-data)\n",
    "- Для каждого `id` товара вам необходимо сформировать список id товаров, которые похожи на него.\n",
    "\n",
    "Примерный план выполнения проекта:\n",
    "1. Представить массив текстов в виде векторов (как с помощью `TF-IDF`, так и с помощью `word2vec`);\n",
    "2. Выберите расстояние, с помощью которого вы будете оценивать близость векторов, представляющих тексты (рекомендуется использовать [косинусное расстояние](https://scikit-learn.org/stable/modules/generated/sklearn.metrics.pairwise.cosine_similarity.html), но вы можете попробовать и другие подходы);\n",
    "3. Для полученных векторов попарно найдите косинусное расстояние (попробуйте это сделать без цикла, с помощью матричных операций);\n",
    "4. Задайтесь каким-то порогом значимости (с которым вы сравните значения расстояния между векторами), на основе которого вы будете судить о том, похожи два текста или нет. \n",
    "\n",
    "Критерии оценивания проекта:\n",
    "- общее качество кода и следование `pep8`;\n",
    "- корректное использование `word2vec` и `tf-idf` для формирования пространства признаков;"
   ]
  },
  {
   "cell_type": "code",
   "execution_count": 58,
   "metadata": {
    "id": "_pUrnPnlsKNx"
   },
   "outputs": [],
   "source": [
    "from typing import Iterator, List, Tuple\n",
    "\n",
    "from sklearn.feature_extraction.text import TfidfVectorizer\n",
    "from sklearn.neighbors import NearestNeighbors\n",
    "from sklearn.metrics.pairwise import cosine_similarity\n",
    "from sklearn.manifold import TSNE\n",
    "\n",
    "import numpy as np\n",
    "import pandas as pd\n",
    "\n",
    "import matplotlib.pyplot as plt"
   ]
  },
  {
   "cell_type": "markdown",
   "metadata": {
    "id": "pH6YfqZOxbet"
   },
   "source": [
    "## Get Data"
   ]
  },
  {
   "cell_type": "code",
   "execution_count": 8,
   "metadata": {
    "colab": {
     "base_uri": "https://localhost:8080/"
    },
    "id": "hsVhSUrtxWRG",
    "outputId": "a6571696-3c66-4144-b8ae-db39d365829c"
   },
   "outputs": [
    {
     "data": {
      "text/html": [
       "<div>\n",
       "<style scoped>\n",
       "    .dataframe tbody tr th:only-of-type {\n",
       "        vertical-align: middle;\n",
       "    }\n",
       "\n",
       "    .dataframe tbody tr th {\n",
       "        vertical-align: top;\n",
       "    }\n",
       "\n",
       "    .dataframe thead th {\n",
       "        text-align: right;\n",
       "    }\n",
       "</style>\n",
       "<table border=\"1\" class=\"dataframe\">\n",
       "  <thead>\n",
       "    <tr style=\"text-align: right;\">\n",
       "      <th></th>\n",
       "      <th>description</th>\n",
       "    </tr>\n",
       "    <tr>\n",
       "      <th>id</th>\n",
       "      <th></th>\n",
       "    </tr>\n",
       "  </thead>\n",
       "  <tbody>\n",
       "    <tr>\n",
       "      <th>1</th>\n",
       "      <td>Active classic boxers - There's a reason why o...</td>\n",
       "    </tr>\n",
       "    <tr>\n",
       "      <th>2</th>\n",
       "      <td>Active sport boxer briefs - Skinning up Glory ...</td>\n",
       "    </tr>\n",
       "    <tr>\n",
       "      <th>3</th>\n",
       "      <td>Active sport briefs - These superbreathable no...</td>\n",
       "    </tr>\n",
       "    <tr>\n",
       "      <th>4</th>\n",
       "      <td>Alpine guide pants - Skin in, climb ice, switc...</td>\n",
       "    </tr>\n",
       "    <tr>\n",
       "      <th>5</th>\n",
       "      <td>Alpine wind jkt - On high ridges, steep ice an...</td>\n",
       "    </tr>\n",
       "    <tr>\n",
       "      <th>6</th>\n",
       "      <td>Ascensionist jkt - Our most technical soft she...</td>\n",
       "    </tr>\n",
       "    <tr>\n",
       "      <th>7</th>\n",
       "      <td>Atom - A multitasker's cloud nine, the Atom pl...</td>\n",
       "    </tr>\n",
       "    <tr>\n",
       "      <th>8</th>\n",
       "      <td>Print banded betina btm - Our fullest coverage...</td>\n",
       "    </tr>\n",
       "    <tr>\n",
       "      <th>9</th>\n",
       "      <td>Baby micro d-luxe cardigan - Micro D-Luxe is a...</td>\n",
       "    </tr>\n",
       "    <tr>\n",
       "      <th>10</th>\n",
       "      <td>Baby sun bucket hat - This hat goes on when th...</td>\n",
       "    </tr>\n",
       "  </tbody>\n",
       "</table>\n",
       "</div>"
      ],
      "text/plain": [
       "                                          description\n",
       "id                                                   \n",
       "1   Active classic boxers - There's a reason why o...\n",
       "2   Active sport boxer briefs - Skinning up Glory ...\n",
       "3   Active sport briefs - These superbreathable no...\n",
       "4   Alpine guide pants - Skin in, climb ice, switc...\n",
       "5   Alpine wind jkt - On high ridges, steep ice an...\n",
       "6   Ascensionist jkt - Our most technical soft she...\n",
       "7   Atom - A multitasker's cloud nine, the Atom pl...\n",
       "8   Print banded betina btm - Our fullest coverage...\n",
       "9   Baby micro d-luxe cardigan - Micro D-Luxe is a...\n",
       "10  Baby sun bucket hat - This hat goes on when th..."
      ]
     },
     "execution_count": 8,
     "metadata": {},
     "output_type": "execute_result"
    }
   ],
   "source": [
    "df = pd.read_csv(\"sample-data.csv\").set_index(\"id\")\n",
    "df.head(10)"
   ]
  },
  {
   "cell_type": "markdown",
   "metadata": {},
   "source": [
    "## TF-IDF based model"
   ]
  },
  {
   "cell_type": "markdown",
   "metadata": {},
   "source": [
    "Create embeddings using model from `sklearn`"
   ]
  },
  {
   "cell_type": "code",
   "execution_count": 67,
   "metadata": {},
   "outputs": [
    {
     "data": {
      "text/plain": [
       "(500, 4600)"
      ]
     },
     "execution_count": 67,
     "metadata": {},
     "output_type": "execute_result"
    }
   ],
   "source": [
    "tfidf = TfidfVectorizer(stop_words='english')\n",
    "embeddings_tfidf = tfidf.fit_transform(df['description'].tolist())\n",
    "embeddings_tfidf.shape"
   ]
  },
  {
   "cell_type": "markdown",
   "metadata": {},
   "source": [
    "Lets see how our embedding look on 2d plane"
   ]
  },
  {
   "cell_type": "code",
   "execution_count": 71,
   "metadata": {},
   "outputs": [],
   "source": [
    "m = TSNE(init='random', learning_rate='auto', random_state=42)\n",
    "embed_2d = m.fit_transform(embeddings_tfidf)"
   ]
  },
  {
   "cell_type": "code",
   "execution_count": 72,
   "metadata": {},
   "outputs": [
    {
     "data": {
      "text/plain": [
       "Text(0.5, 1.0, 'TF-IDF (TSNE projection)')"
      ]
     },
     "execution_count": 72,
     "metadata": {},
     "output_type": "execute_result"
    },
    {
     "data": {
      "image/png": "[encoded data removed]",
      "text/plain": [
       "<Figure size 720x720 with 1 Axes>"
      ]
     },
     "metadata": {
      "needs_background": "light"
     },
     "output_type": "display_data"
    }
   ],
   "source": [
    "plt.figure(figsize=(10, 10))\n",
    "plt.scatter(embed_2d[:,0], embed_2d[:,1], s=3)\n",
    "plt.title('TF-IDF (TSNE projection)')"
   ]
  },
  {
   "cell_type": "markdown",
   "metadata": {},
   "source": [
    "Now I am trying to find optimal threshold for similiarity"
   ]
  },
  {
   "cell_type": "code",
   "execution_count": 73,
   "metadata": {},
   "outputs": [
    {
     "data": {
      "text/plain": [
       "[<matplotlib.lines.Line2D at 0x13a8cbd90>]"
      ]
     },
     "execution_count": 73,
     "metadata": {},
     "output_type": "execute_result"
    },
    {
     "data": {
      "image/png": "[encoded data removed]",
      "text/plain": [
       "<Figure size 432x288 with 1 Axes>"
      ]
     },
     "metadata": {
      "needs_background": "light"
     },
     "output_type": "display_data"
    }
   ],
   "source": [
    "m = NearestNeighbors(\n",
    "    n_neighbors=2,\n",
    "    metric='cosine',\n",
    "    algorithm='brute',\n",
    ")\n",
    "nbrs = m.fit(embeddings_tfidf)\n",
    "distances, indices = nbrs.kneighbors(embeddings_tfidf)\n",
    "\n",
    "plt.plot(np.sort(distances[:, 1]))"
   ]
  },
  {
   "cell_type": "markdown",
   "metadata": {},
   "source": [
    "According to plot threshold value is `[0.05, 0.1]`"
   ]
  },
  {
   "cell_type": "code",
   "execution_count": 123,
   "metadata": {},
   "outputs": [],
   "source": [
    "class Recomendation:\n",
    "    def __init__(self, embeddings: np.ndarray, items: List[str], threshold: float):\n",
    "        if len(items) != embeddings.shape[0]:\n",
    "            raise Exception('Length of embeddings and items should be same')\n",
    "        self.embeddings = embeddings\n",
    "        self.items = items\n",
    "        self.threshold=threshold\n",
    "\n",
    "    def __call__(self, target_idx: int) -> Iterator[Tuple[int, float, str]]:\n",
    "        for i in range(self.embeddings.shape[0]):\n",
    "            if i == target_idx:\n",
    "                continue\n",
    "            target = self.get_vector(target_idx)\n",
    "            item = self.get_vector(i)\n",
    "            dist = cosine_similarity(target, item)[0][0]\n",
    "            if dist < self.threshold:\n",
    "                yield i, dist, self.items[i]\n",
    "    \n",
    "    def get_vector(self, idx: int):\n",
    "        x = self.embeddings[idx]\n",
    "        if len(x.shape) == 1:\n",
    "            return np.expand_dims(x, axis=0)\n",
    "        return x"
   ]
  },
  {
   "cell_type": "code",
   "execution_count": 88,
   "metadata": {},
   "outputs": [],
   "source": [
    "def pretty(text: str, max_length=100) -> str:\n",
    "    if len(text) < max_length:\n",
    "        return text\n",
    "    return text[:max_length] + '...'"
   ]
  },
  {
   "cell_type": "markdown",
   "metadata": {},
   "source": [
    "Lets see how recommendation system works on product ID=54"
   ]
  },
  {
   "cell_type": "code",
   "execution_count": 108,
   "metadata": {},
   "outputs": [
    {
     "name": "stdout",
     "output_type": "stream",
     "text": [
      "target: Hip chest pack - Ready to go vest free? This is the classic alternative. Designed to be worn either ...\n",
      "suggest (id=13, dist=0.071339): Better sweater jkt - June nights camped out in New Mexico's Navajo country are starry and cold. Laye...\n",
      "suggest (id=25, dist=0.070174): City by the sea t-shirt - Illustrating the renaissance of sea-inspired, community living, artist Geo...\n",
      "suggest (id=35, dist=0.066158): Dragoons t-shirt - These dragoons have dropped their weapons in favor of big wave guns. Artist Geoff...\n",
      "suggest (id=47, dist=0.038093): Going big in b.c. poster - One mans trash is another mans treasure. Orry Grant taking it out on Tras...\n",
      "suggest (id=67, dist=0.066252): La surfer maria t-shirt - Pray for surf wearing the La Surfer Maria T-Shirt. Inspired by the Virgin ...\n",
      "suggest (id=68, dist=0.038318): Lead an examined life poster - Guanacos standing sentry in Patagonia, Chile. For 30 years we've paid...\n",
      "suggest (id=71, dist=0.072853): Live simply deer t-shirt - Adaptability is simply a matter of survival for the deer, who's at home i...\n",
      "suggest (id=79, dist=0.072021): Lw endurance quarter socks - Scraped, taped or inflamed  our ankles suffer in rough country. These e...\n",
      "suggest (id=80, dist=0.072002): Lw hiking crew socks - Like suites for your feet, these stay-cool and breathable, multi-use socks fe...\n",
      "suggest (id=94, dist=0.073051): Mountain island t-shirt - For those who aspire to meld the mountain world with life at sea, the Moun...\n",
      "suggest (id=102, dist=0.064491): Platform t-shirt - Imagine the problems of oil dependency and global warming being swept away - for ...\n",
      "suggest (id=107, dist=0.071452): Reg fit organic ctn jeans-long - 100% organic cotton denim and an obsession with detail make these t...\n",
      "suggest (id=108, dist=0.071130): Reg fit organic ctn jeans-reg - 100% organic cotton denim and an obsession with detail make these th...\n",
      "suggest (id=121, dist=0.061677): Sonar so no t-shirt - Ear-splitting sonar threatens the survival of whales and dolphins that rely on...\n",
      "suggest (id=122, dist=0.042163): Special edition pataloha shirt - This year's Special Edition Pataloha shirt artfully depicts surf an...\n",
      "suggest (id=138, dist=0.074828): The more you know t-shirt - Inspired by Thoreau's immortal words, Yvon Chouinard's mantra of \"the mo...\n",
      "suggest (id=147, dist=0.073391): Ulw hiking crew socks - The heat along the Boucher Trail can shut you down fast. These airy hikers, ...\n",
      "suggest (id=150, dist=0.068131): World according to bikers t-shir - Our health and the health of the planet cycle around interconnect...\n",
      "suggest (id=154, dist=0.063415): Active hipster - While the perfect life might be nomadic, the perfect underwear should stay put. Low...\n",
      "suggest (id=164, dist=0.067116): Barely bikini - Better than going commando, our petal-soft Barely Bikini wicks moisture and breathes...\n",
      "suggest (id=165, dist=0.072275): Better sweater jkt - The Better Sweater Jacket has all the lightweight, moisture-wicking warmth of a...\n",
      "suggest (id=176, dist=0.068572): Dala horse t-shirt - Originally fashioned from wood scraps by Swedish carvers on long winter nights,...\n",
      "suggest (id=191, dist=0.068745): Lithia dress - Celebrate the Summer Solstice with a dress that makes the most of longer days. The su...\n",
      "suggest (id=193, dist=0.062492): Lithia skirt - After packing the quiver, who has room for clothes? The versatile Lithia Skirt solves...\n",
      "suggest (id=232, dist=0.067722): Undercover cami - Morph from water-logged sea creature back to land dweller effortlessly with the ea...\n",
      "suggest (id=236, dist=0.066758): Wheat t-shirt - Feeding urban and agrarian sensibilities, the Wheat T-Shirt fuses iconic grain with ...\n",
      "suggest (id=237, dist=0.040925): Wyoming climbing poster - Max Factor, 5.11c. Vedauwoo, Wyoming. For 30 years we've paid tribute to h...\n",
      "suggest (id=257, dist=0.072191): Sport top - The loose, performance fit of the Women's Sport Top won't hike up or become annoyingly s...\n",
      "suggest (id=285, dist=0.056921): Freedom to roam t-shirt - Global warming and habitat destruction have made the need for animals to m...\n",
      "suggest (id=288, dist=0.074710): Owlin around t-shirt - The Owlin' Around T-Shirt is a wise choice for flights of fancy that take you...\n",
      "suggest (id=289, dist=0.073114): Pinback top - Release your inner locomotion with the action-inspired Pinback. The open-back design l...\n",
      "suggest (id=295, dist=0.072100): Versatili-tee - At the top of the T-shirt food chain, the Versatili-Tee has satin-stitch finishing a...\n",
      "suggest (id=296, dist=0.068315): Versatiliti cardi - A summer-weight cardigan for the woman who studies abroad one month; crags, surf...\n",
      "suggest (id=297, dist=0.065950): Versatiliti tank - Vivid colors and delicate details enliven this season's crop of Versatiliti Tanks...\n",
      "suggest (id=312, dist=0.072910): Kamala dress - Like the lotus flower it's named for, the Kamala Dress is an aquatic-lifestyle perenn...\n",
      "suggest (id=313, dist=0.066266): Kamala skirt - Worn as a skirt or a dress, the Kamala Skirt adapts to whatever watering hole you enc...\n",
      "suggest (id=314, dist=0.072851): Kite town t-shirt - Artist Chris Del Moro transforms wind into fun with the whimsical Kite Town T-Sh...\n",
      "suggest (id=318, dist=0.037003): Symmetry w16 poster - Bill Serantoni ice climbs Fearful Symmetry in Alberta Canada. For 30 years we'...\n",
      "suggest (id=331, dist=0.036092): Traversing auguille d'entreves - Janine Patitucci navigates a summer traverse of the Aiguille dEntr?...\n",
      "suggest (id=332, dist=0.069644): Trout head t-shirt - The vibrant spirit of the trout is captured by the colorful, unique style of ar...\n",
      "suggest (id=337, dist=0.066510): Ultra hw mountaineering socks - Every weather window shuts eventually - some faster than others. The...\n",
      "suggest (id=345, dist=0.065707): Versatiliti tee - A free-moving, breathable and famously resilient tee-shirt, the Versatiliti is des...\n",
      "suggest (id=362, dist=0.072102): S/s squeaky clean polo shirt - T-shirt comfort with a collar. The Squeaky Clean Polo is perfect for ...\n",
      "suggest (id=370, dist=0.035585): Sticks 'n stones morocco poster - Patagonia Rock Ambassador Brittany Griffith and Jonathan Thesenga ...\n",
      "suggest (id=371, dist=0.068727): Peregrine t-shirt - A born wanderer, the once-endangered Peregrine Falcon now soars wave thermals in...\n",
      "suggest (id=372, dist=0.073327): Permit silhouette t-shirt - The Permit's scythe-shaped dorsal fin propels the saltwater lover across...\n",
      "suggest (id=376, dist=0.063179): Quiet please t-shirt - Thoreau said that \"silence is the universal refuge\"   a sentiment made clear ...\n",
      "suggest (id=389, dist=0.071684): Reg fit organic ctn jeans-short - 100% organic cotton denim and an obsession with detail make these ...\n",
      "suggest (id=395, dist=0.052443): Wild steelhead, alaska poster - Catch and release. A steelhead disappears into the cold, clear water...\n",
      "suggest (id=422, dist=0.073478): Future of the earth t-shirt - With the planet's future in question, answer the call of sustainabilit...\n",
      "suggest (id=433, dist=0.062526): Girl's t-back one piece - A girl's trusted companion for Sunfish races, seashell collecting and lear...\n",
      "suggest (id=434, dist=0.067121): Girl's two-piece set - This lightweight two-piece bathing suit keeps a water-loving girl as free as ...\n",
      "suggest (id=446, dist=0.063189): Caribou north wind t-shirt - Akin to the North Wind, Caribou cover over 3,000 miles during their ann...\n",
      "suggest (id=447, dist=0.058617): Cerro torre one t-shirt - The interminable spirit of Cerro Torre rises above the hardships of Patago...\n",
      "suggest (id=456, dist=0.058526): Mw hiking crew socks - Mount Mendel's Ice Nine has a long, foot-jarring approach and cold, toe-numbi...\n",
      "suggest (id=489, dist=0.036676): Flyfishing the athabasca poster - Patrik Ondrus wets his line in the Athabasca River. Jasper Nationa...\n",
      "suggest (id=491, dist=0.056914): Freedom to roam t-shirt - Global warming and habitat destruction have made the need for animals to m...\n",
      "suggest (id=492, dist=0.071778): '73 logo t-shirt - Patagonia's timeless '73 Logo T-Shirt pays homage to our pioneering spirit, reson...\n"
     ]
    }
   ],
   "source": [
    "items = df['description'].tolist()\n",
    "x = 54\n",
    "\n",
    "print(f'target: {pretty(items[x])}')\n",
    "\n",
    "model = Recomendation(embeddings_tfidf, items, threshold=0.075)\n",
    "for idx, dist, suggest in model(target_idx=x):\n",
    "    print(f'suggest (id={idx}, dist={dist:02f}): {pretty(suggest)}')"
   ]
  },
  {
   "cell_type": "markdown",
   "metadata": {},
   "source": [
    "## Use word2vec model"
   ]
  },
  {
   "cell_type": "code",
   "execution_count": 94,
   "metadata": {},
   "outputs": [
    {
     "name": "stdout",
     "output_type": "stream",
     "text": [
      "[==================================================] 100.0% 1662.8/1662.8MB downloaded\n"
     ]
    }
   ],
   "source": [
    "import gensim\n",
    "import gensim.downloader\n",
    "\n",
    "embeddings = gensim.downloader.load('word2vec-google-news-300')\n"
   ]
  },
  {
   "cell_type": "markdown",
   "metadata": {},
   "source": [
    "Create a vector for each document by calculating `mean` of word vectors"
   ]
  },
  {
   "cell_type": "code",
   "execution_count": null,
   "metadata": {},
   "outputs": [],
   "source": [
    "doc_vectors = pd.DataFrame()\n",
    "for i, row in df.iterrows():\n",
    "    doc = row['description']\n",
    "    buffer = pd.DataFrame()\n",
    "    for word in gensim.utils.simple_preprocess(doc):\n",
    "        if word in gensim.parsing.preprocessing.STOPWORDS:\n",
    "            continue\n",
    "        try:\n",
    "            word_vec = embeddings[word]\n",
    "        except:\n",
    "            continue\n",
    "        buffer = buffer.append(pd.Series(word_vec), ignore_index=True)\n",
    "    doc_vectors = doc_vectors.append(buffer.mean(), ignore_index=True)\n"
   ]
  },
  {
   "cell_type": "code",
   "execution_count": 125,
   "metadata": {},
   "outputs": [
    {
     "data": {
      "text/plain": [
       "[<matplotlib.lines.Line2D at 0x14db9f490>]"
      ]
     },
     "execution_count": 125,
     "metadata": {},
     "output_type": "execute_result"
    },
    {
     "data": {
      "image/png": "[encoded data removed]",
      "text/plain": [
       "<Figure size 432x288 with 1 Axes>"
      ]
     },
     "metadata": {
      "needs_background": "light"
     },
     "output_type": "display_data"
    }
   ],
   "source": [
    "m = NearestNeighbors(\n",
    "    n_neighbors=2,\n",
    "    metric='cosine',\n",
    "    algorithm='brute',\n",
    ")\n",
    "x = doc_vectors.to_numpy()\n",
    "nbrs = m.fit(x)\n",
    "distances, indices = nbrs.kneighbors(x)\n",
    "\n",
    "plt.plot(np.sort(distances[:, 1]))"
   ]
  },
  {
   "cell_type": "code",
   "execution_count": 134,
   "metadata": {},
   "outputs": [
    {
     "name": "stdout",
     "output_type": "stream",
     "text": [
      "target: Hip chest pack - Ready to go vest free? This is the classic alternative. Designed to be worn either ...\n",
      "suggest (id=7, dist=0.747576): Print banded betina btm - Our fullest coverage bottoms, the Betina fits highest across the hips with...\n",
      "suggest (id=47, dist=0.687944): Going big in b.c. poster - One mans trash is another mans treasure. Orry Grant taking it out on Tras...\n",
      "suggest (id=57, dist=0.781828): '73 logo t-shirt - Soft-wearing ringspun organic cotton; Screen-print inks are PVC- and phthalate-fr...\n",
      "suggest (id=62, dist=0.789752): Flying fish t-shirt - Soft-wearing ringspun organic cotton; Screen-print inks are PVC- and phthalate...\n",
      "suggest (id=63, dist=0.785894): Gpiw classic t-shirt - Soft-wearing ringspun organic cotton; Screen-print inks are PVC- and phthalat...\n",
      "suggest (id=64, dist=0.789816): Live simply guitar t-shirt - Soft-wearing ringspun organic cotton; Screen-print inks are PVC- and ph...\n",
      "suggest (id=67, dist=0.797458): La surfer maria t-shirt - Pray for surf wearing the La Surfer Maria T-Shirt. Inspired by the Virgin ...\n",
      "suggest (id=68, dist=0.683196): Lead an examined life poster - Guanacos standing sentry in Patagonia, Chile. For 30 years we've paid...\n",
      "suggest (id=97, dist=0.795731): Organic logo t-shirt - Originally printed our first season debuting organic cotton, the classic Orga...\n",
      "suggest (id=102, dist=0.773304): Platform t-shirt - Imagine the problems of oil dependency and global warming being swept away - for ...\n",
      "suggest (id=121, dist=0.788351): Sonar so no t-shirt - Ear-splitting sonar threatens the survival of whales and dolphins that rely on...\n",
      "suggest (id=122, dist=0.798409): Special edition pataloha shirt - This year's Special Edition Pataloha shirt artfully depicts surf an...\n",
      "suggest (id=137, dist=0.793611): Text logo t-shirt - The Text Logo T-Shirt tells the classic story with one word. Printed on pure, 10...\n",
      "suggest (id=150, dist=0.786553): World according to bikers t-shir - Our health and the health of the planet cycle around interconnect...\n",
      "suggest (id=151, dist=0.767841): World trout t-shirt - James Prosek recreates the view from above, mimicking the energy of the fish w...\n",
      "suggest (id=218, dist=0.717182): Solid adour btm - Adours feature a scooped, low-rise front (lined) and medium coverage in back. Our ...\n",
      "suggest (id=219, dist=0.754015): Solid betina btm - Our fullest coverage bottoms, the Betina fits highest across the hips with a slig...\n",
      "suggest (id=237, dist=0.676219): Wyoming climbing poster - Max Factor, 5.11c. Vedauwoo, Wyoming. For 30 years we've paid tribute to h...\n",
      "suggest (id=239, dist=0.756403): Print bayonne btm - The low-rise Bayonne Bottoms have adjustable side ties and minimal seat coverage...\n",
      "suggest (id=253, dist=0.787838): Solid paries btm - The boy-short-style Paries Bottoms fit low and straight across the hips. With wid...\n",
      "suggest (id=254, dist=0.742300): Solid sunamee btm - Stay-put Sunamees fit straight across the hips, with full coverage in back. Line...\n",
      "suggest (id=260, dist=0.775311): Print paries btm - Styled like a boy short, our Paries Bottoms fit low and straight across the hips,...\n",
      "suggest (id=261, dist=0.741766): Print sunamee btm - Stay-put Sunamees fit straight across the hips, with full coverage in back. Line...\n",
      "suggest (id=285, dist=0.763640): Freedom to roam t-shirt - Global warming and habitat destruction have made the need for animals to m...\n",
      "suggest (id=290, dist=0.713232): Print adour btm - Adours have a slightly scooped, low-rise front (lined) and medium coverage in back...\n",
      "suggest (id=318, dist=0.694714): Symmetry w16 poster - Bill Serantoni ice climbs Fearful Symmetry in Alberta Canada. For 30 years we'...\n",
      "suggest (id=331, dist=0.684136): Traversing auguille d'entreves - Janine Patitucci navigates a summer traverse of the Aiguille dEntr?...\n",
      "suggest (id=370, dist=0.699918): Sticks 'n stones morocco poster - Patagonia Rock Ambassador Brittany Griffith and Jonathan Thesenga ...\n",
      "suggest (id=376, dist=0.785896): Quiet please t-shirt - Thoreau said that \"silence is the universal refuge\"   a sentiment made clear ...\n",
      "suggest (id=395, dist=0.693133): Wild steelhead, alaska poster - Catch and release. A steelhead disappears into the cold, clear water...\n",
      "suggest (id=422, dist=0.791578): Future of the earth t-shirt - With the planet's future in question, answer the call of sustainabilit...\n",
      "suggest (id=431, dist=0.787216): Girl's live simply deer t-shirt - Soft-wearing ringspun organic cotton; Screen-print inks are PVC- a...\n",
      "suggest (id=432, dist=0.790644): Girl's live simply seal t-shirt - Soft-wearing ringspun organic cotton; Screen-print inks are PVC- a...\n",
      "suggest (id=489, dist=0.686260): Flyfishing the athabasca poster - Patrik Ondrus wets his line in the Athabasca River. Jasper Nationa...\n",
      "suggest (id=491, dist=0.763640): Freedom to roam t-shirt - Global warming and habitat destruction have made the need for animals to m...\n"
     ]
    }
   ],
   "source": [
    "items = df['description'].tolist()\n",
    "x = 54\n",
    "\n",
    "print(f'target: {pretty(items[x])}')\n",
    "\n",
    "model = Recomendation(doc_vectors.to_numpy(), items, threshold=0.8)\n",
    "for idx, dist, suggest in model(target_idx=x):\n",
    "    print(f'suggest (id={idx}, dist={dist:02f}): {pretty(suggest)}')\n"
   ]
  },
  {
   "cell_type": "markdown",
   "metadata": {},
   "source": [
    "## Result\n",
    "\n",
    "As we see two models works in different way. But some results (47, 150, 491) are same."
   ]
  }
 ],
 "metadata": {
  "accelerator": "GPU",
  "colab": {
   "collapsed_sections": [],
   "name": "Unsolved_final task.ipynb",
   "provenance": [],
   "toc_visible": true
  },
  "interpreter": {
   "hash": "aee8b7b246df8f9039afb4144a1f6fd8d2ca17a180786b69acc140d282b71a49"
  },
  "kernelspec": {
   "display_name": "Python 3.9.7 64-bit",
   "name": "python3"
  },
  "language_info": {
   "codemirror_mode": {
    "name": "ipython",
    "version": 3
   },
   "file_extension": ".py",
   "mimetype": "text/x-python",
   "name": "python",
   "nbconvert_exporter": "python",
   "pygments_lexer": "ipython3",
   "version": "3.9.12"
  },
  "widgets": {
   "application/vnd.jupyter.widget-state+json": {
    "2ffc5055d44d4560a36721e86eddcc9d": {
     "model_module": "@jupyter-widgets/controls",
     "model_name": "ProgressStyleModel",
     "state": {
      "_model_module": "@jupyter-widgets/controls",
      "_model_module_version": "1.5.0",
      "_model_name": "ProgressStyleModel",
      "_view_count": null,
      "_view_module": "@jupyter-widgets/base",
      "_view_module_version": "1.2.0",
      "_view_name": "StyleView",
      "bar_color": null,
      "description_width": "initial"
     }
    },
    "3eee31136bc64f83b1a1fe1711dd0f83": {
     "model_module": "@jupyter-widgets/controls",
     "model_name": "HBoxModel",
     "state": {
      "_dom_classes": [],
      "_model_module": "@jupyter-widgets/controls",
      "_model_module_version": "1.5.0",
      "_model_name": "HBoxModel",
      "_view_count": null,
      "_view_module": "@jupyter-widgets/controls",
      "_view_module_version": "1.5.0",
      "_view_name": "HBoxView",
      "box_style": "",
      "children": [
       "IPY_MODEL_72f14956b732493683cf3360bbb8c23f",
       "IPY_MODEL_aed767da7ef741799b62457f724e63b8"
      ],
      "layout": "IPY_MODEL_d455da858512481283a852b01fede637"
     }
    },
    "40e7af9678d747f990049e188d3d4dbb": {
     "model_module": "@jupyter-widgets/controls",
     "model_name": "DescriptionStyleModel",
     "state": {
      "_model_module": "@jupyter-widgets/controls",
      "_model_module_version": "1.5.0",
      "_model_name": "DescriptionStyleModel",
      "_view_count": null,
      "_view_module": "@jupyter-widgets/base",
      "_view_module_version": "1.2.0",
      "_view_name": "StyleView",
      "description_width": ""
     }
    },
    "72f14956b732493683cf3360bbb8c23f": {
     "model_module": "@jupyter-widgets/controls",
     "model_name": "FloatProgressModel",
     "state": {
      "_dom_classes": [],
      "_model_module": "@jupyter-widgets/controls",
      "_model_module_version": "1.5.0",
      "_model_name": "FloatProgressModel",
      "_view_count": null,
      "_view_module": "@jupyter-widgets/controls",
      "_view_module_version": "1.5.0",
      "_view_name": "ProgressView",
      "bar_style": "success",
      "description": "100%",
      "description_tooltip": null,
      "layout": "IPY_MODEL_d9f634c5475643ac9202f617d60f9189",
      "max": 25000,
      "min": 0,
      "orientation": "horizontal",
      "style": "IPY_MODEL_2ffc5055d44d4560a36721e86eddcc9d",
      "value": 25000
     }
    },
    "aed767da7ef741799b62457f724e63b8": {
     "model_module": "@jupyter-widgets/controls",
     "model_name": "HTMLModel",
     "state": {
      "_dom_classes": [],
      "_model_module": "@jupyter-widgets/controls",
      "_model_module_version": "1.5.0",
      "_model_name": "HTMLModel",
      "_view_count": null,
      "_view_module": "@jupyter-widgets/controls",
      "_view_module_version": "1.5.0",
      "_view_name": "HTMLView",
      "description": "",
      "description_tooltip": null,
      "layout": "IPY_MODEL_b5d26cad4fc34c058ef782ca8c7c422b",
      "placeholder": "​",
      "style": "IPY_MODEL_40e7af9678d747f990049e188d3d4dbb",
      "value": " 25000/25000 [00:22&lt;00:00, 1123.25it/s]"
     }
    },
    "b5d26cad4fc34c058ef782ca8c7c422b": {
     "model_module": "@jupyter-widgets/base",
     "model_name": "LayoutModel",
     "state": {
      "_model_module": "@jupyter-widgets/base",
      "_model_module_version": "1.2.0",
      "_model_name": "LayoutModel",
      "_view_count": null,
      "_view_module": "@jupyter-widgets/base",
      "_view_module_version": "1.2.0",
      "_view_name": "LayoutView",
      "align_content": null,
      "align_items": null,
      "align_self": null,
      "border": null,
      "bottom": null,
      "display": null,
      "flex": null,
      "flex_flow": null,
      "grid_area": null,
      "grid_auto_columns": null,
      "grid_auto_flow": null,
      "grid_auto_rows": null,
      "grid_column": null,
      "grid_gap": null,
      "grid_row": null,
      "grid_template_areas": null,
      "grid_template_columns": null,
      "grid_template_rows": null,
      "height": null,
      "justify_content": null,
      "justify_items": null,
      "left": null,
      "margin": null,
      "max_height": null,
      "max_width": null,
      "min_height": null,
      "min_width": null,
      "object_fit": null,
      "object_position": null,
      "order": null,
      "overflow": null,
      "overflow_x": null,
      "overflow_y": null,
      "padding": null,
      "right": null,
      "top": null,
      "visibility": null,
      "width": null
     }
    },
    "d455da858512481283a852b01fede637": {
     "model_module": "@jupyter-widgets/base",
     "model_name": "LayoutModel",
     "state": {
      "_model_module": "@jupyter-widgets/base",
      "_model_module_version": "1.2.0",
      "_model_name": "LayoutModel",
      "_view_count": null,
      "_view_module": "@jupyter-widgets/base",
      "_view_module_version": "1.2.0",
      "_view_name": "LayoutView",
      "align_content": null,
      "align_items": null,
      "align_self": null,
      "border": null,
      "bottom": null,
      "display": null,
      "flex": null,
      "flex_flow": null,
      "grid_area": null,
      "grid_auto_columns": null,
      "grid_auto_flow": null,
      "grid_auto_rows": null,
      "grid_column": null,
      "grid_gap": null,
      "grid_row": null,
      "grid_template_areas": null,
      "grid_template_columns": null,
      "grid_template_rows": null,
      "height": null,
      "justify_content": null,
      "justify_items": null,
      "left": null,
      "margin": null,
      "max_height": null,
      "max_width": null,
      "min_height": null,
      "min_width": null,
      "object_fit": null,
      "object_position": null,
      "order": null,
      "overflow": null,
      "overflow_x": null,
      "overflow_y": null,
      "padding": null,
      "right": null,
      "top": null,
      "visibility": null,
      "width": null
     }
    },
    "d9f634c5475643ac9202f617d60f9189": {
     "model_module": "@jupyter-widgets/base",
     "model_name": "LayoutModel",
     "state": {
      "_model_module": "@jupyter-widgets/base",
      "_model_module_version": "1.2.0",
      "_model_name": "LayoutModel",
      "_view_count": null,
      "_view_module": "@jupyter-widgets/base",
      "_view_module_version": "1.2.0",
      "_view_name": "LayoutView",
      "align_content": null,
      "align_items": null,
      "align_self": null,
      "border": null,
      "bottom": null,
      "display": null,
      "flex": null,
      "flex_flow": null,
      "grid_area": null,
      "grid_auto_columns": null,
      "grid_auto_flow": null,
      "grid_auto_rows": null,
      "grid_column": null,
      "grid_gap": null,
      "grid_row": null,
      "grid_template_areas": null,
      "grid_template_columns": null,
      "grid_template_rows": null,
      "height": null,
      "justify_content": null,
      "justify_items": null,
      "left": null,
      "margin": null,
      "max_height": null,
      "max_width": null,
      "min_height": null,
      "min_width": null,
      "object_fit": null,
      "object_position": null,
      "order": null,
      "overflow": null,
      "overflow_x": null,
      "overflow_y": null,
      "padding": null,
      "right": null,
      "top": null,
      "visibility": null,
      "width": null
     }
    }
   }
  }
 },
 "nbformat": 4,
 "nbformat_minor": 1
}
