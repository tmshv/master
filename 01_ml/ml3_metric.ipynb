{
 "cells": [
  {
   "cell_type": "markdown",
   "metadata": {},
   "source": [
    "# ML3. Метрики качества классификации"
   ]
  },
  {
   "cell_type": "markdown",
   "metadata": {},
   "source": [
    "После того, как мы обучили классификатор, необходимо **оценить его качество**. Для этого у нас есть несколько метрик.\n",
    "\n",
    "Самая простая и понятная метрика — *Accuracy*. По сути, это просто доля объектов, которые алгоритм отнес к верному классу.\n",
    "\n",
    "Введем следующие обозначения.\n",
    "\n",
    "> Например, если мы хотим обучить алгоритм распознавать людей, у которых может быть обнаружено заболевание, то больные будут попадать в **позитивный** класс, а здоровые — в **негативный**.\n",
    "\n",
    "Тогда верно определенных больных мы обозначим за $TP$ *(true positive)*, ошибочно определенных больных — $FP$ за *(false positive)*, верно определенных здоровых — за $TN$ *(true negative)*, ошибочно определенных здоровых — $FN$ за *(false negative)*.\n",
    "\n",
    "То есть:\n",
    "- $TP$ — истинно-положительные решения;\n",
    "- $TN$ — истинно-отрицательные решения;\n",
    "- $FP$ — ложно-положительные решения;\n",
    "- $FN$ — ложно-отрицательные решения.\n",
    "\n",
    "Для наглядности представим все варианты решений в табличном виде:\n",
    "\n",
    "|              | Positives(1) | Negatives(0) |\n",
    "|--------------|--------------|--------------|\n",
    "| Positives(1) | TP           | FP           |\n",
    "| Negatives(0) | FN           | TN           |\n",
    "\n",
    "Обратите внимание на обозначенные на картинке выше новые термины: *Type 1 error* и *Type 2 error*. Это ошибки первого и второго рода. Ошибка первого рода – это ситуация, когда отвергнута правильная нулевая гипотеза.\n",
    "\n",
    "**Нулевая гипотеза** – предположение о том, что между двумя наблюдаемыми феноменами не существует связи. Например, мы понимаем, что обычный мужчина не может забеременеть – это является верной нулевой гипотезой. Однако принимая ложноположительное решение о том, что мужчина беременный, мы совершаем ошибку первого рода. А утверждая, что беременная женщина не беременна, мы совершаем ошибку второго рода, принимая неправильную нулевую гипотезу."
   ]
  },
  {
   "cell_type": "markdown",
   "metadata": {},
   "source": [
    "Вернемся к метрике *Accuracy*. Она вычисляется следующим образом:\n",
    "\n",
    "$ Accuracy = \\frac{TN+TP}{TP+TN+FP+FN} $\n",
    "\n",
    "Важно отметить, что у этой метрики есть довольно существенный недостаток. Она присваивает всем объектам **одинаковый вес**. Поэтому в случае несбалансированности классов она может давать нерелевантный результат."
   ]
  },
  {
   "cell_type": "markdown",
   "metadata": {},
   "source": [
    "Рассмотрим на конкретном примере. Например, мы, мы хотим оценить работу анализатора негативных отзывов на нашем сайте. У нас есть 100 положительных отзывов, 80 из которых наш классификатор определил верно *(True Negative = 80, False Positive = 20)*, и 10 негативных, 5 из которых классификатор также определил верно *(True Positive = 5, False Negative = 5)*.\n",
    "\n",
    "В этом случае мы будем иметь *Accuracy*:\n",
    "\n",
    "$ Accuracy = \\frac{80+5}{5+80+20+5} = 0.77 $\n",
    "\n",
    "Однако если мы будем предсказывать все отзывы как положительные, даже те, которые являются отрицательными *(True Negative = 100, False Negative = 10)*, *Accuracy* будет очень высокой.\n",
    "\n",
    "$ Accuracy = \\frac{100+0}{0+100+0+10} = 0.9 $\n",
    "\n",
    "При этом модель, по факту, не может определять нужные нам негативные отзывы. Для решения этой проблемы нужно перейти с общей метрики к отдельным показателям качества: *Precision, Recall, F-мера*."
   ]
  },
  {
   "cell_type": "markdown",
   "metadata": {},
   "source": [
    "## Точность и Полнота\n",
    "\n",
    "**Точность классификации** — это доля объектов, действительно принадлежащих данному классу относительно всех объектов, которые алгоритм отнес к этому классу.\n",
    "\n",
    "*Precision (точность)* вычисляется следующим образом:\n",
    "\n",
    "|              | Positives(1) | Negatives(0) |\n",
    "|--------------|--------------|--------------|\n",
    "| Positives(1) | TP           | FP           |\n",
    "| Negatives(0) |              |              |\n",
    "\n",
    "$ Precision = \\frac{TP}{TP+FP} $\n",
    "\n",
    "**Полнота** — это доля найденных классификатором объектов, принадлежащих классу относительно всех объектов, которые принадлежат этому классу.\n",
    "\n",
    "*Recall (полнота)* вычисляется следующим образом:\n",
    "\n",
    "|              | Positives(1) | Negatives(0) |\n",
    "|--------------|--------------|--------------|\n",
    "| Positives(1) | TP           |              |\n",
    "| Negatives(0) | FN           |              |\n",
    "\n",
    "$ Recall = \\frac{TP}{TP+FN} $\n",
    "\n",
    "> Например, мы пытаемся найти больных в группе людей, которые пришли на диспансеризацию. Тогда точность классификации — это доля действительно больных среди всех, кого на диспансеризации определили как больных. А полнота классификации — это доля найденных больных среди всех больных.\n",
    "\n",
    "**F-мера** \n",
    "\n",
    "Чтобы найти оптимальное соотношение этих показателей, существует метрика, которая объединяет в себе сразу и точность, и полноту *F-мера*. *F-мера* является средним гармоническим между точностью и полнотой и вычисляется по следующей формуле:\n",
    "\n",
    "$ Fмера= \\frac{2 \\cdot Precision \\cdot Recall }{Precision + Recall} $"
   ]
  },
  {
   "cell_type": "markdown",
   "metadata": {},
   "source": [
    "## Реализация в Python\n",
    "\n",
    "Теперь попробуем реализовать классификацию и вычислить разобранные метрики.\n",
    "Для начала подгружаем библиотеки:"
   ]
  },
  {
   "cell_type": "code",
   "execution_count": 1,
   "metadata": {},
   "outputs": [],
   "source": [
    "from sklearn.model_selection import train_test_split # функция, чтобы разбить данные на трейн и тест\n",
    "from sklearn.linear_model import LogisticRegression # наша модель для классификации"
   ]
  },
  {
   "cell_type": "markdown",
   "metadata": {},
   "source": [
    "Воспользуемся встроенным датасетом, который содержит информацию об опухолях груди:"
   ]
  },
  {
   "cell_type": "code",
   "execution_count": 9,
   "metadata": {},
   "outputs": [],
   "source": [
    "from sklearn.datasets import load_breast_cancer # подгружаем датасет\n",
    "breast_cancer = load_breast_cancer()"
   ]
  },
  {
   "cell_type": "markdown",
   "metadata": {},
   "source": [
    "Теперь зададим зависимую и независимые переменные:"
   ]
  },
  {
   "cell_type": "code",
   "execution_count": 10,
   "metadata": {},
   "outputs": [],
   "source": [
    "Y = breast_cancer.target ## Наша целевая переменная, 0 — если рака нет, 1 — если есть \n",
    "X = breast_cancer.data # X - признаки, по которым мы будем предсказывать рак "
   ]
  },
  {
   "cell_type": "markdown",
   "metadata": {},
   "source": [
    "Разбиваем выборку на обучающую и тестовую и обучаем нашу модель:"
   ]
  },
  {
   "cell_type": "code",
   "execution_count": 11,
   "metadata": {},
   "outputs": [
    {
     "name": "stderr",
     "output_type": "stream",
     "text": [
      "/data/.local/lib/python3.8/site-packages/sklearn/linear_model/_logistic.py:762: ConvergenceWarning: lbfgs failed to converge (status=1):\n",
      "STOP: TOTAL NO. of ITERATIONS REACHED LIMIT.\n",
      "\n",
      "Increase the number of iterations (max_iter) or scale the data as shown in:\n",
      "    https://scikit-learn.org/stable/modules/preprocessing.html\n",
      "Please also refer to the documentation for alternative solver options:\n",
      "    https://scikit-learn.org/stable/modules/linear_model.html#logistic-regression\n",
      "  n_iter_i = _check_optimize_result(\n"
     ]
    },
    {
     "data": {
      "text/plain": [
       "LogisticRegression()"
      ]
     },
     "execution_count": 11,
     "metadata": {},
     "output_type": "execute_result"
    }
   ],
   "source": [
    "X_train, X_val, Y_train, Y_val = train_test_split(X, Y, test_size = 0.3)\n",
    "model = LogisticRegression()\n",
    "model.fit(X_train, Y_train)"
   ]
  },
  {
   "cell_type": "markdown",
   "metadata": {},
   "source": [
    "Готово! Теперь осталось только вычислить необходимые метрики:"
   ]
  },
  {
   "cell_type": "code",
   "execution_count": 12,
   "metadata": {},
   "outputs": [
    {
     "name": "stdout",
     "output_type": "stream",
     "text": [
      "0.9298245614035088\n",
      "0.9473684210526315\n",
      "0.9473684210526315\n",
      "0.9473684210526315\n"
     ]
    }
   ],
   "source": [
    "from sklearn.metrics import accuracy_score, precision_score, recall_score, f1_score\n",
    "\n",
    "Y_predicted = model.predict(X_val)\n",
    "print(accuracy_score(Y_val,Y_predicted))\n",
    "print(precision_score(Y_val,Y_predicted))\n",
    "print(recall_score(Y_val,Y_predicted))\n",
    "print(f1_score(Y_val,Y_predicted))"
   ]
  },
  {
   "cell_type": "markdown",
   "metadata": {},
   "source": [
    "## Задание 2.1\n",
    "\n",
    "Вы создали классификатор, который разделяет экономические и политические новости на два разных *Telegram*-канала, и теперь хотите проверить качество классификатора. За день вышло 15 политических новостей и 20 экономических.\n",
    "Ваш алгоритм из 15 политических новостей отметил 9 как экономические, а из 20 экономических — 6 как политические.\n",
    "Найдите метрику *Accuracy*.\n",
    "\n",
    "Ответ округлите до сотых."
   ]
  },
  {
   "cell_type": "code",
   "execution_count": 13,
   "metadata": {},
   "outputs": [],
   "source": [
    "def accuracy(tp, tn, fp, fn):\n",
    "    return (tn + tp) / (tp + tn + fp + fn)"
   ]
  },
  {
   "cell_type": "code",
   "execution_count": null,
   "metadata": {},
   "outputs": [],
   "source": [
    "a = accuracy()\n",
    "\n",
    "print(f'{a:.2f}')"
   ]
  },
  {
   "cell_type": "markdown",
   "metadata": {},
   "source": [
    "## Задание 2.2\n",
    "\n",
    "Загрузите встроенный в библиотеку *sklearn* датасет про ирисы с помощью функции `load_iris`. Обучите модель логистической регрессии *(random_state=50, размер тестовой выборки 0.3)* и укажите полученное значение метрики *Accucary*.\n",
    "\n",
    "Ответ округлите до сотых."
   ]
  },
  {
   "cell_type": "code",
   "execution_count": null,
   "metadata": {},
   "outputs": [],
   "source": []
  }
 ],
 "metadata": {
  "kernelspec": {
   "display_name": "Python 3",
   "language": "python",
   "name": "python3"
  },
  "language_info": {
   "codemirror_mode": {
    "name": "ipython",
    "version": 3
   },
   "file_extension": ".py",
   "mimetype": "text/x-python",
   "name": "python",
   "nbconvert_exporter": "python",
   "pygments_lexer": "ipython3",
   "version": "3.8.2"
  }
 },
 "nbformat": 4,
 "nbformat_minor": 4
}
